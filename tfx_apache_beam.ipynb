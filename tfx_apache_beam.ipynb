{
 "cells": [
  {
   "cell_type": "code",
   "execution_count": 1,
   "metadata": {},
   "outputs": [],
   "source": [
    "from __future__ import absolute_import\n",
    "from __future__ import division\n",
    "from __future__ import print_function\n",
    "\n",
    "import os\n",
    "\n",
    "import tensorflow as tf\n",
    "\n",
    "from google.protobuf import json_format\n",
    "from tensorflow_serving.apis import prediction_log_pb2\n",
    "from bulk_inferrer import executor\n",
    "from tfx.proto import bulk_inferrer_pb2\n",
    "from tfx.types import artifact_utils\n",
    "from tfx.types import standard_artifacts"
   ]
  },
  {
   "cell_type": "code",
   "execution_count": 2,
   "metadata": {},
   "outputs": [
    {
     "data": {
      "text/plain": [
       "'/home/jupyter/dataflow_example/bulk_inferrer/executor.py'"
      ]
     },
     "execution_count": 2,
     "metadata": {},
     "output_type": "execute_result"
    }
   ],
   "source": [
    "executor.__file__"
   ]
  },
  {
   "cell_type": "code",
   "execution_count": 4,
   "metadata": {},
   "outputs": [
    {
     "name": "stdout",
     "output_type": "stream",
     "text": [
      "/home/jupyter/dataflow_example\n"
     ]
    }
   ],
   "source": [
    "!pwd"
   ]
  },
  {
   "cell_type": "code",
   "execution_count": 3,
   "metadata": {},
   "outputs": [],
   "source": [
    "_source_data_dir = '/home/jupyter/tfx_0.23.0/tfx/tfx/components/testdata'\n",
    "_output_data_dir = '/home/jupyter/dataflow_example'"
   ]
  },
  {
   "cell_type": "code",
   "execution_count": 4,
   "metadata": {},
   "outputs": [],
   "source": [
    "_examples = standard_artifacts.Examples()\n",
    "_examples.uri = os.path.join(_source_data_dir, 'csv_example_gen')\n",
    "_examples.split_names = artifact_utils.encode_split_names(['unlabelled'])\n",
    "_model = standard_artifacts.Model()\n",
    "_model.uri = os.path.join(_source_data_dir, 'trainer/current')\n",
    "\n",
    "_model_blessing = standard_artifacts.ModelBlessing()\n",
    "_model_blessing.uri = os.path.join(_source_data_dir, 'model_validator/blessed')\n",
    "_model_blessing.set_int_custom_property('blessed', 1)\n",
    "\n",
    "_inference_result = standard_artifacts.InferenceResult()\n",
    "_prediction_log_dir = os.path.join(_output_data_dir, 'prediction_logs')\n",
    "_inference_result.uri = _prediction_log_dir\n",
    "\n",
    "# Create context\n",
    "_tmp_dir = os.path.join(_output_data_dir, '.temp')\n",
    "_context = executor.Executor.Context(\n",
    "    tmp_dir=_tmp_dir, unique_id='2')"
   ]
  },
  {
   "cell_type": "code",
   "execution_count": 7,
   "metadata": {},
   "outputs": [
    {
     "data": {
      "text/plain": []
     },
     "execution_count": 7,
     "metadata": {},
     "output_type": "execute_result"
    }
   ],
   "source": [
    "prediction_log_pb2.PredictionLog()"
   ]
  },
  {
   "cell_type": "code",
   "execution_count": 5,
   "metadata": {},
   "outputs": [],
   "source": [
    "def _get_results(prediction_log_path):\n",
    "    results = []\n",
    "    filepattern = os.path.join(\n",
    "        prediction_log_path,\n",
    "        executor._PREDICTION_LOGS_DIR_NAME) + '-?????-of-?????.gz'\n",
    "    for f in tf.io.gfile.glob(filepattern):\n",
    "        record_iterator = tf.compat.v1.python_io.tf_record_iterator(\n",
    "            path=f,\n",
    "            options=tf.compat.v1.python_io.TFRecordOptions(\n",
    "                tf.compat.v1.python_io.TFRecordCompressionType.GZIP))\n",
    "        for record_string in record_iterator:\n",
    "            prediction_log = prediction_log_pb2.PredictionLog()\n",
    "            prediction_log.MergeFromString(record_string)\n",
    "            results.append(prediction_log)\n",
    "    return results"
   ]
  },
  {
   "cell_type": "code",
   "execution_count": 6,
   "metadata": {},
   "outputs": [
    {
     "name": "stderr",
     "output_type": "stream",
     "text": [
      "WARNING:absl:Support for estimator-based executor and model export will be deprecated soon. Please use export structure <ModelExportPath>/serving_model_dir/saved_model.pb\"\n"
     ]
    },
    {
     "data": {
      "application/javascript": [
       "\n",
       "        if (typeof window.interactive_beam_jquery == 'undefined') {\n",
       "          var jqueryScript = document.createElement('script');\n",
       "          jqueryScript.src = 'https://code.jquery.com/jquery-3.4.1.slim.min.js';\n",
       "          jqueryScript.type = 'text/javascript';\n",
       "          jqueryScript.onload = function() {\n",
       "            var datatableScript = document.createElement('script');\n",
       "            datatableScript.src = 'https://cdn.datatables.net/1.10.20/js/jquery.dataTables.min.js';\n",
       "            datatableScript.type = 'text/javascript';\n",
       "            datatableScript.onload = function() {\n",
       "              window.interactive_beam_jquery = jQuery.noConflict(true);\n",
       "              window.interactive_beam_jquery(document).ready(function($){\n",
       "                \n",
       "              });\n",
       "            }\n",
       "            document.head.appendChild(datatableScript);\n",
       "          };\n",
       "          document.head.appendChild(jqueryScript);\n",
       "        } else {\n",
       "          window.interactive_beam_jquery(document).ready(function($){\n",
       "            \n",
       "          });\n",
       "        }"
      ]
     },
     "metadata": {},
     "output_type": "display_data"
    },
    {
     "name": "stdout",
     "output_type": "stream",
     "text": [
      "WARNING:tensorflow:From /home/jupyter/.local/lib/python3.7/site-packages/tfx_bsl/beam/run_inference.py:554: load (from tensorflow.python.saved_model.loader_impl) is deprecated and will be removed in a future version.\n",
      "Instructions for updating:\n",
      "This function will only be available through the v1 compatibility library as tf.compat.v1.saved_model.loader.load or tf.compat.v1.saved_model.load. There will be a new function for importing SavedModels in Tensorflow 2.0.\n",
      "INFO:tensorflow:Restoring parameters from /home/jupyter/tfx_0.23.0/tfx/tfx/components/testdata/trainer/current/serving_model_dir/export/chicago-taxi/1584391735/variables/variables\n"
     ]
    },
    {
     "name": "stderr",
     "output_type": "stream",
     "text": [
      "WARNING:apache_beam.io.tfrecordio:Couldn't find python-snappy so the implementation of _TFRecordUtil._masked_crc32c is not as fast as it could be.\n"
     ]
    }
   ],
   "source": [
    "input_dict = {\n",
    "    'examples': [_examples],\n",
    "    'model': [_model],\n",
    "    'model_blessing': [_model_blessing],\n",
    "}\n",
    "output_dict = {\n",
    "    'inference_result': [_inference_result],\n",
    "}\n",
    "# Create exe properties.\n",
    "exec_properties = {\n",
    "    'data_spec':\n",
    "        json_format.MessageToJson(\n",
    "            bulk_inferrer_pb2.DataSpec(), preserving_proto_field_name=True),\n",
    "    'model_spec':\n",
    "        json_format.MessageToJson(\n",
    "            bulk_inferrer_pb2.ModelSpec(),\n",
    "            preserving_proto_field_name=True),\n",
    "    'component_id':\n",
    "        'test_component' #self.component_id,\n",
    "}\n",
    "\n",
    "# Run executor.\n",
    "bulk_inferrer = executor.Executor(_context)\n",
    "bulk_inferrer.Do(input_dict, output_dict, exec_properties)"
   ]
  },
  {
   "cell_type": "code",
   "execution_count": 11,
   "metadata": {},
   "outputs": [
    {
     "data": {
      "text/plain": [
       "tensorflow_serving.apis.prediction_log_pb2.PredictionLog"
      ]
     },
     "execution_count": 11,
     "metadata": {},
     "output_type": "execute_result"
    }
   ],
   "source": [
    "result[0]"
   ]
  },
  {
   "cell_type": "code",
   "execution_count": 13,
   "metadata": {},
   "outputs": [
    {
     "data": {
      "text/plain": [
       "str"
      ]
     },
     "execution_count": 13,
     "metadata": {},
     "output_type": "execute_result"
    }
   ],
   "source": [
    "result = _get_results(_prediction_log_dir)\n",
    "json_format.MessageToJson(result[0])"
   ]
  },
  {
   "cell_type": "code",
   "execution_count": 16,
   "metadata": {},
   "outputs": [
    {
     "data": {
      "text/plain": [
       "{'classifyLog': {'request': {'input': {'exampleList': {'examples': [{'features': {'feature': {'trip_start_hour': {'int64List': {'value': ['15']}},\n",
       "         'payment_type': {'bytesList': {'value': ['Q2FzaA==']}},\n",
       "         'dropoff_community_area': {'int64List': {'value': ['6']}},\n",
       "         'dropoff_latitude': {'floatList': {'value': [41.944225]}},\n",
       "         'trip_seconds': {'int64List': {'value': ['660']}},\n",
       "         'trip_start_month': {'int64List': {'value': ['3']}},\n",
       "         'trip_start_day': {'int64List': {'value': ['3']}},\n",
       "         'pickup_census_tract': {},\n",
       "         'company': {'bytesList': {'value': ['VGF4aSBBZmZpbGlhdGlvbiBTZXJ2aWNlcw==']}},\n",
       "         'trip_miles': {'floatList': {'value': [0.1]}},\n",
       "         'pickup_community_area': {'int64List': {'value': ['6']}},\n",
       "         'dropoff_census_tract': {},\n",
       "         'dropoff_longitude': {'floatList': {'value': [-87.656]}},\n",
       "         'fare': {'floatList': {'value': [8.45]}},\n",
       "         'trip_start_timestamp': {'int64List': {'value': ['1363102200']}},\n",
       "         'pickup_latitude': {'floatList': {'value': [41.944225]}},\n",
       "         'pickup_longitude': {'floatList': {'value': [-87.656]}}}}}]}}},\n",
       "  'response': {'result': {'classifications': [{'classes': [{'label': '0',\n",
       "        'score': 0.90029263},\n",
       "       {'label': '1', 'score': 0.099707365}]}]}}}}"
      ]
     },
     "execution_count": 16,
     "metadata": {},
     "output_type": "execute_result"
    }
   ],
   "source": [
    "json_format.MessageToDict(result[0])"
   ]
  },
  {
   "cell_type": "code",
   "execution_count": null,
   "metadata": {},
   "outputs": [],
   "source": [
    "{\n",
    "        \"namespace\": \"example.avro\",\n",
    "        \"type\": \"record\",\n",
    "        \"name\": \"User\",\n",
    "        \"fields\": [\n",
    "          {\"name\": \"name\",\n",
    "           \"type\": \"string\"},\n",
    "          {\"name\": \"favorite_number\",\n",
    "           \"type\": [\"int\", \"null\"]},\n",
    "          {\"name\": \"favorite_color\",\n",
    "           \"type\": [\"string\", \"null\"]}\n",
    "        ]\n",
    "      }"
   ]
  },
  {
   "cell_type": "code",
   "execution_count": 15,
   "metadata": {},
   "outputs": [
    {
     "data": {
      "text/plain": [
       "dict"
      ]
     },
     "execution_count": 15,
     "metadata": {},
     "output_type": "execute_result"
    }
   ],
   "source": [
    "type(json_format.MessageToDict(result[0]))"
   ]
  },
  {
   "cell_type": "code",
   "execution_count": 20,
   "metadata": {},
   "outputs": [
    {
     "data": {
      "text/plain": [
       "result {\n",
       "  classifications {\n",
       "    classes {\n",
       "      label: \"0\"\n",
       "      score: 0.9002926349639893\n",
       "    }\n",
       "    classes {\n",
       "      label: \"1\"\n",
       "      score: 0.09970736503601074\n",
       "    }\n",
       "  }\n",
       "}"
      ]
     },
     "execution_count": 20,
     "metadata": {},
     "output_type": "execute_result"
    }
   ],
   "source": [
    "result[0].classify_log.response"
   ]
  },
  {
   "cell_type": "code",
   "execution_count": 7,
   "metadata": {},
   "outputs": [],
   "source": [
    "table_spec = 'res-nbcupea-dev-ds-sandbox-001:oneapp.test_bigquery_beam'"
   ]
  },
  {
   "cell_type": "code",
   "execution_count": 8,
   "metadata": {},
   "outputs": [],
   "source": [
    "table_schema = 'source:STRING, quote:STRING'"
   ]
  },
  {
   "cell_type": "code",
   "execution_count": 14,
   "metadata": {},
   "outputs": [],
   "source": [
    "import apache_beam as beam\n",
    "\n",
    "with beam.Pipeline() as p:\n",
    "    quotes = p | beam.Create([\n",
    "        {\n",
    "            'source': 'Mahatma Gandhi', 'quote': 'My life is my message.'\n",
    "        },\n",
    "        {\n",
    "            'source': 'Yoda', 'quote': \"Do, or do not. There is no 'try'.\"\n",
    "        },\n",
    "    ])\n",
    "    quotes | beam.io.WriteToBigQuery(\n",
    "    table_spec,\n",
    "    schema=table_schema,\n",
    "    write_disposition=beam.io.BigQueryDisposition.WRITE_TRUNCATE,\n",
    "    create_disposition=beam.io.BigQueryDisposition.CREATE_IF_NEEDED,\n",
    "    custom_gcs_temp_location='gs://benk-dev-sandbox/temp'\n",
    "    )"
   ]
  },
  {
   "cell_type": "code",
   "execution_count": null,
   "metadata": {},
   "outputs": [],
   "source": []
  },
  {
   "cell_type": "markdown",
   "metadata": {
    "id": "R_vFbXN2T7oo"
   },
   "source": [
    "##### Copyright &copy; 2020 The TensorFlow Authors."
   ]
  },
  {
   "cell_type": "code",
   "execution_count": null,
   "metadata": {
    "id": "NhL09apzT-W_"
   },
   "outputs": [],
   "source": [
    "#@title Licensed under the Apache License, Version 2.0 (the \"License\");\n",
    "# you may not use this file except in compliance with the License.\n",
    "# You may obtain a copy of the License at\n",
    "#\n",
    "# https://urldefense.com/v3/__https://www.apache.org/licenses/LICENSE-2.0*5Cn__;JQ!!PIZeeW5wscynRQ!55X7LkP-oqeRJ6UUmtPVv4vn3HLBOqlFNpBPTKq9j6A_FsUVIeCO-4Rxhel3RfE$ #\n",
    "# Unless required by applicable law or agreed to in writing, software\n",
    "# distributed under the License is distributed on an \"AS IS\" BASIS,\n",
    "# WITHOUT WARRANTIES OR CONDITIONS OF ANY KIND, either express or implied.\n",
    "# See the License for the specific language governing permissions and\n",
    "# limitations under the License."
   ]
  },
  {
   "cell_type": "markdown",
   "metadata": {
    "id": "23R0Z9RojXYW"
   },
   "source": [
    "# TFX – Developing With Apache Beam\n",
    "\n",
    "[Apache Beam](https://urldefense.com/v3/__https://www.tensorflow.org/tfx/guide/beam__;!!PIZeeW5wscynRQ!55X7LkP-oqeRJ6UUmtPVv4vn3HLBOqlFNpBPTKq9j6A_FsUVIeCO-4RxlMaOx6c$ ) is an open source, unified model for defining both batch and streaming data-parallel processing pipelines. TFX uses Apache Beam to implement data-parallel pipelines. The pipeline is then executed by one of Beam's supported distributed processing back-ends or \"runners\", which include [Dataflow](https://urldefense.com/v3/__https://cloud.google.com/dataflow__;!!PIZeeW5wscynRQ!55X7LkP-oqeRJ6UUmtPVv4vn3HLBOqlFNpBPTKq9j6A_FsUVIeCO-4Rx_xDiz6Q$ ), [Apache Flink](https://urldefense.com/v3/__https://flink.apache.org/__;!!PIZeeW5wscynRQ!55X7LkP-oqeRJ6UUmtPVv4vn3HLBOqlFNpBPTKq9j6A_FsUVIeCO-4RxUIpCch4$ ), [Apache Spark](https://urldefense.com/v3/__https://spark.apache.org/__;!!PIZeeW5wscynRQ!55X7LkP-oqeRJ6UUmtPVv4vn3HLBOqlFNpBPTKq9j6A_FsUVIeCO-4RxVA2PkcU$ ), [Apache Samza](https://urldefense.com/v3/__http://samza.apache.org/__;!!PIZeeW5wscynRQ!55X7LkP-oqeRJ6UUmtPVv4vn3HLBOqlFNpBPTKq9j6A_FsUVIeCO-4Rx5goppac$ ), and others.\n",
    "\n",
    "TFX is designed to be scalable to very large datasets which require substantial resources.  Distributed pipeline frameworks such as Apache Beam offer the ability to distribute processing across compute clusters and apply the resources required.  Many of the standard TFX components use Apache Beam, and custom components that you may write may also benefit from using Apache Beam for distibuted processing.\n",
    "\n",
    "This notebook introduces the concepts and code patterns for developing with the Apache Beam Python API. This is especially important for developers who will be creating custom TFX components which may require substantial computing resources, and will benefit from distributed processing using beam."
   ]
  },
  {
   "cell_type": "markdown",
   "metadata": {
    "id": "EnOzbFhBKqwf"
   },
   "source": [
    "### [DirectRunner](https://beam.apache.org/documentation/runners/direct/)\n",
    "\n",
    "In this notebook, to avoid the requirement for a distributed processing cluster we will instead use Beam's [`DirectRunner`](https://urldefense.com/v3/__https://beam.apache.org/documentation/runners/direct/__;!!PIZeeW5wscynRQ!55X7LkP-oqeRJ6UUmtPVv4vn3HLBOqlFNpBPTKq9j6A_FsUVIeCO-4RxE4HG0-g$ ).  The `DirectRunner` is also very convenient when developing Beam pipelines. The `DirectRunner` executes pipelines on your machine and is designed to validate that pipelines adhere to the Beam programming model as closely as possible. Instead of focusing on efficient pipeline execution, the `DirectRunner` performs additional checks to ensure that users do not rely on semantics that are not guaranteed by the model."
   ]
  },
  {
   "cell_type": "markdown",
   "metadata": {
    "id": "2GivNBNYjb3b"
   },
   "source": [
    "## Setup\n",
    "First, we install the necessary packages, download data, import modules and set up paths.\n",
    "\n",
    "### Install Apache Beam"
   ]
  },
  {
   "cell_type": "code",
   "execution_count": null,
   "metadata": {
    "id": "7zhcJBLoMXQE"
   },
   "outputs": [],
   "source": [
    "!pip install -q -U \\\n",
    "  apache-beam \\\n",
    "  apache-beam[interactive]"
   ]
  },
  {
   "cell_type": "markdown",
   "metadata": {
    "id": "N-ePgV0Lj68Q"
   },
   "source": [
    "### Import packages\n",
    "We import necessary packages, including Beam."
   ]
  },
  {
   "cell_type": "code",
   "execution_count": 2,
   "metadata": {},
   "outputs": [],
   "source": [
    "!pip install -q -U graphviz"
   ]
  },
  {
   "cell_type": "code",
   "execution_count": 3,
   "metadata": {
    "id": "YIqpWK9efviJ"
   },
   "outputs": [],
   "source": [
    "import apache_beam as beam\n",
    "from apache_beam import pvalue\n",
    "from apache_beam.runners.interactive.display import pipeline_graph\n",
    "import graphviz"
   ]
  },
  {
   "cell_type": "markdown",
   "metadata": {
    "id": "p4XfH7dyRZtd"
   },
   "source": [
    "Check the version."
   ]
  },
  {
   "cell_type": "code",
   "execution_count": 4,
   "metadata": {
    "id": "0uuFfIiHviyW"
   },
   "outputs": [
    {
     "name": "stdout",
     "output_type": "stream",
     "text": [
      "Beam version: 2.23.0\n"
     ]
    }
   ],
   "source": [
    "print('Beam version: {}'.format(beam.__version__))"
   ]
  },
  {
   "cell_type": "markdown",
   "metadata": {
    "id": "nCb-bS_eMkMf"
   },
   "source": [
    "## Beam Python Syntax\n",
    "\n",
    "Beam uses a [special Python syntax](https://urldefense.com/v3/__https://beam.apache.org/documentation/programming-guide/*applying-transforms__;Iw!!PIZeeW5wscynRQ!55X7LkP-oqeRJ6UUmtPVv4vn3HLBOqlFNpBPTKq9j6A_FsUVIeCO-4Rxw19zxq8$ ) to define and invoke transforms.  For example, in this line:\n",
    "\n",
    ">`result = pass_this | 'name this step' >> to_this_call`\n",
    "\n",
    "The method `to_this_call` is being invoked and passed the object called `pass_this`, and this operation will be referred to as [name this step](https://urldefense.com/v3/__https://stackoverflow.com/questions/50519662/what-does-the-redirection-mean-in-apache-beam-python__;!!PIZeeW5wscynRQ!55X7LkP-oqeRJ6UUmtPVv4vn3HLBOqlFNpBPTKq9j6A_FsUVIeCO-4RxMFC5UkE$ ) in a stack trace or pipeline diagram.  The result of the call to `to_this_call` is returned in `result`.  You will often see stages of a pipeline chained together like this:\n",
    "\n",
    ">`result = apache_beam.Pipeline() | 'first step' >> do_this_first() | 'second step' >> do_this_last()`\n",
    "\n",
    "and since that started with a new pipeline, you can continue like this:\n",
    "\n",
    ">`next_result = result | 'doing more stuff' >> another_function()`"
   ]
  },
  {
   "cell_type": "markdown",
   "metadata": {
    "id": "qAika7-6gLvI"
   },
   "source": [
    "## Create a Beam Pipeline\n",
    "\n",
    "Create a pipeline, including a simple [`PCollection`](https://urldefense.com/v3/__https://beam.apache.org/releases/javadoc/2.1.0/org/apache/beam/sdk/values/PCollection.html__;!!PIZeeW5wscynRQ!55X7LkP-oqeRJ6UUmtPVv4vn3HLBOqlFNpBPTKq9j6A_FsUVIeCO-4Rxgmi9VMc$ ) and a [`ParDo()`](https://urldefense.com/v3/__https://beam.apache.org/releases/javadoc/2.0.0/org/apache/beam/sdk/transforms/ParDo.html__;!!PIZeeW5wscynRQ!55X7LkP-oqeRJ6UUmtPVv4vn3HLBOqlFNpBPTKq9j6A_FsUVIeCO-4RxfbsGH5U$ ) transform.\n",
    "\n",
    "* A `PCollection<T>` is an **immutable collection** of values of type `T`. A `PCollection` can contain either a bounded or unbounded number of elements. Bounded and unbounded `PCollections` are produced as the output of `PTransforms` (including root `PTransforms` like `Read` and `Create`), and can be passed as the inputs of other `PTransforms`.\n",
    "* `ParDo` is the core **element-wise** transform in Apache Beam, invoking a user-specified function on each of the elements of the input `PCollection` to produce zero or more output elements, all of which are collected into the output `PCollection`.\n",
    "\n",
    "This can be done in different ways, depending on coding style preferences. First, use the `.run()` method."
   ]
  },
  {
   "cell_type": "code",
   "execution_count": 5,
   "metadata": {
    "id": "X_XV_cm2_E1x"
   },
   "outputs": [
    {
     "data": {
      "application/javascript": [
       "\n",
       "        if (typeof window.interactive_beam_jquery == 'undefined') {\n",
       "          var jqueryScript = document.createElement('script');\n",
       "          jqueryScript.src = 'https://code.jquery.com/jquery-3.4.1.slim.min.js';\n",
       "          jqueryScript.type = 'text/javascript';\n",
       "          jqueryScript.onload = function() {\n",
       "            var datatableScript = document.createElement('script');\n",
       "            datatableScript.src = 'https://cdn.datatables.net/1.10.20/js/jquery.dataTables.min.js';\n",
       "            datatableScript.type = 'text/javascript';\n",
       "            datatableScript.onload = function() {\n",
       "              window.interactive_beam_jquery = jQuery.noConflict(true);\n",
       "              window.interactive_beam_jquery(document).ready(function($){\n",
       "                \n",
       "              });\n",
       "            }\n",
       "            document.head.appendChild(datatableScript);\n",
       "          };\n",
       "          document.head.appendChild(jqueryScript);\n",
       "        } else {\n",
       "          window.interactive_beam_jquery(document).ready(function($){\n",
       "            \n",
       "          });\n",
       "        }"
      ]
     },
     "metadata": {},
     "output_type": "display_data"
    },
    {
     "data": {
      "application/javascript": [
       "\n",
       "        var import_html = () => {\n",
       "          ['https://raw.githubusercontent.com/PAIR-code/facets/1.0.0/facets-dist/facets-jupyter.html'].forEach(href => {\n",
       "            var link = document.createElement('link');\n",
       "            link.rel = 'import'\n",
       "            link.href = href;\n",
       "            document.head.appendChild(link);\n",
       "          });\n",
       "        }\n",
       "        if ('import' in document.createElement('link')) {\n",
       "          import_html();\n",
       "        } else {\n",
       "          var webcomponentScript = document.createElement('script');\n",
       "          webcomponentScript.src = 'https://cdnjs.cloudflare.com/ajax/libs/webcomponentsjs/1.3.3/webcomponents-lite.js';\n",
       "          webcomponentScript.type = 'text/javascript';\n",
       "          webcomponentScript.onload = function(){\n",
       "            import_html();\n",
       "          };\n",
       "          document.head.appendChild(webcomponentScript);\n",
       "        }"
      ]
     },
     "metadata": {},
     "output_type": "display_data"
    },
    {
     "name": "stdout",
     "output_type": "stream",
     "text": [
      "Hello\n",
      "World\n",
      "!!!\n"
     ]
    },
    {
     "data": {
      "text/plain": [
       "'DONE'"
      ]
     },
     "execution_count": 5,
     "metadata": {},
     "output_type": "execute_result"
    }
   ],
   "source": [
    "first_pipeline = beam.Pipeline()\n",
    "\n",
    "lines = (first_pipeline\n",
    "         | \"Create\" >> beam.Create([\"Hello\", \"World\", \"!!!\"]) # PCollection\n",
    "         | \"Print\" >> beam.ParDo(print)) # ParDo transform\n",
    "\n",
    "result = first_pipeline.run()\n",
    "result.state"
   ]
  },
  {
   "cell_type": "markdown",
   "metadata": {
    "id": "qx1xFZ-BYccz"
   },
   "source": [
    "Display the structure of this pipeline."
   ]
  },
  {
   "cell_type": "code",
   "execution_count": 6,
   "metadata": {
    "id": "bdnEk2p3Jnfs"
   },
   "outputs": [
    {
     "data": {
      "image/svg+xml": [
       "<?xml version=\"1.0\" encoding=\"UTF-8\" standalone=\"no\"?>\n",
       "<!DOCTYPE svg PUBLIC \"-//W3C//DTD SVG 1.1//EN\"\n",
       " \"http://www.w3.org/Graphics/SVG/1.1/DTD/svg11.dtd\">\n",
       "<!-- Generated by graphviz version 2.42.3 (20191010.1750)\n",
       " -->\n",
       "<!-- Title: G Pages: 1 -->\n",
       "<svg width=\"83pt\" height=\"279pt\"\n",
       " viewBox=\"0.00 0.00 83.00 278.60\" xmlns=\"http://www.w3.org/2000/svg\" xmlns:xlink=\"http://www.w3.org/1999/xlink\">\n",
       "<g id=\"graph0\" class=\"graph\" transform=\"scale(1 1) rotate(0) translate(4 274.6)\">\n",
       "<title>G</title>\n",
       "<polygon fill=\"white\" stroke=\"transparent\" points=\"-4,4 -4,-274.6 79,-274.6 79,4 -4,4\"/>\n",
       "<!-- [5]: Create -->\n",
       "<g id=\"node1\" class=\"node\">\n",
       "<title>[5]: Create</title>\n",
       "<polygon fill=\"none\" stroke=\"blue\" points=\"75,-270.6 0,-270.6 0,-234.6 75,-234.6 75,-270.6\"/>\n",
       "<text text-anchor=\"middle\" x=\"37.5\" y=\"-248.9\" font-family=\"Times,serif\" font-size=\"14.00\" fill=\"blue\">[5]: Create</text>\n",
       "</g>\n",
       "<!-- pcoll9406 -->\n",
       "<g id=\"node2\" class=\"node\">\n",
       "<title>pcoll9406</title>\n",
       "<ellipse fill=\"none\" stroke=\"blue\" cx=\"37.5\" cy=\"-180.6\" rx=\"18\" ry=\"18\"/>\n",
       "</g>\n",
       "<!-- [5]: Create&#45;&gt;pcoll9406 -->\n",
       "<g id=\"edge1\" class=\"edge\">\n",
       "<title>[5]: Create&#45;&gt;pcoll9406</title>\n",
       "<path fill=\"none\" stroke=\"black\" d=\"M37.5,-234.29C37.5,-226.58 37.5,-217.31 37.5,-208.71\"/>\n",
       "<polygon fill=\"black\" stroke=\"black\" points=\"41,-208.7 37.5,-198.7 34,-208.7 41,-208.7\"/>\n",
       "</g>\n",
       "<!-- [5]: Print -->\n",
       "<g id=\"node3\" class=\"node\">\n",
       "<title>[5]: Print</title>\n",
       "<polygon fill=\"none\" stroke=\"blue\" points=\"70.5,-126.6 4.5,-126.6 4.5,-90.6 70.5,-90.6 70.5,-126.6\"/>\n",
       "<text text-anchor=\"middle\" x=\"37.5\" y=\"-104.9\" font-family=\"Times,serif\" font-size=\"14.00\" fill=\"blue\">[5]: Print</text>\n",
       "</g>\n",
       "<!-- pcoll9406&#45;&gt;[5]: Print -->\n",
       "<g id=\"edge2\" class=\"edge\">\n",
       "<title>pcoll9406&#45;&gt;[5]: Print</title>\n",
       "<path fill=\"none\" stroke=\"black\" d=\"M37.5,-162.29C37.5,-154.58 37.5,-145.31 37.5,-136.71\"/>\n",
       "<polygon fill=\"black\" stroke=\"black\" points=\"41,-136.7 37.5,-126.7 34,-136.7 41,-136.7\"/>\n",
       "</g>\n",
       "<!-- lines -->\n",
       "<g id=\"node4\" class=\"node\">\n",
       "<title>lines</title>\n",
       "<ellipse fill=\"none\" stroke=\"blue\" cx=\"37.5\" cy=\"-27.3\" rx=\"27.1\" ry=\"27.1\"/>\n",
       "<text text-anchor=\"middle\" x=\"37.5\" y=\"-23.6\" font-family=\"Times,serif\" font-size=\"14.00\" fill=\"blue\">lines</text>\n",
       "</g>\n",
       "<!-- [5]: Print&#45;&gt;lines -->\n",
       "<g id=\"edge3\" class=\"edge\">\n",
       "<title>[5]: Print&#45;&gt;lines</title>\n",
       "<path fill=\"none\" stroke=\"black\" d=\"M37.5,-90.39C37.5,-82.92 37.5,-73.88 37.5,-65.03\"/>\n",
       "<polygon fill=\"black\" stroke=\"black\" points=\"41,-64.83 37.5,-54.83 34,-64.83 41,-64.83\"/>\n",
       "</g>\n",
       "</g>\n",
       "</svg>\n"
      ],
      "text/plain": [
       "<graphviz.files.Source at 0x7f4a380e4310>"
      ]
     },
     "execution_count": 6,
     "metadata": {},
     "output_type": "execute_result"
    }
   ],
   "source": [
    "def display_pipeline(pipeline):\n",
    "  graph = pipeline_graph.PipelineGraph(pipeline)\n",
    "  return graphviz.Source(graph.get_dot())\n",
    "\n",
    "display_pipeline(first_pipeline)"
   ]
  },
  {
   "cell_type": "markdown",
   "metadata": {
    "id": "JSaFbVyIYNIA"
   },
   "source": [
    "Using a different coding style, invoke run inside a `with` block."
   ]
  },
  {
   "cell_type": "code",
   "execution_count": 7,
   "metadata": {
    "id": "P4O8EAYNULbF"
   },
   "outputs": [
    {
     "name": "stdout",
     "output_type": "stream",
     "text": [
      "Hello\n",
      "World\n",
      "!!!\n"
     ]
    },
    {
     "data": {
      "image/svg+xml": [
       "<?xml version=\"1.0\" encoding=\"UTF-8\" standalone=\"no\"?>\n",
       "<!DOCTYPE svg PUBLIC \"-//W3C//DTD SVG 1.1//EN\"\n",
       " \"http://www.w3.org/Graphics/SVG/1.1/DTD/svg11.dtd\">\n",
       "<!-- Generated by graphviz version 2.42.3 (20191010.1750)\n",
       " -->\n",
       "<!-- Title: G Pages: 1 -->\n",
       "<svg width=\"83pt\" height=\"279pt\"\n",
       " viewBox=\"0.00 0.00 83.00 278.60\" xmlns=\"http://www.w3.org/2000/svg\" xmlns:xlink=\"http://www.w3.org/1999/xlink\">\n",
       "<g id=\"graph0\" class=\"graph\" transform=\"scale(1 1) rotate(0) translate(4 274.6)\">\n",
       "<title>G</title>\n",
       "<polygon fill=\"white\" stroke=\"transparent\" points=\"-4,4 -4,-274.6 79,-274.6 79,4 -4,4\"/>\n",
       "<!-- [7]: Create -->\n",
       "<g id=\"node1\" class=\"node\">\n",
       "<title>[7]: Create</title>\n",
       "<polygon fill=\"none\" stroke=\"blue\" points=\"75,-270.6 0,-270.6 0,-234.6 75,-234.6 75,-270.6\"/>\n",
       "<text text-anchor=\"middle\" x=\"37.5\" y=\"-248.9\" font-family=\"Times,serif\" font-size=\"14.00\" fill=\"blue\">[7]: Create</text>\n",
       "</g>\n",
       "<!-- pcoll9406 -->\n",
       "<g id=\"node2\" class=\"node\">\n",
       "<title>pcoll9406</title>\n",
       "<ellipse fill=\"none\" stroke=\"blue\" cx=\"37.5\" cy=\"-180.6\" rx=\"18\" ry=\"18\"/>\n",
       "</g>\n",
       "<!-- [7]: Create&#45;&gt;pcoll9406 -->\n",
       "<g id=\"edge1\" class=\"edge\">\n",
       "<title>[7]: Create&#45;&gt;pcoll9406</title>\n",
       "<path fill=\"none\" stroke=\"black\" d=\"M37.5,-234.29C37.5,-226.58 37.5,-217.31 37.5,-208.71\"/>\n",
       "<polygon fill=\"black\" stroke=\"black\" points=\"41,-208.7 37.5,-198.7 34,-208.7 41,-208.7\"/>\n",
       "</g>\n",
       "<!-- [7]: Print -->\n",
       "<g id=\"node3\" class=\"node\">\n",
       "<title>[7]: Print</title>\n",
       "<polygon fill=\"none\" stroke=\"blue\" points=\"70.5,-126.6 4.5,-126.6 4.5,-90.6 70.5,-90.6 70.5,-126.6\"/>\n",
       "<text text-anchor=\"middle\" x=\"37.5\" y=\"-104.9\" font-family=\"Times,serif\" font-size=\"14.00\" fill=\"blue\">[7]: Print</text>\n",
       "</g>\n",
       "<!-- pcoll9406&#45;&gt;[7]: Print -->\n",
       "<g id=\"edge2\" class=\"edge\">\n",
       "<title>pcoll9406&#45;&gt;[7]: Print</title>\n",
       "<path fill=\"none\" stroke=\"black\" d=\"M37.5,-162.29C37.5,-154.58 37.5,-145.31 37.5,-136.71\"/>\n",
       "<polygon fill=\"black\" stroke=\"black\" points=\"41,-136.7 37.5,-126.7 34,-136.7 41,-136.7\"/>\n",
       "</g>\n",
       "<!-- lines -->\n",
       "<g id=\"node4\" class=\"node\">\n",
       "<title>lines</title>\n",
       "<ellipse fill=\"none\" stroke=\"blue\" cx=\"37.5\" cy=\"-27.3\" rx=\"27.1\" ry=\"27.1\"/>\n",
       "<text text-anchor=\"middle\" x=\"37.5\" y=\"-23.6\" font-family=\"Times,serif\" font-size=\"14.00\" fill=\"blue\">lines</text>\n",
       "</g>\n",
       "<!-- [7]: Print&#45;&gt;lines -->\n",
       "<g id=\"edge3\" class=\"edge\">\n",
       "<title>[7]: Print&#45;&gt;lines</title>\n",
       "<path fill=\"none\" stroke=\"black\" d=\"M37.5,-90.39C37.5,-82.92 37.5,-73.88 37.5,-65.03\"/>\n",
       "<polygon fill=\"black\" stroke=\"black\" points=\"41,-64.83 37.5,-54.83 34,-64.83 41,-64.83\"/>\n",
       "</g>\n",
       "</g>\n",
       "</svg>\n"
      ],
      "text/plain": [
       "<graphviz.files.Source at 0x7f4a380bdfd0>"
      ]
     },
     "execution_count": 7,
     "metadata": {},
     "output_type": "execute_result"
    }
   ],
   "source": [
    "with beam.Pipeline() as with_pipeline:\n",
    "  lines = (with_pipeline\n",
    "         | \"Create\" >> beam.Create([\"Hello\", \"World\", \"!!!\"])\n",
    "         | \"Print\" >> beam.ParDo(print))\n",
    "\n",
    "display_pipeline(with_pipeline)"
   ]
  },
  {
   "cell_type": "markdown",
   "metadata": {
    "id": "yLJf3Zr5STWR"
   },
   "source": [
    "Notice that both pipelines and their outputs are the same."
   ]
  },
  {
   "cell_type": "markdown",
   "metadata": {
    "id": "bMYiWcBtIBF7"
   },
   "source": [
    "### Now You Try\n",
    "\n",
    "This is a good point to stop reading and try writing code yourself, as a way to help you learn.\n",
    "\n",
    "**Exercise 1 — Creating and Running Your Beam Pipeline**\n",
    "\n",
    "1. Build a Beam pipeline that creates a PCollection containing integers 0 to 10 and prints them.\n",
    "2. Add a step in the pipeline to square each item.\n",
    "3. Display the pipeline.\n",
    "\n",
    "*Warning*: the `ParDo()` method must either return `None` or a list."
   ]
  },
  {
   "cell_type": "code",
   "execution_count": null,
   "metadata": {
    "id": "0aPlwJjQKmo6"
   },
   "outputs": [],
   "source": []
  },
  {
   "cell_type": "code",
   "execution_count": null,
   "metadata": {
    "id": "8f_Nf9XkH-vn"
   },
   "outputs": [],
   "source": []
  },
  {
   "cell_type": "code",
   "execution_count": null,
   "metadata": {
    "id": "W46JR_uDH-lz"
   },
   "outputs": [],
   "source": []
  },
  {
   "cell_type": "code",
   "execution_count": null,
   "metadata": {
    "id": "4f8NJsj-K1hG"
   },
   "outputs": [],
   "source": []
  },
  {
   "cell_type": "code",
   "execution_count": null,
   "metadata": {
    "id": "Ai6SmbkuK1SC"
   },
   "outputs": [],
   "source": []
  },
  {
   "cell_type": "markdown",
   "metadata": {
    "id": "J-b7ZdFYLoH2"
   },
   "source": [
    "![Solution](https://urldefense.com/v3/__https://www.tensorflow.org/site-assets/images/marketing/learn/tfx-hero.svg__;!!PIZeeW5wscynRQ!55X7LkP-oqeRJ6UUmtPVv4vn3HLBOqlFNpBPTKq9j6A_FsUVIeCO-4RxzvhZF7w$ )"
   ]
  },
  {
   "cell_type": "markdown",
   "metadata": {
    "id": "Vbw50WdgMsLU"
   },
   "source": [
    "**Solution**:"
   ]
  },
  {
   "cell_type": "code",
   "execution_count": 5,
   "metadata": {
    "id": "PSUBzUGqfX4K"
   },
   "outputs": [
    {
     "name": "stdout",
     "output_type": "stream",
     "text": [
      "x = 0\n",
      "x^2 = 0\n",
      "x = 1\n",
      "x^2 = 1\n",
      "x = 2\n",
      "x^2 = 4\n",
      "x = 3\n",
      "x^2 = 9\n",
      "x = 4\n",
      "x^2 = 16\n",
      "x = 5\n",
      "x^2 = 25\n",
      "x = 6\n",
      "x^2 = 36\n",
      "x = 7\n",
      "x^2 = 49\n",
      "x = 8\n",
      "x^2 = 64\n",
      "x = 9\n",
      "x^2 = 81\n",
      "x = 10\n",
      "x^2 = 100\n"
     ]
    },
    {
     "ename": "NameError",
     "evalue": "name 'display_pipeline' is not defined",
     "output_type": "error",
     "traceback": [
      "\u001b[0;31m---------------------------------------------------------------------------\u001b[0m",
      "\u001b[0;31mNameError\u001b[0m                                 Traceback (most recent call last)",
      "\u001b[0;32m<ipython-input-5-c07adb9c315f>\u001b[0m in \u001b[0;36m<module>\u001b[0;34m\u001b[0m\n\u001b[1;32m     11\u001b[0m          | \"Print1\" >> beam.Map(lambda x: passthrough('x^2 =', x)))\n\u001b[1;32m     12\u001b[0m \u001b[0;34m\u001b[0m\u001b[0m\n\u001b[0;32m---> 13\u001b[0;31m \u001b[0mdisplay_pipeline\u001b[0m\u001b[0;34m(\u001b[0m\u001b[0mwith_pipeline\u001b[0m\u001b[0;34m)\u001b[0m\u001b[0;34m\u001b[0m\u001b[0;34m\u001b[0m\u001b[0m\n\u001b[0m",
      "\u001b[0;31mNameError\u001b[0m: name 'display_pipeline' is not defined"
     ]
    }
   ],
   "source": [
    "def passthrough(label, x): # Utility for printing and returning the element\n",
    "  print(label, x)\n",
    "  return x\n",
    "\n",
    "# This includes printing stages for illustration.\n",
    "with beam.Pipeline() as with_pipeline:\n",
    "  lines = (with_pipeline\n",
    "         | \"Create\" >> beam.Create(range(10 + 1))\n",
    "         | 'Print0' >> beam.Map(lambda x: passthrough('x =', x))\n",
    "         | \"Square\" >> beam.ParDo(lambda x: [x ** 2])\n",
    "         | \"Print1\" >> beam.Map(lambda x: passthrough('x^2 =', x)))\n",
    "\n",
    "display_pipeline(with_pipeline)"
   ]
  },
  {
   "cell_type": "markdown",
   "metadata": {
    "id": "C6lzLoIQz1Oe"
   },
   "source": [
    "# Core Transforms\n",
    "---\n",
    "Beam has a set of core transforms on data that is contained in `PCollections`.  In the cells that follow, explore several core transforms and observe the results in order to develop some understanding and intuition for what each transform does.\n",
    "\n",
    "## [Map](https://beam.apache.org/documentation/transforms/python/elementwise/map/)\n",
    "The `Map` transform applies a simple 1-to-1 mapping function over each element in the collection.  `Map` accepts a function that returns a single element for every input element in the `PCollection`.  You can pass functions with multiple arguments to `Map`. They are passed as additional positional arguments or keyword arguments to the function.\n",
    "\n",
    "First, compare the results of a `ParDo` transform and a `Map` transform for a multiply operation."
   ]
  },
  {
   "cell_type": "code",
   "execution_count": 9,
   "metadata": {
    "id": "bkzO7gANza49"
   },
   "outputs": [
    {
     "name": "stdout",
     "output_type": "stream",
     "text": [
      "x = 1\n",
      "x * 2 = 2\n",
      "x = 2\n",
      "x * 2 = 4\n",
      "x = 3\n",
      "x * 2 = 6\n"
     ]
    }
   ],
   "source": [
    "with beam.Pipeline() as pipeline:\n",
    "  lines = (pipeline\n",
    "           | \"Create\" >> beam.Create([1, 2, 3])\n",
    "           | 'Print0' >> beam.Map(lambda x: passthrough('x =', x))\n",
    "           | \"Multiply\" >> beam.ParDo(lambda number: [number * 2]) # ParDo with integers\n",
    "           | 'Print1' >> beam.Map(lambda x: passthrough('x * 2 =', x)))"
   ]
  },
  {
   "cell_type": "code",
   "execution_count": 10,
   "metadata": {
    "id": "dZWhKgqn02Ow"
   },
   "outputs": [
    {
     "name": "stdout",
     "output_type": "stream",
     "text": [
      "x = 1\n",
      "x * 2 = 2\n",
      "x = 2\n",
      "x * 2 = 4\n",
      "x = 3\n",
      "x * 2 = 6\n"
     ]
    }
   ],
   "source": [
    "with beam.Pipeline() as pipeline:\n",
    "  lines = (pipeline\n",
    "         | \"Create\" >> beam.Create([1, 2, 3])\n",
    "         | 'Print0' >> beam.Map(lambda x: passthrough('x =', x))\n",
    "         | \"Multiply\" >> beam.Map(lambda number: number * 2) # Map with integers\n",
    "         | 'Print1' >> beam.Map(lambda x: passthrough('x * 2 =', x)))"
   ]
  },
  {
   "cell_type": "markdown",
   "metadata": {
    "id": "gh1R4stdUglj"
   },
   "source": [
    "Notice that the results are the same.  Now try it with a split operation."
   ]
  },
  {
   "cell_type": "code",
   "execution_count": 11,
   "metadata": {
    "id": "7bsEdlKj0Wce"
   },
   "outputs": [
    {
     "name": "stdout",
     "output_type": "stream",
     "text": [
      "Sentence: Hello Beam\n",
      "Word: Hello\n",
      "Word: Beam\n",
      "Sentence: This is cool\n",
      "Word: This\n",
      "Word: is\n",
      "Word: cool\n"
     ]
    }
   ],
   "source": [
    "with beam.Pipeline() as pipeline:\n",
    "  lines = (pipeline\n",
    "         | \"Create\" >> beam.Create([\"Hello Beam\", \"This is cool\"])\n",
    "         | 'Print0' >> beam.Map(lambda x: passthrough('Sentence:', x))\n",
    "         | \"Split\" >> beam.ParDo(lambda sentence: sentence.split()) # ParDo with strings\n",
    "         | 'Print1' >> beam.Map(lambda x: passthrough('Word:', x)))"
   ]
  },
  {
   "cell_type": "code",
   "execution_count": 12,
   "metadata": {
    "id": "GY490-duaQFh"
   },
   "outputs": [
    {
     "name": "stdout",
     "output_type": "stream",
     "text": [
      "Sentence: Hello Beam\n",
      "Words: ['Hello', 'Beam']\n",
      "Sentence: This is cool\n",
      "Words: ['This', 'is', 'cool']\n"
     ]
    }
   ],
   "source": [
    "with beam.Pipeline() as pipeline:\n",
    "  lines = (pipeline\n",
    "         | \"Create\" >> beam.Create([\"Hello Beam\", \"This is cool\"])\n",
    "         | 'Print0' >> beam.Map(lambda x: passthrough('Sentence:', x))\n",
    "         | \"Split\" >> beam.Map(lambda sentence: sentence.split()) # Map with strings\n",
    "         | 'Print1' >> beam.Map(lambda x: passthrough('Words:', x)))"
   ]
  },
  {
   "cell_type": "markdown",
   "metadata": {
    "id": "USH3bn-VcHsl"
   },
   "source": [
    "Notice that `ParDo` returned individual elements, while `Map` returned lists."
   ]
  },
  {
   "cell_type": "markdown",
   "metadata": {
    "id": "wtcELhYDUsY0"
   },
   "source": [
    "## DoFn and [FlatMap](https://beam.apache.org/documentation/transforms/python/elementwise/flatmap/)\n",
    "Now try working with a `DoFn` in a `ParDo`, and compare that to using `FlatMap`."
   ]
  },
  {
   "cell_type": "code",
   "execution_count": 2,
   "metadata": {},
   "outputs": [],
   "source": [
    "import apache_beam as beam"
   ]
  },
  {
   "cell_type": "code",
   "execution_count": 4,
   "metadata": {
    "id": "t0-gNKm70oJD"
   },
   "outputs": [
    {
     "ename": "NameError",
     "evalue": "name 'passthrough' is not defined [while running '[4]: Print0']",
     "output_type": "error",
     "traceback": [
      "\u001b[0;31m---------------------------------------------------------------------------\u001b[0m",
      "\u001b[0;31mNameError\u001b[0m                                 Traceback (most recent call last)",
      "\u001b[0;32m~/.local/lib/python3.7/site-packages/apache_beam/runners/common.cpython-37m-x86_64-linux-gnu.so\u001b[0m in \u001b[0;36mapache_beam.runners.common.DoFnRunner.process\u001b[0;34m()\u001b[0m\n",
      "\u001b[0;32m~/.local/lib/python3.7/site-packages/apache_beam/runners/common.cpython-37m-x86_64-linux-gnu.so\u001b[0m in \u001b[0;36mapache_beam.runners.common.SimpleInvoker.invoke_process\u001b[0;34m()\u001b[0m\n",
      "\u001b[0;32m~/.local/lib/python3.7/site-packages/apache_beam/transforms/core.py\u001b[0m in \u001b[0;36m<lambda>\u001b[0;34m(x)\u001b[0m\n\u001b[1;32m   1591\u001b[0m   \u001b[0;32melse\u001b[0m\u001b[0;34m:\u001b[0m\u001b[0;34m\u001b[0m\u001b[0;34m\u001b[0m\u001b[0m\n\u001b[0;32m-> 1592\u001b[0;31m     \u001b[0mwrapper\u001b[0m \u001b[0;34m=\u001b[0m \u001b[0;32mlambda\u001b[0m \u001b[0mx\u001b[0m\u001b[0;34m:\u001b[0m \u001b[0;34m[\u001b[0m\u001b[0mfn\u001b[0m\u001b[0;34m(\u001b[0m\u001b[0mx\u001b[0m\u001b[0;34m)\u001b[0m\u001b[0;34m]\u001b[0m\u001b[0;34m\u001b[0m\u001b[0;34m\u001b[0m\u001b[0m\n\u001b[0m\u001b[1;32m   1593\u001b[0m \u001b[0;34m\u001b[0m\u001b[0m\n",
      "\u001b[0;32m<ipython-input-4-77489727aeea>\u001b[0m in \u001b[0;36m<lambda>\u001b[0;34m(x)\u001b[0m\n\u001b[1;32m      7\u001b[0m          \u001b[0;34m|\u001b[0m \u001b[0;34m\"Create\"\u001b[0m \u001b[0;34m>>\u001b[0m \u001b[0mbeam\u001b[0m\u001b[0;34m.\u001b[0m\u001b[0mCreate\u001b[0m\u001b[0;34m(\u001b[0m\u001b[0;34m[\u001b[0m\u001b[0;34m\"Hello Beam\"\u001b[0m\u001b[0;34m,\u001b[0m \u001b[0;34m\"This is cool\"\u001b[0m\u001b[0;34m]\u001b[0m\u001b[0;34m)\u001b[0m\u001b[0;34m\u001b[0m\u001b[0;34m\u001b[0m\u001b[0m\n\u001b[0;32m----> 8\u001b[0;31m          \u001b[0;34m|\u001b[0m \u001b[0;34m'Print0'\u001b[0m \u001b[0;34m>>\u001b[0m \u001b[0mbeam\u001b[0m\u001b[0;34m.\u001b[0m\u001b[0mMap\u001b[0m\u001b[0;34m(\u001b[0m\u001b[0;32mlambda\u001b[0m \u001b[0mx\u001b[0m\u001b[0;34m:\u001b[0m \u001b[0mpassthrough\u001b[0m\u001b[0;34m(\u001b[0m\u001b[0;34m'Sentence:'\u001b[0m\u001b[0;34m,\u001b[0m \u001b[0mx\u001b[0m\u001b[0;34m)\u001b[0m\u001b[0;34m)\u001b[0m\u001b[0;34m\u001b[0m\u001b[0;34m\u001b[0m\u001b[0m\n\u001b[0m\u001b[1;32m      9\u001b[0m          \u001b[0;34m|\u001b[0m \u001b[0;34m\"Split\"\u001b[0m \u001b[0;34m>>\u001b[0m \u001b[0mbeam\u001b[0m\u001b[0;34m.\u001b[0m\u001b[0mParDo\u001b[0m\u001b[0;34m(\u001b[0m\u001b[0mBreakIntoWordsDoFn\u001b[0m\u001b[0;34m(\u001b[0m\u001b[0;34m)\u001b[0m\u001b[0;34m)\u001b[0m \u001b[0;31m# Apply a DoFn with a process method\u001b[0m\u001b[0;34m\u001b[0m\u001b[0;34m\u001b[0m\u001b[0m\n",
      "\u001b[0;31mNameError\u001b[0m: name 'passthrough' is not defined",
      "\nDuring handling of the above exception, another exception occurred:\n",
      "\u001b[0;31mNameError\u001b[0m                                 Traceback (most recent call last)",
      "\u001b[0;32m<ipython-input-4-77489727aeea>\u001b[0m in \u001b[0;36m<module>\u001b[0;34m\u001b[0m\n\u001b[1;32m      8\u001b[0m          \u001b[0;34m|\u001b[0m \u001b[0;34m'Print0'\u001b[0m \u001b[0;34m>>\u001b[0m \u001b[0mbeam\u001b[0m\u001b[0;34m.\u001b[0m\u001b[0mMap\u001b[0m\u001b[0;34m(\u001b[0m\u001b[0;32mlambda\u001b[0m \u001b[0mx\u001b[0m\u001b[0;34m:\u001b[0m \u001b[0mpassthrough\u001b[0m\u001b[0;34m(\u001b[0m\u001b[0;34m'Sentence:'\u001b[0m\u001b[0;34m,\u001b[0m \u001b[0mx\u001b[0m\u001b[0;34m)\u001b[0m\u001b[0;34m)\u001b[0m\u001b[0;34m\u001b[0m\u001b[0;34m\u001b[0m\u001b[0m\n\u001b[1;32m      9\u001b[0m          \u001b[0;34m|\u001b[0m \u001b[0;34m\"Split\"\u001b[0m \u001b[0;34m>>\u001b[0m \u001b[0mbeam\u001b[0m\u001b[0;34m.\u001b[0m\u001b[0mParDo\u001b[0m\u001b[0;34m(\u001b[0m\u001b[0mBreakIntoWordsDoFn\u001b[0m\u001b[0;34m(\u001b[0m\u001b[0;34m)\u001b[0m\u001b[0;34m)\u001b[0m \u001b[0;31m# Apply a DoFn with a process method\u001b[0m\u001b[0;34m\u001b[0m\u001b[0;34m\u001b[0m\u001b[0m\n\u001b[0;32m---> 10\u001b[0;31m          | 'Print1' >> beam.Map(lambda x: passthrough('Word:', x)))\n\u001b[0m",
      "\u001b[0;32m~/.local/lib/python3.7/site-packages/apache_beam/pipeline.py\u001b[0m in \u001b[0;36m__exit__\u001b[0;34m(self, exc_type, exc_val, exc_tb)\u001b[0m\n\u001b[1;32m    580\u001b[0m     \u001b[0;32mtry\u001b[0m\u001b[0;34m:\u001b[0m\u001b[0;34m\u001b[0m\u001b[0;34m\u001b[0m\u001b[0m\n\u001b[1;32m    581\u001b[0m       \u001b[0;32mif\u001b[0m \u001b[0;32mnot\u001b[0m \u001b[0mexc_type\u001b[0m\u001b[0;34m:\u001b[0m\u001b[0;34m\u001b[0m\u001b[0;34m\u001b[0m\u001b[0m\n\u001b[0;32m--> 582\u001b[0;31m         \u001b[0mself\u001b[0m\u001b[0;34m.\u001b[0m\u001b[0mresult\u001b[0m \u001b[0;34m=\u001b[0m \u001b[0mself\u001b[0m\u001b[0;34m.\u001b[0m\u001b[0mrun\u001b[0m\u001b[0;34m(\u001b[0m\u001b[0;34m)\u001b[0m\u001b[0;34m\u001b[0m\u001b[0;34m\u001b[0m\u001b[0m\n\u001b[0m\u001b[1;32m    583\u001b[0m         \u001b[0mself\u001b[0m\u001b[0;34m.\u001b[0m\u001b[0mresult\u001b[0m\u001b[0;34m.\u001b[0m\u001b[0mwait_until_finish\u001b[0m\u001b[0;34m(\u001b[0m\u001b[0;34m)\u001b[0m\u001b[0;34m\u001b[0m\u001b[0;34m\u001b[0m\u001b[0m\n\u001b[1;32m    584\u001b[0m     \u001b[0;32mfinally\u001b[0m\u001b[0;34m:\u001b[0m\u001b[0;34m\u001b[0m\u001b[0;34m\u001b[0m\u001b[0m\n",
      "\u001b[0;32m~/.local/lib/python3.7/site-packages/apache_beam/pipeline.py\u001b[0m in \u001b[0;36mrun\u001b[0;34m(self, test_runner_api)\u001b[0m\n\u001b[1;32m    559\u001b[0m         \u001b[0;32mfinally\u001b[0m\u001b[0;34m:\u001b[0m\u001b[0;34m\u001b[0m\u001b[0;34m\u001b[0m\u001b[0m\n\u001b[1;32m    560\u001b[0m           \u001b[0mshutil\u001b[0m\u001b[0;34m.\u001b[0m\u001b[0mrmtree\u001b[0m\u001b[0;34m(\u001b[0m\u001b[0mtmpdir\u001b[0m\u001b[0;34m)\u001b[0m\u001b[0;34m\u001b[0m\u001b[0;34m\u001b[0m\u001b[0m\n\u001b[0;32m--> 561\u001b[0;31m       \u001b[0;32mreturn\u001b[0m \u001b[0mself\u001b[0m\u001b[0;34m.\u001b[0m\u001b[0mrunner\u001b[0m\u001b[0;34m.\u001b[0m\u001b[0mrun_pipeline\u001b[0m\u001b[0;34m(\u001b[0m\u001b[0mself\u001b[0m\u001b[0;34m,\u001b[0m \u001b[0mself\u001b[0m\u001b[0;34m.\u001b[0m\u001b[0m_options\u001b[0m\u001b[0;34m)\u001b[0m\u001b[0;34m\u001b[0m\u001b[0;34m\u001b[0m\u001b[0m\n\u001b[0m\u001b[1;32m    562\u001b[0m     \u001b[0;32mfinally\u001b[0m\u001b[0;34m:\u001b[0m\u001b[0;34m\u001b[0m\u001b[0;34m\u001b[0m\u001b[0m\n\u001b[1;32m    563\u001b[0m       \u001b[0mshutil\u001b[0m\u001b[0;34m.\u001b[0m\u001b[0mrmtree\u001b[0m\u001b[0;34m(\u001b[0m\u001b[0mself\u001b[0m\u001b[0;34m.\u001b[0m\u001b[0mlocal_tempdir\u001b[0m\u001b[0;34m,\u001b[0m \u001b[0mignore_errors\u001b[0m\u001b[0;34m=\u001b[0m\u001b[0;32mTrue\u001b[0m\u001b[0;34m)\u001b[0m\u001b[0;34m\u001b[0m\u001b[0;34m\u001b[0m\u001b[0m\n",
      "\u001b[0;32m~/.local/lib/python3.7/site-packages/apache_beam/runners/direct/direct_runner.py\u001b[0m in \u001b[0;36mrun_pipeline\u001b[0;34m(self, pipeline, options)\u001b[0m\n\u001b[1;32m    124\u001b[0m       \u001b[0mrunner\u001b[0m \u001b[0;34m=\u001b[0m \u001b[0mBundleBasedDirectRunner\u001b[0m\u001b[0;34m(\u001b[0m\u001b[0;34m)\u001b[0m\u001b[0;34m\u001b[0m\u001b[0;34m\u001b[0m\u001b[0m\n\u001b[1;32m    125\u001b[0m \u001b[0;34m\u001b[0m\u001b[0m\n\u001b[0;32m--> 126\u001b[0;31m     \u001b[0;32mreturn\u001b[0m \u001b[0mrunner\u001b[0m\u001b[0;34m.\u001b[0m\u001b[0mrun_pipeline\u001b[0m\u001b[0;34m(\u001b[0m\u001b[0mpipeline\u001b[0m\u001b[0;34m,\u001b[0m \u001b[0moptions\u001b[0m\u001b[0;34m)\u001b[0m\u001b[0;34m\u001b[0m\u001b[0;34m\u001b[0m\u001b[0m\n\u001b[0m\u001b[1;32m    127\u001b[0m \u001b[0;34m\u001b[0m\u001b[0m\n\u001b[1;32m    128\u001b[0m \u001b[0;34m\u001b[0m\u001b[0m\n",
      "\u001b[0;32m~/.local/lib/python3.7/site-packages/apache_beam/runners/portability/fn_api_runner/fn_runner.py\u001b[0m in \u001b[0;36mrun_pipeline\u001b[0;34m(self, pipeline, options)\u001b[0m\n\u001b[1;32m    181\u001b[0m \u001b[0;34m\u001b[0m\u001b[0m\n\u001b[1;32m    182\u001b[0m     self._latest_run_result = self.run_via_runner_api(\n\u001b[0;32m--> 183\u001b[0;31m         pipeline.to_runner_api(default_environment=self._default_environment))\n\u001b[0m\u001b[1;32m    184\u001b[0m     \u001b[0;32mreturn\u001b[0m \u001b[0mself\u001b[0m\u001b[0;34m.\u001b[0m\u001b[0m_latest_run_result\u001b[0m\u001b[0;34m\u001b[0m\u001b[0;34m\u001b[0m\u001b[0m\n\u001b[1;32m    185\u001b[0m \u001b[0;34m\u001b[0m\u001b[0m\n",
      "\u001b[0;32m~/.local/lib/python3.7/site-packages/apache_beam/runners/portability/fn_api_runner/fn_runner.py\u001b[0m in \u001b[0;36mrun_via_runner_api\u001b[0;34m(self, pipeline_proto)\u001b[0m\n\u001b[1;32m    191\u001b[0m     \u001b[0;31m# TODO(pabloem, BEAM-7514): Create a watermark manager (that has access to\u001b[0m\u001b[0;34m\u001b[0m\u001b[0;34m\u001b[0m\u001b[0;34m\u001b[0m\u001b[0m\n\u001b[1;32m    192\u001b[0m     \u001b[0;31m#   the teststream (if any), and all the stages).\u001b[0m\u001b[0;34m\u001b[0m\u001b[0;34m\u001b[0m\u001b[0;34m\u001b[0m\u001b[0m\n\u001b[0;32m--> 193\u001b[0;31m     \u001b[0;32mreturn\u001b[0m \u001b[0mself\u001b[0m\u001b[0;34m.\u001b[0m\u001b[0mrun_stages\u001b[0m\u001b[0;34m(\u001b[0m\u001b[0mstage_context\u001b[0m\u001b[0;34m,\u001b[0m \u001b[0mstages\u001b[0m\u001b[0;34m)\u001b[0m\u001b[0;34m\u001b[0m\u001b[0;34m\u001b[0m\u001b[0m\n\u001b[0m\u001b[1;32m    194\u001b[0m \u001b[0;34m\u001b[0m\u001b[0m\n\u001b[1;32m    195\u001b[0m   \u001b[0;34m@\u001b[0m\u001b[0mcontextlib\u001b[0m\u001b[0;34m.\u001b[0m\u001b[0mcontextmanager\u001b[0m\u001b[0;34m\u001b[0m\u001b[0;34m\u001b[0m\u001b[0m\n",
      "\u001b[0;32m~/.local/lib/python3.7/site-packages/apache_beam/runners/portability/fn_api_runner/fn_runner.py\u001b[0m in \u001b[0;36mrun_stages\u001b[0;34m(self, stage_context, stages)\u001b[0m\n\u001b[1;32m    358\u001b[0m           stage_results = self._run_stage(\n\u001b[1;32m    359\u001b[0m               \u001b[0mrunner_execution_context\u001b[0m\u001b[0;34m,\u001b[0m\u001b[0;34m\u001b[0m\u001b[0;34m\u001b[0m\u001b[0m\n\u001b[0;32m--> 360\u001b[0;31m               \u001b[0mbundle_context_manager\u001b[0m\u001b[0;34m,\u001b[0m\u001b[0;34m\u001b[0m\u001b[0;34m\u001b[0m\u001b[0m\n\u001b[0m\u001b[1;32m    361\u001b[0m           )\n\u001b[1;32m    362\u001b[0m           monitoring_infos_by_stage[stage.name] = (\n",
      "\u001b[0;32m~/.local/lib/python3.7/site-packages/apache_beam/runners/portability/fn_api_runner/fn_runner.py\u001b[0m in \u001b[0;36m_run_stage\u001b[0;34m(self, runner_execution_context, bundle_context_manager)\u001b[0m\n\u001b[1;32m    554\u001b[0m               \u001b[0minput_timers\u001b[0m\u001b[0;34m,\u001b[0m\u001b[0;34m\u001b[0m\u001b[0;34m\u001b[0m\u001b[0m\n\u001b[1;32m    555\u001b[0m               \u001b[0mexpected_timer_output\u001b[0m\u001b[0;34m,\u001b[0m\u001b[0;34m\u001b[0m\u001b[0;34m\u001b[0m\u001b[0m\n\u001b[0;32m--> 556\u001b[0;31m               bundle_manager)\n\u001b[0m\u001b[1;32m    557\u001b[0m \u001b[0;34m\u001b[0m\u001b[0m\n\u001b[1;32m    558\u001b[0m       \u001b[0mfinal_result\u001b[0m \u001b[0;34m=\u001b[0m \u001b[0mmerge_results\u001b[0m\u001b[0;34m(\u001b[0m\u001b[0mlast_result\u001b[0m\u001b[0;34m)\u001b[0m\u001b[0;34m\u001b[0m\u001b[0;34m\u001b[0m\u001b[0m\n",
      "\u001b[0;32m~/.local/lib/python3.7/site-packages/apache_beam/runners/portability/fn_api_runner/fn_runner.py\u001b[0m in \u001b[0;36m_run_bundle\u001b[0;34m(self, runner_execution_context, bundle_context_manager, data_input, data_output, input_timers, expected_timer_output, bundle_manager)\u001b[0m\n\u001b[1;32m    594\u001b[0m \u001b[0;34m\u001b[0m\u001b[0m\n\u001b[1;32m    595\u001b[0m     result, splits = bundle_manager.process_bundle(\n\u001b[0;32m--> 596\u001b[0;31m         data_input, data_output, input_timers, expected_timer_output)\n\u001b[0m\u001b[1;32m    597\u001b[0m     \u001b[0;31m# Now we collect all the deferred inputs remaining from bundle execution.\u001b[0m\u001b[0;34m\u001b[0m\u001b[0;34m\u001b[0m\u001b[0;34m\u001b[0m\u001b[0m\n\u001b[1;32m    598\u001b[0m     \u001b[0;31m# Deferred inputs can be:\u001b[0m\u001b[0;34m\u001b[0m\u001b[0;34m\u001b[0m\u001b[0;34m\u001b[0m\u001b[0m\n",
      "\u001b[0;32m~/.local/lib/python3.7/site-packages/apache_beam/runners/portability/fn_api_runner/fn_runner.py\u001b[0m in \u001b[0;36mprocess_bundle\u001b[0;34m(self, inputs, expected_outputs, fired_timers, expected_output_timers, dry_run)\u001b[0m\n\u001b[1;32m    895\u001b[0m             \u001b[0mprocess_bundle_descriptor\u001b[0m\u001b[0;34m.\u001b[0m\u001b[0mid\u001b[0m\u001b[0;34m,\u001b[0m\u001b[0;34m\u001b[0m\u001b[0;34m\u001b[0m\u001b[0m\n\u001b[1;32m    896\u001b[0m             cache_tokens=[next(self._cache_token_generator)]))\n\u001b[0;32m--> 897\u001b[0;31m     \u001b[0mresult_future\u001b[0m \u001b[0;34m=\u001b[0m \u001b[0mself\u001b[0m\u001b[0;34m.\u001b[0m\u001b[0m_worker_handler\u001b[0m\u001b[0;34m.\u001b[0m\u001b[0mcontrol_conn\u001b[0m\u001b[0;34m.\u001b[0m\u001b[0mpush\u001b[0m\u001b[0;34m(\u001b[0m\u001b[0mprocess_bundle_req\u001b[0m\u001b[0;34m)\u001b[0m\u001b[0;34m\u001b[0m\u001b[0;34m\u001b[0m\u001b[0m\n\u001b[0m\u001b[1;32m    898\u001b[0m \u001b[0;34m\u001b[0m\u001b[0m\n\u001b[1;32m    899\u001b[0m     \u001b[0msplit_results\u001b[0m \u001b[0;34m=\u001b[0m \u001b[0;34m[\u001b[0m\u001b[0;34m]\u001b[0m  \u001b[0;31m# type: List[beam_fn_api_pb2.ProcessBundleSplitResponse]\u001b[0m\u001b[0;34m\u001b[0m\u001b[0;34m\u001b[0m\u001b[0m\n",
      "\u001b[0;32m~/.local/lib/python3.7/site-packages/apache_beam/runners/portability/fn_api_runner/worker_handlers.py\u001b[0m in \u001b[0;36mpush\u001b[0;34m(self, request)\u001b[0m\n\u001b[1;32m    378\u001b[0m       \u001b[0mself\u001b[0m\u001b[0;34m.\u001b[0m\u001b[0m_uid_counter\u001b[0m \u001b[0;34m+=\u001b[0m \u001b[0;36m1\u001b[0m\u001b[0;34m\u001b[0m\u001b[0;34m\u001b[0m\u001b[0m\n\u001b[1;32m    379\u001b[0m       \u001b[0mrequest\u001b[0m\u001b[0;34m.\u001b[0m\u001b[0minstruction_id\u001b[0m \u001b[0;34m=\u001b[0m \u001b[0;34m'control_%s'\u001b[0m \u001b[0;34m%\u001b[0m \u001b[0mself\u001b[0m\u001b[0;34m.\u001b[0m\u001b[0m_uid_counter\u001b[0m\u001b[0;34m\u001b[0m\u001b[0;34m\u001b[0m\u001b[0m\n\u001b[0;32m--> 380\u001b[0;31m     \u001b[0mresponse\u001b[0m \u001b[0;34m=\u001b[0m \u001b[0mself\u001b[0m\u001b[0;34m.\u001b[0m\u001b[0mworker\u001b[0m\u001b[0;34m.\u001b[0m\u001b[0mdo_instruction\u001b[0m\u001b[0;34m(\u001b[0m\u001b[0mrequest\u001b[0m\u001b[0;34m)\u001b[0m\u001b[0;34m\u001b[0m\u001b[0;34m\u001b[0m\u001b[0m\n\u001b[0m\u001b[1;32m    381\u001b[0m     \u001b[0;32mreturn\u001b[0m \u001b[0mControlFuture\u001b[0m\u001b[0;34m(\u001b[0m\u001b[0mrequest\u001b[0m\u001b[0;34m.\u001b[0m\u001b[0minstruction_id\u001b[0m\u001b[0;34m,\u001b[0m \u001b[0mresponse\u001b[0m\u001b[0;34m)\u001b[0m\u001b[0;34m\u001b[0m\u001b[0;34m\u001b[0m\u001b[0m\n\u001b[1;32m    382\u001b[0m \u001b[0;34m\u001b[0m\u001b[0m\n",
      "\u001b[0;32m~/.local/lib/python3.7/site-packages/apache_beam/runners/worker/sdk_worker.py\u001b[0m in \u001b[0;36mdo_instruction\u001b[0;34m(self, request)\u001b[0m\n\u001b[1;32m    605\u001b[0m       \u001b[0;31m# E.g. if register is set, this will call self.register(request.register))\u001b[0m\u001b[0;34m\u001b[0m\u001b[0;34m\u001b[0m\u001b[0;34m\u001b[0m\u001b[0m\n\u001b[1;32m    606\u001b[0m       return getattr(self, request_type)(\n\u001b[0;32m--> 607\u001b[0;31m           getattr(request, request_type), request.instruction_id)\n\u001b[0m\u001b[1;32m    608\u001b[0m     \u001b[0;32melse\u001b[0m\u001b[0;34m:\u001b[0m\u001b[0;34m\u001b[0m\u001b[0;34m\u001b[0m\u001b[0m\n\u001b[1;32m    609\u001b[0m       \u001b[0;32mraise\u001b[0m \u001b[0mNotImplementedError\u001b[0m\u001b[0;34m\u001b[0m\u001b[0;34m\u001b[0m\u001b[0m\n",
      "\u001b[0;32m~/.local/lib/python3.7/site-packages/apache_beam/runners/worker/sdk_worker.py\u001b[0m in \u001b[0;36mprocess_bundle\u001b[0;34m(self, request, instruction_id)\u001b[0m\n\u001b[1;32m    642\u001b[0m         \u001b[0;32mwith\u001b[0m \u001b[0mself\u001b[0m\u001b[0;34m.\u001b[0m\u001b[0mmaybe_profile\u001b[0m\u001b[0;34m(\u001b[0m\u001b[0minstruction_id\u001b[0m\u001b[0;34m)\u001b[0m\u001b[0;34m:\u001b[0m\u001b[0;34m\u001b[0m\u001b[0;34m\u001b[0m\u001b[0m\n\u001b[1;32m    643\u001b[0m           delayed_applications, requests_finalization = (\n\u001b[0;32m--> 644\u001b[0;31m               bundle_processor.process_bundle(instruction_id))\n\u001b[0m\u001b[1;32m    645\u001b[0m           \u001b[0mmonitoring_infos\u001b[0m \u001b[0;34m=\u001b[0m \u001b[0mbundle_processor\u001b[0m\u001b[0;34m.\u001b[0m\u001b[0mmonitoring_infos\u001b[0m\u001b[0;34m(\u001b[0m\u001b[0;34m)\u001b[0m\u001b[0;34m\u001b[0m\u001b[0;34m\u001b[0m\u001b[0m\n\u001b[1;32m    646\u001b[0m           \u001b[0mmonitoring_infos\u001b[0m\u001b[0;34m.\u001b[0m\u001b[0mextend\u001b[0m\u001b[0;34m(\u001b[0m\u001b[0mself\u001b[0m\u001b[0;34m.\u001b[0m\u001b[0mstate_cache_metrics_fn\u001b[0m\u001b[0;34m(\u001b[0m\u001b[0;34m)\u001b[0m\u001b[0;34m)\u001b[0m\u001b[0;34m\u001b[0m\u001b[0;34m\u001b[0m\u001b[0m\n",
      "\u001b[0;32m~/.local/lib/python3.7/site-packages/apache_beam/runners/worker/bundle_processor.py\u001b[0m in \u001b[0;36mprocess_bundle\u001b[0;34m(self, instruction_id)\u001b[0m\n\u001b[1;32m    998\u001b[0m           \u001b[0;32melif\u001b[0m \u001b[0misinstance\u001b[0m\u001b[0;34m(\u001b[0m\u001b[0melement\u001b[0m\u001b[0;34m,\u001b[0m \u001b[0mbeam_fn_api_pb2\u001b[0m\u001b[0;34m.\u001b[0m\u001b[0mElements\u001b[0m\u001b[0;34m.\u001b[0m\u001b[0mData\u001b[0m\u001b[0;34m)\u001b[0m\u001b[0;34m:\u001b[0m\u001b[0;34m\u001b[0m\u001b[0;34m\u001b[0m\u001b[0m\n\u001b[1;32m    999\u001b[0m             input_op_by_transform_id[element.transform_id].process_encoded(\n\u001b[0;32m-> 1000\u001b[0;31m                 element.data)\n\u001b[0m\u001b[1;32m   1001\u001b[0m \u001b[0;34m\u001b[0m\u001b[0m\n\u001b[1;32m   1002\u001b[0m       \u001b[0;31m# Finish all operations.\u001b[0m\u001b[0;34m\u001b[0m\u001b[0;34m\u001b[0m\u001b[0;34m\u001b[0m\u001b[0m\n",
      "\u001b[0;32m~/.local/lib/python3.7/site-packages/apache_beam/runners/worker/bundle_processor.py\u001b[0m in \u001b[0;36mprocess_encoded\u001b[0;34m(self, encoded_windowed_values)\u001b[0m\n\u001b[1;32m    226\u001b[0m       decoded_value = self.windowed_coder_impl.decode_from_stream(\n\u001b[1;32m    227\u001b[0m           input_stream, True)\n\u001b[0;32m--> 228\u001b[0;31m       \u001b[0mself\u001b[0m\u001b[0;34m.\u001b[0m\u001b[0moutput\u001b[0m\u001b[0;34m(\u001b[0m\u001b[0mdecoded_value\u001b[0m\u001b[0;34m)\u001b[0m\u001b[0;34m\u001b[0m\u001b[0;34m\u001b[0m\u001b[0m\n\u001b[0m\u001b[1;32m    229\u001b[0m \u001b[0;34m\u001b[0m\u001b[0m\n\u001b[1;32m    230\u001b[0m   \u001b[0;32mdef\u001b[0m \u001b[0mmonitoring_infos\u001b[0m\u001b[0;34m(\u001b[0m\u001b[0mself\u001b[0m\u001b[0;34m,\u001b[0m \u001b[0mtransform_id\u001b[0m\u001b[0;34m,\u001b[0m \u001b[0mtag_to_pcollection_id\u001b[0m\u001b[0;34m)\u001b[0m\u001b[0;34m:\u001b[0m\u001b[0;34m\u001b[0m\u001b[0;34m\u001b[0m\u001b[0m\n",
      "\u001b[0;32m~/.local/lib/python3.7/site-packages/apache_beam/runners/worker/operations.cpython-37m-x86_64-linux-gnu.so\u001b[0m in \u001b[0;36mapache_beam.runners.worker.operations.Operation.output\u001b[0;34m()\u001b[0m\n",
      "\u001b[0;32m~/.local/lib/python3.7/site-packages/apache_beam/runners/worker/operations.cpython-37m-x86_64-linux-gnu.so\u001b[0m in \u001b[0;36mapache_beam.runners.worker.operations.Operation.output\u001b[0;34m()\u001b[0m\n",
      "\u001b[0;32m~/.local/lib/python3.7/site-packages/apache_beam/runners/worker/operations.cpython-37m-x86_64-linux-gnu.so\u001b[0m in \u001b[0;36mapache_beam.runners.worker.operations.SingletonConsumerSet.receive\u001b[0;34m()\u001b[0m\n",
      "\u001b[0;32m~/.local/lib/python3.7/site-packages/apache_beam/runners/worker/operations.cpython-37m-x86_64-linux-gnu.so\u001b[0m in \u001b[0;36mapache_beam.runners.worker.operations.DoOperation.process\u001b[0;34m()\u001b[0m\n",
      "\u001b[0;32m~/.local/lib/python3.7/site-packages/apache_beam/runners/worker/operations.cpython-37m-x86_64-linux-gnu.so\u001b[0m in \u001b[0;36mapache_beam.runners.worker.operations.DoOperation.process\u001b[0;34m()\u001b[0m\n",
      "\u001b[0;32m~/.local/lib/python3.7/site-packages/apache_beam/runners/common.cpython-37m-x86_64-linux-gnu.so\u001b[0m in \u001b[0;36mapache_beam.runners.common.DoFnRunner.process\u001b[0;34m()\u001b[0m\n",
      "\u001b[0;32m~/.local/lib/python3.7/site-packages/apache_beam/runners/common.cpython-37m-x86_64-linux-gnu.so\u001b[0m in \u001b[0;36mapache_beam.runners.common.DoFnRunner._reraise_augmented\u001b[0;34m()\u001b[0m\n",
      "\u001b[0;32m~/.local/lib/python3.7/site-packages/apache_beam/runners/common.cpython-37m-x86_64-linux-gnu.so\u001b[0m in \u001b[0;36mapache_beam.runners.common.DoFnRunner.process\u001b[0;34m()\u001b[0m\n",
      "\u001b[0;32m~/.local/lib/python3.7/site-packages/apache_beam/runners/common.cpython-37m-x86_64-linux-gnu.so\u001b[0m in \u001b[0;36mapache_beam.runners.common.SimpleInvoker.invoke_process\u001b[0;34m()\u001b[0m\n",
      "\u001b[0;32m~/.local/lib/python3.7/site-packages/apache_beam/runners/common.cpython-37m-x86_64-linux-gnu.so\u001b[0m in \u001b[0;36mapache_beam.runners.common._OutputProcessor.process_outputs\u001b[0;34m()\u001b[0m\n",
      "\u001b[0;32m~/.local/lib/python3.7/site-packages/apache_beam/runners/worker/operations.cpython-37m-x86_64-linux-gnu.so\u001b[0m in \u001b[0;36mapache_beam.runners.worker.operations.SingletonConsumerSet.receive\u001b[0;34m()\u001b[0m\n",
      "\u001b[0;32m~/.local/lib/python3.7/site-packages/apache_beam/runners/worker/operations.cpython-37m-x86_64-linux-gnu.so\u001b[0m in \u001b[0;36mapache_beam.runners.worker.operations.DoOperation.process\u001b[0;34m()\u001b[0m\n",
      "\u001b[0;32m~/.local/lib/python3.7/site-packages/apache_beam/runners/worker/operations.cpython-37m-x86_64-linux-gnu.so\u001b[0m in \u001b[0;36mapache_beam.runners.worker.operations.DoOperation.process\u001b[0;34m()\u001b[0m\n",
      "\u001b[0;32m~/.local/lib/python3.7/site-packages/apache_beam/runners/common.cpython-37m-x86_64-linux-gnu.so\u001b[0m in \u001b[0;36mapache_beam.runners.common.DoFnRunner.process\u001b[0;34m()\u001b[0m\n",
      "\u001b[0;32m~/.local/lib/python3.7/site-packages/apache_beam/runners/common.cpython-37m-x86_64-linux-gnu.so\u001b[0m in \u001b[0;36mapache_beam.runners.common.DoFnRunner._reraise_augmented\u001b[0;34m()\u001b[0m\n",
      "\u001b[0;32m~/.local/lib/python3.7/site-packages/apache_beam/runners/common.cpython-37m-x86_64-linux-gnu.so\u001b[0m in \u001b[0;36mapache_beam.runners.common.DoFnRunner.process\u001b[0;34m()\u001b[0m\n",
      "\u001b[0;32m~/.local/lib/python3.7/site-packages/apache_beam/runners/common.cpython-37m-x86_64-linux-gnu.so\u001b[0m in \u001b[0;36mapache_beam.runners.common.SimpleInvoker.invoke_process\u001b[0;34m()\u001b[0m\n",
      "\u001b[0;32m~/.local/lib/python3.7/site-packages/apache_beam/runners/common.cpython-37m-x86_64-linux-gnu.so\u001b[0m in \u001b[0;36mapache_beam.runners.common._OutputProcessor.process_outputs\u001b[0;34m()\u001b[0m\n",
      "\u001b[0;32m~/.local/lib/python3.7/site-packages/apache_beam/runners/worker/operations.cpython-37m-x86_64-linux-gnu.so\u001b[0m in \u001b[0;36mapache_beam.runners.worker.operations.SingletonConsumerSet.receive\u001b[0;34m()\u001b[0m\n",
      "\u001b[0;32m~/.local/lib/python3.7/site-packages/apache_beam/runners/worker/operations.cpython-37m-x86_64-linux-gnu.so\u001b[0m in \u001b[0;36mapache_beam.runners.worker.operations.DoOperation.process\u001b[0;34m()\u001b[0m\n",
      "\u001b[0;32m~/.local/lib/python3.7/site-packages/apache_beam/runners/worker/operations.cpython-37m-x86_64-linux-gnu.so\u001b[0m in \u001b[0;36mapache_beam.runners.worker.operations.DoOperation.process\u001b[0;34m()\u001b[0m\n",
      "\u001b[0;32m~/.local/lib/python3.7/site-packages/apache_beam/runners/common.cpython-37m-x86_64-linux-gnu.so\u001b[0m in \u001b[0;36mapache_beam.runners.common.DoFnRunner.process\u001b[0;34m()\u001b[0m\n",
      "\u001b[0;32m~/.local/lib/python3.7/site-packages/apache_beam/runners/common.cpython-37m-x86_64-linux-gnu.so\u001b[0m in \u001b[0;36mapache_beam.runners.common.DoFnRunner._reraise_augmented\u001b[0;34m()\u001b[0m\n",
      "\u001b[0;32m~/.local/lib/python3.7/site-packages/apache_beam/runners/common.cpython-37m-x86_64-linux-gnu.so\u001b[0m in \u001b[0;36mapache_beam.runners.common.DoFnRunner.process\u001b[0;34m()\u001b[0m\n",
      "\u001b[0;32m~/.local/lib/python3.7/site-packages/apache_beam/runners/common.cpython-37m-x86_64-linux-gnu.so\u001b[0m in \u001b[0;36mapache_beam.runners.common.SimpleInvoker.invoke_process\u001b[0;34m()\u001b[0m\n",
      "\u001b[0;32m~/.local/lib/python3.7/site-packages/apache_beam/runners/common.cpython-37m-x86_64-linux-gnu.so\u001b[0m in \u001b[0;36mapache_beam.runners.common._OutputProcessor.process_outputs\u001b[0;34m()\u001b[0m\n",
      "\u001b[0;32m~/.local/lib/python3.7/site-packages/apache_beam/runners/worker/operations.cpython-37m-x86_64-linux-gnu.so\u001b[0m in \u001b[0;36mapache_beam.runners.worker.operations.SingletonConsumerSet.receive\u001b[0;34m()\u001b[0m\n",
      "\u001b[0;32m~/.local/lib/python3.7/site-packages/apache_beam/runners/worker/operations.cpython-37m-x86_64-linux-gnu.so\u001b[0m in \u001b[0;36mapache_beam.runners.worker.operations.DoOperation.process\u001b[0;34m()\u001b[0m\n",
      "\u001b[0;32m~/.local/lib/python3.7/site-packages/apache_beam/runners/worker/operations.cpython-37m-x86_64-linux-gnu.so\u001b[0m in \u001b[0;36mapache_beam.runners.worker.operations.DoOperation.process\u001b[0;34m()\u001b[0m\n",
      "\u001b[0;32m~/.local/lib/python3.7/site-packages/apache_beam/runners/common.cpython-37m-x86_64-linux-gnu.so\u001b[0m in \u001b[0;36mapache_beam.runners.common.DoFnRunner.process\u001b[0;34m()\u001b[0m\n",
      "\u001b[0;32m~/.local/lib/python3.7/site-packages/apache_beam/runners/common.cpython-37m-x86_64-linux-gnu.so\u001b[0m in \u001b[0;36mapache_beam.runners.common.DoFnRunner._reraise_augmented\u001b[0;34m()\u001b[0m\n",
      "\u001b[0;32m/opt/conda/lib/python3.7/site-packages/future/utils/__init__.py\u001b[0m in \u001b[0;36mraise_with_traceback\u001b[0;34m(exc, traceback)\u001b[0m\n\u001b[1;32m    444\u001b[0m         \u001b[0;32mif\u001b[0m \u001b[0mtraceback\u001b[0m \u001b[0;34m==\u001b[0m \u001b[0mEllipsis\u001b[0m\u001b[0;34m:\u001b[0m\u001b[0;34m\u001b[0m\u001b[0;34m\u001b[0m\u001b[0m\n\u001b[1;32m    445\u001b[0m             \u001b[0m_\u001b[0m\u001b[0;34m,\u001b[0m \u001b[0m_\u001b[0m\u001b[0;34m,\u001b[0m \u001b[0mtraceback\u001b[0m \u001b[0;34m=\u001b[0m \u001b[0msys\u001b[0m\u001b[0;34m.\u001b[0m\u001b[0mexc_info\u001b[0m\u001b[0;34m(\u001b[0m\u001b[0;34m)\u001b[0m\u001b[0;34m\u001b[0m\u001b[0;34m\u001b[0m\u001b[0m\n\u001b[0;32m--> 446\u001b[0;31m         \u001b[0;32mraise\u001b[0m \u001b[0mexc\u001b[0m\u001b[0;34m.\u001b[0m\u001b[0mwith_traceback\u001b[0m\u001b[0;34m(\u001b[0m\u001b[0mtraceback\u001b[0m\u001b[0;34m)\u001b[0m\u001b[0;34m\u001b[0m\u001b[0;34m\u001b[0m\u001b[0m\n\u001b[0m\u001b[1;32m    447\u001b[0m \u001b[0;34m\u001b[0m\u001b[0m\n\u001b[1;32m    448\u001b[0m \u001b[0;32melse\u001b[0m\u001b[0;34m:\u001b[0m\u001b[0;34m\u001b[0m\u001b[0;34m\u001b[0m\u001b[0m\n",
      "\u001b[0;32m~/.local/lib/python3.7/site-packages/apache_beam/runners/common.cpython-37m-x86_64-linux-gnu.so\u001b[0m in \u001b[0;36mapache_beam.runners.common.DoFnRunner.process\u001b[0;34m()\u001b[0m\n",
      "\u001b[0;32m~/.local/lib/python3.7/site-packages/apache_beam/runners/common.cpython-37m-x86_64-linux-gnu.so\u001b[0m in \u001b[0;36mapache_beam.runners.common.SimpleInvoker.invoke_process\u001b[0;34m()\u001b[0m\n",
      "\u001b[0;32m~/.local/lib/python3.7/site-packages/apache_beam/transforms/core.py\u001b[0m in \u001b[0;36m<lambda>\u001b[0;34m(x)\u001b[0m\n\u001b[1;32m   1590\u001b[0m     \u001b[0mwrapper\u001b[0m \u001b[0;34m=\u001b[0m \u001b[0;32mlambda\u001b[0m \u001b[0mx\u001b[0m\u001b[0;34m,\u001b[0m \u001b[0;34m*\u001b[0m\u001b[0margs\u001b[0m\u001b[0;34m,\u001b[0m \u001b[0;34m**\u001b[0m\u001b[0mkwargs\u001b[0m\u001b[0;34m:\u001b[0m \u001b[0;34m[\u001b[0m\u001b[0mfn\u001b[0m\u001b[0;34m(\u001b[0m\u001b[0mx\u001b[0m\u001b[0;34m,\u001b[0m \u001b[0;34m*\u001b[0m\u001b[0margs\u001b[0m\u001b[0;34m,\u001b[0m \u001b[0;34m**\u001b[0m\u001b[0mkwargs\u001b[0m\u001b[0;34m)\u001b[0m\u001b[0;34m]\u001b[0m\u001b[0;34m\u001b[0m\u001b[0;34m\u001b[0m\u001b[0m\n\u001b[1;32m   1591\u001b[0m   \u001b[0;32melse\u001b[0m\u001b[0;34m:\u001b[0m\u001b[0;34m\u001b[0m\u001b[0;34m\u001b[0m\u001b[0m\n\u001b[0;32m-> 1592\u001b[0;31m     \u001b[0mwrapper\u001b[0m \u001b[0;34m=\u001b[0m \u001b[0;32mlambda\u001b[0m \u001b[0mx\u001b[0m\u001b[0;34m:\u001b[0m \u001b[0;34m[\u001b[0m\u001b[0mfn\u001b[0m\u001b[0;34m(\u001b[0m\u001b[0mx\u001b[0m\u001b[0;34m)\u001b[0m\u001b[0;34m]\u001b[0m\u001b[0;34m\u001b[0m\u001b[0;34m\u001b[0m\u001b[0m\n\u001b[0m\u001b[1;32m   1593\u001b[0m \u001b[0;34m\u001b[0m\u001b[0m\n\u001b[1;32m   1594\u001b[0m   \u001b[0mlabel\u001b[0m \u001b[0;34m=\u001b[0m \u001b[0;34m'Map(%s)'\u001b[0m \u001b[0;34m%\u001b[0m \u001b[0mptransform\u001b[0m\u001b[0;34m.\u001b[0m\u001b[0mlabel_from_callable\u001b[0m\u001b[0;34m(\u001b[0m\u001b[0mfn\u001b[0m\u001b[0;34m)\u001b[0m\u001b[0;34m\u001b[0m\u001b[0;34m\u001b[0m\u001b[0m\n",
      "\u001b[0;32m<ipython-input-4-77489727aeea>\u001b[0m in \u001b[0;36m<lambda>\u001b[0;34m(x)\u001b[0m\n\u001b[1;32m      6\u001b[0m   lines = (pipeline\n\u001b[1;32m      7\u001b[0m          \u001b[0;34m|\u001b[0m \u001b[0;34m\"Create\"\u001b[0m \u001b[0;34m>>\u001b[0m \u001b[0mbeam\u001b[0m\u001b[0;34m.\u001b[0m\u001b[0mCreate\u001b[0m\u001b[0;34m(\u001b[0m\u001b[0;34m[\u001b[0m\u001b[0;34m\"Hello Beam\"\u001b[0m\u001b[0;34m,\u001b[0m \u001b[0;34m\"This is cool\"\u001b[0m\u001b[0;34m]\u001b[0m\u001b[0;34m)\u001b[0m\u001b[0;34m\u001b[0m\u001b[0;34m\u001b[0m\u001b[0m\n\u001b[0;32m----> 8\u001b[0;31m          \u001b[0;34m|\u001b[0m \u001b[0;34m'Print0'\u001b[0m \u001b[0;34m>>\u001b[0m \u001b[0mbeam\u001b[0m\u001b[0;34m.\u001b[0m\u001b[0mMap\u001b[0m\u001b[0;34m(\u001b[0m\u001b[0;32mlambda\u001b[0m \u001b[0mx\u001b[0m\u001b[0;34m:\u001b[0m \u001b[0mpassthrough\u001b[0m\u001b[0;34m(\u001b[0m\u001b[0;34m'Sentence:'\u001b[0m\u001b[0;34m,\u001b[0m \u001b[0mx\u001b[0m\u001b[0;34m)\u001b[0m\u001b[0;34m)\u001b[0m\u001b[0;34m\u001b[0m\u001b[0;34m\u001b[0m\u001b[0m\n\u001b[0m\u001b[1;32m      9\u001b[0m          \u001b[0;34m|\u001b[0m \u001b[0;34m\"Split\"\u001b[0m \u001b[0;34m>>\u001b[0m \u001b[0mbeam\u001b[0m\u001b[0;34m.\u001b[0m\u001b[0mParDo\u001b[0m\u001b[0;34m(\u001b[0m\u001b[0mBreakIntoWordsDoFn\u001b[0m\u001b[0;34m(\u001b[0m\u001b[0;34m)\u001b[0m\u001b[0;34m)\u001b[0m \u001b[0;31m# Apply a DoFn with a process method\u001b[0m\u001b[0;34m\u001b[0m\u001b[0;34m\u001b[0m\u001b[0m\n\u001b[1;32m     10\u001b[0m          | 'Print1' >> beam.Map(lambda x: passthrough('Word:', x)))\n",
      "\u001b[0;31mNameError\u001b[0m: name 'passthrough' is not defined [while running '[4]: Print0']"
     ]
    }
   ],
   "source": [
    "class BreakIntoWordsDoFn(beam.DoFn):\n",
    "    def process(self, element):\n",
    "      return element.split()\n",
    "\n",
    "with beam.Pipeline() as pipeline:\n",
    "  lines = (pipeline\n",
    "         | \"Create\" >> beam.Create([\"Hello Beam\", \"This is cool\"])\n",
    "         | 'Print0' >> beam.Map(lambda x: passthrough('Sentence:', x))\n",
    "         | \"Split\" >> beam.ParDo(BreakIntoWordsDoFn()) # Apply a DoFn with a process method\n",
    "         | 'Print1' >> beam.Map(lambda x: passthrough('Word:', x)))"
   ]
  },
  {
   "cell_type": "code",
   "execution_count": 14,
   "metadata": {
    "id": "99n6mPVF1C1_"
   },
   "outputs": [
    {
     "name": "stdout",
     "output_type": "stream",
     "text": [
      "Sentence: Hello Beam\n",
      "Word: Hello\n",
      "Word: Beam\n",
      "Sentence: This is cool\n",
      "Word: This\n",
      "Word: is\n",
      "Word: cool\n"
     ]
    }
   ],
   "source": [
    "with beam.Pipeline() as pipeline:\n",
    "  lines = (pipeline\n",
    "         | \"Create\" >> beam.Create([\"Hello Beam\", \"This is cool\"])\n",
    "         | 'Print0' >> beam.Map(lambda x: passthrough('Sentence:', x))\n",
    "         | \"Split\" >> beam.FlatMap(lambda sentence: sentence.split()) # Compare to a FlatMap\n",
    "         | 'Print1' >> beam.Map(lambda x: passthrough('Word:', x)))"
   ]
  },
  {
   "cell_type": "markdown",
   "metadata": {
    "id": "kD0CwIu5220t"
   },
   "source": [
    "Again, notice that the results are the same. There is often more than one way to generate the same result!"
   ]
  },
  {
   "cell_type": "markdown",
   "metadata": {
    "id": "Gbthg5uU1X4a"
   },
   "source": [
    "## [GroupByKey](https://beam.apache.org/documentation/transforms/python/aggregation/groupbykey/)\n",
    "`GroupByKey` takes a keyed collection of elements and produces a collection where each element consists of a key and all values associated with that key.\n",
    "\n",
    "`GroupByKey` is a transform for processing collections of key/value pairs. It’s a parallel reduction operation, analogous to the Shuffle phase of a Map/Shuffle/Reduce-style algorithm. The input to `GroupByKey` is a collection of key/value pairs that represents a multimap, where the collection contains multiple pairs that have the same key, but different values. Given such a collection, you use `GroupByKey` to collect all of the values associated with each unique key.\n",
    "\n",
    "`GroupByKey` is a good way to aggregate data that has something in common. For example, if you have a collection that stores records of customer orders, you might want to group together all the orders from the same postal code (wherein the “key” of the key/value pair is the postal code field, and the “value” is the remainder of the record)."
   ]
  },
  {
   "cell_type": "code",
   "execution_count": 15,
   "metadata": {
    "id": "PTX7JoS11LQd"
   },
   "outputs": [
    {
     "name": "stdout",
     "output_type": "stream",
     "text": [
      "Word: apple\n",
      "Keyed Tuple: ('a', 'apple')\n",
      "Word: ball\n",
      "Keyed Tuple: ('b', 'ball')\n",
      "Word: car\n",
      "Keyed Tuple: ('c', 'car')\n",
      "Word: bear\n",
      "Keyed Tuple: ('b', 'bear')\n",
      "Word: cheetah\n",
      "Keyed Tuple: ('c', 'cheetah')\n",
      "Word: ant\n",
      "Keyed Tuple: ('a', 'ant')\n",
      "Grouped: ('a', ['apple', 'ant'])\n",
      "Grouped: ('b', ['ball', 'bear'])\n",
      "Grouped: ('c', ['car', 'cheetah'])\n"
     ]
    }
   ],
   "source": [
    "with beam.Pipeline() as pipeline:\n",
    "  lines = (pipeline\n",
    "           | beam.Create(['apple', 'ball', 'car', 'bear', 'cheetah', 'ant'])\n",
    "           | 'Words' >> beam.Map(lambda x: passthrough('Word:', x))\n",
    "           | beam.Map(lambda word: (word[0], word))\n",
    "           | 'Keyed' >> beam.Map(lambda x: passthrough('Keyed Tuple:', x))\n",
    "           | beam.GroupByKey()\n",
    "           | 'Groups' >> beam.Map(lambda x: passthrough('Grouped:', x)))"
   ]
  },
  {
   "cell_type": "markdown",
   "metadata": {
    "id": "DKNvm2H7hrsw"
   },
   "source": [
    "### Now You Try\n",
    "\n",
    "This is a good point to stop reading and try writing code yourself, as a way to help you learn.\n",
    "\n",
    "**Exercise 2 — Group Items by Key**\n",
    "\n",
    "1. Build a Beam pipeline that creates a PCollection containing integers 0 to 10 and prints them.\n",
    "2. Add a step in the pipeline to add a key to each item that will indicate whether it is even or odd.\n",
    "3. Use `GroupByKey` to group even items together and odd items together."
   ]
  },
  {
   "cell_type": "code",
   "execution_count": 45,
   "metadata": {
    "id": "KwinUX5-hrs0"
   },
   "outputs": [
    {
     "name": "stdout",
     "output_type": "stream",
     "text": [
      "num 0\n",
      "num 1\n",
      "num 2\n",
      "num 3\n",
      "num 4\n",
      "num 5\n",
      "num 6\n",
      "num 7\n",
      "num 8\n",
      "num 9\n",
      "num 10\n",
      "grouped (0, [0, 2, 4, 6, 8, 10])\n",
      "grouped (1, [1, 3, 5, 7, 9])\n"
     ]
    }
   ],
   "source": [
    "def passthrough(label, value):\n",
    "    print(label, value)\n",
    "    return value\n",
    "\n",
    "with beam.Pipeline() as pipeline:\n",
    "    lines = (pipeline\n",
    "             | beam.Create(range(11))\n",
    "             | beam.Map(lambda x: passthrough('num', x))\n",
    "             | beam.Map(lambda x: (x%2, x))\n",
    "             | beam.GroupByKey()\n",
    "             | beam.Map(lambda x: passthrough('grouped', x))\n",
    "            )"
   ]
  },
  {
   "cell_type": "code",
   "execution_count": null,
   "metadata": {
    "id": "9rm6a2W7hrs3"
   },
   "outputs": [],
   "source": []
  },
  {
   "cell_type": "code",
   "execution_count": null,
   "metadata": {
    "id": "3ituEBJzhrs5"
   },
   "outputs": [],
   "source": []
  },
  {
   "cell_type": "code",
   "execution_count": null,
   "metadata": {
    "id": "IqjIVuc1hrs8"
   },
   "outputs": [],
   "source": []
  },
  {
   "cell_type": "code",
   "execution_count": null,
   "metadata": {
    "id": "BFW9cwPMhrtA"
   },
   "outputs": [],
   "source": []
  },
  {
   "cell_type": "markdown",
   "metadata": {
    "id": "OkrvfvXohrtB"
   },
   "source": [
    "![Solution](https://urldefense.com/v3/__https://www.tensorflow.org/site-assets/images/marketing/learn/tfx-hero.svg__;!!PIZeeW5wscynRQ!55X7LkP-oqeRJ6UUmtPVv4vn3HLBOqlFNpBPTKq9j6A_FsUVIeCO-4RxzvhZF7w$ )"
   ]
  },
  {
   "cell_type": "markdown",
   "metadata": {
    "id": "euNLIh_ThrtC"
   },
   "source": [
    "**Solution**:"
   ]
  },
  {
   "cell_type": "code",
   "execution_count": null,
   "metadata": {
    "id": "K3_dXXXIiM1w"
   },
   "outputs": [],
   "source": [
    "with beam.Pipeline() as pipeline:\n",
    "  lines = (pipeline\n",
    "           | beam.Create(range(10 + 1))\n",
    "           | 'Number' >> beam.Map(lambda x: passthrough('Number:', x))\n",
    "           | beam.Map(lambda x: (\"odd\" if x % 2 else \"even\", x))\n",
    "           | 'Even/Odd' >> beam.Map(lambda x: passthrough('Even/Odd:', x))\n",
    "           | beam.GroupByKey()\n",
    "           | 'Groups' >> beam.Map(lambda x: passthrough('Group:', x)))"
   ]
  },
  {
   "cell_type": "markdown",
   "metadata": {
    "id": "bsFACrDYgZ9-"
   },
   "source": [
    "`CoGroupByKey` can combine multiple `PCollections`, assuming every element is a tuple whose first item is the key to join on."
   ]
  },
  {
   "cell_type": "code",
   "execution_count": 23,
   "metadata": {
    "id": "G3Mefr2d1fJa"
   },
   "outputs": [
    {
     "name": "stdout",
     "output_type": "stream",
     "text": [
      "fruits is a <class 'apache_beam.pvalue.PCollection'>\n",
      "countries is a <class 'apache_beam.pvalue.PCollection'>\n",
      "fruits_with_keys is a <class 'apache_beam.pvalue.PCollection'>\n",
      "countries_with_keys is a <class 'apache_beam.pvalue.PCollection'>\n",
      "fruitcountries: {'fruits': <PCollection[[23]: Fruit.None] at 0x7f4a2aa1e690>, 'countries': <PCollection[[23]: Country.None] at 0x7f4a2a9d9dd0>}\n",
      "\n",
      "Run the pipeline\n",
      "Fruit:: ('a', 'apple')\n",
      "Fruit:: ('b', 'banana')\n",
      "Fruit:: ('c', 'cherry')\n",
      "Country:: ('a', 'australia')\n",
      "Country:: ('b', 'brazil')\n",
      "Country:: ('b', 'belgium')\n",
      "Country:: ('c', 'canada')\n",
      "CoGrouped: ('a', {'fruits': ['apple'], 'countries': ['australia']})\n",
      "CoGrouped: ('b', {'fruits': ['banana'], 'countries': ['brazil', 'belgium']})\n",
      "CoGrouped: ('c', {'fruits': ['cherry'], 'countries': ['canada']})\n",
      "fruits_with_keys: [('a', 'apple'), ('b', 'banana'), ('c', 'cherry')]\n",
      "countries_with_keys: [('a', 'australia'), ('b', 'brazil'), ('b', 'belgium'), ('c', 'canada')]\n"
     ]
    },
    {
     "data": {
      "text/plain": [
       "'DONE'"
      ]
     },
     "execution_count": 23,
     "metadata": {},
     "output_type": "execute_result"
    }
   ],
   "source": [
    "pipeline = beam.Pipeline()\n",
    "\n",
    "# Create two PCollections\n",
    "fruits = pipeline | 'Fruits' >> beam.Create(['apple',\n",
    "                                             'banana',\n",
    "                                             'cherry'])\n",
    "print('fruits is a {}'.format(type(fruits)))\n",
    "\n",
    "countries = pipeline | 'Countries' >> beam.Create(['australia',\n",
    "                                                   'brazil',\n",
    "                                                   'belgium',\n",
    "                                                   'canada'])\n",
    "print('countries is a {}'.format(type(countries)))\n",
    "\n",
    "def add_key(word):\n",
    "    return (word[0], word)\n",
    "\n",
    "# Create PCollections of keyed tuples\n",
    "fruits_with_keys = (fruits | \"fruits_with_keys\" >> beam.Map(add_key)\n",
    "                          | 'Fruit' >> beam.Map(lambda x: passthrough('Fruit:', x)))\n",
    "countries_with_keys = (countries | \"countries_with_keys\" >> beam.Map(add_key)\n",
    "                          | 'Country' >> beam.Map(lambda x: passthrough('Country:', x)))\n",
    "fruitcountries = {\"fruits\": fruits_with_keys, \"countries\": countries_with_keys}\n",
    "\n",
    "# Print the PCollections\n",
    "print('fruits_with_keys is a {}'.format(type(fruits_with_keys)))\n",
    "_ = (fruits_with_keys | 'Print0' >> beam.combiners.ToList()\n",
    "  | beam.Map(lambda x: print('fruits_with_keys:', x)))\n",
    "\n",
    "print('countries_with_keys is a {}'.format(type(countries_with_keys)))\n",
    "_ = (countries_with_keys | 'Print1' >> beam.combiners.ToList()\n",
    "  | beam.Map(lambda x: print('countries_with_keys:', x)))\n",
    "\n",
    "print('fruitcountries: {}'.format(fruitcountries))\n",
    "\n",
    "(fruitcountries | beam.CoGroupByKey() | beam.Map(lambda x: print('CoGrouped:', x)))\n",
    "\n",
    "print('\\nRun the pipeline')\n",
    "pipeline.run().state # Try commenting out this line"
   ]
  },
  {
   "cell_type": "markdown",
   "metadata": {
    "id": "pLfHkghk3JGd"
   },
   "source": [
    "Try commenting out the last line, and notice that while a `PCollection` is created for the `CoGroupByKey` operation, the pipeline is not actually executed.\n",
    "\n",
    "Also try running the cell above a few times, and note how the order of the print statements changes."
   ]
  },
  {
   "cell_type": "markdown",
   "metadata": {
    "id": "LPi2bXuh5a9l"
   },
   "source": [
    "## [Combine](https://beam.apache.org/documentation/programming-guide/#combine)\n",
    "`Combine` is a transform for combining collections of elements or values. `Combine` has variants that work on entire `PCollections`, and some that combine the values for each key in `PCollections` of key/value pairs.\n",
    "\n",
    "To apply a `Combine` transform, you must provide the function that contains the logic for combining the elements or values. The combining function should be **commutative and associative**, as the function is not necessarily invoked exactly once on all values with a given key. Because the input data (including the value collection) **may be distributed across multiple workers**, the combining function might be called multiple times to perform partial combining on subsets of the value collection. The Beam SDK also provides some pre-built combine functions for common numeric combination operations such as `sum`, `min`, and `max`.\n",
    "\n",
    "Simple combine operations, such as sums, can usually be implemented as a simple function. More complex combination operations might require you to create a subclass of `CombineFn` that has an accumulation type distinct from the input/output type.\n",
    "\n",
    "Try it first with a sum."
   ]
  },
  {
   "cell_type": "code",
   "execution_count": 24,
   "metadata": {
    "id": "mWC8ywHC5KQ9"
   },
   "outputs": [
    {
     "name": "stdout",
     "output_type": "stream",
     "text": [
      "Number:: 1\n",
      "Number:: 2\n",
      "Number:: 3\n",
      "Number:: 4\n",
      "Number:: 5\n",
      "Sum:: 15\n"
     ]
    }
   ],
   "source": [
    "with beam.Pipeline() as pipeline:\n",
    "  lines = (pipeline\n",
    "           | beam.Create([1, 2, 3, 4, 5])\n",
    "           | 'Numbers' >> beam.Map(lambda x: passthrough('Number:', x))\n",
    "           | beam.CombineGlobally(sum)\n",
    "           | 'Sums' >> beam.Map(lambda x: passthrough('Sum:', x)))"
   ]
  },
  {
   "cell_type": "markdown",
   "metadata": {
    "id": "B9Jsahga-YSE"
   },
   "source": [
    "Now try calculating the mean using the pre-built combine function."
   ]
  },
  {
   "cell_type": "code",
   "execution_count": 25,
   "metadata": {
    "id": "DS58V5cd5pQH"
   },
   "outputs": [
    {
     "name": "stdout",
     "output_type": "stream",
     "text": [
      "Number:: 1\n",
      "Number:: 2\n",
      "Number:: 3\n",
      "Number:: 4\n",
      "Number:: 5\n",
      "Mean:: 3.0\n"
     ]
    }
   ],
   "source": [
    "with beam.Pipeline() as pipeline:\n",
    "  lines = (pipeline\n",
    "           | beam.Create([1, 2, 3, 4, 5])\n",
    "           | 'Numbers' >> beam.Map(lambda x: passthrough('Number:', x))\n",
    "           | beam.combiners.Mean.Globally()\n",
    "           | 'Means' >> beam.Map(lambda x: passthrough('Mean:', x)))"
   ]
  },
  {
   "cell_type": "markdown",
   "metadata": {
    "id": "m0yQwqUB-r8N"
   },
   "source": [
    "Now try creating a custom `CombineFn` to calculate the mean. Note the required concrete implementations."
   ]
  },
  {
   "cell_type": "code",
   "execution_count": 26,
   "metadata": {
    "id": "1R9zt-xX5h-Y"
   },
   "outputs": [
    {
     "name": "stdout",
     "output_type": "stream",
     "text": [
      "Number:: 1\n",
      "Number:: 2\n",
      "Number:: 3\n",
      "Number:: 4\n",
      "Number:: 5\n",
      "Mean:: 3.0\n"
     ]
    }
   ],
   "source": [
    "class AverageFn(beam.CombineFn):\n",
    "  def create_accumulator(self):\n",
    "    return (0.0, 0)\n",
    "  \n",
    "  def add_input(self, accumulator, input_):\n",
    "    total, count = accumulator\n",
    "    total += input_\n",
    "    count += 1\n",
    "    return (total, count)\n",
    "\n",
    "  def merge_accumulators(self, accumulators):\n",
    "    totals, counts = zip(*accumulators)\n",
    "    return sum(totals), sum(counts)\n",
    "\n",
    "  def extract_output(self, accumulator):\n",
    "    total, count = accumulator\n",
    "    return total / count if count else float(\"NaN\")\n",
    "\n",
    "with beam.Pipeline() as pipeline:\n",
    "  lines = (pipeline\n",
    "           | beam.Create([1, 2, 3, 4, 5])\n",
    "           | 'Numbers' >> beam.Map(lambda x: passthrough('Number:', x))\n",
    "           | beam.CombineGlobally(AverageFn())\n",
    "           | 'Means' >> beam.Map(lambda x: passthrough('Mean:', x)))"
   ]
  },
  {
   "cell_type": "markdown",
   "metadata": {
    "id": "a4VBhAcc_pt_"
   },
   "source": [
    "Now try a simple `Count` using the pre-built combine function. This one does a `PerElement` count."
   ]
  },
  {
   "cell_type": "code",
   "execution_count": 27,
   "metadata": {
    "id": "9N0So44g6_8M"
   },
   "outputs": [
    {
     "name": "stdout",
     "output_type": "stream",
     "text": [
      "Person:: bob\n",
      "Person:: alice\n",
      "Person:: alice\n",
      "Person:: bob\n",
      "Person:: charlie\n",
      "Person:: alice\n",
      "Count:: ('bob', 2)\n",
      "Count:: ('alice', 3)\n",
      "Count:: ('charlie', 1)\n"
     ]
    }
   ],
   "source": [
    "with beam.Pipeline() as pipeline:\n",
    "  lines = (pipeline\n",
    "           | beam.Create(['bob', 'alice', 'alice', 'bob', 'charlie', 'alice'])\n",
    "           | 'Persons' >> beam.Map(lambda x: passthrough('Person:', x))\n",
    "           | beam.combiners.Count.PerElement()\n",
    "           | 'Counts' >> beam.Map(lambda x: passthrough('Count:', x)))"
   ]
  },
  {
   "cell_type": "markdown",
   "metadata": {
    "id": "LI3BEiBIANHl"
   },
   "source": [
    "We can also create a count by using `CombinePerKey` with the Python `sum` function, using the people as keys."
   ]
  },
  {
   "cell_type": "code",
   "execution_count": 28,
   "metadata": {
    "id": "Vafplz7d56CF"
   },
   "outputs": [
    {
     "name": "stdout",
     "output_type": "stream",
     "text": [
      "Person:: bob\n",
      "Key:: ('bob', 1)\n",
      "Person:: alice\n",
      "Key:: ('alice', 1)\n",
      "Person:: alice\n",
      "Key:: ('alice', 1)\n",
      "Person:: bob\n",
      "Key:: ('bob', 1)\n",
      "Person:: charlie\n",
      "Key:: ('charlie', 1)\n",
      "Person:: alice\n",
      "Key:: ('alice', 1)\n",
      "Count:: ('bob', 2)\n",
      "Count:: ('alice', 3)\n",
      "Count:: ('charlie', 1)\n"
     ]
    }
   ],
   "source": [
    "with beam.Pipeline() as pipeline:\n",
    "  lines = (pipeline\n",
    "           | beam.Create(['bob', 'alice', 'alice', 'bob', 'charlie', 'alice'])\n",
    "           | 'Persons' >> beam.Map(lambda x: passthrough('Person:', x))\n",
    "           | beam.Map(lambda word: (word, 1))\n",
    "           | 'Keyed' >> beam.Map(lambda x: passthrough('Key:', x))\n",
    "           | beam.CombinePerKey(sum)\n",
    "           | 'Counts' >> beam.Map(lambda x: passthrough('Count:', x)))"
   ]
  },
  {
   "cell_type": "markdown",
   "metadata": {
    "id": "B6KyLL8wA4EO"
   },
   "source": [
    "Now try a simple `Count` using the pre-built combine function. This one does a count `Globally`."
   ]
  },
  {
   "cell_type": "code",
   "execution_count": 29,
   "metadata": {
    "id": "lswZZCAe6Th5"
   },
   "outputs": [
    {
     "name": "stdout",
     "output_type": "stream",
     "text": [
      "Person:: bob\n",
      "Person:: alice\n",
      "Person:: alice\n",
      "Person:: bob\n",
      "Person:: charlie\n",
      "Person:: alice\n",
      "Count:: 6\n"
     ]
    }
   ],
   "source": [
    "with beam.Pipeline() as pipeline:\n",
    "  lines = (pipeline\n",
    "           | beam.Create(['bob', 'alice', 'alice', 'bob', 'charlie', 'alice'])\n",
    "           | 'Persons' >> beam.Map(lambda x: passthrough('Person:', x))\n",
    "           | beam.combiners.Count.Globally()\n",
    "           | 'Counts' >> beam.Map(lambda x: passthrough('Count:', x)))"
   ]
  },
  {
   "cell_type": "markdown",
   "metadata": {
    "id": "tgoLTv8gi0WW"
   },
   "source": [
    "### Now You Try\n",
    "\n",
    "This is a good point to stop reading and try writing code yourself, as a way to help you learn.\n",
    "\n",
    "**Exercise 3 — Combine Items**\n",
    "\n",
    "1. Start with Beam pipeline you built in the previous exercise: it creates a `PCollection` containing integers 0 to 10, and labels them as odd or even.\n",
    "2. Add another step to make the pipeline compute the square of each number.\n",
    "3. Add a step that groups all of the odd or even numbers and computes the mean of each group (i.e., the mean of all odd numbers between 0 and 10, and the mean of all even numbers between 0 and 10). You can use the `AverageFn` that we created above."
   ]
  },
  {
   "cell_type": "code",
   "execution_count": 36,
   "metadata": {
    "id": "Cjw3Sqjci0Wd"
   },
   "outputs": [
    {
     "name": "stdout",
     "output_type": "stream",
     "text": [
      "Avg: (0, 36.666666666666664)\n",
      "Avg: (1, 33.0)\n"
     ]
    },
    {
     "data": {
      "image/svg+xml": [
       "<?xml version=\"1.0\" encoding=\"UTF-8\" standalone=\"no\"?>\n",
       "<!DOCTYPE svg PUBLIC \"-//W3C//DTD SVG 1.1//EN\"\n",
       " \"http://www.w3.org/Graphics/SVG/1.1/DTD/svg11.dtd\">\n",
       "<!-- Generated by graphviz version 2.42.3 (20191010.1750)\n",
       " -->\n",
       "<!-- Title: G Pages: 1 -->\n",
       "<svg width=\"144pt\" height=\"717pt\"\n",
       " viewBox=\"0.00 0.00 144.00 717.09\" xmlns=\"http://www.w3.org/2000/svg\" xmlns:xlink=\"http://www.w3.org/1999/xlink\">\n",
       "<g id=\"graph0\" class=\"graph\" transform=\"scale(1 1) rotate(0) translate(4 713.09)\">\n",
       "<title>G</title>\n",
       "<polygon fill=\"white\" stroke=\"transparent\" points=\"-4,4 -4,-713.09 140,-713.09 140,4 -4,4\"/>\n",
       "<!-- [36]: Create Array -->\n",
       "<g id=\"node1\" class=\"node\">\n",
       "<title>[36]: Create Array</title>\n",
       "<polygon fill=\"none\" stroke=\"blue\" points=\"126.5,-709.09 9.5,-709.09 9.5,-673.09 126.5,-673.09 126.5,-709.09\"/>\n",
       "<text text-anchor=\"middle\" x=\"68\" y=\"-687.39\" font-family=\"Times,serif\" font-size=\"14.00\" fill=\"blue\">[36]: Create Array</text>\n",
       "</g>\n",
       "<!-- pcoll9406 -->\n",
       "<g id=\"node2\" class=\"node\">\n",
       "<title>pcoll9406</title>\n",
       "<ellipse fill=\"none\" stroke=\"blue\" cx=\"68\" cy=\"-619.09\" rx=\"18\" ry=\"18\"/>\n",
       "</g>\n",
       "<!-- [36]: Create Array&#45;&gt;pcoll9406 -->\n",
       "<g id=\"edge1\" class=\"edge\">\n",
       "<title>[36]: Create Array&#45;&gt;pcoll9406</title>\n",
       "<path fill=\"none\" stroke=\"black\" d=\"M68,-672.79C68,-665.08 68,-655.81 68,-647.21\"/>\n",
       "<polygon fill=\"black\" stroke=\"black\" points=\"71.5,-647.2 68,-637.2 64.5,-647.2 71.5,-647.2\"/>\n",
       "</g>\n",
       "<!-- [36]: Square Element -->\n",
       "<g id=\"node3\" class=\"node\">\n",
       "<title>[36]: Square Element</title>\n",
       "<polygon fill=\"none\" stroke=\"blue\" points=\"135,-565.09 1,-565.09 1,-529.09 135,-529.09 135,-565.09\"/>\n",
       "<text text-anchor=\"middle\" x=\"68\" y=\"-543.39\" font-family=\"Times,serif\" font-size=\"14.00\" fill=\"blue\">[36]: Square Element</text>\n",
       "</g>\n",
       "<!-- pcoll9406&#45;&gt;[36]: Square Element -->\n",
       "<g id=\"edge2\" class=\"edge\">\n",
       "<title>pcoll9406&#45;&gt;[36]: Square Element</title>\n",
       "<path fill=\"none\" stroke=\"black\" d=\"M68,-600.79C68,-593.08 68,-583.81 68,-575.21\"/>\n",
       "<polygon fill=\"black\" stroke=\"black\" points=\"71.5,-575.2 68,-565.2 64.5,-575.2 71.5,-575.2\"/>\n",
       "</g>\n",
       "<!-- pcoll9529 -->\n",
       "<g id=\"node4\" class=\"node\">\n",
       "<title>pcoll9529</title>\n",
       "<ellipse fill=\"none\" stroke=\"blue\" cx=\"68\" cy=\"-475.09\" rx=\"18\" ry=\"18\"/>\n",
       "</g>\n",
       "<!-- [36]: Square Element&#45;&gt;pcoll9529 -->\n",
       "<g id=\"edge3\" class=\"edge\">\n",
       "<title>[36]: Square Element&#45;&gt;pcoll9529</title>\n",
       "<path fill=\"none\" stroke=\"black\" d=\"M68,-528.79C68,-521.08 68,-511.81 68,-503.21\"/>\n",
       "<polygon fill=\"black\" stroke=\"black\" points=\"71.5,-503.2 68,-493.2 64.5,-503.2 71.5,-503.2\"/>\n",
       "</g>\n",
       "<!-- [36]: Generate Key -->\n",
       "<g id=\"node5\" class=\"node\">\n",
       "<title>[36]: Generate Key</title>\n",
       "<polygon fill=\"none\" stroke=\"blue\" points=\"129,-421.09 7,-421.09 7,-385.09 129,-385.09 129,-421.09\"/>\n",
       "<text text-anchor=\"middle\" x=\"68\" y=\"-399.39\" font-family=\"Times,serif\" font-size=\"14.00\" fill=\"blue\">[36]: Generate Key</text>\n",
       "</g>\n",
       "<!-- pcoll9529&#45;&gt;[36]: Generate Key -->\n",
       "<g id=\"edge4\" class=\"edge\">\n",
       "<title>pcoll9529&#45;&gt;[36]: Generate Key</title>\n",
       "<path fill=\"none\" stroke=\"black\" d=\"M68,-456.79C68,-449.08 68,-439.81 68,-431.21\"/>\n",
       "<polygon fill=\"black\" stroke=\"black\" points=\"71.5,-431.2 68,-421.2 64.5,-431.2 71.5,-431.2\"/>\n",
       "</g>\n",
       "<!-- pcoll8599 -->\n",
       "<g id=\"node6\" class=\"node\">\n",
       "<title>pcoll8599</title>\n",
       "<ellipse fill=\"none\" stroke=\"blue\" cx=\"68\" cy=\"-331.09\" rx=\"18\" ry=\"18\"/>\n",
       "</g>\n",
       "<!-- [36]: Generate Key&#45;&gt;pcoll8599 -->\n",
       "<g id=\"edge5\" class=\"edge\">\n",
       "<title>[36]: Generate Key&#45;&gt;pcoll8599</title>\n",
       "<path fill=\"none\" stroke=\"black\" d=\"M68,-384.79C68,-377.08 68,-367.81 68,-359.21\"/>\n",
       "<polygon fill=\"black\" stroke=\"black\" points=\"71.5,-359.2 68,-349.2 64.5,-359.2 71.5,-359.2\"/>\n",
       "</g>\n",
       "<!-- [36]: Average by Key -->\n",
       "<g id=\"node7\" class=\"node\">\n",
       "<title>[36]: Average by Key</title>\n",
       "<polygon fill=\"none\" stroke=\"blue\" points=\"136,-277.09 0,-277.09 0,-241.09 136,-241.09 136,-277.09\"/>\n",
       "<text text-anchor=\"middle\" x=\"68\" y=\"-255.39\" font-family=\"Times,serif\" font-size=\"14.00\" fill=\"blue\">[36]: Average by Key</text>\n",
       "</g>\n",
       "<!-- pcoll8599&#45;&gt;[36]: Average by Key -->\n",
       "<g id=\"edge6\" class=\"edge\">\n",
       "<title>pcoll8599&#45;&gt;[36]: Average by Key</title>\n",
       "<path fill=\"none\" stroke=\"black\" d=\"M68,-312.79C68,-305.08 68,-295.81 68,-287.21\"/>\n",
       "<polygon fill=\"black\" stroke=\"black\" points=\"71.5,-287.2 68,-277.2 64.5,-287.2 71.5,-287.2\"/>\n",
       "</g>\n",
       "<!-- pcoll5476 -->\n",
       "<g id=\"node8\" class=\"node\">\n",
       "<title>pcoll5476</title>\n",
       "<ellipse fill=\"none\" stroke=\"blue\" cx=\"68\" cy=\"-187.09\" rx=\"18\" ry=\"18\"/>\n",
       "</g>\n",
       "<!-- [36]: Average by Key&#45;&gt;pcoll5476 -->\n",
       "<g id=\"edge7\" class=\"edge\">\n",
       "<title>[36]: Average by Key&#45;&gt;pcoll5476</title>\n",
       "<path fill=\"none\" stroke=\"black\" d=\"M68,-240.79C68,-233.08 68,-223.81 68,-215.21\"/>\n",
       "<polygon fill=\"black\" stroke=\"black\" points=\"71.5,-215.2 68,-205.2 64.5,-215.2 71.5,-215.2\"/>\n",
       "</g>\n",
       "<!-- [36]: Print -->\n",
       "<g id=\"node9\" class=\"node\">\n",
       "<title>[36]: Print</title>\n",
       "<polygon fill=\"none\" stroke=\"blue\" points=\"104.5,-133.09 31.5,-133.09 31.5,-97.09 104.5,-97.09 104.5,-133.09\"/>\n",
       "<text text-anchor=\"middle\" x=\"68\" y=\"-111.39\" font-family=\"Times,serif\" font-size=\"14.00\" fill=\"blue\">[36]: Print</text>\n",
       "</g>\n",
       "<!-- pcoll5476&#45;&gt;[36]: Print -->\n",
       "<g id=\"edge8\" class=\"edge\">\n",
       "<title>pcoll5476&#45;&gt;[36]: Print</title>\n",
       "<path fill=\"none\" stroke=\"black\" d=\"M68,-168.79C68,-161.08 68,-151.81 68,-143.21\"/>\n",
       "<polygon fill=\"black\" stroke=\"black\" points=\"71.5,-143.2 68,-133.2 64.5,-143.2 71.5,-143.2\"/>\n",
       "</g>\n",
       "<!-- result -->\n",
       "<g id=\"node10\" class=\"node\">\n",
       "<title>result</title>\n",
       "<ellipse fill=\"none\" stroke=\"blue\" cx=\"68\" cy=\"-30.55\" rx=\"30.59\" ry=\"30.59\"/>\n",
       "<text text-anchor=\"middle\" x=\"68\" y=\"-26.85\" font-family=\"Times,serif\" font-size=\"14.00\" fill=\"blue\">result</text>\n",
       "</g>\n",
       "<!-- [36]: Print&#45;&gt;result -->\n",
       "<g id=\"edge9\" class=\"edge\">\n",
       "<title>[36]: Print&#45;&gt;result</title>\n",
       "<path fill=\"none\" stroke=\"black\" d=\"M68,-96.99C68,-89.51 68,-80.4 68,-71.37\"/>\n",
       "<polygon fill=\"black\" stroke=\"black\" points=\"71.5,-71.32 68,-61.32 64.5,-71.32 71.5,-71.32\"/>\n",
       "</g>\n",
       "</g>\n",
       "</svg>\n"
      ],
      "text/plain": [
       "<graphviz.files.Source at 0x7f4a246e1a10>"
      ]
     },
     "execution_count": 36,
     "metadata": {},
     "output_type": "execute_result"
    }
   ],
   "source": [
    "with beam.Pipeline() as pipeline:\n",
    "    result = (\n",
    "        pipeline\n",
    "        | 'Create Array' >> beam.Create(range(11))\n",
    "        | 'Square Element' >> beam.Map(lambda x: x**2)\n",
    "        | 'Generate Key' >> beam.Map(lambda x: (x%2, x))\n",
    "        | 'Average by Key' >> beam.CombinePerKey(AverageFn())\n",
    "        | 'Print' >> beam.Map(lambda x: passthrough('Avg', x))\n",
    "    )\n",
    "# 0 2 4 6 8 10\n",
    "# 1 3 5 7 9\n",
    "display_pipeline(pipeline)"
   ]
  },
  {
   "cell_type": "code",
   "execution_count": null,
   "metadata": {
    "id": "AalDelXSi0Wh"
   },
   "outputs": [],
   "source": []
  },
  {
   "cell_type": "code",
   "execution_count": null,
   "metadata": {
    "id": "EPb9-f9Ri0Wj"
   },
   "outputs": [],
   "source": []
  },
  {
   "cell_type": "code",
   "execution_count": null,
   "metadata": {
    "id": "LQ3EL2QFi0Wl"
   },
   "outputs": [],
   "source": []
  },
  {
   "cell_type": "code",
   "execution_count": null,
   "metadata": {
    "id": "pgbf6O42i0Wo"
   },
   "outputs": [],
   "source": []
  },
  {
   "cell_type": "markdown",
   "metadata": {
    "id": "6SzSYQ2ei0Wp"
   },
   "source": [
    "![Solution](https://urldefense.com/v3/__https://www.tensorflow.org/site-assets/images/marketing/learn/tfx-hero.svg__;!!PIZeeW5wscynRQ!55X7LkP-oqeRJ6UUmtPVv4vn3HLBOqlFNpBPTKq9j6A_FsUVIeCO-4RxzvhZF7w$ )"
   ]
  },
  {
   "cell_type": "markdown",
   "metadata": {
    "id": "qMYzcG46i0Wq"
   },
   "source": [
    "**Solution**:"
   ]
  },
  {
   "cell_type": "code",
   "execution_count": 34,
   "metadata": {
    "id": "KSOWJXA_jt1r"
   },
   "outputs": [
    {
     "name": "stdout",
     "output_type": "stream",
     "text": [
      "Number:: 0\n",
      "OddEven:: ('even', 0)\n",
      "Squared:: ('even', 0)\n",
      "Number:: 1\n",
      "OddEven:: ('odd', 1)\n",
      "Squared:: ('odd', 1)\n",
      "Number:: 2\n",
      "OddEven:: ('even', 2)\n",
      "Squared:: ('even', 4)\n",
      "Number:: 3\n",
      "OddEven:: ('odd', 3)\n",
      "Squared:: ('odd', 9)\n",
      "Number:: 4\n",
      "OddEven:: ('even', 4)\n",
      "Squared:: ('even', 16)\n",
      "Number:: 5\n",
      "OddEven:: ('odd', 5)\n",
      "Squared:: ('odd', 25)\n",
      "Number:: 6\n",
      "OddEven:: ('even', 6)\n",
      "Squared:: ('even', 36)\n",
      "Number:: 7\n",
      "OddEven:: ('odd', 7)\n",
      "Squared:: ('odd', 49)\n",
      "Number:: 8\n",
      "OddEven:: ('even', 8)\n",
      "Squared:: ('even', 64)\n",
      "Number:: 9\n",
      "OddEven:: ('odd', 9)\n",
      "Squared:: ('odd', 81)\n",
      "Number:: 10\n",
      "OddEven:: ('even', 10)\n",
      "Squared:: ('even', 100)\n",
      "Mean:: ('even', 36.666666666666664)\n",
      "Mean:: ('odd', 33.0)\n"
     ]
    },
    {
     "data": {
      "image/svg+xml": [
       "<?xml version=\"1.0\" encoding=\"UTF-8\" standalone=\"no\"?>\n",
       "<!DOCTYPE svg PUBLIC \"-//W3C//DTD SVG 1.1//EN\"\n",
       " \"http://www.w3.org/Graphics/SVG/1.1/DTD/svg11.dtd\">\n",
       "<!-- Generated by graphviz version 2.42.3 (20191010.1750)\n",
       " -->\n",
       "<!-- Title: G Pages: 1 -->\n",
       "<svg width=\"146pt\" height=\"1143pt\"\n",
       " viewBox=\"0.00 0.00 146.00 1142.60\" xmlns=\"http://www.w3.org/2000/svg\" xmlns:xlink=\"http://www.w3.org/1999/xlink\">\n",
       "<g id=\"graph0\" class=\"graph\" transform=\"scale(1 1) rotate(0) translate(4 1138.6)\">\n",
       "<title>G</title>\n",
       "<polygon fill=\"white\" stroke=\"transparent\" points=\"-4,4 -4,-1138.6 142,-1138.6 142,4 -4,4\"/>\n",
       "<!-- [34]: Create -->\n",
       "<g id=\"node1\" class=\"node\">\n",
       "<title>[34]: Create</title>\n",
       "<polygon fill=\"none\" stroke=\"blue\" points=\"110,-1134.6 28,-1134.6 28,-1098.6 110,-1098.6 110,-1134.6\"/>\n",
       "<text text-anchor=\"middle\" x=\"69\" y=\"-1112.9\" font-family=\"Times,serif\" font-size=\"14.00\" fill=\"blue\">[34]: Create</text>\n",
       "</g>\n",
       "<!-- pcoll9406 -->\n",
       "<g id=\"node2\" class=\"node\">\n",
       "<title>pcoll9406</title>\n",
       "<ellipse fill=\"none\" stroke=\"blue\" cx=\"69\" cy=\"-1044.6\" rx=\"18\" ry=\"18\"/>\n",
       "</g>\n",
       "<!-- [34]: Create&#45;&gt;pcoll9406 -->\n",
       "<g id=\"edge1\" class=\"edge\">\n",
       "<title>[34]: Create&#45;&gt;pcoll9406</title>\n",
       "<path fill=\"none\" stroke=\"black\" d=\"M69,-1098.29C69,-1090.58 69,-1081.31 69,-1072.71\"/>\n",
       "<polygon fill=\"black\" stroke=\"black\" points=\"72.5,-1072.7 69,-1062.7 65.5,-1072.7 72.5,-1072.7\"/>\n",
       "</g>\n",
       "<!-- [34]: Numbers -->\n",
       "<g id=\"node3\" class=\"node\">\n",
       "<title>[34]: Numbers</title>\n",
       "<polygon fill=\"none\" stroke=\"blue\" points=\"117.5,-990.6 20.5,-990.6 20.5,-954.6 117.5,-954.6 117.5,-990.6\"/>\n",
       "<text text-anchor=\"middle\" x=\"69\" y=\"-968.9\" font-family=\"Times,serif\" font-size=\"14.00\" fill=\"blue\">[34]: Numbers</text>\n",
       "</g>\n",
       "<!-- pcoll9406&#45;&gt;[34]: Numbers -->\n",
       "<g id=\"edge2\" class=\"edge\">\n",
       "<title>pcoll9406&#45;&gt;[34]: Numbers</title>\n",
       "<path fill=\"none\" stroke=\"black\" d=\"M69,-1026.29C69,-1018.58 69,-1009.31 69,-1000.71\"/>\n",
       "<polygon fill=\"black\" stroke=\"black\" points=\"72.5,-1000.7 69,-990.7 65.5,-1000.7 72.5,-1000.7\"/>\n",
       "</g>\n",
       "<!-- pcoll9529 -->\n",
       "<g id=\"node4\" class=\"node\">\n",
       "<title>pcoll9529</title>\n",
       "<ellipse fill=\"none\" stroke=\"blue\" cx=\"69\" cy=\"-900.6\" rx=\"18\" ry=\"18\"/>\n",
       "</g>\n",
       "<!-- [34]: Numbers&#45;&gt;pcoll9529 -->\n",
       "<g id=\"edge3\" class=\"edge\">\n",
       "<title>[34]: Numbers&#45;&gt;pcoll9529</title>\n",
       "<path fill=\"none\" stroke=\"black\" d=\"M69,-954.29C69,-946.58 69,-937.31 69,-928.71\"/>\n",
       "<polygon fill=\"black\" stroke=\"black\" points=\"72.5,-928.7 69,-918.7 65.5,-928.7 72.5,-928.7\"/>\n",
       "</g>\n",
       "<!-- [34]: Label OddEven -->\n",
       "<g id=\"node5\" class=\"node\">\n",
       "<title>[34]: Label OddEven</title>\n",
       "<polygon fill=\"none\" stroke=\"blue\" points=\"135,-846.6 3,-846.6 3,-810.6 135,-810.6 135,-846.6\"/>\n",
       "<text text-anchor=\"middle\" x=\"69\" y=\"-824.9\" font-family=\"Times,serif\" font-size=\"14.00\" fill=\"blue\">[34]: Label OddEven</text>\n",
       "</g>\n",
       "<!-- pcoll9529&#45;&gt;[34]: Label OddEven -->\n",
       "<g id=\"edge4\" class=\"edge\">\n",
       "<title>pcoll9529&#45;&gt;[34]: Label OddEven</title>\n",
       "<path fill=\"none\" stroke=\"black\" d=\"M69,-882.29C69,-874.58 69,-865.31 69,-856.71\"/>\n",
       "<polygon fill=\"black\" stroke=\"black\" points=\"72.5,-856.7 69,-846.7 65.5,-856.7 72.5,-856.7\"/>\n",
       "</g>\n",
       "<!-- pcoll8599 -->\n",
       "<g id=\"node6\" class=\"node\">\n",
       "<title>pcoll8599</title>\n",
       "<ellipse fill=\"none\" stroke=\"blue\" cx=\"69\" cy=\"-756.6\" rx=\"18\" ry=\"18\"/>\n",
       "</g>\n",
       "<!-- [34]: Label OddEven&#45;&gt;pcoll8599 -->\n",
       "<g id=\"edge5\" class=\"edge\">\n",
       "<title>[34]: Label OddEven&#45;&gt;pcoll8599</title>\n",
       "<path fill=\"none\" stroke=\"black\" d=\"M69,-810.29C69,-802.58 69,-793.31 69,-784.71\"/>\n",
       "<polygon fill=\"black\" stroke=\"black\" points=\"72.5,-784.7 69,-774.7 65.5,-784.7 72.5,-784.7\"/>\n",
       "</g>\n",
       "<!-- [34]: Print OddEven -->\n",
       "<g id=\"node7\" class=\"node\">\n",
       "<title>[34]: Print OddEven</title>\n",
       "<polygon fill=\"none\" stroke=\"blue\" points=\"133,-702.6 5,-702.6 5,-666.6 133,-666.6 133,-702.6\"/>\n",
       "<text text-anchor=\"middle\" x=\"69\" y=\"-680.9\" font-family=\"Times,serif\" font-size=\"14.00\" fill=\"blue\">[34]: Print OddEven</text>\n",
       "</g>\n",
       "<!-- pcoll8599&#45;&gt;[34]: Print OddEven -->\n",
       "<g id=\"edge6\" class=\"edge\">\n",
       "<title>pcoll8599&#45;&gt;[34]: Print OddEven</title>\n",
       "<path fill=\"none\" stroke=\"black\" d=\"M69,-738.29C69,-730.58 69,-721.31 69,-712.71\"/>\n",
       "<polygon fill=\"black\" stroke=\"black\" points=\"72.5,-712.7 69,-702.7 65.5,-712.7 72.5,-712.7\"/>\n",
       "</g>\n",
       "<!-- pcoll3332 -->\n",
       "<g id=\"node8\" class=\"node\">\n",
       "<title>pcoll3332</title>\n",
       "<ellipse fill=\"none\" stroke=\"blue\" cx=\"69\" cy=\"-612.6\" rx=\"18\" ry=\"18\"/>\n",
       "</g>\n",
       "<!-- [34]: Print OddEven&#45;&gt;pcoll3332 -->\n",
       "<g id=\"edge7\" class=\"edge\">\n",
       "<title>[34]: Print OddEven&#45;&gt;pcoll3332</title>\n",
       "<path fill=\"none\" stroke=\"black\" d=\"M69,-666.29C69,-658.58 69,-649.31 69,-640.71\"/>\n",
       "<polygon fill=\"black\" stroke=\"black\" points=\"72.5,-640.7 69,-630.7 65.5,-640.7 72.5,-640.7\"/>\n",
       "</g>\n",
       "<!-- [34]: Square -->\n",
       "<g id=\"node9\" class=\"node\">\n",
       "<title>[34]: Square</title>\n",
       "<polygon fill=\"none\" stroke=\"blue\" points=\"111,-558.6 27,-558.6 27,-522.6 111,-522.6 111,-558.6\"/>\n",
       "<text text-anchor=\"middle\" x=\"69\" y=\"-536.9\" font-family=\"Times,serif\" font-size=\"14.00\" fill=\"blue\">[34]: Square</text>\n",
       "</g>\n",
       "<!-- pcoll3332&#45;&gt;[34]: Square -->\n",
       "<g id=\"edge8\" class=\"edge\">\n",
       "<title>pcoll3332&#45;&gt;[34]: Square</title>\n",
       "<path fill=\"none\" stroke=\"black\" d=\"M69,-594.29C69,-586.58 69,-577.31 69,-568.71\"/>\n",
       "<polygon fill=\"black\" stroke=\"black\" points=\"72.5,-568.7 69,-558.7 65.5,-568.7 72.5,-568.7\"/>\n",
       "</g>\n",
       "<!-- pcoll5476 -->\n",
       "<g id=\"node10\" class=\"node\">\n",
       "<title>pcoll5476</title>\n",
       "<ellipse fill=\"none\" stroke=\"blue\" cx=\"69\" cy=\"-468.6\" rx=\"18\" ry=\"18\"/>\n",
       "</g>\n",
       "<!-- [34]: Square&#45;&gt;pcoll5476 -->\n",
       "<g id=\"edge9\" class=\"edge\">\n",
       "<title>[34]: Square&#45;&gt;pcoll5476</title>\n",
       "<path fill=\"none\" stroke=\"black\" d=\"M69,-522.29C69,-514.58 69,-505.31 69,-496.71\"/>\n",
       "<polygon fill=\"black\" stroke=\"black\" points=\"72.5,-496.7 69,-486.7 65.5,-496.7 72.5,-496.7\"/>\n",
       "</g>\n",
       "<!-- [34]: Print Squares -->\n",
       "<g id=\"node11\" class=\"node\">\n",
       "<title>[34]: Print Squares</title>\n",
       "<polygon fill=\"none\" stroke=\"blue\" points=\"128.5,-414.6 9.5,-414.6 9.5,-378.6 128.5,-378.6 128.5,-414.6\"/>\n",
       "<text text-anchor=\"middle\" x=\"69\" y=\"-392.9\" font-family=\"Times,serif\" font-size=\"14.00\" fill=\"blue\">[34]: Print Squares</text>\n",
       "</g>\n",
       "<!-- pcoll5476&#45;&gt;[34]: Print Squares -->\n",
       "<g id=\"edge10\" class=\"edge\">\n",
       "<title>pcoll5476&#45;&gt;[34]: Print Squares</title>\n",
       "<path fill=\"none\" stroke=\"black\" d=\"M69,-450.29C69,-442.58 69,-433.31 69,-424.71\"/>\n",
       "<polygon fill=\"black\" stroke=\"black\" points=\"72.5,-424.7 69,-414.7 65.5,-424.7 72.5,-424.7\"/>\n",
       "</g>\n",
       "<!-- pcoll4855 -->\n",
       "<g id=\"node12\" class=\"node\">\n",
       "<title>pcoll4855</title>\n",
       "<ellipse fill=\"none\" stroke=\"blue\" cx=\"69\" cy=\"-324.6\" rx=\"18\" ry=\"18\"/>\n",
       "</g>\n",
       "<!-- [34]: Print Squares&#45;&gt;pcoll4855 -->\n",
       "<g id=\"edge11\" class=\"edge\">\n",
       "<title>[34]: Print Squares&#45;&gt;pcoll4855</title>\n",
       "<path fill=\"none\" stroke=\"black\" d=\"M69,-378.29C69,-370.58 69,-361.31 69,-352.71\"/>\n",
       "<polygon fill=\"black\" stroke=\"black\" points=\"72.5,-352.7 69,-342.7 65.5,-352.7 72.5,-352.7\"/>\n",
       "</g>\n",
       "<!-- [34]: Calculate Means -->\n",
       "<g id=\"node13\" class=\"node\">\n",
       "<title>[34]: Calculate Means</title>\n",
       "<polygon fill=\"none\" stroke=\"blue\" points=\"138,-270.6 0,-270.6 0,-234.6 138,-234.6 138,-270.6\"/>\n",
       "<text text-anchor=\"middle\" x=\"69\" y=\"-248.9\" font-family=\"Times,serif\" font-size=\"14.00\" fill=\"blue\">[34]: Calculate Means</text>\n",
       "</g>\n",
       "<!-- pcoll4855&#45;&gt;[34]: Calculate Means -->\n",
       "<g id=\"edge12\" class=\"edge\">\n",
       "<title>pcoll4855&#45;&gt;[34]: Calculate Means</title>\n",
       "<path fill=\"none\" stroke=\"black\" d=\"M69,-306.29C69,-298.58 69,-289.31 69,-280.71\"/>\n",
       "<polygon fill=\"black\" stroke=\"black\" points=\"72.5,-280.7 69,-270.7 65.5,-280.7 72.5,-280.7\"/>\n",
       "</g>\n",
       "<!-- pcoll5598 -->\n",
       "<g id=\"node14\" class=\"node\">\n",
       "<title>pcoll5598</title>\n",
       "<ellipse fill=\"none\" stroke=\"blue\" cx=\"69\" cy=\"-180.6\" rx=\"18\" ry=\"18\"/>\n",
       "</g>\n",
       "<!-- [34]: Calculate Means&#45;&gt;pcoll5598 -->\n",
       "<g id=\"edge13\" class=\"edge\">\n",
       "<title>[34]: Calculate Means&#45;&gt;pcoll5598</title>\n",
       "<path fill=\"none\" stroke=\"black\" d=\"M69,-234.29C69,-226.58 69,-217.31 69,-208.71\"/>\n",
       "<polygon fill=\"black\" stroke=\"black\" points=\"72.5,-208.7 69,-198.7 65.5,-208.7 72.5,-208.7\"/>\n",
       "</g>\n",
       "<!-- [34]: Print Means -->\n",
       "<g id=\"node15\" class=\"node\">\n",
       "<title>[34]: Print Means</title>\n",
       "<polygon fill=\"none\" stroke=\"blue\" points=\"125.5,-126.6 12.5,-126.6 12.5,-90.6 125.5,-90.6 125.5,-126.6\"/>\n",
       "<text text-anchor=\"middle\" x=\"69\" y=\"-104.9\" font-family=\"Times,serif\" font-size=\"14.00\" fill=\"blue\">[34]: Print Means</text>\n",
       "</g>\n",
       "<!-- pcoll5598&#45;&gt;[34]: Print Means -->\n",
       "<g id=\"edge14\" class=\"edge\">\n",
       "<title>pcoll5598&#45;&gt;[34]: Print Means</title>\n",
       "<path fill=\"none\" stroke=\"black\" d=\"M69,-162.29C69,-154.58 69,-145.31 69,-136.71\"/>\n",
       "<polygon fill=\"black\" stroke=\"black\" points=\"72.5,-136.7 69,-126.7 65.5,-136.7 72.5,-136.7\"/>\n",
       "</g>\n",
       "<!-- lines -->\n",
       "<g id=\"node16\" class=\"node\">\n",
       "<title>lines</title>\n",
       "<ellipse fill=\"none\" stroke=\"blue\" cx=\"69\" cy=\"-27.3\" rx=\"27.1\" ry=\"27.1\"/>\n",
       "<text text-anchor=\"middle\" x=\"69\" y=\"-23.6\" font-family=\"Times,serif\" font-size=\"14.00\" fill=\"blue\">lines</text>\n",
       "</g>\n",
       "<!-- [34]: Print Means&#45;&gt;lines -->\n",
       "<g id=\"edge15\" class=\"edge\">\n",
       "<title>[34]: Print Means&#45;&gt;lines</title>\n",
       "<path fill=\"none\" stroke=\"black\" d=\"M69,-90.39C69,-82.92 69,-73.88 69,-65.03\"/>\n",
       "<polygon fill=\"black\" stroke=\"black\" points=\"72.5,-64.83 69,-54.83 65.5,-64.83 72.5,-64.83\"/>\n",
       "</g>\n",
       "</g>\n",
       "</svg>\n"
      ],
      "text/plain": [
       "<graphviz.files.Source at 0x7f4a2687da50>"
      ]
     },
     "execution_count": 34,
     "metadata": {},
     "output_type": "execute_result"
    }
   ],
   "source": [
    "with beam.Pipeline() as pipeline:\n",
    "  lines = (pipeline\n",
    "           | beam.Create(range(10 + 1))\n",
    "           | 'Numbers' >> beam.Map(lambda x: passthrough('Number:', x))\n",
    "           | 'Label OddEven' >> beam.Map(lambda x: (\"odd\" if x % 2 else \"even\", x))\n",
    "           | 'Print OddEven' >> beam.Map(lambda x: passthrough('OddEven:', x))\n",
    "           | 'Square' >> beam.Map(lambda x: (x[0], x[1] ** 2))\n",
    "           | 'Print Squares' >> beam.Map(lambda x: passthrough('Squared:', x))\n",
    "           | 'Calculate Means' >> beam.CombinePerKey(AverageFn())\n",
    "           | 'Print Means' >> beam.Map(lambda x: passthrough('Mean:', x)))\n",
    "\n",
    "display_pipeline(pipeline)"
   ]
  },
  {
   "cell_type": "markdown",
   "metadata": {
    "id": "n-SEoKnd8cea"
   },
   "source": [
    "## [Flatten](https://beam.apache.org/documentation/programming-guide/#flatten)\n",
    "`Flatten` is a transform for `PCollection` objects that store **the same data type**. `Flatten` merges multiple `PCollection` objects into a single logical `PCollection`.\n",
    "\n",
    "#### Data encoding in merged collections\n",
    "By default, the coder for the output `PCollection` is the same as the coder for the first `PCollection` in the input `PCollectionList`. However, the input `PCollection` objects can each use different coders, **as long as they all contain the same data type** in your chosen language.\n",
    "\n",
    "#### Merging windowed collections\n",
    "When using `Flatten` to merge `PCollection` objects that have a windowing strategy applied, all of the `PCollection` objects you want to merge must use a compatible windowing strategy and window sizing. For example, all the collections you're merging must all use (hypothetically) identical 5-minute fixed windows or 4-minute sliding windows starting every 30 seconds.\n",
    "\n",
    "If your pipeline attempts to use `Flatten` to merge `PCollection` objects with incompatible windows, Beam generates an `IllegalStateException` error when your pipeline is constructed."
   ]
  },
  {
   "cell_type": "code",
   "execution_count": 37,
   "metadata": {
    "id": "0BVhknBM7Frz"
   },
   "outputs": [
    {
     "name": "stdout",
     "output_type": "stream",
     "text": [
      "result:: ['ball', 'book', 'bow', 'apple', 'ant', 'arrow']\n",
      "wordsStartingWithA:: ['apple', 'ant', 'arrow']\n",
      "wordsStartingWithB:: ['ball', 'book', 'bow']\n"
     ]
    },
    {
     "data": {
      "image/svg+xml": [
       "<?xml version=\"1.0\" encoding=\"UTF-8\" standalone=\"no\"?>\n",
       "<!DOCTYPE svg PUBLIC \"-//W3C//DTD SVG 1.1//EN\"\n",
       " \"http://www.w3.org/Graphics/SVG/1.1/DTD/svg11.dtd\">\n",
       "<!-- Generated by graphviz version 2.42.3 (20191010.1750)\n",
       " -->\n",
       "<!-- Title: G Pages: 1 -->\n",
       "<svg width=\"372pt\" height=\"706pt\"\n",
       " viewBox=\"0.00 0.00 371.50 706.08\" xmlns=\"http://www.w3.org/2000/svg\" xmlns:xlink=\"http://www.w3.org/1999/xlink\">\n",
       "<g id=\"graph0\" class=\"graph\" transform=\"scale(1 1) rotate(0) translate(4 702.08)\">\n",
       "<title>G</title>\n",
       "<polygon fill=\"white\" stroke=\"transparent\" points=\"-4,4 -4,-702.08 367.5,-702.08 367.5,4 -4,4\"/>\n",
       "<!-- [37]: Words starting with A -->\n",
       "<g id=\"node1\" class=\"node\">\n",
       "<title>[37]: Words starting with A</title>\n",
       "<polygon fill=\"none\" stroke=\"blue\" points=\"169,-698.08 0,-698.08 0,-662.08 169,-662.08 169,-698.08\"/>\n",
       "<text text-anchor=\"middle\" x=\"84.5\" y=\"-676.38\" font-family=\"Times,serif\" font-size=\"14.00\" fill=\"blue\">[37]: Words starting with A</text>\n",
       "</g>\n",
       "<!-- wordsStartingWithA -->\n",
       "<g id=\"node2\" class=\"node\">\n",
       "<title>wordsStartingWithA</title>\n",
       "<ellipse fill=\"none\" stroke=\"blue\" cx=\"84.5\" cy=\"-541.59\" rx=\"84.49\" ry=\"84.49\"/>\n",
       "<text text-anchor=\"middle\" x=\"84.5\" y=\"-537.89\" font-family=\"Times,serif\" font-size=\"14.00\" fill=\"blue\">wordsStartingWithA</text>\n",
       "</g>\n",
       "<!-- [37]: Words starting with A&#45;&gt;wordsStartingWithA -->\n",
       "<g id=\"edge1\" class=\"edge\">\n",
       "<title>[37]: Words starting with A&#45;&gt;wordsStartingWithA</title>\n",
       "<path fill=\"none\" stroke=\"black\" d=\"M84.5,-662.07C84.5,-654.89 84.5,-645.92 84.5,-636.15\"/>\n",
       "<polygon fill=\"black\" stroke=\"black\" points=\"88,-636.14 84.5,-626.14 81,-636.14 88,-636.14\"/>\n",
       "</g>\n",
       "<!-- [37]: Flatten -->\n",
       "<g id=\"node5\" class=\"node\">\n",
       "<title>[37]: Flatten</title>\n",
       "<polygon fill=\"none\" stroke=\"blue\" points=\"219.5,-421.09 135.5,-421.09 135.5,-385.09 219.5,-385.09 219.5,-421.09\"/>\n",
       "<text text-anchor=\"middle\" x=\"177.5\" y=\"-399.39\" font-family=\"Times,serif\" font-size=\"14.00\" fill=\"blue\">[37]: Flatten</text>\n",
       "</g>\n",
       "<!-- wordsStartingWithA&#45;&gt;[37]: Flatten -->\n",
       "<g id=\"edge2\" class=\"edge\">\n",
       "<title>wordsStartingWithA&#45;&gt;[37]: Flatten</title>\n",
       "<path fill=\"none\" stroke=\"black\" d=\"M131.82,-471.14C141.9,-456.34 151.93,-441.62 160.02,-429.75\"/>\n",
       "<polygon fill=\"black\" stroke=\"black\" points=\"163.05,-431.52 165.79,-421.29 157.26,-427.58 163.05,-431.52\"/>\n",
       "</g>\n",
       "<!-- [37]: PrintListA -->\n",
       "<g id=\"node7\" class=\"node\">\n",
       "<title>[37]: PrintListA</title>\n",
       "<polygon fill=\"none\" stroke=\"blue\" points=\"117.5,-421.09 13.5,-421.09 13.5,-385.09 117.5,-385.09 117.5,-421.09\"/>\n",
       "<text text-anchor=\"middle\" x=\"65.5\" y=\"-399.39\" font-family=\"Times,serif\" font-size=\"14.00\" fill=\"blue\">[37]: PrintListA</text>\n",
       "</g>\n",
       "<!-- wordsStartingWithA&#45;&gt;[37]: PrintListA -->\n",
       "<g id=\"edge3\" class=\"edge\">\n",
       "<title>wordsStartingWithA&#45;&gt;[37]: PrintListA</title>\n",
       "<path fill=\"none\" stroke=\"black\" d=\"M72.95,-457.65C71.65,-448.28 70.4,-439.31 69.31,-431.47\"/>\n",
       "<polygon fill=\"black\" stroke=\"black\" points=\"72.78,-430.98 67.93,-421.56 65.84,-431.94 72.78,-430.98\"/>\n",
       "</g>\n",
       "<!-- [37]: Words starting with B -->\n",
       "<g id=\"node3\" class=\"node\">\n",
       "<title>[37]: Words starting with B</title>\n",
       "<polygon fill=\"none\" stroke=\"blue\" points=\"363.5,-698.08 195.5,-698.08 195.5,-662.08 363.5,-662.08 363.5,-698.08\"/>\n",
       "<text text-anchor=\"middle\" x=\"279.5\" y=\"-676.38\" font-family=\"Times,serif\" font-size=\"14.00\" fill=\"blue\">[37]: Words starting with B</text>\n",
       "</g>\n",
       "<!-- wordsStartingWithB -->\n",
       "<g id=\"node4\" class=\"node\">\n",
       "<title>wordsStartingWithB</title>\n",
       "<ellipse fill=\"none\" stroke=\"blue\" cx=\"279.5\" cy=\"-541.59\" rx=\"83.69\" ry=\"83.69\"/>\n",
       "<text text-anchor=\"middle\" x=\"279.5\" y=\"-537.89\" font-family=\"Times,serif\" font-size=\"14.00\" fill=\"blue\">wordsStartingWithB</text>\n",
       "</g>\n",
       "<!-- [37]: Words starting with B&#45;&gt;wordsStartingWithB -->\n",
       "<g id=\"edge4\" class=\"edge\">\n",
       "<title>[37]: Words starting with B&#45;&gt;wordsStartingWithB</title>\n",
       "<path fill=\"none\" stroke=\"black\" d=\"M279.5,-662.07C279.5,-654.78 279.5,-645.65 279.5,-635.71\"/>\n",
       "<polygon fill=\"black\" stroke=\"black\" points=\"283,-635.53 279.5,-625.53 276,-635.53 283,-635.53\"/>\n",
       "</g>\n",
       "<!-- wordsStartingWithB&#45;&gt;[37]: Flatten -->\n",
       "<g id=\"edge5\" class=\"edge\">\n",
       "<title>wordsStartingWithB&#45;&gt;[37]: Flatten</title>\n",
       "<path fill=\"none\" stroke=\"black\" d=\"M229.7,-473.94C217.86,-458.11 205.94,-442.16 196.49,-429.5\"/>\n",
       "<polygon fill=\"black\" stroke=\"black\" points=\"199.16,-427.23 190.37,-421.31 193.55,-431.42 199.16,-427.23\"/>\n",
       "</g>\n",
       "<!-- [37]: PrintListB -->\n",
       "<g id=\"node11\" class=\"node\">\n",
       "<title>[37]: PrintListB</title>\n",
       "<polygon fill=\"none\" stroke=\"blue\" points=\"341,-421.09 238,-421.09 238,-385.09 341,-385.09 341,-421.09\"/>\n",
       "<text text-anchor=\"middle\" x=\"289.5\" y=\"-399.39\" font-family=\"Times,serif\" font-size=\"14.00\" fill=\"blue\">[37]: PrintListB</text>\n",
       "</g>\n",
       "<!-- wordsStartingWithB&#45;&gt;[37]: PrintListB -->\n",
       "<g id=\"edge6\" class=\"edge\">\n",
       "<title>wordsStartingWithB&#45;&gt;[37]: PrintListB</title>\n",
       "<path fill=\"none\" stroke=\"black\" d=\"M285.58,-457.65C286.25,-448.39 286.91,-439.51 287.47,-431.74\"/>\n",
       "<polygon fill=\"black\" stroke=\"black\" points=\"290.98,-431.79 288.22,-421.56 284,-431.27 290.98,-431.79\"/>\n",
       "</g>\n",
       "<!-- result -->\n",
       "<g id=\"node6\" class=\"node\">\n",
       "<title>result</title>\n",
       "<ellipse fill=\"none\" stroke=\"blue\" cx=\"177.5\" cy=\"-318.55\" rx=\"30.59\" ry=\"30.59\"/>\n",
       "<text text-anchor=\"middle\" x=\"177.5\" y=\"-314.85\" font-family=\"Times,serif\" font-size=\"14.00\" fill=\"blue\">result</text>\n",
       "</g>\n",
       "<!-- [37]: Flatten&#45;&gt;result -->\n",
       "<g id=\"edge7\" class=\"edge\">\n",
       "<title>[37]: Flatten&#45;&gt;result</title>\n",
       "<path fill=\"none\" stroke=\"black\" d=\"M177.5,-384.99C177.5,-377.51 177.5,-368.4 177.5,-359.37\"/>\n",
       "<polygon fill=\"black\" stroke=\"black\" points=\"181,-359.32 177.5,-349.32 174,-359.32 181,-359.32\"/>\n",
       "</g>\n",
       "<!-- [37]: Result -->\n",
       "<g id=\"node15\" class=\"node\">\n",
       "<title>[37]: Result</title>\n",
       "<polygon fill=\"none\" stroke=\"blue\" points=\"218,-252 137,-252 137,-216 218,-216 218,-252\"/>\n",
       "<text text-anchor=\"middle\" x=\"177.5\" y=\"-230.3\" font-family=\"Times,serif\" font-size=\"14.00\" fill=\"blue\">[37]: Result</text>\n",
       "</g>\n",
       "<!-- result&#45;&gt;[37]: Result -->\n",
       "<g id=\"edge8\" class=\"edge\">\n",
       "<title>result&#45;&gt;[37]: Result</title>\n",
       "<path fill=\"none\" stroke=\"black\" d=\"M177.5,-287.75C177.5,-279.4 177.5,-270.37 177.5,-262.18\"/>\n",
       "<polygon fill=\"black\" stroke=\"black\" points=\"181,-262.03 177.5,-252.03 174,-262.03 181,-262.03\"/>\n",
       "</g>\n",
       "<!-- pcoll9261 -->\n",
       "<g id=\"node8\" class=\"node\">\n",
       "<title>pcoll9261</title>\n",
       "<ellipse fill=\"none\" stroke=\"blue\" cx=\"65.5\" cy=\"-318.55\" rx=\"18\" ry=\"18\"/>\n",
       "</g>\n",
       "<!-- [37]: PrintListA&#45;&gt;pcoll9261 -->\n",
       "<g id=\"edge9\" class=\"edge\">\n",
       "<title>[37]: PrintListA&#45;&gt;pcoll9261</title>\n",
       "<path fill=\"none\" stroke=\"black\" d=\"M65.5,-384.99C65.5,-373.92 65.5,-359.27 65.5,-346.64\"/>\n",
       "<polygon fill=\"black\" stroke=\"black\" points=\"69,-346.63 65.5,-336.63 62,-346.63 69,-346.63\"/>\n",
       "</g>\n",
       "<!-- [37]: Print A -->\n",
       "<g id=\"node9\" class=\"node\">\n",
       "<title>[37]: Print A</title>\n",
       "<polygon fill=\"none\" stroke=\"blue\" points=\"108.5,-252 22.5,-252 22.5,-216 108.5,-216 108.5,-252\"/>\n",
       "<text text-anchor=\"middle\" x=\"65.5\" y=\"-230.3\" font-family=\"Times,serif\" font-size=\"14.00\" fill=\"blue\">[37]: Print A</text>\n",
       "</g>\n",
       "<!-- pcoll9261&#45;&gt;[37]: Print A -->\n",
       "<g id=\"edge10\" class=\"edge\">\n",
       "<title>pcoll9261&#45;&gt;[37]: Print A</title>\n",
       "<path fill=\"none\" stroke=\"black\" d=\"M65.5,-300.44C65.5,-289.38 65.5,-274.73 65.5,-262.1\"/>\n",
       "<polygon fill=\"black\" stroke=\"black\" points=\"69,-262.08 65.5,-252.08 62,-262.08 69,-262.08\"/>\n",
       "</g>\n",
       "<!-- pcoll5335 -->\n",
       "<g id=\"node10\" class=\"node\">\n",
       "<title>pcoll5335</title>\n",
       "<ellipse fill=\"none\" stroke=\"blue\" cx=\"65.5\" cy=\"-162\" rx=\"18\" ry=\"18\"/>\n",
       "</g>\n",
       "<!-- [37]: Print A&#45;&gt;pcoll5335 -->\n",
       "<g id=\"edge11\" class=\"edge\">\n",
       "<title>[37]: Print A&#45;&gt;pcoll5335</title>\n",
       "<path fill=\"none\" stroke=\"black\" d=\"M65.5,-215.7C65.5,-207.98 65.5,-198.71 65.5,-190.11\"/>\n",
       "<polygon fill=\"black\" stroke=\"black\" points=\"69,-190.1 65.5,-180.1 62,-190.1 69,-190.1\"/>\n",
       "</g>\n",
       "<!-- pcoll7429 -->\n",
       "<g id=\"node12\" class=\"node\">\n",
       "<title>pcoll7429</title>\n",
       "<ellipse fill=\"none\" stroke=\"blue\" cx=\"289.5\" cy=\"-318.55\" rx=\"18\" ry=\"18\"/>\n",
       "</g>\n",
       "<!-- [37]: PrintListB&#45;&gt;pcoll7429 -->\n",
       "<g id=\"edge12\" class=\"edge\">\n",
       "<title>[37]: PrintListB&#45;&gt;pcoll7429</title>\n",
       "<path fill=\"none\" stroke=\"black\" d=\"M289.5,-384.99C289.5,-373.92 289.5,-359.27 289.5,-346.64\"/>\n",
       "<polygon fill=\"black\" stroke=\"black\" points=\"293,-346.63 289.5,-336.63 286,-346.63 293,-346.63\"/>\n",
       "</g>\n",
       "<!-- [37]: Print B -->\n",
       "<g id=\"node13\" class=\"node\">\n",
       "<title>[37]: Print B</title>\n",
       "<polygon fill=\"none\" stroke=\"blue\" points=\"332.5,-252 246.5,-252 246.5,-216 332.5,-216 332.5,-252\"/>\n",
       "<text text-anchor=\"middle\" x=\"289.5\" y=\"-230.3\" font-family=\"Times,serif\" font-size=\"14.00\" fill=\"blue\">[37]: Print B</text>\n",
       "</g>\n",
       "<!-- pcoll7429&#45;&gt;[37]: Print B -->\n",
       "<g id=\"edge13\" class=\"edge\">\n",
       "<title>pcoll7429&#45;&gt;[37]: Print B</title>\n",
       "<path fill=\"none\" stroke=\"black\" d=\"M289.5,-300.44C289.5,-289.38 289.5,-274.73 289.5,-262.1\"/>\n",
       "<polygon fill=\"black\" stroke=\"black\" points=\"293,-262.08 289.5,-252.08 286,-262.08 293,-262.08\"/>\n",
       "</g>\n",
       "<!-- pcoll9173 -->\n",
       "<g id=\"node14\" class=\"node\">\n",
       "<title>pcoll9173</title>\n",
       "<ellipse fill=\"none\" stroke=\"blue\" cx=\"289.5\" cy=\"-162\" rx=\"18\" ry=\"18\"/>\n",
       "</g>\n",
       "<!-- [37]: Print B&#45;&gt;pcoll9173 -->\n",
       "<g id=\"edge14\" class=\"edge\">\n",
       "<title>[37]: Print B&#45;&gt;pcoll9173</title>\n",
       "<path fill=\"none\" stroke=\"black\" d=\"M289.5,-215.7C289.5,-207.98 289.5,-198.71 289.5,-190.11\"/>\n",
       "<polygon fill=\"black\" stroke=\"black\" points=\"293,-190.1 289.5,-180.1 286,-190.1 293,-190.1\"/>\n",
       "</g>\n",
       "<!-- pcoll8934 -->\n",
       "<g id=\"node16\" class=\"node\">\n",
       "<title>pcoll8934</title>\n",
       "<ellipse fill=\"none\" stroke=\"blue\" cx=\"177.5\" cy=\"-162\" rx=\"18\" ry=\"18\"/>\n",
       "</g>\n",
       "<!-- [37]: Result&#45;&gt;pcoll8934 -->\n",
       "<g id=\"edge15\" class=\"edge\">\n",
       "<title>[37]: Result&#45;&gt;pcoll8934</title>\n",
       "<path fill=\"none\" stroke=\"black\" d=\"M177.5,-215.7C177.5,-207.98 177.5,-198.71 177.5,-190.11\"/>\n",
       "<polygon fill=\"black\" stroke=\"black\" points=\"181,-190.1 177.5,-180.1 174,-190.1 181,-190.1\"/>\n",
       "</g>\n",
       "<!-- [37]: Print Result -->\n",
       "<g id=\"node17\" class=\"node\">\n",
       "<title>[37]: Print Result</title>\n",
       "<polygon fill=\"none\" stroke=\"blue\" points=\"233,-108 122,-108 122,-72 233,-72 233,-108\"/>\n",
       "<text text-anchor=\"middle\" x=\"177.5\" y=\"-86.3\" font-family=\"Times,serif\" font-size=\"14.00\" fill=\"blue\">[37]: Print Result</text>\n",
       "</g>\n",
       "<!-- pcoll8934&#45;&gt;[37]: Print Result -->\n",
       "<g id=\"edge16\" class=\"edge\">\n",
       "<title>pcoll8934&#45;&gt;[37]: Print Result</title>\n",
       "<path fill=\"none\" stroke=\"black\" d=\"M177.5,-143.7C177.5,-135.98 177.5,-126.71 177.5,-118.11\"/>\n",
       "<polygon fill=\"black\" stroke=\"black\" points=\"181,-118.1 177.5,-108.1 174,-118.1 181,-118.1\"/>\n",
       "</g>\n",
       "<!-- _ -->\n",
       "<g id=\"node18\" class=\"node\">\n",
       "<title>_</title>\n",
       "<ellipse fill=\"none\" stroke=\"blue\" cx=\"177.5\" cy=\"-18\" rx=\"18\" ry=\"18\"/>\n",
       "<text text-anchor=\"middle\" x=\"177.5\" y=\"-14.3\" font-family=\"Times,serif\" font-size=\"14.00\" fill=\"blue\">_</text>\n",
       "</g>\n",
       "<!-- [37]: Print Result&#45;&gt;_ -->\n",
       "<g id=\"edge17\" class=\"edge\">\n",
       "<title>[37]: Print Result&#45;&gt;_</title>\n",
       "<path fill=\"none\" stroke=\"black\" d=\"M177.5,-71.7C177.5,-63.98 177.5,-54.71 177.5,-46.11\"/>\n",
       "<polygon fill=\"black\" stroke=\"black\" points=\"181,-46.1 177.5,-36.1 174,-46.1 181,-46.1\"/>\n",
       "</g>\n",
       "</g>\n",
       "</svg>\n"
      ],
      "text/plain": [
       "<graphviz.files.Source at 0x7f4a2423c090>"
      ]
     },
     "execution_count": 37,
     "metadata": {},
     "output_type": "execute_result"
    }
   ],
   "source": [
    "pipeline = beam.Pipeline()\n",
    "\n",
    "wordsStartingWithA = pipeline | 'Words starting with A' >> beam.Create(['apple', 'ant', 'arrow'])\n",
    "\n",
    "# Note the required parens for multi-line\n",
    "wordsStartingWithB = (pipeline\n",
    "  | 'Words starting with B' >> beam.Create(['ball', 'book', 'bow']))\n",
    "\n",
    "result = (wordsStartingWithA, wordsStartingWithB) | beam.Flatten()\n",
    "\n",
    "# Print the PCollections\n",
    "_ = (wordsStartingWithA | 'PrintListA' >> beam.combiners.ToList()\n",
    "  | 'Print A' >> beam.Map(lambda x: passthrough('wordsStartingWithA:', x)))\n",
    "_ = (wordsStartingWithB | 'PrintListB' >> beam.combiners.ToList()\n",
    "  | 'Print B' >> beam.Map(lambda x: passthrough('wordsStartingWithB:', x)))\n",
    "_ = (result | 'Result' >> beam.combiners.ToList()\n",
    "  | 'Print Result' >> beam.Map(lambda x: passthrough('result:', x)))\n",
    "\n",
    "pipeline.run().state\n",
    "display_pipeline(pipeline)"
   ]
  },
  {
   "cell_type": "markdown",
   "metadata": {
    "id": "etCS1bQlQNJx"
   },
   "source": [
    "Try running the cell above a few times, and note how the order of the print statements changes."
   ]
  },
  {
   "cell_type": "markdown",
   "metadata": {
    "id": "rvaC0Zvj9Cse"
   },
   "source": [
    "## [Partition](https://beam.apache.org/documentation/programming-guide/#partition)\n",
    "`Partition` is a transform for `PCollection` objects that store **the same data type**. `Partition` splits a single `PCollection` into a fixed number of smaller collections.\n",
    "\n",
    "`Partition` divides the elements of a `PCollection` according to a **partitioning function** that you provide. The partitioning function contains the logic that determines how to split up the elements of the input `PCollection` into each resulting partition `PCollection`. The number of partitions must be determined at graph construction time. You can, for example, pass the number of partitions as a command-line option at runtime (which will then be used to build your pipeline graph), but you cannot determine the number of partitions in mid-pipeline (based on data calculated after your pipeline graph is constructed, for instance).\n",
    "\n",
    "Let's partition a group of numbers in ranges of 100."
   ]
  },
  {
   "cell_type": "code",
   "execution_count": 38,
   "metadata": {
    "id": "P6wjB7Y48olW"
   },
   "outputs": [
    {
     "name": "stdout",
     "output_type": "stream",
     "text": [
      "Medium:: [110, 100, 150]\n",
      "Large:: [350]\n",
      "Small:: [1, 2, 4, 5, 3]\n"
     ]
    },
    {
     "data": {
      "image/svg+xml": [
       "<?xml version=\"1.0\" encoding=\"UTF-8\" standalone=\"no\"?>\n",
       "<!DOCTYPE svg PUBLIC \"-//W3C//DTD SVG 1.1//EN\"\n",
       " \"http://www.w3.org/Graphics/SVG/1.1/DTD/svg11.dtd\">\n",
       "<!-- Generated by graphviz version 2.42.3 (20191010.1750)\n",
       " -->\n",
       "<!-- Title: G Pages: 1 -->\n",
       "<svg width=\"703pt\" height=\"260pt\"\n",
       " viewBox=\"0.00 0.00 702.50 260.00\" xmlns=\"http://www.w3.org/2000/svg\" xmlns:xlink=\"http://www.w3.org/1999/xlink\">\n",
       "<g id=\"graph0\" class=\"graph\" transform=\"scale(1 1) rotate(0) translate(4 256)\">\n",
       "<title>G</title>\n",
       "<polygon fill=\"white\" stroke=\"transparent\" points=\"-4,4 -4,-256 698.5,-256 698.5,4 -4,4\"/>\n",
       "<!-- [38]: Create -->\n",
       "<g id=\"node1\" class=\"node\">\n",
       "<title>[38]: Create</title>\n",
       "<polygon fill=\"none\" stroke=\"blue\" points=\"169,-252 87,-252 87,-216 169,-216 169,-252\"/>\n",
       "<text text-anchor=\"middle\" x=\"128\" y=\"-230.3\" font-family=\"Times,serif\" font-size=\"14.00\" fill=\"blue\">[38]: Create</text>\n",
       "</g>\n",
       "<!-- pcoll9406 -->\n",
       "<g id=\"node2\" class=\"node\">\n",
       "<title>pcoll9406</title>\n",
       "<ellipse fill=\"none\" stroke=\"blue\" cx=\"128\" cy=\"-162\" rx=\"18\" ry=\"18\"/>\n",
       "</g>\n",
       "<!-- [38]: Create&#45;&gt;pcoll9406 -->\n",
       "<g id=\"edge1\" class=\"edge\">\n",
       "<title>[38]: Create&#45;&gt;pcoll9406</title>\n",
       "<path fill=\"none\" stroke=\"black\" d=\"M128,-215.7C128,-207.98 128,-198.71 128,-190.11\"/>\n",
       "<polygon fill=\"black\" stroke=\"black\" points=\"131.5,-190.1 128,-180.1 124.5,-190.1 131.5,-190.1\"/>\n",
       "</g>\n",
       "<!-- [38]: Partition(CallableWrapperPartitionFn) -->\n",
       "<g id=\"node3\" class=\"node\">\n",
       "<title>[38]: Partition(CallableWrapperPartitionFn)</title>\n",
       "<polygon fill=\"none\" stroke=\"blue\" points=\"256,-108 0,-108 0,-72 256,-72 256,-108\"/>\n",
       "<text text-anchor=\"middle\" x=\"128\" y=\"-86.3\" font-family=\"Times,serif\" font-size=\"14.00\" fill=\"blue\">[38]: Partition(CallableWrapperPartitionFn)</text>\n",
       "</g>\n",
       "<!-- pcoll9406&#45;&gt;[38]: Partition(CallableWrapperPartitionFn) -->\n",
       "<g id=\"edge2\" class=\"edge\">\n",
       "<title>pcoll9406&#45;&gt;[38]: Partition(CallableWrapperPartitionFn)</title>\n",
       "<path fill=\"none\" stroke=\"black\" d=\"M128,-143.7C128,-135.98 128,-126.71 128,-118.11\"/>\n",
       "<polygon fill=\"black\" stroke=\"black\" points=\"131.5,-118.1 128,-108.1 124.5,-118.1 131.5,-118.1\"/>\n",
       "</g>\n",
       "<!-- pcoll5476 -->\n",
       "<g id=\"node4\" class=\"node\">\n",
       "<title>pcoll5476</title>\n",
       "<ellipse fill=\"none\" stroke=\"blue\" cx=\"128\" cy=\"-18\" rx=\"18\" ry=\"18\"/>\n",
       "</g>\n",
       "<!-- [38]: Partition(CallableWrapperPartitionFn)&#45;&gt;pcoll5476 -->\n",
       "<g id=\"edge3\" class=\"edge\">\n",
       "<title>[38]: Partition(CallableWrapperPartitionFn)&#45;&gt;pcoll5476</title>\n",
       "<path fill=\"none\" stroke=\"black\" d=\"M128,-71.7C128,-63.98 128,-54.71 128,-46.11\"/>\n",
       "<polygon fill=\"black\" stroke=\"black\" points=\"131.5,-46.1 128,-36.1 124.5,-46.1 131.5,-46.1\"/>\n",
       "</g>\n",
       "<!-- [38]: PrintSmallList -->\n",
       "<g id=\"node5\" class=\"node\">\n",
       "<title>[38]: PrintSmallList</title>\n",
       "<polygon fill=\"none\" stroke=\"blue\" points=\"392,-252 266,-252 266,-216 392,-216 392,-252\"/>\n",
       "<text text-anchor=\"middle\" x=\"329\" y=\"-230.3\" font-family=\"Times,serif\" font-size=\"14.00\" fill=\"blue\">[38]: PrintSmallList</text>\n",
       "</g>\n",
       "<!-- pcoll220 -->\n",
       "<g id=\"node6\" class=\"node\">\n",
       "<title>pcoll220</title>\n",
       "<ellipse fill=\"none\" stroke=\"blue\" cx=\"329\" cy=\"-162\" rx=\"18\" ry=\"18\"/>\n",
       "</g>\n",
       "<!-- [38]: PrintSmallList&#45;&gt;pcoll220 -->\n",
       "<g id=\"edge4\" class=\"edge\">\n",
       "<title>[38]: PrintSmallList&#45;&gt;pcoll220</title>\n",
       "<path fill=\"none\" stroke=\"black\" d=\"M329,-215.7C329,-207.98 329,-198.71 329,-190.11\"/>\n",
       "<polygon fill=\"black\" stroke=\"black\" points=\"332.5,-190.1 329,-180.1 325.5,-190.1 332.5,-190.1\"/>\n",
       "</g>\n",
       "<!-- [38]: Print Small -->\n",
       "<g id=\"node7\" class=\"node\">\n",
       "<title>[38]: Print Small</title>\n",
       "<polygon fill=\"none\" stroke=\"blue\" points=\"383.5,-108 274.5,-108 274.5,-72 383.5,-72 383.5,-108\"/>\n",
       "<text text-anchor=\"middle\" x=\"329\" y=\"-86.3\" font-family=\"Times,serif\" font-size=\"14.00\" fill=\"blue\">[38]: Print Small</text>\n",
       "</g>\n",
       "<!-- pcoll220&#45;&gt;[38]: Print Small -->\n",
       "<g id=\"edge5\" class=\"edge\">\n",
       "<title>pcoll220&#45;&gt;[38]: Print Small</title>\n",
       "<path fill=\"none\" stroke=\"black\" d=\"M329,-143.7C329,-135.98 329,-126.71 329,-118.11\"/>\n",
       "<polygon fill=\"black\" stroke=\"black\" points=\"332.5,-118.1 329,-108.1 325.5,-118.1 332.5,-118.1\"/>\n",
       "</g>\n",
       "<!-- pcoll2964 -->\n",
       "<g id=\"node8\" class=\"node\">\n",
       "<title>pcoll2964</title>\n",
       "<ellipse fill=\"none\" stroke=\"blue\" cx=\"329\" cy=\"-18\" rx=\"18\" ry=\"18\"/>\n",
       "</g>\n",
       "<!-- [38]: Print Small&#45;&gt;pcoll2964 -->\n",
       "<g id=\"edge6\" class=\"edge\">\n",
       "<title>[38]: Print Small&#45;&gt;pcoll2964</title>\n",
       "<path fill=\"none\" stroke=\"black\" d=\"M329,-71.7C329,-63.98 329,-54.71 329,-46.11\"/>\n",
       "<polygon fill=\"black\" stroke=\"black\" points=\"332.5,-46.1 329,-36.1 325.5,-46.1 332.5,-46.1\"/>\n",
       "</g>\n",
       "<!-- [38]: PrintMediumList -->\n",
       "<g id=\"node9\" class=\"node\">\n",
       "<title>[38]: PrintMediumList</title>\n",
       "<polygon fill=\"none\" stroke=\"blue\" points=\"551.5,-252 410.5,-252 410.5,-216 551.5,-216 551.5,-252\"/>\n",
       "<text text-anchor=\"middle\" x=\"481\" y=\"-230.3\" font-family=\"Times,serif\" font-size=\"14.00\" fill=\"blue\">[38]: PrintMediumList</text>\n",
       "</g>\n",
       "<!-- pcoll1610 -->\n",
       "<g id=\"node10\" class=\"node\">\n",
       "<title>pcoll1610</title>\n",
       "<ellipse fill=\"none\" stroke=\"blue\" cx=\"481\" cy=\"-162\" rx=\"18\" ry=\"18\"/>\n",
       "</g>\n",
       "<!-- [38]: PrintMediumList&#45;&gt;pcoll1610 -->\n",
       "<g id=\"edge7\" class=\"edge\">\n",
       "<title>[38]: PrintMediumList&#45;&gt;pcoll1610</title>\n",
       "<path fill=\"none\" stroke=\"black\" d=\"M481,-215.7C481,-207.98 481,-198.71 481,-190.11\"/>\n",
       "<polygon fill=\"black\" stroke=\"black\" points=\"484.5,-190.1 481,-180.1 477.5,-190.1 484.5,-190.1\"/>\n",
       "</g>\n",
       "<!-- [38]: Print Medium -->\n",
       "<g id=\"node11\" class=\"node\">\n",
       "<title>[38]: Print Medium</title>\n",
       "<polygon fill=\"none\" stroke=\"blue\" points=\"543,-108 419,-108 419,-72 543,-72 543,-108\"/>\n",
       "<text text-anchor=\"middle\" x=\"481\" y=\"-86.3\" font-family=\"Times,serif\" font-size=\"14.00\" fill=\"blue\">[38]: Print Medium</text>\n",
       "</g>\n",
       "<!-- pcoll1610&#45;&gt;[38]: Print Medium -->\n",
       "<g id=\"edge8\" class=\"edge\">\n",
       "<title>pcoll1610&#45;&gt;[38]: Print Medium</title>\n",
       "<path fill=\"none\" stroke=\"black\" d=\"M481,-143.7C481,-135.98 481,-126.71 481,-118.11\"/>\n",
       "<polygon fill=\"black\" stroke=\"black\" points=\"484.5,-118.1 481,-108.1 477.5,-118.1 484.5,-118.1\"/>\n",
       "</g>\n",
       "<!-- pcoll5450 -->\n",
       "<g id=\"node12\" class=\"node\">\n",
       "<title>pcoll5450</title>\n",
       "<ellipse fill=\"none\" stroke=\"blue\" cx=\"481\" cy=\"-18\" rx=\"18\" ry=\"18\"/>\n",
       "</g>\n",
       "<!-- [38]: Print Medium&#45;&gt;pcoll5450 -->\n",
       "<g id=\"edge9\" class=\"edge\">\n",
       "<title>[38]: Print Medium&#45;&gt;pcoll5450</title>\n",
       "<path fill=\"none\" stroke=\"black\" d=\"M481,-71.7C481,-63.98 481,-54.71 481,-46.11\"/>\n",
       "<polygon fill=\"black\" stroke=\"black\" points=\"484.5,-46.1 481,-36.1 477.5,-46.1 484.5,-46.1\"/>\n",
       "</g>\n",
       "<!-- [38]: PrintLargeList -->\n",
       "<g id=\"node13\" class=\"node\">\n",
       "<title>[38]: PrintLargeList</title>\n",
       "<polygon fill=\"none\" stroke=\"blue\" points=\"694.5,-252 569.5,-252 569.5,-216 694.5,-216 694.5,-252\"/>\n",
       "<text text-anchor=\"middle\" x=\"632\" y=\"-230.3\" font-family=\"Times,serif\" font-size=\"14.00\" fill=\"blue\">[38]: PrintLargeList</text>\n",
       "</g>\n",
       "<!-- pcoll404 -->\n",
       "<g id=\"node14\" class=\"node\">\n",
       "<title>pcoll404</title>\n",
       "<ellipse fill=\"none\" stroke=\"blue\" cx=\"632\" cy=\"-162\" rx=\"18\" ry=\"18\"/>\n",
       "</g>\n",
       "<!-- [38]: PrintLargeList&#45;&gt;pcoll404 -->\n",
       "<g id=\"edge10\" class=\"edge\">\n",
       "<title>[38]: PrintLargeList&#45;&gt;pcoll404</title>\n",
       "<path fill=\"none\" stroke=\"black\" d=\"M632,-215.7C632,-207.98 632,-198.71 632,-190.11\"/>\n",
       "<polygon fill=\"black\" stroke=\"black\" points=\"635.5,-190.1 632,-180.1 628.5,-190.1 635.5,-190.1\"/>\n",
       "</g>\n",
       "<!-- [38]: Print Large -->\n",
       "<g id=\"node15\" class=\"node\">\n",
       "<title>[38]: Print Large</title>\n",
       "<polygon fill=\"none\" stroke=\"blue\" points=\"686,-108 578,-108 578,-72 686,-72 686,-108\"/>\n",
       "<text text-anchor=\"middle\" x=\"632\" y=\"-86.3\" font-family=\"Times,serif\" font-size=\"14.00\" fill=\"blue\">[38]: Print Large</text>\n",
       "</g>\n",
       "<!-- pcoll404&#45;&gt;[38]: Print Large -->\n",
       "<g id=\"edge11\" class=\"edge\">\n",
       "<title>pcoll404&#45;&gt;[38]: Print Large</title>\n",
       "<path fill=\"none\" stroke=\"black\" d=\"M632,-143.7C632,-135.98 632,-126.71 632,-118.11\"/>\n",
       "<polygon fill=\"black\" stroke=\"black\" points=\"635.5,-118.1 632,-108.1 628.5,-118.1 635.5,-118.1\"/>\n",
       "</g>\n",
       "<!-- _ -->\n",
       "<g id=\"node16\" class=\"node\">\n",
       "<title>_</title>\n",
       "<ellipse fill=\"none\" stroke=\"blue\" cx=\"632\" cy=\"-18\" rx=\"18\" ry=\"18\"/>\n",
       "<text text-anchor=\"middle\" x=\"632\" y=\"-14.3\" font-family=\"Times,serif\" font-size=\"14.00\" fill=\"blue\">_</text>\n",
       "</g>\n",
       "<!-- [38]: Print Large&#45;&gt;_ -->\n",
       "<g id=\"edge12\" class=\"edge\">\n",
       "<title>[38]: Print Large&#45;&gt;_</title>\n",
       "<path fill=\"none\" stroke=\"black\" d=\"M632,-71.7C632,-63.98 632,-54.71 632,-46.11\"/>\n",
       "<polygon fill=\"black\" stroke=\"black\" points=\"635.5,-46.1 632,-36.1 628.5,-46.1 635.5,-46.1\"/>\n",
       "</g>\n",
       "</g>\n",
       "</svg>\n"
      ],
      "text/plain": [
       "<graphviz.files.Source at 0x7f4a23e85d90>"
      ]
     },
     "execution_count": 38,
     "metadata": {},
     "output_type": "execute_result"
    }
   ],
   "source": [
    "def partition_fn(number, num_partitions):\n",
    "    partition = number // 100\n",
    "    return min(partition, num_partitions - 1)\n",
    "\n",
    "with beam.Pipeline() as pipeline:\n",
    "  lines = (pipeline\n",
    "           | beam.Create([1, 110, 2, 350, 4, 5, 100, 150, 3])\n",
    "           | beam.Partition(partition_fn, 3))\n",
    "  \n",
    "  # Print the PCollections\n",
    "  _ = (lines[0] | 'PrintSmallList' >> beam.combiners.ToList()\n",
    "    | 'Print Small' >> beam.Map(lambda x: passthrough('Small:', x)))\n",
    "  _ = (lines[1] | 'PrintMediumList' >> beam.combiners.ToList()\n",
    "    | 'Print Medium' >> beam.Map(lambda x: passthrough('Medium:', x)))\n",
    "  _ = (lines[2] | 'PrintLargeList' >> beam.combiners.ToList()\n",
    "    | 'Print Large' >> beam.Map(lambda x: passthrough('Large:', x)))\n",
    "\n",
    "display_pipeline(pipeline)"
   ]
  },
  {
   "cell_type": "markdown",
   "metadata": {
    "id": "kBiNHmlcFBb1"
   },
   "source": [
    "## [Side Inputs](https://beam.apache.org/documentation/programming-guide/#side-inputs)\n",
    "In addition to the main input `PCollection`, you can provide additional inputs to a `ParDo` transform in the form of side inputs. A side input is an additional input that your `DoFn` can access each time it processes an element in the input `PCollection`. When you specify a side input, you create a view of some other data that can be read from within the `ParDo` transform’s `DoFn` while processing each element.\n",
    "\n",
    "Side inputs are useful if your `ParDo` needs to inject additional data when processing each element in the input PCollection, but the additional data needs to be determined at runtime (and not hard-coded). Such values might be determined by the input data, or depend on a different branch of your pipeline.\n",
    "\n",
    "Let's use a side input to increment numbers by a configurable amount. First, we'll use the default for our `ParDo` transform."
   ]
  },
  {
   "cell_type": "code",
   "execution_count": 39,
   "metadata": {
    "id": "YTZWcmdB9eB9"
   },
   "outputs": [
    {
     "name": "stdout",
     "output_type": "stream",
     "text": [
      "2\n",
      "3\n",
      "4\n",
      "5\n",
      "6\n"
     ]
    }
   ],
   "source": [
    "def increment(number, inc=1):\n",
    "    return number + inc\n",
    "\n",
    "with beam.Pipeline() as pipeline:\n",
    "  lines = (pipeline\n",
    "           | \"Create\" >> beam.Create([1, 2, 3, 4, 5])\n",
    "           | \"Increment\" >> beam.Map(increment)\n",
    "           | \"Print\" >> beam.ParDo(print))"
   ]
  },
  {
   "cell_type": "markdown",
   "metadata": {
    "id": "MKg0SV4ja4A1"
   },
   "source": [
    "Next, we'll pass a number to increment by."
   ]
  },
  {
   "cell_type": "code",
   "execution_count": 40,
   "metadata": {
    "id": "Men6SXjGFkKH"
   },
   "outputs": [
    {
     "name": "stdout",
     "output_type": "stream",
     "text": [
      "11\n",
      "12\n",
      "13\n",
      "14\n",
      "15\n"
     ]
    }
   ],
   "source": [
    "with beam.Pipeline() as pipeline:\n",
    "  lines = (pipeline\n",
    "           | \"Create\" >> beam.Create([1, 2, 3, 4, 5])\n",
    "           | \"Increment\" >> beam.Map(increment, 10) # Pass a side input of 10\n",
    "           | \"Print\" >> beam.ParDo(print))"
   ]
  },
  {
   "cell_type": "markdown",
   "metadata": {
    "id": "j2LAoh1fupfp"
   },
   "source": [
    "## [Additional Outputs](https://beam.apache.org/documentation/programming-guide/#additional-outputs)\n",
    "While `ParDo` always produces a main output `PCollection` (as the return value from `apply`), you can also have your `ParDo` produce any number of additional output `PCollections`. If you choose to have multiple outputs, your `ParDo` returns all of the output `PCollections` (including the main output) bundled together.\n",
    "\n",
    "To emit elements to multiple output `PCollections`, invoke `with_outputs()` on the `ParDo`, and specify the expected tags for the outputs. `with_outputs()` returns a `DoOutputsTuple` object. Tags specified in `with_outputs` are attributes on the returned `DoOutputsTuple` object. The tags give access to the corresponding output `PCollections`.\n",
    "\n",
    "Let's try creating two `PCollections`, one each for odd and even numbers."
   ]
  },
  {
   "cell_type": "code",
   "execution_count": 41,
   "metadata": {
    "id": "hlv1qnPeFt54"
   },
   "outputs": [
    {
     "name": "stdout",
     "output_type": "stream",
     "text": [
      "Evens:: [2, 4, 6]\n",
      "Odds:: [11, 13, 15, 17]\n"
     ]
    },
    {
     "data": {
      "image/svg+xml": [
       "<?xml version=\"1.0\" encoding=\"UTF-8\" standalone=\"no\"?>\n",
       "<!DOCTYPE svg PUBLIC \"-//W3C//DTD SVG 1.1//EN\"\n",
       " \"http://www.w3.org/Graphics/SVG/1.1/DTD/svg11.dtd\">\n",
       "<!-- Generated by graphviz version 2.42.3 (20191010.1750)\n",
       " -->\n",
       "<!-- Title: G Pages: 1 -->\n",
       "<svg width=\"266pt\" height=\"567pt\"\n",
       " viewBox=\"0.00 0.00 265.50 566.60\" xmlns=\"http://www.w3.org/2000/svg\" xmlns:xlink=\"http://www.w3.org/1999/xlink\">\n",
       "<g id=\"graph0\" class=\"graph\" transform=\"scale(1 1) rotate(0) translate(4 562.6)\">\n",
       "<title>G</title>\n",
       "<polygon fill=\"white\" stroke=\"transparent\" points=\"-4,4 -4,-562.6 261.5,-562.6 261.5,4 -4,4\"/>\n",
       "<!-- [41]: Create -->\n",
       "<g id=\"node1\" class=\"node\">\n",
       "<title>[41]: Create</title>\n",
       "<polygon fill=\"none\" stroke=\"blue\" points=\"170,-558.6 88,-558.6 88,-522.6 170,-522.6 170,-558.6\"/>\n",
       "<text text-anchor=\"middle\" x=\"129\" y=\"-536.9\" font-family=\"Times,serif\" font-size=\"14.00\" fill=\"blue\">[41]: Create</text>\n",
       "</g>\n",
       "<!-- pcoll9406 -->\n",
       "<g id=\"node2\" class=\"node\">\n",
       "<title>pcoll9406</title>\n",
       "<ellipse fill=\"none\" stroke=\"blue\" cx=\"129\" cy=\"-468.6\" rx=\"18\" ry=\"18\"/>\n",
       "</g>\n",
       "<!-- [41]: Create&#45;&gt;pcoll9406 -->\n",
       "<g id=\"edge1\" class=\"edge\">\n",
       "<title>[41]: Create&#45;&gt;pcoll9406</title>\n",
       "<path fill=\"none\" stroke=\"black\" d=\"M129,-522.29C129,-514.58 129,-505.31 129,-496.71\"/>\n",
       "<polygon fill=\"black\" stroke=\"black\" points=\"132.5,-496.7 129,-486.7 125.5,-496.7 132.5,-496.7\"/>\n",
       "</g>\n",
       "<!-- [41]: Increment -->\n",
       "<g id=\"node3\" class=\"node\">\n",
       "<title>[41]: Increment</title>\n",
       "<polygon fill=\"none\" stroke=\"blue\" points=\"180,-414.6 78,-414.6 78,-378.6 180,-378.6 180,-414.6\"/>\n",
       "<text text-anchor=\"middle\" x=\"129\" y=\"-392.9\" font-family=\"Times,serif\" font-size=\"14.00\" fill=\"blue\">[41]: Increment</text>\n",
       "</g>\n",
       "<!-- pcoll9406&#45;&gt;[41]: Increment -->\n",
       "<g id=\"edge2\" class=\"edge\">\n",
       "<title>pcoll9406&#45;&gt;[41]: Increment</title>\n",
       "<path fill=\"none\" stroke=\"black\" d=\"M129,-450.29C129,-442.58 129,-433.31 129,-424.71\"/>\n",
       "<polygon fill=\"black\" stroke=\"black\" points=\"132.5,-424.7 129,-414.7 125.5,-424.7 132.5,-424.7\"/>\n",
       "</g>\n",
       "<!-- even -->\n",
       "<g id=\"node4\" class=\"node\">\n",
       "<title>even</title>\n",
       "<ellipse fill=\"none\" stroke=\"blue\" cx=\"95\" cy=\"-315.3\" rx=\"27.1\" ry=\"27.1\"/>\n",
       "<text text-anchor=\"middle\" x=\"95\" y=\"-311.6\" font-family=\"Times,serif\" font-size=\"14.00\" fill=\"blue\">even</text>\n",
       "</g>\n",
       "<!-- [41]: Increment&#45;&gt;even -->\n",
       "<g id=\"edge3\" class=\"edge\">\n",
       "<title>[41]: Increment&#45;&gt;even</title>\n",
       "<path fill=\"none\" stroke=\"black\" d=\"M121.62,-378.39C118.08,-370.12 113.7,-359.91 109.53,-350.18\"/>\n",
       "<polygon fill=\"black\" stroke=\"black\" points=\"112.62,-348.5 105.46,-340.69 106.18,-351.26 112.62,-348.5\"/>\n",
       "</g>\n",
       "<!-- odd -->\n",
       "<g id=\"node5\" class=\"node\">\n",
       "<title>odd</title>\n",
       "<ellipse fill=\"none\" stroke=\"blue\" cx=\"181\" cy=\"-315.3\" rx=\"24.1\" ry=\"24.1\"/>\n",
       "<text text-anchor=\"middle\" x=\"181\" y=\"-311.6\" font-family=\"Times,serif\" font-size=\"14.00\" fill=\"blue\">odd</text>\n",
       "</g>\n",
       "<!-- [41]: Increment&#45;&gt;odd -->\n",
       "<g id=\"edge5\" class=\"edge\">\n",
       "<title>[41]: Increment&#45;&gt;odd</title>\n",
       "<path fill=\"none\" stroke=\"black\" d=\"M140.28,-378.39C146.74,-368.54 155.01,-355.94 162.4,-344.66\"/>\n",
       "<polygon fill=\"black\" stroke=\"black\" points=\"165.53,-346.27 168.09,-335.98 159.68,-342.43 165.53,-346.27\"/>\n",
       "</g>\n",
       "<!-- [41]: PrintEvenList -->\n",
       "<g id=\"node6\" class=\"node\">\n",
       "<title>[41]: PrintEvenList</title>\n",
       "<polygon fill=\"none\" stroke=\"blue\" points=\"122,-252 0,-252 0,-216 122,-216 122,-252\"/>\n",
       "<text text-anchor=\"middle\" x=\"61\" y=\"-230.3\" font-family=\"Times,serif\" font-size=\"14.00\" fill=\"blue\">[41]: PrintEvenList</text>\n",
       "</g>\n",
       "<!-- even&#45;&gt;[41]: PrintEvenList -->\n",
       "<g id=\"edge4\" class=\"edge\">\n",
       "<title>even&#45;&gt;[41]: PrintEvenList</title>\n",
       "<path fill=\"none\" stroke=\"black\" d=\"M84.43,-289.64C80.59,-280.69 76.24,-270.55 72.34,-261.45\"/>\n",
       "<polygon fill=\"black\" stroke=\"black\" points=\"75.49,-259.91 68.33,-252.1 69.06,-262.67 75.49,-259.91\"/>\n",
       "</g>\n",
       "<!-- [41]: PrintOddList -->\n",
       "<g id=\"node10\" class=\"node\">\n",
       "<title>[41]: PrintOddList</title>\n",
       "<polygon fill=\"none\" stroke=\"blue\" points=\"257.5,-252 140.5,-252 140.5,-216 257.5,-216 257.5,-252\"/>\n",
       "<text text-anchor=\"middle\" x=\"199\" y=\"-230.3\" font-family=\"Times,serif\" font-size=\"14.00\" fill=\"blue\">[41]: PrintOddList</text>\n",
       "</g>\n",
       "<!-- odd&#45;&gt;[41]: PrintOddList -->\n",
       "<g id=\"edge6\" class=\"edge\">\n",
       "<title>odd&#45;&gt;[41]: PrintOddList</title>\n",
       "<path fill=\"none\" stroke=\"black\" d=\"M186.11,-291.79C188.22,-282.51 190.68,-271.67 192.88,-261.97\"/>\n",
       "<polygon fill=\"black\" stroke=\"black\" points=\"196.34,-262.54 195.14,-252.02 189.51,-260.99 196.34,-262.54\"/>\n",
       "</g>\n",
       "<!-- pcoll9482 -->\n",
       "<g id=\"node7\" class=\"node\">\n",
       "<title>pcoll9482</title>\n",
       "<ellipse fill=\"none\" stroke=\"blue\" cx=\"61\" cy=\"-162\" rx=\"18\" ry=\"18\"/>\n",
       "</g>\n",
       "<!-- [41]: PrintEvenList&#45;&gt;pcoll9482 -->\n",
       "<g id=\"edge7\" class=\"edge\">\n",
       "<title>[41]: PrintEvenList&#45;&gt;pcoll9482</title>\n",
       "<path fill=\"none\" stroke=\"black\" d=\"M61,-215.7C61,-207.98 61,-198.71 61,-190.11\"/>\n",
       "<polygon fill=\"black\" stroke=\"black\" points=\"64.5,-190.1 61,-180.1 57.5,-190.1 64.5,-190.1\"/>\n",
       "</g>\n",
       "<!-- [41]: Print Even -->\n",
       "<g id=\"node8\" class=\"node\">\n",
       "<title>[41]: Print Even</title>\n",
       "<polygon fill=\"none\" stroke=\"blue\" points=\"113,-108 9,-108 9,-72 113,-72 113,-108\"/>\n",
       "<text text-anchor=\"middle\" x=\"61\" y=\"-86.3\" font-family=\"Times,serif\" font-size=\"14.00\" fill=\"blue\">[41]: Print Even</text>\n",
       "</g>\n",
       "<!-- pcoll9482&#45;&gt;[41]: Print Even -->\n",
       "<g id=\"edge8\" class=\"edge\">\n",
       "<title>pcoll9482&#45;&gt;[41]: Print Even</title>\n",
       "<path fill=\"none\" stroke=\"black\" d=\"M61,-143.7C61,-135.98 61,-126.71 61,-118.11\"/>\n",
       "<polygon fill=\"black\" stroke=\"black\" points=\"64.5,-118.1 61,-108.1 57.5,-118.1 64.5,-118.1\"/>\n",
       "</g>\n",
       "<!-- pcoll8653 -->\n",
       "<g id=\"node9\" class=\"node\">\n",
       "<title>pcoll8653</title>\n",
       "<ellipse fill=\"none\" stroke=\"blue\" cx=\"61\" cy=\"-18\" rx=\"18\" ry=\"18\"/>\n",
       "</g>\n",
       "<!-- [41]: Print Even&#45;&gt;pcoll8653 -->\n",
       "<g id=\"edge9\" class=\"edge\">\n",
       "<title>[41]: Print Even&#45;&gt;pcoll8653</title>\n",
       "<path fill=\"none\" stroke=\"black\" d=\"M61,-71.7C61,-63.98 61,-54.71 61,-46.11\"/>\n",
       "<polygon fill=\"black\" stroke=\"black\" points=\"64.5,-46.1 61,-36.1 57.5,-46.1 64.5,-46.1\"/>\n",
       "</g>\n",
       "<!-- pcoll4799 -->\n",
       "<g id=\"node11\" class=\"node\">\n",
       "<title>pcoll4799</title>\n",
       "<ellipse fill=\"none\" stroke=\"blue\" cx=\"199\" cy=\"-162\" rx=\"18\" ry=\"18\"/>\n",
       "</g>\n",
       "<!-- [41]: PrintOddList&#45;&gt;pcoll4799 -->\n",
       "<g id=\"edge10\" class=\"edge\">\n",
       "<title>[41]: PrintOddList&#45;&gt;pcoll4799</title>\n",
       "<path fill=\"none\" stroke=\"black\" d=\"M199,-215.7C199,-207.98 199,-198.71 199,-190.11\"/>\n",
       "<polygon fill=\"black\" stroke=\"black\" points=\"202.5,-190.1 199,-180.1 195.5,-190.1 202.5,-190.1\"/>\n",
       "</g>\n",
       "<!-- [41]: Print Odd -->\n",
       "<g id=\"node12\" class=\"node\">\n",
       "<title>[41]: Print Odd</title>\n",
       "<polygon fill=\"none\" stroke=\"blue\" points=\"249,-108 149,-108 149,-72 249,-72 249,-108\"/>\n",
       "<text text-anchor=\"middle\" x=\"199\" y=\"-86.3\" font-family=\"Times,serif\" font-size=\"14.00\" fill=\"blue\">[41]: Print Odd</text>\n",
       "</g>\n",
       "<!-- pcoll4799&#45;&gt;[41]: Print Odd -->\n",
       "<g id=\"edge11\" class=\"edge\">\n",
       "<title>pcoll4799&#45;&gt;[41]: Print Odd</title>\n",
       "<path fill=\"none\" stroke=\"black\" d=\"M199,-143.7C199,-135.98 199,-126.71 199,-118.11\"/>\n",
       "<polygon fill=\"black\" stroke=\"black\" points=\"202.5,-118.1 199,-108.1 195.5,-118.1 202.5,-118.1\"/>\n",
       "</g>\n",
       "<!-- _ -->\n",
       "<g id=\"node13\" class=\"node\">\n",
       "<title>_</title>\n",
       "<ellipse fill=\"none\" stroke=\"blue\" cx=\"199\" cy=\"-18\" rx=\"18\" ry=\"18\"/>\n",
       "<text text-anchor=\"middle\" x=\"199\" y=\"-14.3\" font-family=\"Times,serif\" font-size=\"14.00\" fill=\"blue\">_</text>\n",
       "</g>\n",
       "<!-- [41]: Print Odd&#45;&gt;_ -->\n",
       "<g id=\"edge12\" class=\"edge\">\n",
       "<title>[41]: Print Odd&#45;&gt;_</title>\n",
       "<path fill=\"none\" stroke=\"black\" d=\"M199,-71.7C199,-63.98 199,-54.71 199,-46.11\"/>\n",
       "<polygon fill=\"black\" stroke=\"black\" points=\"202.5,-46.1 199,-36.1 195.5,-46.1 202.5,-46.1\"/>\n",
       "</g>\n",
       "</g>\n",
       "</svg>\n"
      ],
      "text/plain": [
       "<graphviz.files.Source at 0x7f4a23886550>"
      ]
     },
     "execution_count": 41,
     "metadata": {},
     "output_type": "execute_result"
    }
   ],
   "source": [
    "def compute(number):\n",
    "  if number % 2 == 0:\n",
    "      yield number\n",
    "  else:\n",
    "      yield pvalue.TaggedOutput(\"odd\", number + 10)\n",
    "\n",
    "with beam.Pipeline() as pipeline:\n",
    "  even, odd = (pipeline\n",
    "           | \"Create\" >> beam.Create([1, 2, 3, 4, 5, 6, 7])\n",
    "           | \"Increment\" >> beam.ParDo(compute).with_outputs(\"odd\", main=\"even\"))\n",
    "  \n",
    "  # Print the PCollections\n",
    "  _ = (even | 'PrintEvenList' >> beam.combiners.ToList()\n",
    "    | 'Print Even' >> beam.Map(lambda x: passthrough('Evens:', x)))\n",
    "  _ = (odd | 'PrintOddList' >> beam.combiners.ToList()\n",
    "    | 'Print Odd' >> beam.Map(lambda x: passthrough('Odds:', x)))\n",
    "\n",
    "display_pipeline(pipeline)"
   ]
  },
  {
   "cell_type": "markdown",
   "metadata": {
    "id": "jTubowaGcu4J"
   },
   "source": [
    "Note how the `Increment` stage returns two different `PCollections` in the graph above. **Untagged elements** will always be placed in the \"main\" `PCollection`.\n",
    "\n",
    "Try tagging even elements and see what happens!"
   ]
  },
  {
   "cell_type": "markdown",
   "metadata": {
    "id": "ZYFrovl8IGsB"
   },
   "source": [
    "## [Branching](https://beam.apache.org/documentation/programming-guide/#applying-transforms)\n",
    "A transform does not consume or otherwise alter the input collection – remember that a `PCollection` is immutable by definition. This means that you can apply multiple transforms to the same input `PCollection` to create a branching pipeline.\n",
    "\n",
    "Let's create a pipeline with 3 branches, which produces 3 different `PCollections`."
   ]
  },
  {
   "cell_type": "code",
   "execution_count": 42,
   "metadata": {
    "id": "cc9hrASXGmug"
   },
   "outputs": [
    {
     "name": "stdout",
     "output_type": "stream",
     "text": [
      "Mult 5:: [5, 10, 15, 20, 25]\n",
      "Numbers:: [1, 2, 3, 4, 5]\n",
      "Mult 10:: [10, 20, 30, 40, 50]\n"
     ]
    },
    {
     "data": {
      "image/svg+xml": [
       "<?xml version=\"1.0\" encoding=\"UTF-8\" standalone=\"no\"?>\n",
       "<!DOCTYPE svg PUBLIC \"-//W3C//DTD SVG 1.1//EN\"\n",
       " \"http://www.w3.org/Graphics/SVG/1.1/DTD/svg11.dtd\">\n",
       "<!-- Generated by graphviz version 2.42.3 (20191010.1750)\n",
       " -->\n",
       "<!-- Title: G Pages: 1 -->\n",
       "<svg width=\"440pt\" height=\"687pt\"\n",
       " viewBox=\"0.00 0.00 440.00 686.58\" xmlns=\"http://www.w3.org/2000/svg\" xmlns:xlink=\"http://www.w3.org/1999/xlink\">\n",
       "<g id=\"graph0\" class=\"graph\" transform=\"scale(1 1) rotate(0) translate(4 682.58)\">\n",
       "<title>G</title>\n",
       "<polygon fill=\"white\" stroke=\"transparent\" points=\"-4,4 -4,-682.58 436,-682.58 436,4 -4,4\"/>\n",
       "<!-- [42]: Create -->\n",
       "<g id=\"node1\" class=\"node\">\n",
       "<title>[42]: Create</title>\n",
       "<polygon fill=\"none\" stroke=\"blue\" points=\"246,-678.58 164,-678.58 164,-642.58 246,-642.58 246,-678.58\"/>\n",
       "<text text-anchor=\"middle\" x=\"205\" y=\"-656.88\" font-family=\"Times,serif\" font-size=\"14.00\" fill=\"blue\">[42]: Create</text>\n",
       "</g>\n",
       "<!-- numbers -->\n",
       "<g id=\"node2\" class=\"node\">\n",
       "<title>numbers</title>\n",
       "<ellipse fill=\"none\" stroke=\"blue\" cx=\"205\" cy=\"-564.99\" rx=\"41.69\" ry=\"41.69\"/>\n",
       "<text text-anchor=\"middle\" x=\"205\" y=\"-561.29\" font-family=\"Times,serif\" font-size=\"14.00\" fill=\"blue\">numbers</text>\n",
       "</g>\n",
       "<!-- [42]: Create&#45;&gt;numbers -->\n",
       "<g id=\"edge1\" class=\"edge\">\n",
       "<title>[42]: Create&#45;&gt;numbers</title>\n",
       "<path fill=\"none\" stroke=\"black\" d=\"M205,-642.41C205,-635.05 205,-626.02 205,-616.79\"/>\n",
       "<polygon fill=\"black\" stroke=\"black\" points=\"208.5,-616.75 205,-606.75 201.5,-616.75 208.5,-616.75\"/>\n",
       "</g>\n",
       "<!-- [42]: Multiply by 5 -->\n",
       "<g id=\"node3\" class=\"node\">\n",
       "<title>[42]: Multiply by 5</title>\n",
       "<polygon fill=\"none\" stroke=\"blue\" points=\"122,-487.39 0,-487.39 0,-451.39 122,-451.39 122,-487.39\"/>\n",
       "<text text-anchor=\"middle\" x=\"61\" y=\"-465.69\" font-family=\"Times,serif\" font-size=\"14.00\" fill=\"blue\">[42]: Multiply by 5</text>\n",
       "</g>\n",
       "<!-- numbers&#45;&gt;[42]: Multiply by 5 -->\n",
       "<g id=\"edge2\" class=\"edge\">\n",
       "<title>numbers&#45;&gt;[42]: Multiply by 5</title>\n",
       "<path fill=\"none\" stroke=\"black\" d=\"M170.51,-541.57C148.03,-526.96 118.79,-507.95 96.18,-493.25\"/>\n",
       "<polygon fill=\"black\" stroke=\"black\" points=\"97.84,-490.16 87.55,-487.65 94.03,-496.03 97.84,-490.16\"/>\n",
       "</g>\n",
       "<!-- [42]: Multiply by 10 -->\n",
       "<g id=\"node5\" class=\"node\">\n",
       "<title>[42]: Multiply by 10</title>\n",
       "<polygon fill=\"none\" stroke=\"blue\" points=\"269.5,-487.39 140.5,-487.39 140.5,-451.39 269.5,-451.39 269.5,-487.39\"/>\n",
       "<text text-anchor=\"middle\" x=\"205\" y=\"-465.69\" font-family=\"Times,serif\" font-size=\"14.00\" fill=\"blue\">[42]: Multiply by 10</text>\n",
       "</g>\n",
       "<!-- numbers&#45;&gt;[42]: Multiply by 10 -->\n",
       "<g id=\"edge3\" class=\"edge\">\n",
       "<title>numbers&#45;&gt;[42]: Multiply by 10</title>\n",
       "<path fill=\"none\" stroke=\"black\" d=\"M205,-523.2C205,-514.67 205,-505.86 205,-497.95\"/>\n",
       "<polygon fill=\"black\" stroke=\"black\" points=\"208.5,-497.81 205,-487.81 201.5,-497.81 208.5,-497.81\"/>\n",
       "</g>\n",
       "<!-- [42]: PrintNumbersList -->\n",
       "<g id=\"node7\" class=\"node\">\n",
       "<title>[42]: PrintNumbersList</title>\n",
       "<polygon fill=\"none\" stroke=\"blue\" points=\"432,-487.39 288,-487.39 288,-451.39 432,-451.39 432,-487.39\"/>\n",
       "<text text-anchor=\"middle\" x=\"360\" y=\"-465.69\" font-family=\"Times,serif\" font-size=\"14.00\" fill=\"blue\">[42]: PrintNumbersList</text>\n",
       "</g>\n",
       "<!-- numbers&#45;&gt;[42]: PrintNumbersList -->\n",
       "<g id=\"edge4\" class=\"edge\">\n",
       "<title>numbers&#45;&gt;[42]: PrintNumbersList</title>\n",
       "<path fill=\"none\" stroke=\"black\" d=\"M240.17,-542.75C264.83,-527.86 297.74,-507.98 322.83,-492.83\"/>\n",
       "<polygon fill=\"black\" stroke=\"black\" points=\"324.94,-495.65 331.69,-487.48 321.32,-489.66 324.94,-495.65\"/>\n",
       "</g>\n",
       "<!-- mult5_results -->\n",
       "<g id=\"node4\" class=\"node\">\n",
       "<title>mult5_results</title>\n",
       "<ellipse fill=\"none\" stroke=\"blue\" cx=\"61\" cy=\"-351.69\" rx=\"59.29\" ry=\"59.29\"/>\n",
       "<text text-anchor=\"middle\" x=\"61\" y=\"-347.99\" font-family=\"Times,serif\" font-size=\"14.00\" fill=\"blue\">mult5_results</text>\n",
       "</g>\n",
       "<!-- [42]: Multiply by 5&#45;&gt;mult5_results -->\n",
       "<g id=\"edge5\" class=\"edge\">\n",
       "<title>[42]: Multiply by 5&#45;&gt;mult5_results</title>\n",
       "<path fill=\"none\" stroke=\"black\" d=\"M61,-451.32C61,-442.91 61,-432.16 61,-420.86\"/>\n",
       "<polygon fill=\"black\" stroke=\"black\" points=\"64.5,-420.85 61,-410.85 57.5,-420.85 64.5,-420.85\"/>\n",
       "</g>\n",
       "<!-- [42]: Print5List -->\n",
       "<g id=\"node11\" class=\"node\">\n",
       "<title>[42]: Print5List</title>\n",
       "<polygon fill=\"none\" stroke=\"blue\" points=\"111.5,-252 10.5,-252 10.5,-216 111.5,-216 111.5,-252\"/>\n",
       "<text text-anchor=\"middle\" x=\"61\" y=\"-230.3\" font-family=\"Times,serif\" font-size=\"14.00\" fill=\"blue\">[42]: Print5List</text>\n",
       "</g>\n",
       "<!-- mult5_results&#45;&gt;[42]: Print5List -->\n",
       "<g id=\"edge6\" class=\"edge\">\n",
       "<title>mult5_results&#45;&gt;[42]: Print5List</title>\n",
       "<path fill=\"none\" stroke=\"black\" d=\"M61,-292.51C61,-282.11 61,-271.72 61,-262.69\"/>\n",
       "<polygon fill=\"black\" stroke=\"black\" points=\"64.5,-262.45 61,-252.45 57.5,-262.45 64.5,-262.45\"/>\n",
       "</g>\n",
       "<!-- mult10_results -->\n",
       "<g id=\"node6\" class=\"node\">\n",
       "<title>mult10_results</title>\n",
       "<ellipse fill=\"none\" stroke=\"blue\" cx=\"205\" cy=\"-351.69\" rx=\"63.89\" ry=\"63.89\"/>\n",
       "<text text-anchor=\"middle\" x=\"205\" y=\"-347.99\" font-family=\"Times,serif\" font-size=\"14.00\" fill=\"blue\">mult10_results</text>\n",
       "</g>\n",
       "<!-- [42]: Multiply by 10&#45;&gt;mult10_results -->\n",
       "<g id=\"edge7\" class=\"edge\">\n",
       "<title>[42]: Multiply by 10&#45;&gt;mult10_results</title>\n",
       "<path fill=\"none\" stroke=\"black\" d=\"M205,-451.32C205,-444.09 205,-435.13 205,-425.58\"/>\n",
       "<polygon fill=\"black\" stroke=\"black\" points=\"208.5,-425.46 205,-415.46 201.5,-425.46 208.5,-425.46\"/>\n",
       "</g>\n",
       "<!-- [42]: Print10List -->\n",
       "<g id=\"node15\" class=\"node\">\n",
       "<title>[42]: Print10List</title>\n",
       "<polygon fill=\"none\" stroke=\"blue\" points=\"258.5,-252 151.5,-252 151.5,-216 258.5,-216 258.5,-252\"/>\n",
       "<text text-anchor=\"middle\" x=\"205\" y=\"-230.3\" font-family=\"Times,serif\" font-size=\"14.00\" fill=\"blue\">[42]: Print10List</text>\n",
       "</g>\n",
       "<!-- mult10_results&#45;&gt;[42]: Print10List -->\n",
       "<g id=\"edge8\" class=\"edge\">\n",
       "<title>mult10_results&#45;&gt;[42]: Print10List</title>\n",
       "<path fill=\"none\" stroke=\"black\" d=\"M205,-287.77C205,-278.84 205,-270.06 205,-262.32\"/>\n",
       "<polygon fill=\"black\" stroke=\"black\" points=\"208.5,-262.14 205,-252.14 201.5,-262.14 208.5,-262.14\"/>\n",
       "</g>\n",
       "<!-- pcoll9482 -->\n",
       "<g id=\"node8\" class=\"node\">\n",
       "<title>pcoll9482</title>\n",
       "<ellipse fill=\"none\" stroke=\"blue\" cx=\"360\" cy=\"-351.69\" rx=\"18\" ry=\"18\"/>\n",
       "</g>\n",
       "<!-- [42]: PrintNumbersList&#45;&gt;pcoll9482 -->\n",
       "<g id=\"edge9\" class=\"edge\">\n",
       "<title>[42]: PrintNumbersList&#45;&gt;pcoll9482</title>\n",
       "<path fill=\"none\" stroke=\"black\" d=\"M360,-451.32C360,-432.52 360,-402.03 360,-379.93\"/>\n",
       "<polygon fill=\"black\" stroke=\"black\" points=\"363.5,-379.84 360,-369.84 356.5,-379.84 363.5,-379.84\"/>\n",
       "</g>\n",
       "<!-- [42]: Print Numbers -->\n",
       "<g id=\"node9\" class=\"node\">\n",
       "<title>[42]: Print Numbers</title>\n",
       "<polygon fill=\"none\" stroke=\"blue\" points=\"423.5,-252 296.5,-252 296.5,-216 423.5,-216 423.5,-252\"/>\n",
       "<text text-anchor=\"middle\" x=\"360\" y=\"-230.3\" font-family=\"Times,serif\" font-size=\"14.00\" fill=\"blue\">[42]: Print Numbers</text>\n",
       "</g>\n",
       "<!-- pcoll9482&#45;&gt;[42]: Print Numbers -->\n",
       "<g id=\"edge10\" class=\"edge\">\n",
       "<title>pcoll9482&#45;&gt;[42]: Print Numbers</title>\n",
       "<path fill=\"none\" stroke=\"black\" d=\"M360,-333.62C360,-314.83 360,-284.34 360,-262.23\"/>\n",
       "<polygon fill=\"black\" stroke=\"black\" points=\"363.5,-262.14 360,-252.14 356.5,-262.14 363.5,-262.14\"/>\n",
       "</g>\n",
       "<!-- pcoll8653 -->\n",
       "<g id=\"node10\" class=\"node\">\n",
       "<title>pcoll8653</title>\n",
       "<ellipse fill=\"none\" stroke=\"blue\" cx=\"360\" cy=\"-162\" rx=\"18\" ry=\"18\"/>\n",
       "</g>\n",
       "<!-- [42]: Print Numbers&#45;&gt;pcoll8653 -->\n",
       "<g id=\"edge11\" class=\"edge\">\n",
       "<title>[42]: Print Numbers&#45;&gt;pcoll8653</title>\n",
       "<path fill=\"none\" stroke=\"black\" d=\"M360,-215.7C360,-207.98 360,-198.71 360,-190.11\"/>\n",
       "<polygon fill=\"black\" stroke=\"black\" points=\"363.5,-190.1 360,-180.1 356.5,-190.1 363.5,-190.1\"/>\n",
       "</g>\n",
       "<!-- pcoll4799 -->\n",
       "<g id=\"node12\" class=\"node\">\n",
       "<title>pcoll4799</title>\n",
       "<ellipse fill=\"none\" stroke=\"blue\" cx=\"61\" cy=\"-162\" rx=\"18\" ry=\"18\"/>\n",
       "</g>\n",
       "<!-- [42]: Print5List&#45;&gt;pcoll4799 -->\n",
       "<g id=\"edge12\" class=\"edge\">\n",
       "<title>[42]: Print5List&#45;&gt;pcoll4799</title>\n",
       "<path fill=\"none\" stroke=\"black\" d=\"M61,-215.7C61,-207.98 61,-198.71 61,-190.11\"/>\n",
       "<polygon fill=\"black\" stroke=\"black\" points=\"64.5,-190.1 61,-180.1 57.5,-190.1 64.5,-190.1\"/>\n",
       "</g>\n",
       "<!-- [42]: Print Mult 5 -->\n",
       "<g id=\"node13\" class=\"node\">\n",
       "<title>[42]: Print Mult 5</title>\n",
       "<polygon fill=\"none\" stroke=\"blue\" points=\"118,-108 4,-108 4,-72 118,-72 118,-108\"/>\n",
       "<text text-anchor=\"middle\" x=\"61\" y=\"-86.3\" font-family=\"Times,serif\" font-size=\"14.00\" fill=\"blue\">[42]: Print Mult 5</text>\n",
       "</g>\n",
       "<!-- pcoll4799&#45;&gt;[42]: Print Mult 5 -->\n",
       "<g id=\"edge13\" class=\"edge\">\n",
       "<title>pcoll4799&#45;&gt;[42]: Print Mult 5</title>\n",
       "<path fill=\"none\" stroke=\"black\" d=\"M61,-143.7C61,-135.98 61,-126.71 61,-118.11\"/>\n",
       "<polygon fill=\"black\" stroke=\"black\" points=\"64.5,-118.1 61,-108.1 57.5,-118.1 64.5,-118.1\"/>\n",
       "</g>\n",
       "<!-- pcoll5811 -->\n",
       "<g id=\"node14\" class=\"node\">\n",
       "<title>pcoll5811</title>\n",
       "<ellipse fill=\"none\" stroke=\"blue\" cx=\"61\" cy=\"-18\" rx=\"18\" ry=\"18\"/>\n",
       "</g>\n",
       "<!-- [42]: Print Mult 5&#45;&gt;pcoll5811 -->\n",
       "<g id=\"edge14\" class=\"edge\">\n",
       "<title>[42]: Print Mult 5&#45;&gt;pcoll5811</title>\n",
       "<path fill=\"none\" stroke=\"black\" d=\"M61,-71.7C61,-63.98 61,-54.71 61,-46.11\"/>\n",
       "<polygon fill=\"black\" stroke=\"black\" points=\"64.5,-46.1 61,-36.1 57.5,-46.1 64.5,-46.1\"/>\n",
       "</g>\n",
       "<!-- pcoll9780 -->\n",
       "<g id=\"node16\" class=\"node\">\n",
       "<title>pcoll9780</title>\n",
       "<ellipse fill=\"none\" stroke=\"blue\" cx=\"205\" cy=\"-162\" rx=\"18\" ry=\"18\"/>\n",
       "</g>\n",
       "<!-- [42]: Print10List&#45;&gt;pcoll9780 -->\n",
       "<g id=\"edge15\" class=\"edge\">\n",
       "<title>[42]: Print10List&#45;&gt;pcoll9780</title>\n",
       "<path fill=\"none\" stroke=\"black\" d=\"M205,-215.7C205,-207.98 205,-198.71 205,-190.11\"/>\n",
       "<polygon fill=\"black\" stroke=\"black\" points=\"208.5,-190.1 205,-180.1 201.5,-190.1 208.5,-190.1\"/>\n",
       "</g>\n",
       "<!-- [42]: Print Mult 10 -->\n",
       "<g id=\"node17\" class=\"node\">\n",
       "<title>[42]: Print Mult 10</title>\n",
       "<polygon fill=\"none\" stroke=\"blue\" points=\"265.5,-108 144.5,-108 144.5,-72 265.5,-72 265.5,-108\"/>\n",
       "<text text-anchor=\"middle\" x=\"205\" y=\"-86.3\" font-family=\"Times,serif\" font-size=\"14.00\" fill=\"blue\">[42]: Print Mult 10</text>\n",
       "</g>\n",
       "<!-- pcoll9780&#45;&gt;[42]: Print Mult 10 -->\n",
       "<g id=\"edge16\" class=\"edge\">\n",
       "<title>pcoll9780&#45;&gt;[42]: Print Mult 10</title>\n",
       "<path fill=\"none\" stroke=\"black\" d=\"M205,-143.7C205,-135.98 205,-126.71 205,-118.11\"/>\n",
       "<polygon fill=\"black\" stroke=\"black\" points=\"208.5,-118.1 205,-108.1 201.5,-118.1 208.5,-118.1\"/>\n",
       "</g>\n",
       "<!-- _ -->\n",
       "<g id=\"node18\" class=\"node\">\n",
       "<title>_</title>\n",
       "<ellipse fill=\"none\" stroke=\"blue\" cx=\"205\" cy=\"-18\" rx=\"18\" ry=\"18\"/>\n",
       "<text text-anchor=\"middle\" x=\"205\" y=\"-14.3\" font-family=\"Times,serif\" font-size=\"14.00\" fill=\"blue\">_</text>\n",
       "</g>\n",
       "<!-- [42]: Print Mult 10&#45;&gt;_ -->\n",
       "<g id=\"edge17\" class=\"edge\">\n",
       "<title>[42]: Print Mult 10&#45;&gt;_</title>\n",
       "<path fill=\"none\" stroke=\"black\" d=\"M205,-71.7C205,-63.98 205,-54.71 205,-46.11\"/>\n",
       "<polygon fill=\"black\" stroke=\"black\" points=\"208.5,-46.1 205,-36.1 201.5,-46.1 208.5,-46.1\"/>\n",
       "</g>\n",
       "</g>\n",
       "</svg>\n"
      ],
      "text/plain": [
       "<graphviz.files.Source at 0x7f4a230a2ed0>"
      ]
     },
     "execution_count": 42,
     "metadata": {},
     "output_type": "execute_result"
    }
   ],
   "source": [
    "with beam.Pipeline() as branching_pipeline:\n",
    "  numbers = (branching_pipeline | beam.Create([1, 2, 3, 4, 5]))\n",
    "  mult5_results = numbers | 'Multiply by 5' >> beam.Map(lambda num: num * 5)\n",
    "  mult10_results = numbers | 'Multiply by 10' >> beam.Map(lambda num: num * 10)\n",
    "\n",
    "  # Print the PCollections\n",
    "  _ = (numbers | 'PrintNumbersList' >> beam.combiners.ToList()\n",
    "    | 'Print Numbers' >> beam.Map(lambda x: passthrough('Numbers:', x)))\n",
    "  _ = (mult5_results | 'Print5List' >> beam.combiners.ToList()\n",
    "    | 'Print Mult 5' >> beam.Map(lambda x: passthrough('Mult 5:', x)))\n",
    "  _ = (mult10_results | 'Print10List' >> beam.combiners.ToList()\n",
    "    | 'Print Mult 10' >> beam.Map(lambda x: passthrough('Mult 10:', x)))\n",
    "\n",
    "display_pipeline(branching_pipeline)"
   ]
  },
  {
   "cell_type": "markdown",
   "metadata": {
    "id": "1-_FQ3S9IotY"
   },
   "source": [
    "## [Composite Transforms](https://beam.apache.org/documentation/programming-guide/#composite-transforms)\n",
    "Transforms can have a nested structure, where a complex transform performs multiple simpler transforms (such as more than one `ParDo`, `Combine`, `GroupByKey`, or even other composite transforms). These transforms are called ***composite transforms***. Nesting multiple transforms inside a single composite transform can make your code more modular and easier to understand.\n",
    "\n",
    "Your composite transform's parameters and return value must match the initial input type and final return type for the entire transform, even if the transform's intermediate data changes type multiple times.\n",
    "\n",
    "To create a composite transform, create a subclass of the `PTransform` class and override the `expand` method to specify the actual processing logic. Then use this transform just as you would a built-in transform."
   ]
  },
  {
   "cell_type": "code",
   "execution_count": 43,
   "metadata": {
    "id": "I8GplhSxIY8I"
   },
   "outputs": [
    {
     "name": "stdout",
     "output_type": "stream",
     "text": [
      "Numbers:: [10, 20, 30, 40, 50, 60, 70, 80, 90, 100]\n"
     ]
    },
    {
     "data": {
      "image/svg+xml": [
       "<?xml version=\"1.0\" encoding=\"UTF-8\" standalone=\"no\"?>\n",
       "<!DOCTYPE svg PUBLIC \"-//W3C//DTD SVG 1.1//EN\"\n",
       " \"http://www.w3.org/Graphics/SVG/1.1/DTD/svg11.dtd\">\n",
       "<!-- Generated by graphviz version 2.42.3 (20191010.1750)\n",
       " -->\n",
       "<!-- Title: G Pages: 1 -->\n",
       "<svg width=\"215pt\" height=\"680pt\"\n",
       " viewBox=\"0.00 0.00 215.00 679.69\" xmlns=\"http://www.w3.org/2000/svg\" xmlns:xlink=\"http://www.w3.org/1999/xlink\">\n",
       "<g id=\"graph0\" class=\"graph\" transform=\"scale(1 1) rotate(0) translate(4 675.69)\">\n",
       "<title>G</title>\n",
       "<polygon fill=\"white\" stroke=\"transparent\" points=\"-4,4 -4,-675.69 211,-675.69 211,4 -4,4\"/>\n",
       "<!-- [43]: Create -->\n",
       "<g id=\"node1\" class=\"node\">\n",
       "<title>[43]: Create</title>\n",
       "<polygon fill=\"none\" stroke=\"blue\" points=\"144.5,-671.69 62.5,-671.69 62.5,-635.69 144.5,-635.69 144.5,-671.69\"/>\n",
       "<text text-anchor=\"middle\" x=\"103.5\" y=\"-649.99\" font-family=\"Times,serif\" font-size=\"14.00\" fill=\"blue\">[43]: Create</text>\n",
       "</g>\n",
       "<!-- pcoll9406 -->\n",
       "<g id=\"node2\" class=\"node\">\n",
       "<title>pcoll9406</title>\n",
       "<ellipse fill=\"none\" stroke=\"blue\" cx=\"103.5\" cy=\"-581.69\" rx=\"18\" ry=\"18\"/>\n",
       "</g>\n",
       "<!-- [43]: Create&#45;&gt;pcoll9406 -->\n",
       "<g id=\"edge1\" class=\"edge\">\n",
       "<title>[43]: Create&#45;&gt;pcoll9406</title>\n",
       "<path fill=\"none\" stroke=\"black\" d=\"M103.5,-635.38C103.5,-627.67 103.5,-618.4 103.5,-609.8\"/>\n",
       "<polygon fill=\"black\" stroke=\"black\" points=\"107,-609.79 103.5,-599.79 100,-609.79 107,-609.79\"/>\n",
       "</g>\n",
       "<!-- [43]: ExtractAndMultiplyNumbers -->\n",
       "<g id=\"node3\" class=\"node\">\n",
       "<title>[43]: ExtractAndMultiplyNumbers</title>\n",
       "<polygon fill=\"none\" stroke=\"blue\" points=\"207,-527.69 0,-527.69 0,-491.69 207,-491.69 207,-527.69\"/>\n",
       "<text text-anchor=\"middle\" x=\"103.5\" y=\"-505.99\" font-family=\"Times,serif\" font-size=\"14.00\" fill=\"blue\">[43]: ExtractAndMultiplyNumbers</text>\n",
       "</g>\n",
       "<!-- pcoll9406&#45;&gt;[43]: ExtractAndMultiplyNumbers -->\n",
       "<g id=\"edge2\" class=\"edge\">\n",
       "<title>pcoll9406&#45;&gt;[43]: ExtractAndMultiplyNumbers</title>\n",
       "<path fill=\"none\" stroke=\"black\" d=\"M103.5,-563.38C103.5,-555.67 103.5,-546.4 103.5,-537.8\"/>\n",
       "<polygon fill=\"black\" stroke=\"black\" points=\"107,-537.79 103.5,-527.79 100,-537.79 107,-537.79\"/>\n",
       "</g>\n",
       "<!-- number_PCollection -->\n",
       "<g id=\"node4\" class=\"node\">\n",
       "<title>number_PCollection</title>\n",
       "<ellipse fill=\"none\" stroke=\"blue\" cx=\"103.5\" cy=\"-371.84\" rx=\"83.69\" ry=\"83.69\"/>\n",
       "<text text-anchor=\"middle\" x=\"103.5\" y=\"-368.14\" font-family=\"Times,serif\" font-size=\"14.00\" fill=\"blue\">number_PCollection</text>\n",
       "</g>\n",
       "<!-- [43]: ExtractAndMultiplyNumbers&#45;&gt;number_PCollection -->\n",
       "<g id=\"edge3\" class=\"edge\">\n",
       "<title>[43]: ExtractAndMultiplyNumbers&#45;&gt;number_PCollection</title>\n",
       "<path fill=\"none\" stroke=\"black\" d=\"M103.5,-491.48C103.5,-484.38 103.5,-475.56 103.5,-465.96\"/>\n",
       "<polygon fill=\"black\" stroke=\"black\" points=\"107,-465.71 103.5,-455.71 100,-465.71 107,-465.71\"/>\n",
       "</g>\n",
       "<!-- [43]: PrintNumbersList -->\n",
       "<g id=\"node5\" class=\"node\">\n",
       "<title>[43]: PrintNumbersList</title>\n",
       "<polygon fill=\"none\" stroke=\"blue\" points=\"175.5,-252 31.5,-252 31.5,-216 175.5,-216 175.5,-252\"/>\n",
       "<text text-anchor=\"middle\" x=\"103.5\" y=\"-230.3\" font-family=\"Times,serif\" font-size=\"14.00\" fill=\"blue\">[43]: PrintNumbersList</text>\n",
       "</g>\n",
       "<!-- number_PCollection&#45;&gt;[43]: PrintNumbersList -->\n",
       "<g id=\"edge4\" class=\"edge\">\n",
       "<title>number_PCollection&#45;&gt;[43]: PrintNumbersList</title>\n",
       "<path fill=\"none\" stroke=\"black\" d=\"M103.5,-287.91C103.5,-278.75 103.5,-269.97 103.5,-262.29\"/>\n",
       "<polygon fill=\"black\" stroke=\"black\" points=\"107,-262.23 103.5,-252.23 100,-262.23 107,-262.23\"/>\n",
       "</g>\n",
       "<!-- pcoll9482 -->\n",
       "<g id=\"node6\" class=\"node\">\n",
       "<title>pcoll9482</title>\n",
       "<ellipse fill=\"none\" stroke=\"blue\" cx=\"103.5\" cy=\"-162\" rx=\"18\" ry=\"18\"/>\n",
       "</g>\n",
       "<!-- [43]: PrintNumbersList&#45;&gt;pcoll9482 -->\n",
       "<g id=\"edge5\" class=\"edge\">\n",
       "<title>[43]: PrintNumbersList&#45;&gt;pcoll9482</title>\n",
       "<path fill=\"none\" stroke=\"black\" d=\"M103.5,-215.7C103.5,-207.98 103.5,-198.71 103.5,-190.11\"/>\n",
       "<polygon fill=\"black\" stroke=\"black\" points=\"107,-190.1 103.5,-180.1 100,-190.1 107,-190.1\"/>\n",
       "</g>\n",
       "<!-- [43]: Print Numbers -->\n",
       "<g id=\"node7\" class=\"node\">\n",
       "<title>[43]: Print Numbers</title>\n",
       "<polygon fill=\"none\" stroke=\"blue\" points=\"167,-108 40,-108 40,-72 167,-72 167,-108\"/>\n",
       "<text text-anchor=\"middle\" x=\"103.5\" y=\"-86.3\" font-family=\"Times,serif\" font-size=\"14.00\" fill=\"blue\">[43]: Print Numbers</text>\n",
       "</g>\n",
       "<!-- pcoll9482&#45;&gt;[43]: Print Numbers -->\n",
       "<g id=\"edge6\" class=\"edge\">\n",
       "<title>pcoll9482&#45;&gt;[43]: Print Numbers</title>\n",
       "<path fill=\"none\" stroke=\"black\" d=\"M103.5,-143.7C103.5,-135.98 103.5,-126.71 103.5,-118.11\"/>\n",
       "<polygon fill=\"black\" stroke=\"black\" points=\"107,-118.1 103.5,-108.1 100,-118.1 107,-118.1\"/>\n",
       "</g>\n",
       "<!-- _ -->\n",
       "<g id=\"node8\" class=\"node\">\n",
       "<title>_</title>\n",
       "<ellipse fill=\"none\" stroke=\"blue\" cx=\"103.5\" cy=\"-18\" rx=\"18\" ry=\"18\"/>\n",
       "<text text-anchor=\"middle\" x=\"103.5\" y=\"-14.3\" font-family=\"Times,serif\" font-size=\"14.00\" fill=\"blue\">_</text>\n",
       "</g>\n",
       "<!-- [43]: Print Numbers&#45;&gt;_ -->\n",
       "<g id=\"edge7\" class=\"edge\">\n",
       "<title>[43]: Print Numbers&#45;&gt;_</title>\n",
       "<path fill=\"none\" stroke=\"black\" d=\"M103.5,-71.7C103.5,-63.98 103.5,-54.71 103.5,-46.11\"/>\n",
       "<polygon fill=\"black\" stroke=\"black\" points=\"107,-46.1 103.5,-36.1 100,-46.1 107,-46.1\"/>\n",
       "</g>\n",
       "</g>\n",
       "</svg>\n"
      ],
      "text/plain": [
       "<graphviz.files.Source at 0x7f4a240fdc50>"
      ]
     },
     "execution_count": 43,
     "metadata": {},
     "output_type": "execute_result"
    }
   ],
   "source": [
    "# Subclass beam.PTransform to create a composite transform\n",
    "class ExtractAndMultiplyNumbers(beam.PTransform):\n",
    "    def expand(self, pcollection):\n",
    "        return (pcollection\n",
    "            | beam.FlatMap(lambda line: line.split(\",\"))\n",
    "            | beam.Map(lambda num: int(num) * 10))\n",
    "\n",
    "with beam.Pipeline() as composite_pipeline:\n",
    "  number_PCollection = (composite_pipeline\n",
    "           | beam.Create(['1,2,3,4,5', '6,7,8,9,10'])\n",
    "           | ExtractAndMultiplyNumbers())\n",
    "  \n",
    "  # Print the PCollection\n",
    "  _ = (number_PCollection | 'PrintNumbersList' >> beam.combiners.ToList()\n",
    "    | 'Print Numbers' >> beam.Map(lambda x: passthrough('Numbers:', x)))\n",
    "\n",
    "display_pipeline(composite_pipeline)"
   ]
  },
  {
   "cell_type": "markdown",
   "metadata": {
    "id": "b7NFpWUMJIJy"
   },
   "source": [
    "## [Filter](https://beam.apache.org/documentation/transforms/python/elementwise/filter/)\n",
    "`Filter`, given a predicate, filters out all elements that don't satisfy that predicate. `Filter` may also be used to filter based on an inequality with a given value based on the comparison ordering of the element.  You can pass functions with multiple arguments to `Filter`. They are passed as additional positional arguments or keyword arguments to the function.  If the `PCollection` has a single value, such as the average from another computation, passing the `PCollection` as a *singleton* accesses that value.  If the `PCollection` has multiple values, pass the `PCollection` as an *iterator*. This accesses elements lazily as they are needed, so it is possible to iterate over large `PCollections` that won't fit into memory.\n",
    "\n",
    "> Note: You can pass the `PCollection` as a list with `beam.pvalue.AsList(PCollection)`, but this requires that all the elements fit into memory.\n",
    "\n",
    "> Note: You can pass the `PCollection` as a dictionary with `beam.pvalue.AsDict(PCollection)`. Each element must be a (key, value) pair. Note that all the elements of the `PCollection` must fit into memory.\n",
    "\n",
    "If the `PCollection` won't fit into memory, use `beam.pvalue.AsIter(PCollection)` instead.\n",
    "\n",
    "First, let's try filtering out even numbers using a `ParDo` transform."
   ]
  },
  {
   "cell_type": "code",
   "execution_count": 46,
   "metadata": {
    "id": "BuFN36jVI4gH"
   },
   "outputs": [
    {
     "name": "stdout",
     "output_type": "stream",
     "text": [
      "Odd number: 1\n",
      "Odd number: 3\n",
      "Odd number: 5\n",
      "Odd number: 7\n",
      "Odd number: 9\n"
     ]
    }
   ],
   "source": [
    "class FilterOddNumbers(beam.DoFn):\n",
    "    def process(self, element, *args, **kwargs):\n",
    "        if element % 2 == 1:\n",
    "            yield element\n",
    "\n",
    "with beam.Pipeline() as pipeline:\n",
    "  lines = (pipeline\n",
    "           | beam.Create(range(1, 11))\n",
    "           | beam.ParDo(FilterOddNumbers())\n",
    "           | beam.Map(lambda x: passthrough('Odd number:', x)))"
   ]
  },
  {
   "cell_type": "markdown",
   "metadata": {
    "id": "hqlPQSCwTsFS"
   },
   "source": [
    "Next, let's use `Filter` to do the same thing."
   ]
  },
  {
   "cell_type": "code",
   "execution_count": 47,
   "metadata": {
    "id": "8zQlSBJWJYrY"
   },
   "outputs": [
    {
     "name": "stdout",
     "output_type": "stream",
     "text": [
      "Odd number: 1\n",
      "Odd number: 3\n",
      "Odd number: 5\n",
      "Odd number: 7\n",
      "Odd number: 9\n"
     ]
    }
   ],
   "source": [
    "with beam.Pipeline() as pipeline:\n",
    "  lines = (pipeline\n",
    "           | beam.Create(range(1, 11))\n",
    "           | beam.Filter(lambda num: num % 2 == 1)\n",
    "           | beam.Map(lambda x: passthrough('Odd number:', x)))"
   ]
  },
  {
   "cell_type": "markdown",
   "metadata": {
    "id": "Ic7kHP5sJphJ"
   },
   "source": [
    "## [Aggregation](https://beam.apache.org/documentation/programming-guide/)\n",
    "Beam uses [windowing](https://urldefense.com/v3/__https://beam.apache.org/documentation/programming-guide/*windowing__;Iw!!PIZeeW5wscynRQ!55X7LkP-oqeRJ6UUmtPVv4vn3HLBOqlFNpBPTKq9j6A_FsUVIeCO-4RxDyJyXgQ$ ) to divide a continuously updating unbounded `PCollection` into logical windows of finite size. These logical windows are determined by some characteristic associated with a data element, such as a timestamp. [Aggregation transforms](https://urldefense.com/v3/__https://beam.apache.org/documentation/transforms/python/overview/*aggregation__;Iw!!PIZeeW5wscynRQ!55X7LkP-oqeRJ6UUmtPVv4vn3HLBOqlFNpBPTKq9j6A_FsUVIeCO-4RxGg6bt2E$ ) (such as GroupByKey and Combine) work on a per-window basis — as the data set is generated, they process each `PCollection` as a succession of these finite windows.\n",
    "\n",
    "A related concept, called [triggers](https://urldefense.com/v3/__https://beam.apache.org/documentation/programming-guide/*triggers__;Iw!!PIZeeW5wscynRQ!55X7LkP-oqeRJ6UUmtPVv4vn3HLBOqlFNpBPTKq9j6A_FsUVIeCO-4RxSPrnvUA$ ), determines when to emit the results of aggregation as unbounded data arrives. You can use triggers to refine the windowing strategy for your `PCollection`. Triggers allow you to deal with late-arriving data, or to provide early results.\n",
    "\n",
    "First, let's count the elements in a `PCollection`."
   ]
  },
  {
   "cell_type": "code",
   "execution_count": 48,
   "metadata": {
    "id": "O3W-h0AzJg3f"
   },
   "outputs": [
    {
     "name": "stdout",
     "output_type": "stream",
     "text": [
      "Count = 10\n"
     ]
    }
   ],
   "source": [
    "with beam.Pipeline() as pipeline:\n",
    "  lines = (pipeline\n",
    "           | beam.Create(range(1, 11))\n",
    "           | beam.combiners.Count.Globally() # Count\n",
    "           | beam.Map(lambda x: passthrough('Count =', x)))"
   ]
  },
  {
   "cell_type": "markdown",
   "metadata": {
    "id": "TMHW9Je3VCUP"
   },
   "source": [
    "Next, let's sum the elements with a `CombineGlobally` aggregator and Python's sum."
   ]
  },
  {
   "cell_type": "code",
   "execution_count": 49,
   "metadata": {
    "id": "GZVWg2AvKxUz"
   },
   "outputs": [
    {
     "name": "stdout",
     "output_type": "stream",
     "text": [
      "Sum = 55\n"
     ]
    }
   ],
   "source": [
    "with beam.Pipeline() as pipeline:\n",
    "  lines = (pipeline\n",
    "           | beam.Create(range(1, 11))\n",
    "           | beam.CombineGlobally(sum) # CombineGlobally sum\n",
    "           | beam.Map(lambda x: passthrough('Sum =', x)))"
   ]
  },
  {
   "cell_type": "markdown",
   "metadata": {
    "id": "tRXBNpUTVkRw"
   },
   "source": [
    "Next, let's calculate the mean."
   ]
  },
  {
   "cell_type": "code",
   "execution_count": 50,
   "metadata": {
    "id": "PpkdeF6YK2gc"
   },
   "outputs": [
    {
     "name": "stdout",
     "output_type": "stream",
     "text": [
      "Mean = 5.5\n"
     ]
    }
   ],
   "source": [
    "with beam.Pipeline() as pipeline:\n",
    "  lines = (pipeline\n",
    "           | beam.Create(range(1, 11))\n",
    "           | beam.combiners.Mean.Globally() # Mean\n",
    "           | beam.Map(lambda x: passthrough('Mean =', x)))"
   ]
  },
  {
   "cell_type": "markdown",
   "metadata": {
    "id": "Zkw5rjkEVv7M"
   },
   "source": [
    "Next, let's return the smallest element in the `PCollection`."
   ]
  },
  {
   "cell_type": "code",
   "execution_count": 51,
   "metadata": {
    "id": "EYJCGAgdK227"
   },
   "outputs": [
    {
     "name": "stdout",
     "output_type": "stream",
     "text": [
      "Smallest = [1]\n"
     ]
    }
   ],
   "source": [
    "with beam.Pipeline() as pipeline:\n",
    "  lines = (pipeline\n",
    "           | beam.Create(range(1, 11))\n",
    "           | beam.combiners.Top.Smallest(1) # Top Smallest\n",
    "           | beam.Map(lambda x: passthrough('Smallest =', x)))"
   ]
  },
  {
   "cell_type": "markdown",
   "metadata": {
    "id": "XnQpGZTYV5t-"
   },
   "source": [
    "Next, let's return the largest element in the `PCollection`."
   ]
  },
  {
   "cell_type": "code",
   "execution_count": 52,
   "metadata": {
    "id": "aXySuL7QK4sb"
   },
   "outputs": [
    {
     "name": "stdout",
     "output_type": "stream",
     "text": [
      "Largest = [10]\n"
     ]
    }
   ],
   "source": [
    "with beam.Pipeline() as pipeline:\n",
    "  lines = (pipeline\n",
    "           | beam.Create(range(1, 11))\n",
    "           | beam.combiners.Top.Largest(1) # Top Largest\n",
    "           | beam.Map(lambda x: passthrough('Largest =', x)))"
   ]
  },
  {
   "cell_type": "markdown",
   "metadata": {
    "id": "GMKY3LCWLGXu"
   },
   "source": [
    "# [Pipeline I/O](https://beam.apache.org/documentation/programming-guide/#pipeline-io)\n",
    "When you create a pipeline, you often need to read data from some external source, such as a file or a database. Likewise, you may want your pipeline to output its result data to an external storage system. Beam provides read and write transforms for a [number of common data storage types](https://beam.apache.org/documentation/io/built-in/). If you want your pipeline to read from or write to a data storage format that isn’t supported by the built-in transforms, you can [implement your own read and write transforms](https://beam.apache.org/documentation/io/developing-io-overview/) \n",
    "### Download example data\n",
    "Download the sample dataset for use with the cells below."
   ]
  },
  {
   "cell_type": "code",
   "execution_count": 53,
   "metadata": {
    "id": "BywX6OUEhAqn"
   },
   "outputs": [
    {
     "data": {
      "text/plain": [
       "('/tmp/tfx-data3rbochd3/data.csv', <http.client.HTTPMessage at 0x7f4a22afd690>)"
      ]
     },
     "execution_count": 53,
     "metadata": {},
     "output_type": "execute_result"
    }
   ],
   "source": [
    "import os, tempfile, urllib\n",
    "DATA_PATH = 'https://raw.githubusercontent.com/tensorflow/tfx/master/tfx/examples/chicago_taxi_pipeline/data/simple/data.csv'\n",
    "_data_root = tempfile.mkdtemp(prefix='tfx-data')\n",
    "_data_filepath = os.path.join(_data_root, \"data.csv\")\n",
    "urllib.request.urlretrieve(DATA_PATH, _data_filepath)"
   ]
  },
  {
   "cell_type": "markdown",
   "metadata": {
    "id": "4pwOXlPQYiJn"
   },
   "source": [
    "Let's take a quick look at the data."
   ]
  },
  {
   "cell_type": "code",
   "execution_count": 54,
   "metadata": {
    "id": "Hqn4wST2Bex5"
   },
   "outputs": [
    {
     "name": "stdout",
     "output_type": "stream",
     "text": [
      "pickup_community_area,fare,trip_start_month,trip_start_hour,trip_start_day,trip_start_timestamp,pickup_latitude,pickup_longitude,dropoff_latitude,dropoff_longitude,trip_miles,pickup_census_tract,dropoff_census_tract,payment_type,company,trip_seconds,dropoff_community_area,tips\n",
      ",12.45,5,19,6,1400269500,,,,,0.0,,,Credit Card,Chicago Elite Cab Corp. (Chicago Carriag,0,,0.0\n",
      ",0,3,19,5,1362683700,,,,,0,,,Unknown,Chicago Elite Cab Corp.,300,,0\n",
      "60,27.05,10,2,3,1380593700,41.836150155,-87.648787952,,,12.6,,,Cash,Taxi Affiliation Services,1380,,0.0\n",
      "10,5.85,10,1,2,1382319000,41.985015101,-87.804532006,,,0.0,,,Cash,Taxi Affiliation Services,180,,0.0\n",
      "14,16.65,5,7,5,1369897200,41.968069,-87.721559063,,,0.0,,,Cash,Dispatch Taxi Affiliation,1080,,0.0\n",
      "13,16.45,11,12,3,1446554700,41.983636307,-87.723583185,,,6.9,,,Cash,,780,,0.0\n",
      "16,32.05,12,1,1,1417916700,41.953582125,-87.72345239,,,15.4,,,Cash,,1200,,0.0\n",
      "30,38.45,10,10,5,1444301100,41.839086906,-87.714003807,,,14.6,,,Cash,,2580,,0.0\n",
      "11,14.65,1,1,3,1358213400,41.978829526,-87.771166703,,,5.81,,,Cash,,1080,,0.0\n"
     ]
    }
   ],
   "source": [
    "!head {_data_filepath}"
   ]
  },
  {
   "cell_type": "markdown",
   "metadata": {
    "id": "R9BQpD-JYlte"
   },
   "source": [
    "Let's filter out only the lines that we're interested in."
   ]
  },
  {
   "cell_type": "code",
   "execution_count": 55,
   "metadata": {
    "id": "hz4oEI90mB-m"
   },
   "outputs": [
    {
     "name": "stdout",
     "output_type": "stream",
     "text": [
      "Match: 13,16.45,11,12,3,1446554700,41.983636307,-87.723583185,,,6.9,,,Cash,,780,,0.0\n"
     ]
    }
   ],
   "source": [
    "with beam.Pipeline() as pipeline:\n",
    "  lines = (pipeline\n",
    "           | beam.io.ReadFromText(_data_filepath)\n",
    "           | beam.Filter(lambda line: line.startswith(\"13,16.45,11,12,3\"))\n",
    "           | beam.Map(lambda x: passthrough('Match:', x)))"
   ]
  },
  {
   "cell_type": "markdown",
   "metadata": {
    "id": "8siWql-89oq1"
   },
   "source": [
    "### Putting Everything Together\n",
    "\n",
    "Use several of the concepts, classes, and methods discussed above in a concrete example.\n",
    "\n",
    "**Exercise 4 — Reading, Filtering, Parsing, Grouping and Averaging**\n",
    "\n",
    "Write a Beam pipeline that reads the dataset, computes the mean fare for each company, and takes the top 5 companies with the largest mean fares.\n",
    "\n",
    "*Hints*:\n",
    "* Use the code above to read the dataset.\n",
    "* Add a `Map` step to split each row on the commas.\n",
    "* Filter out the header row and any rows without values for company.\n",
    "* Calculate the mean fare for each company\n",
    "* (Optional) Print the mean fares for each company\n",
    "* Take the top 5 companies by mean fare\n",
    "* Print the list of the top 5 companies"
   ]
  },
  {
   "cell_type": "code",
   "execution_count": 67,
   "metadata": {
    "id": "I_jeg125l6sR"
   },
   "outputs": [
    {
     "name": "stdout",
     "output_type": "stream",
     "text": [
      "avg(Chicago Elite Cab Corp. (Chicago Carriag) = 14.194230769230769\n",
      "avg(Chicago Elite Cab Corp.) = 11.972222222222221\n",
      "avg(Taxi Affiliation Services) = 11.323531684698589\n",
      "avg(Dispatch Taxi Affiliation) = 11.639559902200498\n",
      "avg(Blue Ribbon Taxi Association Inc.) = 10.91353211009176\n",
      "avg(Northwest Management LLC) = 11.596188747731384\n",
      "avg(Choice Taxi Association) = 12.872488532110097\n",
      "avg(Chicago Medallion Management) = 8.617647058823529\n",
      "avg(Top Cab Affiliation) = 11.71439393939394\n",
      "avg(KOAM Taxi Association) = 12.56158536585366\n",
      "avg(5129 - Mengisti Taxi) = 7.8500000000000005\n",
      "avg(6057 - 24657 Richard Addo) = 19.05\n",
      "avg(3152 - 97284 Crystal Abernathy) = 9.183333333333332\n",
      "avg(4615 - 83503 Tyrone Henderson) = 9.55\n",
      "avg(3094 - 24059 G.L.B. Cab Co) = 5.05\n",
      "avg(4615 - Tyrone Henderson) = 7.949999999999999\n",
      "avg(2192 - 73487 Zeymane Corp) = 11.45\n",
      "avg(3897 - 57856 Ilie Malec) = 5.05\n",
      "avg(2823 - 73307 Seung Lee) = 34.05\n",
      "avg(2733 - 74600 Benny Jona) = 16.116666666666664\n",
      "avg(3253 - 91138 Gaither Cab Co.) = 13.050000000000002\n",
      "avg(Chicago Medallion Leasing INC) = 14.511363636363637\n",
      "avg(5006 - 39261 Salifu Bawa) = 7.849999999999999\n",
      "avg(4197 - 41842 Royal Star) = 7.85\n",
      "avg(4053 - 40193 Adwar H. Nikola) = 26.05\n",
      "avg(5074 - 54002 Ahzmi Inc) = 6.85\n",
      "avg(0118 - 42111 Godfrey S.Awir) = 22.4375\n",
      "avg(6742 - 83735 Tasha ride inc) = 8.65\n",
      "avg(3011 - 66308 JBL Cab Inc.) = 6.583333333333333\n",
      "avg(5129 - 98755 Mengisti Taxi) = 6.85\n",
      "avg(4197 - Royal Star) = 46.65\n",
      "avg(3201 - C&D Cab Co Inc) = 7.916666666666667\n",
      "avg(3385 - Eman Cab) = 5.85\n",
      "avg(C & D Cab Co Inc) = 5.949999999999999\n",
      "avg(6488 - 83287 Zuha Taxi) = 11.45\n",
      "avg(2092 - 61288 Sbeih company) = 5.25\n",
      "avg(5129 - 87128) = 6.25\n",
      "avg(1085 - 72312 N and W Cab Co) = 5.783333333333334\n",
      "avg(3319 - CD Cab Co) = 6.0\n",
      "avg(585 - 88805 Valley Cab Co) = 6.0\n",
      "avg(2192 - Zeymane Corp) = 5.65\n",
      "avg(5874 - Sergey Cab Corp.) = 14.25\n",
      "avg(6574 - Babylon Express Inc.) = 9.05\n",
      "avg(5997 - 65283 AW Services Inc.) = 12.65\n",
      "avg(4053 - Adwar H. Nikola) = 5.25\n",
      "avg(3385 - 23210 Eman Cab) = 6.05\n",
      "avg(5874 - 73628 Sergey Cab Corp.) = 10.05\n",
      "avg(3201 - CID Cab Co Inc) = 8.85\n",
      "avg(3623 - 72222 Arrington Enterprises) = 12.116666666666667\n",
      "avg(4623 - Jay Kim) = 3.25\n",
      "avg(0694 - 59280 Chinesco Trans Inc) = 10.25\n",
      "avg(6743 - Luhak Corp) = 7.05\n",
      "avg(5864 - 73614 Thomas Owusu) = 6.85\n",
      "avg(5006 - Salifu Bawa) = 6.05\n",
      "avg(5724 - KYVI Cab Inc) = 7.65\n",
      "avg(2809 - 95474 C & D Cab Co Inc.) = 4.45\n",
      "avg(3897 - Ilie Malec) = 9.65\n",
      "avg(5864 - Thomas Owusu) = 6.05\n",
      "avg(585 - Valley Cab Co) = 12.05\n",
      "avg(5074 - Ahzmi Inc) = 7.25\n",
      "avg(5997 - AW Services Inc.) = 9.65\n",
      "Top 5 Companies = [(46.65, '4197 - Royal Star'), (34.05, '2823 - 73307 Seung Lee'), (26.05, '4053 - 40193 Adwar H. Nikola'), (22.4375, '0118 - 42111 Godfrey S.Awir'), (19.05, '6057 - 24657 Richard Addo')]\n"
     ]
    },
    {
     "data": {
      "image/svg+xml": [
       "<?xml version=\"1.0\" encoding=\"UTF-8\" standalone=\"no\"?>\n",
       "<!DOCTYPE svg PUBLIC \"-//W3C//DTD SVG 1.1//EN\"\n",
       " \"http://www.w3.org/Graphics/SVG/1.1/DTD/svg11.dtd\">\n",
       "<!-- Generated by graphviz version 2.42.3 (20191010.1750)\n",
       " -->\n",
       "<!-- Title: G Pages: 1 -->\n",
       "<svg width=\"754pt\" height=\"1511pt\"\n",
       " viewBox=\"0.00 0.00 754.00 1511.26\" xmlns=\"http://www.w3.org/2000/svg\" xmlns:xlink=\"http://www.w3.org/1999/xlink\">\n",
       "<g id=\"graph0\" class=\"graph\" transform=\"scale(1 1) rotate(0) translate(4 1507.26)\">\n",
       "<title>G</title>\n",
       "<polygon fill=\"white\" stroke=\"transparent\" points=\"-4,4 -4,-1507.26 750,-1507.26 750,4 -4,4\"/>\n",
       "<!-- [67]: ReadFromText -->\n",
       "<g id=\"node1\" class=\"node\">\n",
       "<title>[67]: ReadFromText</title>\n",
       "<polygon fill=\"none\" stroke=\"blue\" points=\"437.5,-1503.26 308.5,-1503.26 308.5,-1467.26 437.5,-1467.26 437.5,-1503.26\"/>\n",
       "<text text-anchor=\"middle\" x=\"373\" y=\"-1481.56\" font-family=\"Times,serif\" font-size=\"14.00\" fill=\"blue\">[67]: ReadFromText</text>\n",
       "</g>\n",
       "<!-- pcoll683 -->\n",
       "<g id=\"node2\" class=\"node\">\n",
       "<title>pcoll683</title>\n",
       "<ellipse fill=\"none\" stroke=\"blue\" cx=\"373\" cy=\"-1413.26\" rx=\"18\" ry=\"18\"/>\n",
       "</g>\n",
       "<!-- [67]: ReadFromText&#45;&gt;pcoll683 -->\n",
       "<g id=\"edge1\" class=\"edge\">\n",
       "<title>[67]: ReadFromText&#45;&gt;pcoll683</title>\n",
       "<path fill=\"none\" stroke=\"black\" d=\"M373,-1466.95C373,-1459.24 373,-1449.97 373,-1441.37\"/>\n",
       "<polygon fill=\"black\" stroke=\"black\" points=\"376.5,-1441.36 373,-1431.36 369.5,-1441.36 376.5,-1441.36\"/>\n",
       "</g>\n",
       "<!-- [67]: Map(&lt;lambda at &lt;ipython&#45;input&#45;67&#45;a7a135215ed6&gt;:5&gt;) -->\n",
       "<g id=\"node3\" class=\"node\">\n",
       "<title>[67]: Map(&lt;lambda at &lt;ipython&#45;input&#45;67&#45;a7a135215ed6&gt;:5&gt;)</title>\n",
       "<polygon fill=\"none\" stroke=\"blue\" points=\"551.5,-1359.26 194.5,-1359.26 194.5,-1323.26 551.5,-1323.26 551.5,-1359.26\"/>\n",
       "<text text-anchor=\"middle\" x=\"373\" y=\"-1337.56\" font-family=\"Times,serif\" font-size=\"14.00\" fill=\"blue\">[67]: Map(&lt;lambda at &lt;ipython&#45;input&#45;67&#45;a7a135215ed6&gt;:5&gt;)</text>\n",
       "</g>\n",
       "<!-- pcoll683&#45;&gt;[67]: Map(&lt;lambda at &lt;ipython&#45;input&#45;67&#45;a7a135215ed6&gt;:5&gt;) -->\n",
       "<g id=\"edge2\" class=\"edge\">\n",
       "<title>pcoll683&#45;&gt;[67]: Map(&lt;lambda at &lt;ipython&#45;input&#45;67&#45;a7a135215ed6&gt;:5&gt;)</title>\n",
       "<path fill=\"none\" stroke=\"black\" d=\"M373,-1394.95C373,-1387.24 373,-1377.97 373,-1369.37\"/>\n",
       "<polygon fill=\"black\" stroke=\"black\" points=\"376.5,-1369.36 373,-1359.36 369.5,-1369.36 376.5,-1369.36\"/>\n",
       "</g>\n",
       "<!-- pcoll3602 -->\n",
       "<g id=\"node4\" class=\"node\">\n",
       "<title>pcoll3602</title>\n",
       "<ellipse fill=\"none\" stroke=\"blue\" cx=\"373\" cy=\"-1269.26\" rx=\"18\" ry=\"18\"/>\n",
       "</g>\n",
       "<!-- [67]: Map(&lt;lambda at &lt;ipython&#45;input&#45;67&#45;a7a135215ed6&gt;:5&gt;)&#45;&gt;pcoll3602 -->\n",
       "<g id=\"edge3\" class=\"edge\">\n",
       "<title>[67]: Map(&lt;lambda at &lt;ipython&#45;input&#45;67&#45;a7a135215ed6&gt;:5&gt;)&#45;&gt;pcoll3602</title>\n",
       "<path fill=\"none\" stroke=\"black\" d=\"M373,-1322.95C373,-1315.24 373,-1305.97 373,-1297.37\"/>\n",
       "<polygon fill=\"black\" stroke=\"black\" points=\"376.5,-1297.36 373,-1287.36 369.5,-1297.36 376.5,-1297.36\"/>\n",
       "</g>\n",
       "<!-- [67]: Filter(&lt;lambda at &lt;ipython&#45;input&#45;67&#45;a7a135215ed6&gt;:6&gt;) -->\n",
       "<g id=\"node5\" class=\"node\">\n",
       "<title>[67]: Filter(&lt;lambda at &lt;ipython&#45;input&#45;67&#45;a7a135215ed6&gt;:6&gt;)</title>\n",
       "<polygon fill=\"none\" stroke=\"blue\" points=\"553.5,-1215.26 192.5,-1215.26 192.5,-1179.26 553.5,-1179.26 553.5,-1215.26\"/>\n",
       "<text text-anchor=\"middle\" x=\"373\" y=\"-1193.56\" font-family=\"Times,serif\" font-size=\"14.00\" fill=\"blue\">[67]: Filter(&lt;lambda at &lt;ipython&#45;input&#45;67&#45;a7a135215ed6&gt;:6&gt;)</text>\n",
       "</g>\n",
       "<!-- pcoll3602&#45;&gt;[67]: Filter(&lt;lambda at &lt;ipython&#45;input&#45;67&#45;a7a135215ed6&gt;:6&gt;) -->\n",
       "<g id=\"edge4\" class=\"edge\">\n",
       "<title>pcoll3602&#45;&gt;[67]: Filter(&lt;lambda at &lt;ipython&#45;input&#45;67&#45;a7a135215ed6&gt;:6&gt;)</title>\n",
       "<path fill=\"none\" stroke=\"black\" d=\"M373,-1250.95C373,-1243.24 373,-1233.97 373,-1225.37\"/>\n",
       "<polygon fill=\"black\" stroke=\"black\" points=\"376.5,-1225.36 373,-1215.36 369.5,-1225.36 376.5,-1225.36\"/>\n",
       "</g>\n",
       "<!-- pcoll7479 -->\n",
       "<g id=\"node6\" class=\"node\">\n",
       "<title>pcoll7479</title>\n",
       "<ellipse fill=\"none\" stroke=\"blue\" cx=\"373\" cy=\"-1125.26\" rx=\"18\" ry=\"18\"/>\n",
       "</g>\n",
       "<!-- [67]: Filter(&lt;lambda at &lt;ipython&#45;input&#45;67&#45;a7a135215ed6&gt;:6&gt;)&#45;&gt;pcoll7479 -->\n",
       "<g id=\"edge5\" class=\"edge\">\n",
       "<title>[67]: Filter(&lt;lambda at &lt;ipython&#45;input&#45;67&#45;a7a135215ed6&gt;:6&gt;)&#45;&gt;pcoll7479</title>\n",
       "<path fill=\"none\" stroke=\"black\" d=\"M373,-1178.95C373,-1171.24 373,-1161.97 373,-1153.37\"/>\n",
       "<polygon fill=\"black\" stroke=\"black\" points=\"376.5,-1153.36 373,-1143.36 369.5,-1153.36 376.5,-1153.36\"/>\n",
       "</g>\n",
       "<!-- [67]: Map(&lt;lambda at &lt;ipython&#45;input&#45;67&#45;a7a135215ed6&gt;:7&gt;) -->\n",
       "<g id=\"node7\" class=\"node\">\n",
       "<title>[67]: Map(&lt;lambda at &lt;ipython&#45;input&#45;67&#45;a7a135215ed6&gt;:7&gt;)</title>\n",
       "<polygon fill=\"none\" stroke=\"blue\" points=\"551.5,-1071.26 194.5,-1071.26 194.5,-1035.26 551.5,-1035.26 551.5,-1071.26\"/>\n",
       "<text text-anchor=\"middle\" x=\"373\" y=\"-1049.56\" font-family=\"Times,serif\" font-size=\"14.00\" fill=\"blue\">[67]: Map(&lt;lambda at &lt;ipython&#45;input&#45;67&#45;a7a135215ed6&gt;:7&gt;)</text>\n",
       "</g>\n",
       "<!-- pcoll7479&#45;&gt;[67]: Map(&lt;lambda at &lt;ipython&#45;input&#45;67&#45;a7a135215ed6&gt;:7&gt;) -->\n",
       "<g id=\"edge6\" class=\"edge\">\n",
       "<title>pcoll7479&#45;&gt;[67]: Map(&lt;lambda at &lt;ipython&#45;input&#45;67&#45;a7a135215ed6&gt;:7&gt;)</title>\n",
       "<path fill=\"none\" stroke=\"black\" d=\"M373,-1106.95C373,-1099.24 373,-1089.97 373,-1081.37\"/>\n",
       "<polygon fill=\"black\" stroke=\"black\" points=\"376.5,-1081.36 373,-1071.36 369.5,-1081.36 376.5,-1081.36\"/>\n",
       "</g>\n",
       "<!-- pcoll4658 -->\n",
       "<g id=\"node8\" class=\"node\">\n",
       "<title>pcoll4658</title>\n",
       "<ellipse fill=\"none\" stroke=\"blue\" cx=\"373\" cy=\"-981.26\" rx=\"18\" ry=\"18\"/>\n",
       "</g>\n",
       "<!-- [67]: Map(&lt;lambda at &lt;ipython&#45;input&#45;67&#45;a7a135215ed6&gt;:7&gt;)&#45;&gt;pcoll4658 -->\n",
       "<g id=\"edge7\" class=\"edge\">\n",
       "<title>[67]: Map(&lt;lambda at &lt;ipython&#45;input&#45;67&#45;a7a135215ed6&gt;:7&gt;)&#45;&gt;pcoll4658</title>\n",
       "<path fill=\"none\" stroke=\"black\" d=\"M373,-1034.95C373,-1027.24 373,-1017.97 373,-1009.37\"/>\n",
       "<polygon fill=\"black\" stroke=\"black\" points=\"376.5,-1009.36 373,-999.36 369.5,-1009.36 376.5,-1009.36\"/>\n",
       "</g>\n",
       "<!-- [67]: CombinePerKey(AverageFn) -->\n",
       "<g id=\"node9\" class=\"node\">\n",
       "<title>[67]: CombinePerKey(AverageFn)</title>\n",
       "<polygon fill=\"none\" stroke=\"blue\" points=\"476,-927.26 270,-927.26 270,-891.26 476,-891.26 476,-927.26\"/>\n",
       "<text text-anchor=\"middle\" x=\"373\" y=\"-905.56\" font-family=\"Times,serif\" font-size=\"14.00\" fill=\"blue\">[67]: CombinePerKey(AverageFn)</text>\n",
       "</g>\n",
       "<!-- pcoll4658&#45;&gt;[67]: CombinePerKey(AverageFn) -->\n",
       "<g id=\"edge8\" class=\"edge\">\n",
       "<title>pcoll4658&#45;&gt;[67]: CombinePerKey(AverageFn)</title>\n",
       "<path fill=\"none\" stroke=\"black\" d=\"M373,-962.95C373,-955.24 373,-945.97 373,-937.37\"/>\n",
       "<polygon fill=\"black\" stroke=\"black\" points=\"376.5,-937.36 373,-927.36 369.5,-937.36 376.5,-937.36\"/>\n",
       "</g>\n",
       "<!-- average_per_company -->\n",
       "<g id=\"node10\" class=\"node\">\n",
       "<title>average_per_company</title>\n",
       "<ellipse fill=\"none\" stroke=\"blue\" cx=\"373\" cy=\"-764.26\" rx=\"90.98\" ry=\"90.98\"/>\n",
       "<text text-anchor=\"middle\" x=\"373\" y=\"-760.56\" font-family=\"Times,serif\" font-size=\"14.00\" fill=\"blue\">average_per_company</text>\n",
       "</g>\n",
       "<!-- [67]: CombinePerKey(AverageFn)&#45;&gt;average_per_company -->\n",
       "<g id=\"edge9\" class=\"edge\">\n",
       "<title>[67]: CombinePerKey(AverageFn)&#45;&gt;average_per_company</title>\n",
       "<path fill=\"none\" stroke=\"black\" d=\"M373,-891.01C373,-883.95 373,-875.18 373,-865.58\"/>\n",
       "<polygon fill=\"black\" stroke=\"black\" points=\"376.5,-865.32 373,-855.32 369.5,-865.32 376.5,-865.32\"/>\n",
       "</g>\n",
       "<!-- [67]: Map(&lt;lambda at &lt;ipython&#45;input&#45;67&#45;a7a135215ed6&gt;:13&gt;) -->\n",
       "<g id=\"node11\" class=\"node\">\n",
       "<title>[67]: Map(&lt;lambda at &lt;ipython&#45;input&#45;67&#45;a7a135215ed6&gt;:13&gt;)</title>\n",
       "<polygon fill=\"none\" stroke=\"blue\" points=\"364,-637.27 0,-637.27 0,-601.27 364,-601.27 364,-637.27\"/>\n",
       "<text text-anchor=\"middle\" x=\"182\" y=\"-615.57\" font-family=\"Times,serif\" font-size=\"14.00\" fill=\"blue\">[67]: Map(&lt;lambda at &lt;ipython&#45;input&#45;67&#45;a7a135215ed6&gt;:13&gt;)</text>\n",
       "</g>\n",
       "<!-- average_per_company&#45;&gt;[67]: Map(&lt;lambda at &lt;ipython&#45;input&#45;67&#45;a7a135215ed6&gt;:13&gt;) -->\n",
       "<g id=\"edge10\" class=\"edge\">\n",
       "<title>average_per_company&#45;&gt;[67]: Map(&lt;lambda at &lt;ipython&#45;input&#45;67&#45;a7a135215ed6&gt;:13&gt;)</title>\n",
       "<path fill=\"none\" stroke=\"black\" d=\"M300.52,-709C270.25,-686.34 236.71,-661.23 213.05,-643.52\"/>\n",
       "<polygon fill=\"black\" stroke=\"black\" points=\"214.91,-640.54 204.81,-637.35 210.72,-646.15 214.91,-640.54\"/>\n",
       "</g>\n",
       "<!-- [67]: Map(&lt;lambda at &lt;ipython&#45;input&#45;67&#45;a7a135215ed6&gt;:18&gt;) -->\n",
       "<g id=\"node13\" class=\"node\">\n",
       "<title>[67]: Map(&lt;lambda at &lt;ipython&#45;input&#45;67&#45;a7a135215ed6&gt;:18&gt;)</title>\n",
       "<polygon fill=\"none\" stroke=\"blue\" points=\"746,-637.27 382,-637.27 382,-601.27 746,-601.27 746,-637.27\"/>\n",
       "<text text-anchor=\"middle\" x=\"564\" y=\"-615.57\" font-family=\"Times,serif\" font-size=\"14.00\" fill=\"blue\">[67]: Map(&lt;lambda at &lt;ipython&#45;input&#45;67&#45;a7a135215ed6&gt;:18&gt;)</text>\n",
       "</g>\n",
       "<!-- average_per_company&#45;&gt;[67]: Map(&lt;lambda at &lt;ipython&#45;input&#45;67&#45;a7a135215ed6&gt;:18&gt;) -->\n",
       "<g id=\"edge11\" class=\"edge\">\n",
       "<title>average_per_company&#45;&gt;[67]: Map(&lt;lambda at &lt;ipython&#45;input&#45;67&#45;a7a135215ed6&gt;:18&gt;)</title>\n",
       "<path fill=\"none\" stroke=\"black\" d=\"M445.48,-709C475.75,-686.34 509.29,-661.23 532.95,-643.52\"/>\n",
       "<polygon fill=\"black\" stroke=\"black\" points=\"535.28,-646.15 541.19,-637.35 531.09,-640.54 535.28,-646.15\"/>\n",
       "</g>\n",
       "<!-- print_average_fare -->\n",
       "<g id=\"node12\" class=\"node\">\n",
       "<title>print_average_fare</title>\n",
       "<ellipse fill=\"none\" stroke=\"blue\" cx=\"182\" cy=\"-487.93\" rx=\"77.19\" ry=\"77.19\"/>\n",
       "<text text-anchor=\"middle\" x=\"182\" y=\"-484.23\" font-family=\"Times,serif\" font-size=\"14.00\" fill=\"blue\">print_average_fare</text>\n",
       "</g>\n",
       "<!-- [67]: Map(&lt;lambda at &lt;ipython&#45;input&#45;67&#45;a7a135215ed6&gt;:13&gt;)&#45;&gt;print_average_fare -->\n",
       "<g id=\"edge12\" class=\"edge\">\n",
       "<title>[67]: Map(&lt;lambda at &lt;ipython&#45;input&#45;67&#45;a7a135215ed6&gt;:13&gt;)&#45;&gt;print_average_fare</title>\n",
       "<path fill=\"none\" stroke=\"black\" d=\"M182,-601.1C182,-593.96 182,-585.09 182,-575.5\"/>\n",
       "<polygon fill=\"black\" stroke=\"black\" points=\"185.5,-575.29 182,-565.29 178.5,-575.29 185.5,-575.29\"/>\n",
       "</g>\n",
       "<!-- pcoll9529 -->\n",
       "<g id=\"node14\" class=\"node\">\n",
       "<title>pcoll9529</title>\n",
       "<ellipse fill=\"none\" stroke=\"blue\" cx=\"564\" cy=\"-487.93\" rx=\"18\" ry=\"18\"/>\n",
       "</g>\n",
       "<!-- [67]: Map(&lt;lambda at &lt;ipython&#45;input&#45;67&#45;a7a135215ed6&gt;:18&gt;)&#45;&gt;pcoll9529 -->\n",
       "<g id=\"edge13\" class=\"edge\">\n",
       "<title>[67]: Map(&lt;lambda at &lt;ipython&#45;input&#45;67&#45;a7a135215ed6&gt;:18&gt;)&#45;&gt;pcoll9529</title>\n",
       "<path fill=\"none\" stroke=\"black\" d=\"M564,-601.1C564,-579.45 564,-541.98 564,-516.35\"/>\n",
       "<polygon fill=\"black\" stroke=\"black\" points=\"567.5,-516.18 564,-506.18 560.5,-516.18 567.5,-516.18\"/>\n",
       "</g>\n",
       "<!-- [67]: Largest(5) -->\n",
       "<g id=\"node15\" class=\"node\">\n",
       "<title>[67]: Largest(5)</title>\n",
       "<polygon fill=\"none\" stroke=\"blue\" points=\"615.5,-374.59 512.5,-374.59 512.5,-338.59 615.5,-338.59 615.5,-374.59\"/>\n",
       "<text text-anchor=\"middle\" x=\"564\" y=\"-352.89\" font-family=\"Times,serif\" font-size=\"14.00\" fill=\"blue\">[67]: Largest(5)</text>\n",
       "</g>\n",
       "<!-- pcoll9529&#45;&gt;[67]: Largest(5) -->\n",
       "<g id=\"edge14\" class=\"edge\">\n",
       "<title>pcoll9529&#45;&gt;[67]: Largest(5)</title>\n",
       "<path fill=\"none\" stroke=\"black\" d=\"M564,-469.75C564,-448.11 564,-410.64 564,-385.01\"/>\n",
       "<polygon fill=\"black\" stroke=\"black\" points=\"567.5,-384.83 564,-374.83 560.5,-384.83 567.5,-384.83\"/>\n",
       "</g>\n",
       "<!-- pcoll8698 -->\n",
       "<g id=\"node16\" class=\"node\">\n",
       "<title>pcoll8698</title>\n",
       "<ellipse fill=\"none\" stroke=\"blue\" cx=\"564\" cy=\"-284.59\" rx=\"18\" ry=\"18\"/>\n",
       "</g>\n",
       "<!-- [67]: Largest(5)&#45;&gt;pcoll8698 -->\n",
       "<g id=\"edge15\" class=\"edge\">\n",
       "<title>[67]: Largest(5)&#45;&gt;pcoll8698</title>\n",
       "<path fill=\"none\" stroke=\"black\" d=\"M564,-338.28C564,-330.57 564,-321.3 564,-312.7\"/>\n",
       "<polygon fill=\"black\" stroke=\"black\" points=\"567.5,-312.69 564,-302.69 560.5,-312.69 567.5,-312.69\"/>\n",
       "</g>\n",
       "<!-- [67]: Map(&lt;lambda at &lt;ipython&#45;input&#45;67&#45;a7a135215ed6&gt;:20&gt;) -->\n",
       "<g id=\"node17\" class=\"node\">\n",
       "<title>[67]: Map(&lt;lambda at &lt;ipython&#45;input&#45;67&#45;a7a135215ed6&gt;:20&gt;)</title>\n",
       "<polygon fill=\"none\" stroke=\"blue\" points=\"746,-230.59 382,-230.59 382,-194.59 746,-194.59 746,-230.59\"/>\n",
       "<text text-anchor=\"middle\" x=\"564\" y=\"-208.89\" font-family=\"Times,serif\" font-size=\"14.00\" fill=\"blue\">[67]: Map(&lt;lambda at &lt;ipython&#45;input&#45;67&#45;a7a135215ed6&gt;:20&gt;)</text>\n",
       "</g>\n",
       "<!-- pcoll8698&#45;&gt;[67]: Map(&lt;lambda at &lt;ipython&#45;input&#45;67&#45;a7a135215ed6&gt;:20&gt;) -->\n",
       "<g id=\"edge16\" class=\"edge\">\n",
       "<title>pcoll8698&#45;&gt;[67]: Map(&lt;lambda at &lt;ipython&#45;input&#45;67&#45;a7a135215ed6&gt;:20&gt;)</title>\n",
       "<path fill=\"none\" stroke=\"black\" d=\"M564,-266.28C564,-258.57 564,-249.3 564,-240.7\"/>\n",
       "<polygon fill=\"black\" stroke=\"black\" points=\"567.5,-240.69 564,-230.69 560.5,-240.69 567.5,-240.69\"/>\n",
       "</g>\n",
       "<!-- print_average_top5 -->\n",
       "<g id=\"node18\" class=\"node\">\n",
       "<title>print_average_top5</title>\n",
       "<ellipse fill=\"none\" stroke=\"blue\" cx=\"564\" cy=\"-79.29\" rx=\"79.09\" ry=\"79.09\"/>\n",
       "<text text-anchor=\"middle\" x=\"564\" y=\"-75.59\" font-family=\"Times,serif\" font-size=\"14.00\" fill=\"blue\">print_average_top5</text>\n",
       "</g>\n",
       "<!-- [67]: Map(&lt;lambda at &lt;ipython&#45;input&#45;67&#45;a7a135215ed6&gt;:20&gt;)&#45;&gt;print_average_top5 -->\n",
       "<g id=\"edge17\" class=\"edge\">\n",
       "<title>[67]: Map(&lt;lambda at &lt;ipython&#45;input&#45;67&#45;a7a135215ed6&gt;:20&gt;)&#45;&gt;print_average_top5</title>\n",
       "<path fill=\"none\" stroke=\"black\" d=\"M564,-194.42C564,-187.3 564,-178.46 564,-168.88\"/>\n",
       "<polygon fill=\"black\" stroke=\"black\" points=\"567.5,-168.66 564,-158.66 560.5,-168.66 567.5,-168.66\"/>\n",
       "</g>\n",
       "</g>\n",
       "</svg>\n"
      ],
      "text/plain": [
       "<graphviz.files.Source at 0x7f49883451d0>"
      ]
     },
     "execution_count": 67,
     "metadata": {},
     "output_type": "execute_result"
    }
   ],
   "source": [
    "with beam.Pipeline() as pipeline:\n",
    "    average_per_company = (\n",
    "        pipeline\n",
    "        | beam.io.ReadFromText(_data_filepath)\n",
    "        | beam.Map(lambda x: x.split(','))\n",
    "        | beam.Filter(lambda x: x[0] != 'pickup_community_area' and x[-4])\n",
    "        | beam.Map(lambda x: (x[-4], float(x[1])))\n",
    "        | beam.CombinePerKey(AverageFn())\n",
    "    )\n",
    "    \n",
    "    print_average_fare = (\n",
    "        average_per_company\n",
    "        | beam.Map(lambda x: passthrough('avg({}) ='.format(x[0]), x[1]))\n",
    "    )\n",
    "    \n",
    "    print_average_top5 = (\n",
    "        average_per_company\n",
    "        | beam.Map(lambda x: (x[1], x[0]))\n",
    "        | beam.combiners.Top.Largest(5)\n",
    "        | beam.Map(lambda x: passthrough('Top 5 Companies =', x))\n",
    "    )\n",
    "    \n",
    "display_pipeline(pipeline)"
   ]
  },
  {
   "cell_type": "code",
   "execution_count": null,
   "metadata": {
    "id": "3q6OTO5Xl6sU"
   },
   "outputs": [],
   "source": []
  },
  {
   "cell_type": "code",
   "execution_count": null,
   "metadata": {
    "id": "U5sVJaojl6sW"
   },
   "outputs": [],
   "source": []
  },
  {
   "cell_type": "code",
   "execution_count": null,
   "metadata": {
    "id": "Y7LfH_rHl6sZ"
   },
   "outputs": [],
   "source": []
  },
  {
   "cell_type": "code",
   "execution_count": null,
   "metadata": {
    "id": "lNSVxnmnl6sa"
   },
   "outputs": [],
   "source": []
  },
  {
   "cell_type": "markdown",
   "metadata": {
    "id": "u8pjA5uFl6sc"
   },
   "source": [
    "![Solution](https://urldefense.com/v3/__https://www.tensorflow.org/site-assets/images/marketing/learn/tfx-hero.svg__;!!PIZeeW5wscynRQ!55X7LkP-oqeRJ6UUmtPVv4vn3HLBOqlFNpBPTKq9j6A_FsUVIeCO-4RxzvhZF7w$ )"
   ]
  },
  {
   "cell_type": "markdown",
   "metadata": {
    "id": "I2mfIjMbl6sc"
   },
   "source": [
    "**Solution**:"
   ]
  },
  {
   "cell_type": "code",
   "execution_count": 66,
   "metadata": {
    "id": "QGLY9QRJLB8y"
   },
   "outputs": [
    {
     "name": "stdout",
     "output_type": "stream",
     "text": [
      "(Mean Fare, Company): (14.194230769230769, 'Chicago Elite Cab Corp. (Chicago Carriag')\n",
      "(Mean Fare, Company): (11.972222222222221, 'Chicago Elite Cab Corp.')\n",
      "(Mean Fare, Company): (11.323531684698589, 'Taxi Affiliation Services')\n",
      "(Mean Fare, Company): (11.639559902200498, 'Dispatch Taxi Affiliation')\n",
      "(Mean Fare, Company): (10.91353211009176, 'Blue Ribbon Taxi Association Inc.')\n",
      "(Mean Fare, Company): (11.596188747731384, 'Northwest Management LLC')\n",
      "(Mean Fare, Company): (12.872488532110097, 'Choice Taxi Association')\n",
      "(Mean Fare, Company): (8.617647058823529, 'Chicago Medallion Management')\n",
      "(Mean Fare, Company): (11.71439393939394, 'Top Cab Affiliation')\n",
      "(Mean Fare, Company): (12.56158536585366, 'KOAM Taxi Association')\n",
      "(Mean Fare, Company): (7.8500000000000005, '5129 - Mengisti Taxi')\n",
      "(Mean Fare, Company): (19.05, '6057 - 24657 Richard Addo')\n",
      "(Mean Fare, Company): (9.183333333333332, '3152 - 97284 Crystal Abernathy')\n",
      "(Mean Fare, Company): (9.55, '4615 - 83503 Tyrone Henderson')\n",
      "(Mean Fare, Company): (5.05, '3094 - 24059 G.L.B. Cab Co')\n",
      "(Mean Fare, Company): (7.949999999999999, '4615 - Tyrone Henderson')\n",
      "(Mean Fare, Company): (11.45, '2192 - 73487 Zeymane Corp')\n",
      "(Mean Fare, Company): (5.05, '3897 - 57856 Ilie Malec')\n",
      "(Mean Fare, Company): (34.05, '2823 - 73307 Seung Lee')\n",
      "(Mean Fare, Company): (16.116666666666664, '2733 - 74600 Benny Jona')\n",
      "(Mean Fare, Company): (13.050000000000002, '3253 - 91138 Gaither Cab Co.')\n",
      "(Mean Fare, Company): (14.511363636363637, 'Chicago Medallion Leasing INC')\n",
      "(Mean Fare, Company): (7.849999999999999, '5006 - 39261 Salifu Bawa')\n",
      "(Mean Fare, Company): (7.85, '4197 - 41842 Royal Star')\n",
      "(Mean Fare, Company): (26.05, '4053 - 40193 Adwar H. Nikola')\n",
      "(Mean Fare, Company): (6.85, '5074 - 54002 Ahzmi Inc')\n",
      "(Mean Fare, Company): (22.4375, '0118 - 42111 Godfrey S.Awir')\n",
      "(Mean Fare, Company): (8.65, '6742 - 83735 Tasha ride inc')\n",
      "(Mean Fare, Company): (6.583333333333333, '3011 - 66308 JBL Cab Inc.')\n",
      "(Mean Fare, Company): (6.85, '5129 - 98755 Mengisti Taxi')\n",
      "(Mean Fare, Company): (46.65, '4197 - Royal Star')\n",
      "(Mean Fare, Company): (7.916666666666667, '3201 - C&D Cab Co Inc')\n",
      "(Mean Fare, Company): (5.85, '3385 - Eman Cab')\n",
      "(Mean Fare, Company): (5.949999999999999, 'C & D Cab Co Inc')\n",
      "(Mean Fare, Company): (11.45, '6488 - 83287 Zuha Taxi')\n",
      "(Mean Fare, Company): (5.25, '2092 - 61288 Sbeih company')\n",
      "(Mean Fare, Company): (6.25, '5129 - 87128')\n",
      "(Mean Fare, Company): (5.783333333333334, '1085 - 72312 N and W Cab Co')\n",
      "(Mean Fare, Company): (6.0, '3319 - CD Cab Co')\n",
      "(Mean Fare, Company): (6.0, '585 - 88805 Valley Cab Co')\n",
      "(Mean Fare, Company): (5.65, '2192 - Zeymane Corp')\n",
      "(Mean Fare, Company): (14.25, '5874 - Sergey Cab Corp.')\n",
      "(Mean Fare, Company): (9.05, '6574 - Babylon Express Inc.')\n",
      "(Mean Fare, Company): (12.65, '5997 - 65283 AW Services Inc.')\n",
      "(Mean Fare, Company): (5.25, '4053 - Adwar H. Nikola')\n",
      "(Mean Fare, Company): (6.05, '3385 - 23210 Eman Cab')\n",
      "(Mean Fare, Company): (10.05, '5874 - 73628 Sergey Cab Corp.')\n",
      "(Mean Fare, Company): (8.85, '3201 - CID Cab Co Inc')\n",
      "(Mean Fare, Company): (12.116666666666667, '3623 - 72222 Arrington Enterprises')\n",
      "(Mean Fare, Company): (3.25, '4623 - Jay Kim')\n",
      "(Mean Fare, Company): (10.25, '0694 - 59280 Chinesco Trans Inc')\n",
      "(Mean Fare, Company): (7.05, '6743 - Luhak Corp')\n",
      "(Mean Fare, Company): (6.85, '5864 - 73614 Thomas Owusu')\n",
      "(Mean Fare, Company): (6.05, '5006 - Salifu Bawa')\n",
      "(Mean Fare, Company): (7.65, '5724 - KYVI Cab Inc')\n",
      "(Mean Fare, Company): (4.45, '2809 - 95474 C & D Cab Co Inc.')\n",
      "(Mean Fare, Company): (9.65, '3897 - Ilie Malec')\n",
      "(Mean Fare, Company): (6.05, '5864 - Thomas Owusu')\n",
      "(Mean Fare, Company): (12.05, '585 - Valley Cab Co')\n",
      "(Mean Fare, Company): (7.25, '5074 - Ahzmi Inc')\n",
      "(Mean Fare, Company): (9.65, '5997 - AW Services Inc.')\n",
      "Top 5: [(46.65, '4197 - Royal Star'), (34.05, '2823 - 73307 Seung Lee'), (26.05, '4053 - 40193 Adwar H. Nikola'), (22.4375, '0118 - 42111 Godfrey S.Awir'), (19.05, '6057 - 24657 Richard Addo')]\n"
     ]
    }
   ],
   "source": [
    "with beam.Pipeline() as pipeline:\n",
    "  lines = (pipeline\n",
    "           | beam.io.ReadFromText(_data_filepath)\n",
    "           | beam.Map(lambda line: line.split(\",\")) # CSV\n",
    "           | beam.Filter(lambda cols: len(cols[-4]) > 0 and cols[0] != 'pickup_community_area')\n",
    "           | beam.Map(lambda cols: (cols[-4], float(cols[1]))) # (Company, Mean Fare) for PerKey\n",
    "           | beam.combiners.Mean.PerKey() # Mean fare by company\n",
    "           | beam.Map(lambda cols: (cols[1], cols[0])) # Switch to (Mean Fare, Company) for Top\n",
    "           | beam.Map(lambda x: passthrough('(Mean Fare, Company):', x))\n",
    "           | beam.combiners.Top.Largest(5) # Top 5 mean fares\n",
    "           | beam.Map(lambda x: passthrough('Top 5:', x)))"
   ]
  },
  {
   "cell_type": "markdown",
   "metadata": {
    "id": "SZlIAvT4o0tW"
   },
   "source": [
    "## Beam I/O and TFX\n",
    "\n",
    "Since TensorFlow and TFX often use the [TFRecord](https://urldefense.com/v3/__https://www.tensorflow.org/tutorials/load_data/tfrecord__;!!PIZeeW5wscynRQ!55X7LkP-oqeRJ6UUmtPVv4vn3HLBOqlFNpBPTKq9j6A_FsUVIeCO-4RxBE9fjf0$ ) format, let's use Beam I/O with TFRecord files.  \n",
    "\n",
    "First, let's create a test file containing 10 records of \"Record X\" strings in UTF-8."
   ]
  },
  {
   "cell_type": "code",
   "execution_count": 56,
   "metadata": {
    "id": "IGEzjUGaRHCW"
   },
   "outputs": [
    {
     "name": "stdout",
     "output_type": "stream",
     "text": [
      "Record 0\n",
      "Record 1\n",
      "Record 2\n",
      "Record 3\n",
      "Record 4\n",
      "Record 5\n",
      "Record 6\n",
      "Record 7\n",
      "Record 8\n",
      "Record 9\n"
     ]
    }
   ],
   "source": [
    "#!pip install -q -U \"tensorflow>=2.1,<=2.2\"\n",
    "\n",
    "import tensorflow as tf\n",
    "with tf.io.TFRecordWriter(\"test.tfrecord\") as tfrecord_file:\n",
    "  for index in range(10):\n",
    "    tfrecord_file.write(\"Record {}\".format(index).encode(\"utf-8\"))\n",
    "\n",
    "dataset = tf.data.TFRecordDataset('test.tfrecord')\n",
    "for record in dataset:\n",
    "  print(record.numpy().decode('utf-8'))"
   ]
  },
  {
   "cell_type": "markdown",
   "metadata": {
    "id": "FzAt26WBqgKE"
   },
   "source": [
    "Now let's read the test file and process each of the records.  We'll write the results to a second `TFRecord` file, one record for each record processed."
   ]
  },
  {
   "cell_type": "code",
   "execution_count": 68,
   "metadata": {
    "id": "hgRAt4nRR-qf"
   },
   "outputs": [
    {
     "name": "stderr",
     "output_type": "stream",
     "text": [
      "WARNING:apache_beam.io.tfrecordio:Couldn't find python-snappy so the implementation of _TFRecordUtil._masked_crc32c is not as fast as it could be.\n"
     ]
    },
    {
     "name": "stdout",
     "output_type": "stream",
     "text": [
      "test_processed.tfrecord-00000-of-00001\n"
     ]
    },
    {
     "data": {
      "image/svg+xml": [
       "<?xml version=\"1.0\" encoding=\"UTF-8\" standalone=\"no\"?>\n",
       "<!DOCTYPE svg PUBLIC \"-//W3C//DTD SVG 1.1//EN\"\n",
       " \"http://www.w3.org/Graphics/SVG/1.1/DTD/svg11.dtd\">\n",
       "<!-- Generated by graphviz version 2.42.3 (20191010.1750)\n",
       " -->\n",
       "<!-- Title: G Pages: 1 -->\n",
       "<svg width=\"217pt\" height=\"567pt\"\n",
       " viewBox=\"0.00 0.00 217.00 566.60\" xmlns=\"http://www.w3.org/2000/svg\" xmlns:xlink=\"http://www.w3.org/1999/xlink\">\n",
       "<g id=\"graph0\" class=\"graph\" transform=\"scale(1 1) rotate(0) translate(4 562.6)\">\n",
       "<title>G</title>\n",
       "<polygon fill=\"white\" stroke=\"transparent\" points=\"-4,4 -4,-562.6 213,-562.6 213,4 -4,4\"/>\n",
       "<!-- [68]: Read test file -->\n",
       "<g id=\"node1\" class=\"node\">\n",
       "<title>[68]: Read test file</title>\n",
       "<polygon fill=\"none\" stroke=\"blue\" points=\"164,-558.6 45,-558.6 45,-522.6 164,-522.6 164,-558.6\"/>\n",
       "<text text-anchor=\"middle\" x=\"104.5\" y=\"-536.9\" font-family=\"Times,serif\" font-size=\"14.00\" fill=\"blue\">[68]: Read test file</text>\n",
       "</g>\n",
       "<!-- pcoll683 -->\n",
       "<g id=\"node2\" class=\"node\">\n",
       "<title>pcoll683</title>\n",
       "<ellipse fill=\"none\" stroke=\"blue\" cx=\"104.5\" cy=\"-468.6\" rx=\"18\" ry=\"18\"/>\n",
       "</g>\n",
       "<!-- [68]: Read test file&#45;&gt;pcoll683 -->\n",
       "<g id=\"edge1\" class=\"edge\">\n",
       "<title>[68]: Read test file&#45;&gt;pcoll683</title>\n",
       "<path fill=\"none\" stroke=\"black\" d=\"M104.5,-522.29C104.5,-514.58 104.5,-505.31 104.5,-496.71\"/>\n",
       "<polygon fill=\"black\" stroke=\"black\" points=\"108,-496.7 104.5,-486.7 101,-496.7 108,-496.7\"/>\n",
       "</g>\n",
       "<!-- [68]: Process each record -->\n",
       "<g id=\"node3\" class=\"node\">\n",
       "<title>[68]: Process each record</title>\n",
       "<polygon fill=\"none\" stroke=\"blue\" points=\"182,-414.6 27,-414.6 27,-378.6 182,-378.6 182,-414.6\"/>\n",
       "<text text-anchor=\"middle\" x=\"104.5\" y=\"-392.9\" font-family=\"Times,serif\" font-size=\"14.00\" fill=\"blue\">[68]: Process each record</text>\n",
       "</g>\n",
       "<!-- pcoll683&#45;&gt;[68]: Process each record -->\n",
       "<g id=\"edge2\" class=\"edge\">\n",
       "<title>pcoll683&#45;&gt;[68]: Process each record</title>\n",
       "<path fill=\"none\" stroke=\"black\" d=\"M104.5,-450.29C104.5,-442.58 104.5,-433.31 104.5,-424.71\"/>\n",
       "<polygon fill=\"black\" stroke=\"black\" points=\"108,-424.7 104.5,-414.7 101,-424.7 108,-424.7\"/>\n",
       "</g>\n",
       "<!-- pcoll3602 -->\n",
       "<g id=\"node4\" class=\"node\">\n",
       "<title>pcoll3602</title>\n",
       "<ellipse fill=\"none\" stroke=\"blue\" cx=\"104.5\" cy=\"-324.6\" rx=\"18\" ry=\"18\"/>\n",
       "</g>\n",
       "<!-- [68]: Process each record&#45;&gt;pcoll3602 -->\n",
       "<g id=\"edge3\" class=\"edge\">\n",
       "<title>[68]: Process each record&#45;&gt;pcoll3602</title>\n",
       "<path fill=\"none\" stroke=\"black\" d=\"M104.5,-378.29C104.5,-370.58 104.5,-361.31 104.5,-352.71\"/>\n",
       "<polygon fill=\"black\" stroke=\"black\" points=\"108,-352.7 104.5,-342.7 101,-352.7 108,-352.7\"/>\n",
       "</g>\n",
       "<!-- [68]: Write the results to a new file -->\n",
       "<g id=\"node5\" class=\"node\">\n",
       "<title>[68]: Write the results to a new file</title>\n",
       "<polygon fill=\"none\" stroke=\"blue\" points=\"209,-270.6 0,-270.6 0,-234.6 209,-234.6 209,-270.6\"/>\n",
       "<text text-anchor=\"middle\" x=\"104.5\" y=\"-248.9\" font-family=\"Times,serif\" font-size=\"14.00\" fill=\"blue\">[68]: Write the results to a new file</text>\n",
       "</g>\n",
       "<!-- pcoll3602&#45;&gt;[68]: Write the results to a new file -->\n",
       "<g id=\"edge4\" class=\"edge\">\n",
       "<title>pcoll3602&#45;&gt;[68]: Write the results to a new file</title>\n",
       "<path fill=\"none\" stroke=\"black\" d=\"M104.5,-306.29C104.5,-298.58 104.5,-289.31 104.5,-280.71\"/>\n",
       "<polygon fill=\"black\" stroke=\"black\" points=\"108,-280.7 104.5,-270.7 101,-280.7 108,-280.7\"/>\n",
       "</g>\n",
       "<!-- pcoll7232 -->\n",
       "<g id=\"node6\" class=\"node\">\n",
       "<title>pcoll7232</title>\n",
       "<ellipse fill=\"none\" stroke=\"blue\" cx=\"104.5\" cy=\"-180.6\" rx=\"18\" ry=\"18\"/>\n",
       "</g>\n",
       "<!-- [68]: Write the results to a new file&#45;&gt;pcoll7232 -->\n",
       "<g id=\"edge5\" class=\"edge\">\n",
       "<title>[68]: Write the results to a new file&#45;&gt;pcoll7232</title>\n",
       "<path fill=\"none\" stroke=\"black\" d=\"M104.5,-234.29C104.5,-226.58 104.5,-217.31 104.5,-208.71\"/>\n",
       "<polygon fill=\"black\" stroke=\"black\" points=\"108,-208.7 104.5,-198.7 101,-208.7 108,-208.7\"/>\n",
       "</g>\n",
       "<!-- [68]: Print the filename -->\n",
       "<g id=\"node7\" class=\"node\">\n",
       "<title>[68]: Print the filename</title>\n",
       "<polygon fill=\"none\" stroke=\"blue\" points=\"177,-126.6 32,-126.6 32,-90.6 177,-90.6 177,-126.6\"/>\n",
       "<text text-anchor=\"middle\" x=\"104.5\" y=\"-104.9\" font-family=\"Times,serif\" font-size=\"14.00\" fill=\"blue\">[68]: Print the filename</text>\n",
       "</g>\n",
       "<!-- pcoll7232&#45;&gt;[68]: Print the filename -->\n",
       "<g id=\"edge6\" class=\"edge\">\n",
       "<title>pcoll7232&#45;&gt;[68]: Print the filename</title>\n",
       "<path fill=\"none\" stroke=\"black\" d=\"M104.5,-162.29C104.5,-154.58 104.5,-145.31 104.5,-136.71\"/>\n",
       "<polygon fill=\"black\" stroke=\"black\" points=\"108,-136.7 104.5,-126.7 101,-136.7 108,-136.7\"/>\n",
       "</g>\n",
       "<!-- lines -->\n",
       "<g id=\"node8\" class=\"node\">\n",
       "<title>lines</title>\n",
       "<ellipse fill=\"none\" stroke=\"blue\" cx=\"104.5\" cy=\"-27.3\" rx=\"27.1\" ry=\"27.1\"/>\n",
       "<text text-anchor=\"middle\" x=\"104.5\" y=\"-23.6\" font-family=\"Times,serif\" font-size=\"14.00\" fill=\"blue\">lines</text>\n",
       "</g>\n",
       "<!-- [68]: Print the filename&#45;&gt;lines -->\n",
       "<g id=\"edge7\" class=\"edge\">\n",
       "<title>[68]: Print the filename&#45;&gt;lines</title>\n",
       "<path fill=\"none\" stroke=\"black\" d=\"M104.5,-90.39C104.5,-82.92 104.5,-73.88 104.5,-65.03\"/>\n",
       "<polygon fill=\"black\" stroke=\"black\" points=\"108,-64.83 104.5,-54.83 101,-64.83 108,-64.83\"/>\n",
       "</g>\n",
       "</g>\n",
       "</svg>\n"
      ],
      "text/plain": [
       "<graphviz.files.Source at 0x7f4a6a28e6d0>"
      ]
     },
     "execution_count": 68,
     "metadata": {},
     "output_type": "execute_result"
    }
   ],
   "source": [
    "with beam.Pipeline() as rw_pipeline:\n",
    "  lines = (rw_pipeline\n",
    "           | 'Read test file' >> beam.io.ReadFromTFRecord(\"test.tfrecord\")\n",
    "           | 'Process each record' >> beam.Map(lambda line: line + b' processed')\n",
    "           | 'Write the results to a new file' >> beam.io.WriteToTFRecord(\"test_processed.tfrecord\")\n",
    "           | 'Print the filename' >> beam.ParDo(print))\n",
    "\n",
    "display_pipeline(rw_pipeline)"
   ]
  },
  {
   "cell_type": "markdown",
   "metadata": {
    "id": "X_j06O0ktIdy"
   },
   "source": [
    "Now let's read the results file and print each record."
   ]
  },
  {
   "cell_type": "code",
   "execution_count": 69,
   "metadata": {
    "id": "sT_bo1VxTbTb"
   },
   "outputs": [
    {
     "name": "stdout",
     "output_type": "stream",
     "text": [
      "Record 0 processed\n",
      "Record 1 processed\n",
      "Record 2 processed\n",
      "Record 3 processed\n",
      "Record 4 processed\n",
      "Record 5 processed\n",
      "Record 6 processed\n",
      "Record 7 processed\n",
      "Record 8 processed\n",
      "Record 9 processed\n"
     ]
    },
    {
     "data": {
      "image/svg+xml": [
       "<?xml version=\"1.0\" encoding=\"UTF-8\" standalone=\"no\"?>\n",
       "<!DOCTYPE svg PUBLIC \"-//W3C//DTD SVG 1.1//EN\"\n",
       " \"http://www.w3.org/Graphics/SVG/1.1/DTD/svg11.dtd\">\n",
       "<!-- Generated by graphviz version 2.42.3 (20191010.1750)\n",
       " -->\n",
       "<!-- Title: G Pages: 1 -->\n",
       "<svg width=\"163pt\" height=\"423pt\"\n",
       " viewBox=\"0.00 0.00 163.00 422.60\" xmlns=\"http://www.w3.org/2000/svg\" xmlns:xlink=\"http://www.w3.org/1999/xlink\">\n",
       "<g id=\"graph0\" class=\"graph\" transform=\"scale(1 1) rotate(0) translate(4 418.6)\">\n",
       "<title>G</title>\n",
       "<polygon fill=\"white\" stroke=\"transparent\" points=\"-4,4 -4,-418.6 159,-418.6 159,4 -4,4\"/>\n",
       "<!-- [69]: Read the results file -->\n",
       "<g id=\"node1\" class=\"node\">\n",
       "<title>[69]: Read the results file</title>\n",
       "<polygon fill=\"none\" stroke=\"blue\" points=\"155,-414.6 0,-414.6 0,-378.6 155,-378.6 155,-414.6\"/>\n",
       "<text text-anchor=\"middle\" x=\"77.5\" y=\"-392.9\" font-family=\"Times,serif\" font-size=\"14.00\" fill=\"blue\">[69]: Read the results file</text>\n",
       "</g>\n",
       "<!-- pcoll683 -->\n",
       "<g id=\"node2\" class=\"node\">\n",
       "<title>pcoll683</title>\n",
       "<ellipse fill=\"none\" stroke=\"blue\" cx=\"77.5\" cy=\"-324.6\" rx=\"18\" ry=\"18\"/>\n",
       "</g>\n",
       "<!-- [69]: Read the results file&#45;&gt;pcoll683 -->\n",
       "<g id=\"edge1\" class=\"edge\">\n",
       "<title>[69]: Read the results file&#45;&gt;pcoll683</title>\n",
       "<path fill=\"none\" stroke=\"black\" d=\"M77.5,-378.29C77.5,-370.58 77.5,-361.31 77.5,-352.71\"/>\n",
       "<polygon fill=\"black\" stroke=\"black\" points=\"81,-352.7 77.5,-342.7 74,-352.7 81,-352.7\"/>\n",
       "</g>\n",
       "<!-- [69]: Decode UTF&#45;8 -->\n",
       "<g id=\"node3\" class=\"node\">\n",
       "<title>[69]: Decode UTF&#45;8</title>\n",
       "<polygon fill=\"none\" stroke=\"blue\" points=\"141.5,-270.6 13.5,-270.6 13.5,-234.6 141.5,-234.6 141.5,-270.6\"/>\n",
       "<text text-anchor=\"middle\" x=\"77.5\" y=\"-248.9\" font-family=\"Times,serif\" font-size=\"14.00\" fill=\"blue\">[69]: Decode UTF&#45;8</text>\n",
       "</g>\n",
       "<!-- pcoll683&#45;&gt;[69]: Decode UTF&#45;8 -->\n",
       "<g id=\"edge2\" class=\"edge\">\n",
       "<title>pcoll683&#45;&gt;[69]: Decode UTF&#45;8</title>\n",
       "<path fill=\"none\" stroke=\"black\" d=\"M77.5,-306.29C77.5,-298.58 77.5,-289.31 77.5,-280.71\"/>\n",
       "<polygon fill=\"black\" stroke=\"black\" points=\"81,-280.7 77.5,-270.7 74,-280.7 81,-280.7\"/>\n",
       "</g>\n",
       "<!-- pcoll3602 -->\n",
       "<g id=\"node4\" class=\"node\">\n",
       "<title>pcoll3602</title>\n",
       "<ellipse fill=\"none\" stroke=\"blue\" cx=\"77.5\" cy=\"-180.6\" rx=\"18\" ry=\"18\"/>\n",
       "</g>\n",
       "<!-- [69]: Decode UTF&#45;8&#45;&gt;pcoll3602 -->\n",
       "<g id=\"edge3\" class=\"edge\">\n",
       "<title>[69]: Decode UTF&#45;8&#45;&gt;pcoll3602</title>\n",
       "<path fill=\"none\" stroke=\"black\" d=\"M77.5,-234.29C77.5,-226.58 77.5,-217.31 77.5,-208.71\"/>\n",
       "<polygon fill=\"black\" stroke=\"black\" points=\"81,-208.7 77.5,-198.7 74,-208.7 81,-208.7\"/>\n",
       "</g>\n",
       "<!-- [69]: Print each record -->\n",
       "<g id=\"node5\" class=\"node\">\n",
       "<title>[69]: Print each record</title>\n",
       "<polygon fill=\"none\" stroke=\"blue\" points=\"147.5,-126.6 7.5,-126.6 7.5,-90.6 147.5,-90.6 147.5,-126.6\"/>\n",
       "<text text-anchor=\"middle\" x=\"77.5\" y=\"-104.9\" font-family=\"Times,serif\" font-size=\"14.00\" fill=\"blue\">[69]: Print each record</text>\n",
       "</g>\n",
       "<!-- pcoll3602&#45;&gt;[69]: Print each record -->\n",
       "<g id=\"edge4\" class=\"edge\">\n",
       "<title>pcoll3602&#45;&gt;[69]: Print each record</title>\n",
       "<path fill=\"none\" stroke=\"black\" d=\"M77.5,-162.29C77.5,-154.58 77.5,-145.31 77.5,-136.71\"/>\n",
       "<polygon fill=\"black\" stroke=\"black\" points=\"81,-136.7 77.5,-126.7 74,-136.7 81,-136.7\"/>\n",
       "</g>\n",
       "<!-- lines -->\n",
       "<g id=\"node6\" class=\"node\">\n",
       "<title>lines</title>\n",
       "<ellipse fill=\"none\" stroke=\"blue\" cx=\"77.5\" cy=\"-27.3\" rx=\"27.1\" ry=\"27.1\"/>\n",
       "<text text-anchor=\"middle\" x=\"77.5\" y=\"-23.6\" font-family=\"Times,serif\" font-size=\"14.00\" fill=\"blue\">lines</text>\n",
       "</g>\n",
       "<!-- [69]: Print each record&#45;&gt;lines -->\n",
       "<g id=\"edge5\" class=\"edge\">\n",
       "<title>[69]: Print each record&#45;&gt;lines</title>\n",
       "<path fill=\"none\" stroke=\"black\" d=\"M77.5,-90.39C77.5,-82.92 77.5,-73.88 77.5,-65.03\"/>\n",
       "<polygon fill=\"black\" stroke=\"black\" points=\"81,-64.83 77.5,-54.83 74,-64.83 81,-64.83\"/>\n",
       "</g>\n",
       "</g>\n",
       "</svg>\n"
      ],
      "text/plain": [
       "<graphviz.files.Source at 0x7f4a6a0b9ed0>"
      ]
     },
     "execution_count": 69,
     "metadata": {},
     "output_type": "execute_result"
    }
   ],
   "source": [
    "with beam.Pipeline() as utf_pipeline:\n",
    "  lines = (utf_pipeline\n",
    "           | \"Read the results file\" >> beam.io.ReadFromTFRecord(\"test_processed.tfrecord-00000-of-00001\")\n",
    "           | \"Decode UTF-8\" >> beam.Map(lambda line: line.decode('utf-8'))\n",
    "           | \"Print each record\" >> beam.ParDo(print))\n",
    "\n",
    "display_pipeline(utf_pipeline)"
   ]
  },
  {
   "cell_type": "markdown",
   "metadata": {
    "id": "KCAysNHLQK80"
   },
   "source": [
    "Note that there are many [other built-in I/O transforms](https://urldefense.com/v3/__https://beam.apache.org/documentation/io/built-in/__;!!PIZeeW5wscynRQ!55X7LkP-oqeRJ6UUmtPVv4vn3HLBOqlFNpBPTKq9j6A_FsUVIeCO-4RxE3x8M-c$ )."
   ]
  },
  {
   "cell_type": "markdown",
   "metadata": {
    "id": "KZDYehqpPpXY"
   },
   "source": [
    "# [Windowing](https://beam.apache.org/documentation/programming-guide/#windowing)\n",
    "As discussed above, windowing subdivides a `PCollection` according to the timestamps, or some other ordering or grouping, of its individual elements.\n",
    "\n",
    "Some Beam transforms, such as `GroupByKey` and `Combine`, group multiple elements by a common key. Ordinarily, that grouping operation groups all of the elements that have the same key within the entire data set. With an unbounded data set, it is impossible to collect all of the elements, since new elements are constantly being added and may be infinitely many (e.g. streaming data). If you are working with unbounded `PCollections`, windowing is especially useful.\n",
    "\n",
    "In the Beam model, any `PCollection` (including unbounded `PCollections`) can be subdivided into logical windows. Each element in a `PCollection` is assigned to one or more windows according to the `PCollection`'s windowing function, and each individual window contains a finite number of elements. Grouping transforms then consider each `PCollection`'s elements on a per-window basis. `GroupByKey`, for example, implicitly groups the elements of a `PCollection` by key and window.\n",
    "\n",
    "Additional information on Beam Windowing is available in the [Beam Programming Guide](https://urldefense.com/v3/__https://beam.apache.org/documentation/programming-guide/*windowing__;Iw!!PIZeeW5wscynRQ!55X7LkP-oqeRJ6UUmtPVv4vn3HLBOqlFNpBPTKq9j6A_FsUVIeCO-4RxDyJyXgQ$ )."
   ]
  },
  {
   "cell_type": "markdown",
   "metadata": {
    "id": "tLMh3chYC1sE"
   },
   "source": [
    "Let's begin by creating a pipeline to:\n",
    "\n",
    "* Read our CSV file above\n",
    "* Create fixed windows for each week\n",
    "* Calculate the mean fare by company for each week\n",
    "* Group the companies by week\n",
    "* Print out 2016 only"
   ]
  },
  {
   "cell_type": "code",
   "execution_count": 73,
   "metadata": {
    "id": "Qd3a4hwlVqfF"
   },
   "outputs": [
    {
     "name": "stdout",
     "output_type": "stream",
     "text": [
      "(Window end, [Mean fares by company]): ('2016-04-21 00:00:00', [('Taxi Affiliation Services', 13.6875), ('Dispatch Taxi Affiliation', 9.5), ('Choice Taxi Association', 7.0)])\n",
      "(Window end, [Mean fares by company]): ('2016-06-09 00:00:00', [('Taxi Affiliation Services', 23.15), ('Dispatch Taxi Affiliation', 13.75), ('Blue Ribbon Taxi Association Inc.', 7.75), ('Choice Taxi Association', 22.375)])\n",
      "(Window end, [Mean fares by company]): ('2016-08-25 00:00:00', [('Taxi Affiliation Services', 36.75), ('Dispatch Taxi Affiliation', 6.75), ('Blue Ribbon Taxi Association Inc.', 10.5), ('Choice Taxi Association', 6.0)])\n",
      "(Window end, [Mean fares by company]): ('2016-12-08 00:00:00', [('Taxi Affiliation Services', 14.15), ('Dispatch Taxi Affiliation', 12.25), ('Blue Ribbon Taxi Association Inc.', 22.25), ('Northwest Management LLC', 4.0), ('Choice Taxi Association', 6.625)])\n",
      "(Window end, [Mean fares by company]): ('2016-05-12 00:00:00', [('Taxi Affiliation Services', 7.666666666666667), ('Dispatch Taxi Affiliation', 8.75), ('Blue Ribbon Taxi Association Inc.', 11.0), ('Northwest Management LLC', 7.0), ('Choice Taxi Association', 8.0), ('Top Cab Affiliation', 14.5), ('Chicago Medallion Leasing INC', 42.75)])\n",
      "(Window end, [Mean fares by company]): ('2016-05-26 00:00:00', [('Taxi Affiliation Services', 10.291666666666666), ('Dispatch Taxi Affiliation', 14.25), ('Northwest Management LLC', 10.0), ('Choice Taxi Association', 11.25)])\n",
      "(Window end, [Mean fares by company]): ('2016-07-14 00:00:00', [('Taxi Affiliation Services', 12.95), ('Dispatch Taxi Affiliation', 12.375), ('Blue Ribbon Taxi Association Inc.', 9.375), ('Northwest Management LLC', 8.5), ('Top Cab Affiliation', 10.875), ('KOAM Taxi Association', 7.25)])\n",
      "(Window end, [Mean fares by company]): ('2016-03-17 00:00:00', [('Taxi Affiliation Services', 10.083333333333334), ('Blue Ribbon Taxi Association Inc.', 13.0), ('Northwest Management LLC', 11.0), ('Choice Taxi Association', 15.5), ('Top Cab Affiliation', 8.75), ('Chicago Medallion Leasing INC', 17.25)])\n",
      "(Window end, [Mean fares by company]): ('2016-06-02 00:00:00', [('Taxi Affiliation Services', 25.3), ('Dispatch Taxi Affiliation', 11.5), ('Blue Ribbon Taxi Association Inc.', 6.0), ('Northwest Management LLC', 8.0), ('Chicago Medallion Leasing INC', 7.25)])\n",
      "(Window end, [Mean fares by company]): ('2016-09-15 00:00:00', [('Taxi Affiliation Services', 7.916666666666667), ('Dispatch Taxi Affiliation', 10.0), ('Blue Ribbon Taxi Association Inc.', 6.25), ('Choice Taxi Association', 10.625)])\n",
      "(Window end, [Mean fares by company]): ('2016-01-28 00:00:00', [('Taxi Affiliation Services', 10.458333333333334), ('Choice Taxi Association', 6.75), ('Chicago Medallion Management', 6.5), ('Top Cab Affiliation', 25.5), ('KOAM Taxi Association', 11.75)])\n",
      "(Window end, [Mean fares by company]): ('2016-01-21 00:00:00', [('Taxi Affiliation Services', 12.75), ('Dispatch Taxi Affiliation', 3.5), ('Blue Ribbon Taxi Association Inc.', 6.583333333333333), ('Northwest Management LLC', 52.25), ('Top Cab Affiliation', 5.0), ('KOAM Taxi Association', 6.5)])\n",
      "(Window end, [Mean fares by company]): ('2016-02-11 00:00:00', [('Taxi Affiliation Services', 10.541666666666666), ('Dispatch Taxi Affiliation', 5.875), ('Blue Ribbon Taxi Association Inc.', 18.625), ('Choice Taxi Association', 16.0)])\n",
      "(Window end, [Mean fares by company]): ('2016-04-28 00:00:00', [('Taxi Affiliation Services', 8.916666666666666), ('Dispatch Taxi Affiliation', 17.25), ('Blue Ribbon Taxi Association Inc.', 8.5), ('Northwest Management LLC', 8.5), ('Choice Taxi Association', 6.0), ('5074 - 54002 Ahzmi Inc', 7.25)])\n",
      "(Window end, [Mean fares by company]): ('2016-08-18 00:00:00', [('Taxi Affiliation Services', 8.75), ('Blue Ribbon Taxi Association Inc.', 8.0)])\n",
      "(Window end, [Mean fares by company]): ('2016-06-30 00:00:00', [('Taxi Affiliation Services', 7.875), ('Dispatch Taxi Affiliation', 9.25), ('Blue Ribbon Taxi Association Inc.', 18.5), ('Top Cab Affiliation', 3.25), ('KOAM Taxi Association', 4.75), ('Chicago Medallion Leasing INC', 13.0), ('3319 - CD Cab Co', 6.0)])\n",
      "(Window end, [Mean fares by company]): ('2016-06-16 00:00:00', [('Taxi Affiliation Services', 20.1875), ('Dispatch Taxi Affiliation', 9.5), ('Choice Taxi Association', 4.25), ('Top Cab Affiliation', 15.0)])\n",
      "(Window end, [Mean fares by company]): ('2016-10-20 00:00:00', [('Taxi Affiliation Services', 33.0), ('Northwest Management LLC', 26.0), ('Choice Taxi Association', 8.25), ('KOAM Taxi Association', 9.125), ('Chicago Medallion Leasing INC', 8.0)])\n",
      "(Window end, [Mean fares by company]): ('2016-09-22 00:00:00', [('Taxi Affiliation Services', 11.785714285714286), ('Dispatch Taxi Affiliation', 10.0), ('Blue Ribbon Taxi Association Inc.', 5.75), ('KOAM Taxi Association', 25.125)])\n",
      "(Window end, [Mean fares by company]): ('2016-03-24 00:00:00', [('Taxi Affiliation Services', 14.928571428571429), ('Dispatch Taxi Affiliation', 19.666666666666668), ('Blue Ribbon Taxi Association Inc.', 8.625), ('Choice Taxi Association', 34.0), ('Top Cab Affiliation', 8.5), ('KOAM Taxi Association', 9.0)])\n",
      "(Window end, [Mean fares by company]): ('2016-10-13 00:00:00', [('Taxi Affiliation Services', 7.535714285714286), ('Dispatch Taxi Affiliation', 13.0), ('Choice Taxi Association', 5.75)])\n",
      "(Window end, [Mean fares by company]): ('2016-09-08 00:00:00', [('Taxi Affiliation Services', 7.25), ('Dispatch Taxi Affiliation', 10.75), ('Top Cab Affiliation', 35.25)])\n",
      "(Window end, [Mean fares by company]): ('2016-01-14 00:00:00', [('Taxi Affiliation Services', 13.166666666666666), ('Blue Ribbon Taxi Association Inc.', 11.25), ('KOAM Taxi Association', 10.5)])\n",
      "(Window end, [Mean fares by company]): ('2016-07-21 00:00:00', [('Taxi Affiliation Services', 9.5), ('Blue Ribbon Taxi Association Inc.', 16.25), ('Choice Taxi Association', 6.0), ('Top Cab Affiliation', 43.0)])\n",
      "(Window end, [Mean fares by company]): ('2016-09-01 00:00:00', [('Taxi Affiliation Services', 8.416666666666666), ('Dispatch Taxi Affiliation', 27.5), ('Blue Ribbon Taxi Association Inc.', 22.0), ('Choice Taxi Association', 5.25), ('KOAM Taxi Association', 7.0)])\n",
      "(Window end, [Mean fares by company]): ('2016-03-10 00:00:00', [('Taxi Affiliation Services', 9.25), ('Dispatch Taxi Affiliation', 8.0), ('Choice Taxi Association', 35.25), ('Chicago Medallion Leasing INC', 6.25), ('585 - 88805 Valley Cab Co', 6.0)])\n",
      "(Window end, [Mean fares by company]): ('2016-10-06 00:00:00', [('Taxi Affiliation Services', 6.4375), ('Dispatch Taxi Affiliation', 9.0), ('Blue Ribbon Taxi Association Inc.', 5.5), ('Northwest Management LLC', 7.25), ('Choice Taxi Association', 5.5), ('Chicago Medallion Leasing INC', 13.0)])\n",
      "(Window end, [Mean fares by company]): ('2016-02-18 00:00:00', [('Taxi Affiliation Services', 14.85), ('Blue Ribbon Taxi Association Inc.', 20.0), ('Northwest Management LLC', 16.25), ('Choice Taxi Association', 12.75), ('KOAM Taxi Association', 10.5)])\n",
      "(Window end, [Mean fares by company]): ('2016-03-31 00:00:00', [('Taxi Affiliation Services', 19.15), ('Dispatch Taxi Affiliation', 7.75), ('Blue Ribbon Taxi Association Inc.', 19.583333333333332), ('Northwest Management LLC', 48.25)])\n",
      "(Window end, [Mean fares by company]): ('2016-12-15 00:00:00', [('Taxi Affiliation Services', 10.75), ('Dispatch Taxi Affiliation', 6.375), ('Blue Ribbon Taxi Association Inc.', 3.25), ('Choice Taxi Association', 10.375), ('3011 - 66308 JBL Cab Inc.', 9.25)])\n",
      "(Window end, [Mean fares by company]): ('2016-08-04 00:00:00', [('Taxi Affiliation Services', 8.95), ('Blue Ribbon Taxi Association Inc.', 5.25), ('Chicago Medallion Leasing INC', 28.0)])\n",
      "(Window end, [Mean fares by company]): ('2016-12-22 00:00:00', [('Taxi Affiliation Services', 13.35), ('Dispatch Taxi Affiliation', 5.25), ('Blue Ribbon Taxi Association Inc.', 9.75), ('Northwest Management LLC', 15.0), ('Choice Taxi Association', 9.833333333333334), ('Top Cab Affiliation', 10.375)])\n",
      "(Window end, [Mean fares by company]): ('2016-02-25 00:00:00', [('Taxi Affiliation Services', 8.05), ('Dispatch Taxi Affiliation', 4.5), ('Northwest Management LLC', 8.166666666666666)])\n",
      "(Window end, [Mean fares by company]): ('2016-11-24 00:00:00', [('Taxi Affiliation Services', 7.0), ('Dispatch Taxi Affiliation', 3.25), ('Blue Ribbon Taxi Association Inc.', 4.75), ('Northwest Management LLC', 12.916666666666666), ('Choice Taxi Association', 7.75)])\n",
      "(Window end, [Mean fares by company]): ('2016-06-23 00:00:00', [('Taxi Affiliation Services', 7.785714285714286), ('Dispatch Taxi Affiliation', 12.25), ('Blue Ribbon Taxi Association Inc.', 24.875), ('Choice Taxi Association', 9.125)])\n",
      "(Window end, [Mean fares by company]): ('2016-11-03 00:00:00', [('Taxi Affiliation Services', 14.15), ('Dispatch Taxi Affiliation', 12.0), ('Blue Ribbon Taxi Association Inc.', 8.75), ('Northwest Management LLC', 6.5), ('Top Cab Affiliation', 5.75), ('KOAM Taxi Association', 27.0), ('Chicago Medallion Leasing INC', 6.25)])\n",
      "(Window end, [Mean fares by company]): ('2016-04-14 00:00:00', [('Taxi Affiliation Services', 8.083333333333334), ('Dispatch Taxi Affiliation', 24.5), ('Blue Ribbon Taxi Association Inc.', 4.75), ('Choice Taxi Association', 6.75), ('KOAM Taxi Association', 44.25)])\n",
      "(Window end, [Mean fares by company]): ('2016-05-05 00:00:00', [('Taxi Affiliation Services', 13.05), ('Dispatch Taxi Affiliation', 9.666666666666666), ('Blue Ribbon Taxi Association Inc.', 7.5), ('Northwest Management LLC', 7.5), ('Chicago Medallion Leasing INC', 7.0)])\n",
      "(Window end, [Mean fares by company]): ('2016-10-27 00:00:00', [('Taxi Affiliation Services', 19.5), ('Dispatch Taxi Affiliation', 13.0), ('Blue Ribbon Taxi Association Inc.', 8.416666666666666), ('Northwest Management LLC', 10.5), ('Choice Taxi Association', 39.125)])\n",
      "(Window end, [Mean fares by company]): ('2016-08-11 00:00:00', [('Taxi Affiliation Services', 7.125), ('Dispatch Taxi Affiliation', 9.416666666666666), ('Blue Ribbon Taxi Association Inc.', 10.125), ('Choice Taxi Association', 4.75), ('Top Cab Affiliation', 8.0), ('Chicago Medallion Leasing INC', 5.25)])\n",
      "(Window end, [Mean fares by company]): ('2016-04-07 00:00:00', [('Taxi Affiliation Services', 28.25), ('Dispatch Taxi Affiliation', 27.833333333333332), ('Northwest Management LLC', 12.625), ('Choice Taxi Association', 7.25), ('Chicago Medallion Leasing INC', 15.25)])\n",
      "(Window end, [Mean fares by company]): ('2016-02-04 00:00:00', [('Taxi Affiliation Services', 12.875), ('Blue Ribbon Taxi Association Inc.', 5.0), ('Choice Taxi Association', 24.0)])\n",
      "(Window end, [Mean fares by company]): ('2016-03-03 00:00:00', [('Taxi Affiliation Services', 8.15625), ('Dispatch Taxi Affiliation', 8.25), ('Blue Ribbon Taxi Association Inc.', 18.0), ('Northwest Management LLC', 43.75), ('KOAM Taxi Association', 12.25)])\n",
      "(Window end, [Mean fares by company]): ('2016-07-28 00:00:00', [('Taxi Affiliation Services', 10.75), ('Dispatch Taxi Affiliation', 17.5), ('Blue Ribbon Taxi Association Inc.', 12.25), ('KOAM Taxi Association', 18.75)])\n",
      "(Window end, [Mean fares by company]): ('2016-12-01 00:00:00', [('Taxi Affiliation Services', 9.0), ('Dispatch Taxi Affiliation', 5.25), ('Northwest Management LLC', 5.5), ('Choice Taxi Association', 38.25)])\n",
      "(Window end, [Mean fares by company]): ('2016-12-29 00:00:00', [('Taxi Affiliation Services', 7.5), ('Blue Ribbon Taxi Association Inc.', 3.75), ('Northwest Management LLC', 5.0), ('Choice Taxi Association', 9.25), ('0118 - 42111 Godfrey S.Awir', 8.0)])\n",
      "(Window end, [Mean fares by company]): ('2016-07-07 00:00:00', [('Taxi Affiliation Services', 9.75), ('Dispatch Taxi Affiliation', 8.375), ('Northwest Management LLC', 4.75)])\n",
      "(Window end, [Mean fares by company]): ('2016-05-19 00:00:00', [('Taxi Affiliation Services', 7.25), ('Northwest Management LLC', 6.0), ('Choice Taxi Association', 9.5), ('Top Cab Affiliation', 4.5)])\n",
      "(Window end, [Mean fares by company]): ('2016-11-10 00:00:00', [('Taxi Affiliation Services', 11.083333333333334), ('Dispatch Taxi Affiliation', 15.5), ('Blue Ribbon Taxi Association Inc.', 10.625), ('Northwest Management LLC', 6.8125), ('Chicago Medallion Leasing INC', 5.0)])\n",
      "(Window end, [Mean fares by company]): ('2016-01-07 00:00:00', [('Taxi Affiliation Services', 8.983333333333334), ('Dispatch Taxi Affiliation', 16.5), ('Blue Ribbon Taxi Association Inc.', 11.15), ('Northwest Management LLC', 10.25), ('Choice Taxi Association', 6.45), ('KOAM Taxi Association', 5.5)])\n",
      "(Window end, [Mean fares by company]): ('2016-09-29 00:00:00', [('Taxi Affiliation Services', 10.5), ('Blue Ribbon Taxi Association Inc.', 8.583333333333334), ('Choice Taxi Association', 6.0)])\n",
      "(Window end, [Mean fares by company]): ('2016-11-17 00:00:00', [('Dispatch Taxi Affiliation', 6.0), ('Blue Ribbon Taxi Association Inc.', 14.5), ('Choice Taxi Association', 22.625), ('KOAM Taxi Association', 45.25)])\n"
     ]
    },
    {
     "data": {
      "image/svg+xml": [
       "<?xml version=\"1.0\" encoding=\"UTF-8\" standalone=\"no\"?>\n",
       "<!DOCTYPE svg PUBLIC \"-//W3C//DTD SVG 1.1//EN\"\n",
       " \"http://www.w3.org/Graphics/SVG/1.1/DTD/svg11.dtd\">\n",
       "<!-- Generated by graphviz version 2.42.3 (20191010.1750)\n",
       " -->\n",
       "<!-- Title: G Pages: 1 -->\n",
       "<svg width=\"247pt\" height=\"1575pt\"\n",
       " viewBox=\"0.00 0.00 247.00 1574.60\" xmlns=\"http://www.w3.org/2000/svg\" xmlns:xlink=\"http://www.w3.org/1999/xlink\">\n",
       "<g id=\"graph0\" class=\"graph\" transform=\"scale(1 1) rotate(0) translate(4 1570.6)\">\n",
       "<title>G</title>\n",
       "<polygon fill=\"white\" stroke=\"transparent\" points=\"-4,4 -4,-1570.6 243,-1570.6 243,4 -4,4\"/>\n",
       "<!-- [73]: Read text file -->\n",
       "<g id=\"node1\" class=\"node\">\n",
       "<title>[73]: Read text file</title>\n",
       "<polygon fill=\"none\" stroke=\"blue\" points=\"179.5,-1566.6 59.5,-1566.6 59.5,-1530.6 179.5,-1530.6 179.5,-1566.6\"/>\n",
       "<text text-anchor=\"middle\" x=\"119.5\" y=\"-1544.9\" font-family=\"Times,serif\" font-size=\"14.00\" fill=\"blue\">[73]: Read text file</text>\n",
       "</g>\n",
       "<!-- pcoll683 -->\n",
       "<g id=\"node2\" class=\"node\">\n",
       "<title>pcoll683</title>\n",
       "<ellipse fill=\"none\" stroke=\"blue\" cx=\"119.5\" cy=\"-1476.6\" rx=\"18\" ry=\"18\"/>\n",
       "</g>\n",
       "<!-- [73]: Read text file&#45;&gt;pcoll683 -->\n",
       "<g id=\"edge1\" class=\"edge\">\n",
       "<title>[73]: Read text file&#45;&gt;pcoll683</title>\n",
       "<path fill=\"none\" stroke=\"black\" d=\"M119.5,-1530.29C119.5,-1522.58 119.5,-1513.31 119.5,-1504.71\"/>\n",
       "<polygon fill=\"black\" stroke=\"black\" points=\"123,-1504.7 119.5,-1494.7 116,-1504.7 123,-1504.7\"/>\n",
       "</g>\n",
       "<!-- [73]: Parse CSV -->\n",
       "<g id=\"node3\" class=\"node\">\n",
       "<title>[73]: Parse CSV</title>\n",
       "<polygon fill=\"none\" stroke=\"blue\" points=\"172.5,-1422.6 66.5,-1422.6 66.5,-1386.6 172.5,-1386.6 172.5,-1422.6\"/>\n",
       "<text text-anchor=\"middle\" x=\"119.5\" y=\"-1400.9\" font-family=\"Times,serif\" font-size=\"14.00\" fill=\"blue\">[73]: Parse CSV</text>\n",
       "</g>\n",
       "<!-- pcoll683&#45;&gt;[73]: Parse CSV -->\n",
       "<g id=\"edge2\" class=\"edge\">\n",
       "<title>pcoll683&#45;&gt;[73]: Parse CSV</title>\n",
       "<path fill=\"none\" stroke=\"black\" d=\"M119.5,-1458.29C119.5,-1450.58 119.5,-1441.31 119.5,-1432.71\"/>\n",
       "<polygon fill=\"black\" stroke=\"black\" points=\"123,-1432.7 119.5,-1422.7 116,-1432.7 123,-1432.7\"/>\n",
       "</g>\n",
       "<!-- pcoll3602 -->\n",
       "<g id=\"node4\" class=\"node\">\n",
       "<title>pcoll3602</title>\n",
       "<ellipse fill=\"none\" stroke=\"blue\" cx=\"119.5\" cy=\"-1332.6\" rx=\"18\" ry=\"18\"/>\n",
       "</g>\n",
       "<!-- [73]: Parse CSV&#45;&gt;pcoll3602 -->\n",
       "<g id=\"edge3\" class=\"edge\">\n",
       "<title>[73]: Parse CSV&#45;&gt;pcoll3602</title>\n",
       "<path fill=\"none\" stroke=\"black\" d=\"M119.5,-1386.29C119.5,-1378.58 119.5,-1369.31 119.5,-1360.71\"/>\n",
       "<polygon fill=\"black\" stroke=\"black\" points=\"123,-1360.7 119.5,-1350.7 116,-1360.7 123,-1360.7\"/>\n",
       "</g>\n",
       "<!-- [73]: Filter out -->\n",
       "<g id=\"node5\" class=\"node\">\n",
       "<title>[73]: Filter out</title>\n",
       "<polygon fill=\"none\" stroke=\"blue\" points=\"168,-1278.6 71,-1278.6 71,-1242.6 168,-1242.6 168,-1278.6\"/>\n",
       "<text text-anchor=\"middle\" x=\"119.5\" y=\"-1256.9\" font-family=\"Times,serif\" font-size=\"14.00\" fill=\"blue\">[73]: Filter out</text>\n",
       "</g>\n",
       "<!-- pcoll3602&#45;&gt;[73]: Filter out -->\n",
       "<g id=\"edge4\" class=\"edge\">\n",
       "<title>pcoll3602&#45;&gt;[73]: Filter out</title>\n",
       "<path fill=\"none\" stroke=\"black\" d=\"M119.5,-1314.29C119.5,-1306.58 119.5,-1297.31 119.5,-1288.71\"/>\n",
       "<polygon fill=\"black\" stroke=\"black\" points=\"123,-1288.7 119.5,-1278.7 116,-1288.7 123,-1288.7\"/>\n",
       "</g>\n",
       "<!-- pcoll7479 -->\n",
       "<g id=\"node6\" class=\"node\">\n",
       "<title>pcoll7479</title>\n",
       "<ellipse fill=\"none\" stroke=\"blue\" cx=\"119.5\" cy=\"-1188.6\" rx=\"18\" ry=\"18\"/>\n",
       "</g>\n",
       "<!-- [73]: Filter out&#45;&gt;pcoll7479 -->\n",
       "<g id=\"edge5\" class=\"edge\">\n",
       "<title>[73]: Filter out&#45;&gt;pcoll7479</title>\n",
       "<path fill=\"none\" stroke=\"black\" d=\"M119.5,-1242.29C119.5,-1234.58 119.5,-1225.31 119.5,-1216.71\"/>\n",
       "<polygon fill=\"black\" stroke=\"black\" points=\"123,-1216.7 119.5,-1206.7 116,-1216.7 123,-1216.7\"/>\n",
       "</g>\n",
       "<!-- [73]: Assign timestamps -->\n",
       "<g id=\"node7\" class=\"node\">\n",
       "<title>[73]: Assign timestamps</title>\n",
       "<polygon fill=\"none\" stroke=\"blue\" points=\"195,-1134.6 44,-1134.6 44,-1098.6 195,-1098.6 195,-1134.6\"/>\n",
       "<text text-anchor=\"middle\" x=\"119.5\" y=\"-1112.9\" font-family=\"Times,serif\" font-size=\"14.00\" fill=\"blue\">[73]: Assign timestamps</text>\n",
       "</g>\n",
       "<!-- pcoll7479&#45;&gt;[73]: Assign timestamps -->\n",
       "<g id=\"edge6\" class=\"edge\">\n",
       "<title>pcoll7479&#45;&gt;[73]: Assign timestamps</title>\n",
       "<path fill=\"none\" stroke=\"black\" d=\"M119.5,-1170.29C119.5,-1162.58 119.5,-1153.31 119.5,-1144.71\"/>\n",
       "<polygon fill=\"black\" stroke=\"black\" points=\"123,-1144.7 119.5,-1134.7 116,-1144.7 123,-1144.7\"/>\n",
       "</g>\n",
       "<!-- pcoll4658 -->\n",
       "<g id=\"node8\" class=\"node\">\n",
       "<title>pcoll4658</title>\n",
       "<ellipse fill=\"none\" stroke=\"blue\" cx=\"119.5\" cy=\"-1044.6\" rx=\"18\" ry=\"18\"/>\n",
       "</g>\n",
       "<!-- [73]: Assign timestamps&#45;&gt;pcoll4658 -->\n",
       "<g id=\"edge7\" class=\"edge\">\n",
       "<title>[73]: Assign timestamps&#45;&gt;pcoll4658</title>\n",
       "<path fill=\"none\" stroke=\"black\" d=\"M119.5,-1098.29C119.5,-1090.58 119.5,-1081.31 119.5,-1072.71\"/>\n",
       "<polygon fill=\"black\" stroke=\"black\" points=\"123,-1072.7 119.5,-1062.7 116,-1072.7 123,-1072.7\"/>\n",
       "</g>\n",
       "<!-- [73]: Create week windows -->\n",
       "<g id=\"node9\" class=\"node\">\n",
       "<title>[73]: Create week windows</title>\n",
       "<polygon fill=\"none\" stroke=\"blue\" points=\"203,-990.6 36,-990.6 36,-954.6 203,-954.6 203,-990.6\"/>\n",
       "<text text-anchor=\"middle\" x=\"119.5\" y=\"-968.9\" font-family=\"Times,serif\" font-size=\"14.00\" fill=\"blue\">[73]: Create week windows</text>\n",
       "</g>\n",
       "<!-- pcoll4658&#45;&gt;[73]: Create week windows -->\n",
       "<g id=\"edge8\" class=\"edge\">\n",
       "<title>pcoll4658&#45;&gt;[73]: Create week windows</title>\n",
       "<path fill=\"none\" stroke=\"black\" d=\"M119.5,-1026.29C119.5,-1018.58 119.5,-1009.31 119.5,-1000.71\"/>\n",
       "<polygon fill=\"black\" stroke=\"black\" points=\"123,-1000.7 119.5,-990.7 116,-1000.7 123,-1000.7\"/>\n",
       "</g>\n",
       "<!-- pcoll1639 -->\n",
       "<g id=\"node10\" class=\"node\">\n",
       "<title>pcoll1639</title>\n",
       "<ellipse fill=\"none\" stroke=\"blue\" cx=\"119.5\" cy=\"-900.6\" rx=\"18\" ry=\"18\"/>\n",
       "</g>\n",
       "<!-- [73]: Create week windows&#45;&gt;pcoll1639 -->\n",
       "<g id=\"edge9\" class=\"edge\">\n",
       "<title>[73]: Create week windows&#45;&gt;pcoll1639</title>\n",
       "<path fill=\"none\" stroke=\"black\" d=\"M119.5,-954.29C119.5,-946.58 119.5,-937.31 119.5,-928.71\"/>\n",
       "<polygon fill=\"black\" stroke=\"black\" points=\"123,-928.7 119.5,-918.7 116,-928.7 123,-928.7\"/>\n",
       "</g>\n",
       "<!-- [73]: (Company, Mean Fare) for PerKey -->\n",
       "<g id=\"node11\" class=\"node\">\n",
       "<title>[73]: (Company, Mean Fare) for PerKey</title>\n",
       "<polygon fill=\"none\" stroke=\"blue\" points=\"239,-846.6 0,-846.6 0,-810.6 239,-810.6 239,-846.6\"/>\n",
       "<text text-anchor=\"middle\" x=\"119.5\" y=\"-824.9\" font-family=\"Times,serif\" font-size=\"14.00\" fill=\"blue\">[73]: (Company, Mean Fare) for PerKey</text>\n",
       "</g>\n",
       "<!-- pcoll1639&#45;&gt;[73]: (Company, Mean Fare) for PerKey -->\n",
       "<g id=\"edge10\" class=\"edge\">\n",
       "<title>pcoll1639&#45;&gt;[73]: (Company, Mean Fare) for PerKey</title>\n",
       "<path fill=\"none\" stroke=\"black\" d=\"M119.5,-882.29C119.5,-874.58 119.5,-865.31 119.5,-856.71\"/>\n",
       "<polygon fill=\"black\" stroke=\"black\" points=\"123,-856.7 119.5,-846.7 116,-856.7 123,-856.7\"/>\n",
       "</g>\n",
       "<!-- pcoll7126 -->\n",
       "<g id=\"node12\" class=\"node\">\n",
       "<title>pcoll7126</title>\n",
       "<ellipse fill=\"none\" stroke=\"blue\" cx=\"119.5\" cy=\"-756.6\" rx=\"18\" ry=\"18\"/>\n",
       "</g>\n",
       "<!-- [73]: (Company, Mean Fare) for PerKey&#45;&gt;pcoll7126 -->\n",
       "<g id=\"edge11\" class=\"edge\">\n",
       "<title>[73]: (Company, Mean Fare) for PerKey&#45;&gt;pcoll7126</title>\n",
       "<path fill=\"none\" stroke=\"black\" d=\"M119.5,-810.29C119.5,-802.58 119.5,-793.31 119.5,-784.71\"/>\n",
       "<polygon fill=\"black\" stroke=\"black\" points=\"123,-784.7 119.5,-774.7 116,-784.7 123,-784.7\"/>\n",
       "</g>\n",
       "<!-- [73]: Mean fare by company -->\n",
       "<g id=\"node13\" class=\"node\">\n",
       "<title>[73]: Mean fare by company</title>\n",
       "<polygon fill=\"none\" stroke=\"blue\" points=\"206.5,-702.6 32.5,-702.6 32.5,-666.6 206.5,-666.6 206.5,-702.6\"/>\n",
       "<text text-anchor=\"middle\" x=\"119.5\" y=\"-680.9\" font-family=\"Times,serif\" font-size=\"14.00\" fill=\"blue\">[73]: Mean fare by company</text>\n",
       "</g>\n",
       "<!-- pcoll7126&#45;&gt;[73]: Mean fare by company -->\n",
       "<g id=\"edge12\" class=\"edge\">\n",
       "<title>pcoll7126&#45;&gt;[73]: Mean fare by company</title>\n",
       "<path fill=\"none\" stroke=\"black\" d=\"M119.5,-738.29C119.5,-730.58 119.5,-721.31 119.5,-712.71\"/>\n",
       "<polygon fill=\"black\" stroke=\"black\" points=\"123,-712.7 119.5,-702.7 116,-712.7 123,-712.7\"/>\n",
       "</g>\n",
       "<!-- pcoll9529 -->\n",
       "<g id=\"node14\" class=\"node\">\n",
       "<title>pcoll9529</title>\n",
       "<ellipse fill=\"none\" stroke=\"blue\" cx=\"119.5\" cy=\"-612.6\" rx=\"18\" ry=\"18\"/>\n",
       "</g>\n",
       "<!-- [73]: Mean fare by company&#45;&gt;pcoll9529 -->\n",
       "<g id=\"edge13\" class=\"edge\">\n",
       "<title>[73]: Mean fare by company&#45;&gt;pcoll9529</title>\n",
       "<path fill=\"none\" stroke=\"black\" d=\"M119.5,-666.29C119.5,-658.58 119.5,-649.31 119.5,-640.71\"/>\n",
       "<polygon fill=\"black\" stroke=\"black\" points=\"123,-640.7 119.5,-630.7 116,-640.7 123,-640.7\"/>\n",
       "</g>\n",
       "<!-- [73]: Add window end -->\n",
       "<g id=\"node15\" class=\"node\">\n",
       "<title>[73]: Add window end</title>\n",
       "<polygon fill=\"none\" stroke=\"blue\" points=\"189.5,-558.6 49.5,-558.6 49.5,-522.6 189.5,-522.6 189.5,-558.6\"/>\n",
       "<text text-anchor=\"middle\" x=\"119.5\" y=\"-536.9\" font-family=\"Times,serif\" font-size=\"14.00\" fill=\"blue\">[73]: Add window end</text>\n",
       "</g>\n",
       "<!-- pcoll9529&#45;&gt;[73]: Add window end -->\n",
       "<g id=\"edge14\" class=\"edge\">\n",
       "<title>pcoll9529&#45;&gt;[73]: Add window end</title>\n",
       "<path fill=\"none\" stroke=\"black\" d=\"M119.5,-594.29C119.5,-586.58 119.5,-577.31 119.5,-568.71\"/>\n",
       "<polygon fill=\"black\" stroke=\"black\" points=\"123,-568.7 119.5,-558.7 116,-568.7 123,-568.7\"/>\n",
       "</g>\n",
       "<!-- pcoll8599 -->\n",
       "<g id=\"node16\" class=\"node\">\n",
       "<title>pcoll8599</title>\n",
       "<ellipse fill=\"none\" stroke=\"blue\" cx=\"119.5\" cy=\"-468.6\" rx=\"18\" ry=\"18\"/>\n",
       "</g>\n",
       "<!-- [73]: Add window end&#45;&gt;pcoll8599 -->\n",
       "<g id=\"edge15\" class=\"edge\">\n",
       "<title>[73]: Add window end&#45;&gt;pcoll8599</title>\n",
       "<path fill=\"none\" stroke=\"black\" d=\"M119.5,-522.29C119.5,-514.58 119.5,-505.31 119.5,-496.71\"/>\n",
       "<polygon fill=\"black\" stroke=\"black\" points=\"123,-496.7 119.5,-486.7 116,-496.7 123,-496.7\"/>\n",
       "</g>\n",
       "<!-- [73]: Group windows -->\n",
       "<g id=\"node17\" class=\"node\">\n",
       "<title>[73]: Group windows</title>\n",
       "<polygon fill=\"none\" stroke=\"blue\" points=\"186.5,-414.6 52.5,-414.6 52.5,-378.6 186.5,-378.6 186.5,-414.6\"/>\n",
       "<text text-anchor=\"middle\" x=\"119.5\" y=\"-392.9\" font-family=\"Times,serif\" font-size=\"14.00\" fill=\"blue\">[73]: Group windows</text>\n",
       "</g>\n",
       "<!-- pcoll8599&#45;&gt;[73]: Group windows -->\n",
       "<g id=\"edge16\" class=\"edge\">\n",
       "<title>pcoll8599&#45;&gt;[73]: Group windows</title>\n",
       "<path fill=\"none\" stroke=\"black\" d=\"M119.5,-450.29C119.5,-442.58 119.5,-433.31 119.5,-424.71\"/>\n",
       "<polygon fill=\"black\" stroke=\"black\" points=\"123,-424.7 119.5,-414.7 116,-424.7 123,-424.7\"/>\n",
       "</g>\n",
       "<!-- pcoll3332 -->\n",
       "<g id=\"node18\" class=\"node\">\n",
       "<title>pcoll3332</title>\n",
       "<ellipse fill=\"none\" stroke=\"blue\" cx=\"119.5\" cy=\"-324.6\" rx=\"18\" ry=\"18\"/>\n",
       "</g>\n",
       "<!-- [73]: Group windows&#45;&gt;pcoll3332 -->\n",
       "<g id=\"edge17\" class=\"edge\">\n",
       "<title>[73]: Group windows&#45;&gt;pcoll3332</title>\n",
       "<path fill=\"none\" stroke=\"black\" d=\"M119.5,-378.29C119.5,-370.58 119.5,-361.31 119.5,-352.71\"/>\n",
       "<polygon fill=\"black\" stroke=\"black\" points=\"123,-352.7 119.5,-342.7 116,-352.7 123,-352.7\"/>\n",
       "</g>\n",
       "<!-- [73]: Only include 2016 -->\n",
       "<g id=\"node19\" class=\"node\">\n",
       "<title>[73]: Only include 2016</title>\n",
       "<polygon fill=\"none\" stroke=\"blue\" points=\"193.5,-270.6 45.5,-270.6 45.5,-234.6 193.5,-234.6 193.5,-270.6\"/>\n",
       "<text text-anchor=\"middle\" x=\"119.5\" y=\"-248.9\" font-family=\"Times,serif\" font-size=\"14.00\" fill=\"blue\">[73]: Only include 2016</text>\n",
       "</g>\n",
       "<!-- pcoll3332&#45;&gt;[73]: Only include 2016 -->\n",
       "<g id=\"edge18\" class=\"edge\">\n",
       "<title>pcoll3332&#45;&gt;[73]: Only include 2016</title>\n",
       "<path fill=\"none\" stroke=\"black\" d=\"M119.5,-306.29C119.5,-298.58 119.5,-289.31 119.5,-280.71\"/>\n",
       "<polygon fill=\"black\" stroke=\"black\" points=\"123,-280.7 119.5,-270.7 116,-280.7 123,-280.7\"/>\n",
       "</g>\n",
       "<!-- pcoll5476 -->\n",
       "<g id=\"node20\" class=\"node\">\n",
       "<title>pcoll5476</title>\n",
       "<ellipse fill=\"none\" stroke=\"blue\" cx=\"119.5\" cy=\"-180.6\" rx=\"18\" ry=\"18\"/>\n",
       "</g>\n",
       "<!-- [73]: Only include 2016&#45;&gt;pcoll5476 -->\n",
       "<g id=\"edge19\" class=\"edge\">\n",
       "<title>[73]: Only include 2016&#45;&gt;pcoll5476</title>\n",
       "<path fill=\"none\" stroke=\"black\" d=\"M119.5,-234.29C119.5,-226.58 119.5,-217.31 119.5,-208.71\"/>\n",
       "<polygon fill=\"black\" stroke=\"black\" points=\"123,-208.7 119.5,-198.7 116,-208.7 123,-208.7\"/>\n",
       "</g>\n",
       "<!-- [73]: Print -->\n",
       "<g id=\"node21\" class=\"node\">\n",
       "<title>[73]: Print</title>\n",
       "<polygon fill=\"none\" stroke=\"blue\" points=\"156,-126.6 83,-126.6 83,-90.6 156,-90.6 156,-126.6\"/>\n",
       "<text text-anchor=\"middle\" x=\"119.5\" y=\"-104.9\" font-family=\"Times,serif\" font-size=\"14.00\" fill=\"blue\">[73]: Print</text>\n",
       "</g>\n",
       "<!-- pcoll5476&#45;&gt;[73]: Print -->\n",
       "<g id=\"edge20\" class=\"edge\">\n",
       "<title>pcoll5476&#45;&gt;[73]: Print</title>\n",
       "<path fill=\"none\" stroke=\"black\" d=\"M119.5,-162.29C119.5,-154.58 119.5,-145.31 119.5,-136.71\"/>\n",
       "<polygon fill=\"black\" stroke=\"black\" points=\"123,-136.7 119.5,-126.7 116,-136.7 123,-136.7\"/>\n",
       "</g>\n",
       "<!-- lines -->\n",
       "<g id=\"node22\" class=\"node\">\n",
       "<title>lines</title>\n",
       "<ellipse fill=\"none\" stroke=\"blue\" cx=\"119.5\" cy=\"-27.3\" rx=\"27.1\" ry=\"27.1\"/>\n",
       "<text text-anchor=\"middle\" x=\"119.5\" y=\"-23.6\" font-family=\"Times,serif\" font-size=\"14.00\" fill=\"blue\">lines</text>\n",
       "</g>\n",
       "<!-- [73]: Print&#45;&gt;lines -->\n",
       "<g id=\"edge21\" class=\"edge\">\n",
       "<title>[73]: Print&#45;&gt;lines</title>\n",
       "<path fill=\"none\" stroke=\"black\" d=\"M119.5,-90.39C119.5,-82.92 119.5,-73.88 119.5,-65.03\"/>\n",
       "<polygon fill=\"black\" stroke=\"black\" points=\"123,-64.83 119.5,-54.83 116,-64.83 123,-64.83\"/>\n",
       "</g>\n",
       "</g>\n",
       "</svg>\n"
      ],
      "text/plain": [
       "<graphviz.files.Source at 0x7f4983378b10>"
      ]
     },
     "execution_count": 73,
     "metadata": {},
     "output_type": "execute_result"
    }
   ],
   "source": [
    "import datetime\n",
    "\n",
    "DAYS = 24 * 60 * 60\n",
    "\n",
    "class BuildRecordFn(beam.DoFn):\n",
    "  def process(self, element,  window=beam.DoFn.WindowParam):\n",
    "      window_end = str(window.end.to_utc_datetime())\n",
    "      return [(window_end, element)]\n",
    "\n",
    "class AssignTimestamps(beam.DoFn):\n",
    "  def process(self, element):\n",
    "    ts = int(element[5])\n",
    "    yield beam.window.TimestampedValue(element, ts)\n",
    "\n",
    "with beam.Pipeline() as window_pipeline:\n",
    "  lines = (window_pipeline\n",
    "           | 'Read text file' >> beam.io.ReadFromText(_data_filepath)\n",
    "           | 'Parse CSV' >> beam.Map(lambda line: line.split(\",\"))\n",
    "           | 'Filter out' >> beam.Filter(lambda cols: len(cols[-4]) > 0 and cols[0] != 'pickup_community_area')\n",
    "           | 'Assign timestamps' >> beam.ParDo(AssignTimestamps())\n",
    "           | 'Create week windows' >> beam.WindowInto(beam.window.FixedWindows(7*DAYS))\n",
    "           | '(Company, Mean Fare) for PerKey' >> beam.Map(lambda cols: (cols[-4], float(cols[1])))\n",
    "           | 'Mean fare by company' >> beam.combiners.Mean.PerKey()\n",
    "           | 'Add window end' >> beam.ParDo(BuildRecordFn())\n",
    "           | 'Group windows' >> beam.GroupByKey()\n",
    "           | 'Only include 2016' >> beam.Filter(lambda win: win[0] > '2016' and win[0] < '2017')\n",
    "#           | 'Sort by Key' >> beam.SortByKey()\n",
    "           | 'Print' >> beam.Map(lambda x: passthrough('(Window end, [Mean fares by company]):', x)))\n",
    "\n",
    "display_pipeline(window_pipeline)"
   ]
  },
  {
   "cell_type": "code",
   "execution_count": null,
   "metadata": {},
   "outputs": [],
   "source": []
  }
 ],
 "metadata": {
  "colab": {
   "collapsed_sections": [
    "R_vFbXN2T7oo"
   ],
   "name": "Developing With Apache Beam",
   "private_outputs": true,
   "provenance": [],
   "toc_visible": true
  },
  "environment": {
   "name": "tf2-2-3-gpu.2-3.m55",
   "type": "gcloud",
   "uri": "gcr.io/deeplearning-platform-release/tf2-2-3-gpu.2-3:m55"
  },
  "kernelspec": {
   "display_name": "Python 3",
   "language": "python",
   "name": "python3"
  },
  "language_info": {
   "codemirror_mode": {
    "name": "ipython",
    "version": 3
   },
   "file_extension": ".py",
   "mimetype": "text/x-python",
   "name": "python",
   "nbconvert_exporter": "python",
   "pygments_lexer": "ipython3",
   "version": "3.8.5"
  },
  "toc": {
   "base_numbering": 1,
   "nav_menu": {},
   "number_sections": false,
   "sideBar": true,
   "skip_h1_title": false,
   "title_cell": "Table of Contents",
   "title_sidebar": "Contents",
   "toc_cell": false,
   "toc_position": {},
   "toc_section_display": true,
   "toc_window_display": false
  }
 },
 "nbformat": 4,
 "nbformat_minor": 4
}
