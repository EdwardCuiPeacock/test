{
 "cells": [
  {
   "cell_type": "code",
   "execution_count": 8,
   "metadata": {},
   "outputs": [
    {
     "name": "stdout",
     "output_type": "stream",
     "text": [
      "Requirement already satisfied: node2vec in /opt/conda/lib/python3.7/site-packages (0.4.1)\n",
      "Requirement already satisfied: gensim in /opt/conda/lib/python3.7/site-packages (from node2vec) (3.8.3)\n",
      "Requirement already satisfied: joblib>=0.13.2 in /opt/conda/lib/python3.7/site-packages (from node2vec) (1.0.0)\n",
      "Requirement already satisfied: tqdm in /opt/conda/lib/python3.7/site-packages (from node2vec) (4.56.0)\n",
      "Requirement already satisfied: networkx in /opt/conda/lib/python3.7/site-packages (from node2vec) (2.5)\n",
      "Requirement already satisfied: numpy in /opt/conda/lib/python3.7/site-packages (from node2vec) (1.19.5)\n",
      "Requirement already satisfied: scipy>=0.18.1 in /opt/conda/lib/python3.7/site-packages (from gensim->node2vec) (1.6.0)\n",
      "Requirement already satisfied: six>=1.5.0 in /opt/conda/lib/python3.7/site-packages (from gensim->node2vec) (1.15.0)\n",
      "Requirement already satisfied: smart-open>=1.8.1 in /opt/conda/lib/python3.7/site-packages (from gensim->node2vec) (4.2.0)\n",
      "Requirement already satisfied: decorator>=4.3.0 in /opt/conda/lib/python3.7/site-packages (from networkx->node2vec) (4.4.2)\n"
     ]
    }
   ],
   "source": [
    "!pip install node2vec"
   ]
  },
  {
   "cell_type": "code",
   "execution_count": 9,
   "metadata": {},
   "outputs": [],
   "source": [
    "from node2vec import Node2Vec"
   ]
  },
  {
   "cell_type": "code",
   "execution_count": 10,
   "metadata": {},
   "outputs": [],
   "source": [
    "import pandas as pd\n",
    "import numpy as np\n",
    "import seaborn as sns\n",
    "import matplotlib.pyplot as plt\n",
    "from google.cloud import bigquery\n",
    "\n",
    "\n",
    "import sys\n",
    "from io import BytesIO\n",
    "from tensorflow.python.lib.io import file_io\n",
    "from model.dataloader import *\n",
    "from model.tokenizer import *\n",
    "from google.cloud import bigquery\n",
    "\n",
    "import matplotlib.pyplot as plt\n",
    "import numpy as np\n",
    "import networkx as nx\n",
    "from networkx.algorithms import approximation"
   ]
  },
  {
   "cell_type": "code",
   "execution_count": 11,
   "metadata": {},
   "outputs": [
    {
     "name": "stdout",
     "output_type": "stream",
     "text": [
      "Client creating using default project: res-nbcupea-dev-ds-sandbox-001\n"
     ]
    }
   ],
   "source": [
    "client = bigquery.Client(location=\"US\")\n",
    "print(\"Client creating using default project: {}\".format(client.project))"
   ]
  },
  {
   "cell_type": "code",
   "execution_count": 4,
   "metadata": {},
   "outputs": [
    {
     "data": {
      "text/html": [
       "<div>\n",
       "<style scoped>\n",
       "    .dataframe tbody tr th:only-of-type {\n",
       "        vertical-align: middle;\n",
       "    }\n",
       "\n",
       "    .dataframe tbody tr th {\n",
       "        vertical-align: top;\n",
       "    }\n",
       "\n",
       "    .dataframe thead th {\n",
       "        text-align: right;\n",
       "    }\n",
       "</style>\n",
       "<table border=\"1\" class=\"dataframe\">\n",
       "  <thead>\n",
       "    <tr style=\"text-align: right;\">\n",
       "      <th></th>\n",
       "      <th>user_id</th>\n",
       "      <th>token</th>\n",
       "      <th>count</th>\n",
       "    </tr>\n",
       "  </thead>\n",
       "  <tbody>\n",
       "    <tr>\n",
       "      <th>0</th>\n",
       "      <td>lYefCekjAkM5LO636I1qGmJaxmPoUtTk2w1wuWPTU9k=</td>\n",
       "      <td>poker</td>\n",
       "      <td>1537</td>\n",
       "    </tr>\n",
       "    <tr>\n",
       "      <th>1</th>\n",
       "      <td>y8DdcrfT/AOevQqsC/Gk8X43Vn5qJqyrzVahbqJ7eXs=</td>\n",
       "      <td>tournaments</td>\n",
       "      <td>3061</td>\n",
       "    </tr>\n",
       "    <tr>\n",
       "      <th>2</th>\n",
       "      <td>ZcgZSCaveFDLGIY9Wjrm/wchT45LBy5Xi8lp+CXagHI=</td>\n",
       "      <td>galfond</td>\n",
       "      <td>120</td>\n",
       "    </tr>\n",
       "    <tr>\n",
       "      <th>3</th>\n",
       "      <td>FHrlsevndmYtjq/NxpkIWUDGeL4tIvf4hlPO6n6pHzE=</td>\n",
       "      <td>host</td>\n",
       "      <td>86</td>\n",
       "    </tr>\n",
       "    <tr>\n",
       "      <th>4</th>\n",
       "      <td>llc91pBdCu3+Mpwe3n3fG0OaKqpxwtp7/6lkpJnJ2cY=</td>\n",
       "      <td>carillo</td>\n",
       "      <td>11</td>\n",
       "    </tr>\n",
       "  </tbody>\n",
       "</table>\n",
       "</div>"
      ],
      "text/plain": [
       "                                        user_id        token  count\n",
       "0  lYefCekjAkM5LO636I1qGmJaxmPoUtTk2w1wuWPTU9k=        poker   1537\n",
       "1  y8DdcrfT/AOevQqsC/Gk8X43Vn5qJqyrzVahbqJ7eXs=  tournaments   3061\n",
       "2  ZcgZSCaveFDLGIY9Wjrm/wchT45LBy5Xi8lp+CXagHI=      galfond    120\n",
       "3  FHrlsevndmYtjq/NxpkIWUDGeL4tIvf4hlPO6n6pHzE=         host     86\n",
       "4  llc91pBdCu3+Mpwe3n3fG0OaKqpxwtp7/6lkpJnJ2cY=      carillo     11"
      ]
     },
     "execution_count": 4,
     "metadata": {},
     "output_type": "execute_result"
    }
   ],
   "source": [
    "query = \"\"\"\n",
    "        WITH token_table AS ( \n",
    "            SELECT  cmv.TitleDetails_title AS title,\n",
    "                    SPLIT(REGEXP_REPLACE(LOWER(TitleDetails_LongSynopsis), '[^a-zA-Z0-9 -]', ''), ' ') AS tokens, -- filter out non-alphabetical characters\n",
    "                    sil.adobe_tracking_id AS user_id\n",
    "            FROM `res-nbcupea-dev-ds-sandbox-001.recsystem.ContentMetadataView-Dat` cmv -- join on video_id\n",
    "            JOIN `res-nbcupea-dev-ds-sandbox-001.silverTables.SILVER_VIDEO` sil\n",
    "            ON cmv.ViewingModeVOD_ContentId = sil.video_id\n",
    "            WHERE   cmv.TitleSubgenres = 'Sports' -- sports specific\n",
    "                AND sil.adobe_date >= DATE_ADD(CURRENT_DATE,INTERVAL -30 DAY) -- last 30 days of data\n",
    "        ),\n",
    "\n",
    "        #unnest token\n",
    "        token_clean AS (\n",
    "        SELECT user_id, token, COUNT(*) AS count\n",
    "        FROM token_table\n",
    "        CROSS JOIN UNNEST(tokens) token\n",
    "        GROUP BY user_id, token\n",
    "        )\n",
    "\n",
    "        #remove stop words\n",
    "        SELECT user_id, token, count\n",
    "        FROM token_clean t\n",
    "        LEFT OUTER JOIN `res-nbcupea-dev-ds-sandbox-001.recsystem.stop_words_en_sp` stop\n",
    "        ON stop.string_field_0 = t.token\n",
    "        WHERE stop.string_field_0 IS NULL\n",
    "        \"\"\"\n",
    "query_job = client.query(\n",
    "    query,\n",
    "    # Location must match that of the dataset(s) referenced in the query.\n",
    "    location=\"US\",\n",
    ")  # API request - starts the query\n",
    "\n",
    "df = query_job.to_dataframe()\n",
    "df.head()"
   ]
  },
  {
   "cell_type": "code",
   "execution_count": 5,
   "metadata": {},
   "outputs": [
    {
     "data": {
      "text/plain": [
       "(289950, 3)"
      ]
     },
     "execution_count": 5,
     "metadata": {},
     "output_type": "execute_result"
    }
   ],
   "source": [
    "df.shape"
   ]
  },
  {
   "cell_type": "code",
   "execution_count": 6,
   "metadata": {},
   "outputs": [
    {
     "data": {
      "text/plain": [
       "12292"
      ]
     },
     "execution_count": 6,
     "metadata": {},
     "output_type": "execute_result"
    }
   ],
   "source": [
    "df['user_id'].nunique()"
   ]
  },
  {
   "cell_type": "markdown",
   "metadata": {},
   "source": [
    "## Loading the graph data"
   ]
  },
  {
   "cell_type": "code",
   "execution_count": 8,
   "metadata": {},
   "outputs": [],
   "source": [
    "%%bigquery edges\n",
    "WITH token_table AS ( \n",
    "    SELECT  cmv.TitleDetails_title AS title,\n",
    "            SPLIT(REGEXP_REPLACE(LOWER(TitleDetails_LongSynopsis), '[^a-zA-Z0-9 -]', ''), ' ') AS tokens, -- filter out non-alphabetical characters\n",
    "            sil.adobe_tracking_id AS user_id\n",
    "    FROM `res-nbcupea-dev-ds-sandbox-001.recsystem.ContentMetadataView-Dat` cmv -- join on video_id\n",
    "    JOIN `res-nbcupea-dev-ds-sandbox-001.silverTables.SILVER_VIDEO` sil\n",
    "    ON cmv.ViewingModeVOD_ContentId = sil.video_id\n",
    "    WHERE   cmv.TitleSubgenres = 'Sports' -- sports specific\n",
    "        AND sil.adobe_date >= DATE_ADD(CURRENT_DATE,INTERVAL -30 DAY) -- last 30 days of data\n",
    "),\n",
    "\n",
    "#unnest token\n",
    "token_clean AS (\n",
    "SELECT user_id, token, COUNT(*) AS count\n",
    "FROM token_table\n",
    "CROSS JOIN UNNEST(tokens) token\n",
    "GROUP BY user_id, token\n",
    ")\n",
    "\n",
    "#remove stop words\n",
    "SELECT user_id, token, count\n",
    "FROM token_clean t\n",
    "LEFT OUTER JOIN `res-nbcupea-dev-ds-sandbox-001.recsystem.stop_words_en_sp` stop\n",
    "ON stop.string_field_0 = t.token\n",
    "WHERE stop.string_field_0 IS NULL"
   ]
  },
  {
   "cell_type": "code",
   "execution_count": 9,
   "metadata": {},
   "outputs": [],
   "source": [
    "edges['weight'] = 1 / edges['count']"
   ]
  },
  {
   "cell_type": "code",
   "execution_count": 10,
   "metadata": {},
   "outputs": [],
   "source": [
    "graph = nx.from_pandas_edgelist(edges, 'user_id', 'token', ['count'])"
   ]
  },
  {
   "cell_type": "markdown",
   "metadata": {},
   "source": [
    "## High-level summaries"
   ]
  },
  {
   "cell_type": "code",
   "execution_count": 11,
   "metadata": {},
   "outputs": [
    {
     "name": "stdout",
     "output_type": "stream",
     "text": [
      "The number of edges is: 289950\n",
      "The number of nodes: 15229\n"
     ]
    }
   ],
   "source": [
    "print(\"The number of edges is:\", graph.size())\n",
    "print(\"The number of nodes:\", graph.order())"
   ]
  },
  {
   "cell_type": "markdown",
   "metadata": {},
   "source": [
    "## Connected components"
   ]
  },
  {
   "cell_type": "code",
   "execution_count": 12,
   "metadata": {},
   "outputs": [
    {
     "name": "stdout",
     "output_type": "stream",
     "text": [
      "There are 2 connected components.\n"
     ]
    }
   ],
   "source": [
    "co_co = list(nx.connected_components(graph))\n",
    "print(\"There are\", len(co_co), \"connected components.\")"
   ]
  },
  {
   "cell_type": "code",
   "execution_count": 13,
   "metadata": {},
   "outputs": [
    {
     "name": "stdout",
     "output_type": "stream",
     "text": [
      "The largest connected component has 15227 nodes\n"
     ]
    }
   ],
   "source": [
    "co_co_sizes = np.array([len(co) for co in co_co])\n",
    "co_co_sizes[co_co_sizes > 0]\n",
    "print(\"The largest connected component has\", max(co_co_sizes), \"nodes\")"
   ]
  },
  {
   "cell_type": "code",
   "execution_count": 14,
   "metadata": {},
   "outputs": [
    {
     "data": {
      "image/png": "[encoded data removed]",
      "text/plain": [
       "<Figure size 432x288 with 1 Axes>"
      ]
     },
     "metadata": {
      "needs_background": "light"
     },
     "output_type": "display_data"
    }
   ],
   "source": [
    "\n",
    "plt.title(\n",
    "    \"\"\"Distribution of size of connected components \n",
    "        (leaving out the principal component)\n",
    "    \"\"\"\n",
    ")\n",
    "plt.ylabel(\"Number of components\")\n",
    "plt.xlabel(\"Number of nodes in component\")\n",
    "plt.hist(co_co_sizes[co_co_sizes < 22], bins=21)\n",
    "plt.xticks(range(0, 21, 2))\n",
    "plt.show()"
   ]
  },
  {
   "cell_type": "code",
   "execution_count": 15,
   "metadata": {},
   "outputs": [
    {
     "data": {
      "text/plain": [
       "{'nbcbfaatallahontyrod200929', 'yBDNQ9QHEz6e/yMc3jqmMATmD2LjB9xKDrrc7ADcSAA='}"
      ]
     },
     "execution_count": 15,
     "metadata": {},
     "output_type": "execute_result"
    }
   ],
   "source": [
    "co_co[1]"
   ]
  },
  {
   "cell_type": "markdown",
   "metadata": {},
   "source": [
    "## Vertex degrees"
   ]
  },
  {
   "cell_type": "code",
   "execution_count": 16,
   "metadata": {},
   "outputs": [
    {
     "name": "stdout",
     "output_type": "stream",
     "text": [
      "The vertex with most incoming/outgoing edges has 4690 edges\n"
     ]
    }
   ],
   "source": [
    "degrees = np.array([deg for _, deg in graph.degree()])\n",
    "print(\"The vertex with most incoming/outgoing edges has\", max(degrees),\"edges\")"
   ]
  },
  {
   "cell_type": "code",
   "execution_count": 17,
   "metadata": {},
   "outputs": [
    {
     "data": {
      "image/png": "[encoded data removed]",
      "text/plain": [
       "<Figure size 432x288 with 1 Axes>"
      ]
     },
     "metadata": {
      "needs_background": "light"
     },
     "output_type": "display_data"
    }
   ],
   "source": [
    "plt.title(\"Distribution of vertex degrees (low degrees)\")\n",
    "plt.ylabel(\"Number of nodes\")\n",
    "plt.xlabel(\"Node degree\")\n",
    "plt.hist(degrees[degrees < 300], bins=30)\n",
    "plt.show()"
   ]
  },
  {
   "cell_type": "code",
   "execution_count": 18,
   "metadata": {},
   "outputs": [
    {
     "data": {
      "image/png": "[encoded data removed]",
      "text/plain": [
       "<Figure size 432x288 with 1 Axes>"
      ]
     },
     "metadata": {
      "needs_background": "light"
     },
     "output_type": "display_data"
    }
   ],
   "source": [
    "plt.title(\"Distribution of vertex degrees (high degrees)\")\n",
    "plt.ylabel(\"Number of nodes\")\n",
    "plt.xlabel(\"Node degree\")\n",
    "plt.hist(degrees[degrees > 300], bins=30)\n",
    "plt.show()"
   ]
  },
  {
   "cell_type": "markdown",
   "metadata": {},
   "source": [
    "## Triangles"
   ]
  },
  {
   "cell_type": "code",
   "execution_count": 19,
   "metadata": {},
   "outputs": [],
   "source": [
    "triangles = nx.triangles(graph)"
   ]
  },
  {
   "cell_type": "code",
   "execution_count": 20,
   "metadata": {},
   "outputs": [],
   "source": [
    "triangles = np.array([triangles[node] for node in triangles])"
   ]
  },
  {
   "cell_type": "code",
   "execution_count": 21,
   "metadata": {},
   "outputs": [],
   "source": [
    "triangles = np.array(triangles)"
   ]
  },
  {
   "cell_type": "code",
   "execution_count": 22,
   "metadata": {},
   "outputs": [
    {
     "name": "stdout",
     "output_type": "stream",
     "text": [
      "The largest number of triangles a node is part of is 0\n"
     ]
    }
   ],
   "source": [
    "print(\n",
    "    \"The largest number of triangles a node is part of is\",\n",
    "    max(triangles)\n",
    ")"
   ]
  },
  {
   "cell_type": "markdown",
   "metadata": {},
   "source": [
    "## Node Embedding"
   ]
  },
  {
   "cell_type": "code",
   "execution_count": 26,
   "metadata": {},
   "outputs": [],
   "source": [
    "embedding_size = 32"
   ]
  },
  {
   "cell_type": "code",
   "execution_count": 27,
   "metadata": {},
   "outputs": [
    {
     "data": {
      "application/vnd.jupyter.widget-view+json": {
       "model_id": "e0e4ffa3ab2c4e7a9c3669e2b0bca93f",
       "version_major": 2,
       "version_minor": 0
      },
      "text/plain": [
       "Computing transition probabilities:   0%|          | 0/15229 [00:00<?, ?it/s]"
      ]
     },
     "metadata": {},
     "output_type": "display_data"
    },
    {
     "name": "stderr",
     "output_type": "stream",
     "text": [
      "Generating walks (CPU: 1): 100%|██████████| 8/8 [08:35<00:00, 64.43s/it]\n"
     ]
    }
   ],
   "source": [
    "deepwalk = Node2Vec(\n",
    "    graph, \n",
    "    dimensions=embedding_size, \n",
    "    walk_length=40, \n",
    "    num_walks=8,\n",
    "    p=1,\n",
    "    q=1,\n",
    "    weight_key=\"count\",\n",
    "    workers=1,\n",
    ")"
   ]
  },
  {
   "cell_type": "code",
   "execution_count": 28,
   "metadata": {},
   "outputs": [],
   "source": [
    "model = deepwalk.fit(window=8, min_count=1, batch_words=128)"
   ]
  },
  {
   "cell_type": "code",
   "execution_count": 31,
   "metadata": {},
   "outputs": [
    {
     "data": {
      "text/plain": [
       "gensim.models.word2vec.Word2Vec"
      ]
     },
     "execution_count": 31,
     "metadata": {},
     "output_type": "execute_result"
    }
   ],
   "source": [
    "type(model)"
   ]
  },
  {
   "cell_type": "code",
   "execution_count": 26,
   "metadata": {},
   "outputs": [],
   "source": [
    "from gensim.models import KeyedVectors\n",
    "\n",
    "# model.wv.save('vectors.kv')"
   ]
  },
  {
   "cell_type": "code",
   "execution_count": null,
   "metadata": {},
   "outputs": [],
   "source": [
    "# vocab_dict = {k:model.wv[k] for k in model.wv.vocab }\n",
    "# vocab_df = pd.DataFrame.from_dict(vocab_dict).T\n",
    "# vocab_df.reset_index(inplace=True)\n",
    "# vocab_df.rename(columns={'index':'user_token'}, inplace=True)"
   ]
  },
  {
   "cell_type": "code",
   "execution_count": 69,
   "metadata": {},
   "outputs": [
    {
     "data": {
      "text/html": [
       "<div>\n",
       "<style scoped>\n",
       "    .dataframe tbody tr th:only-of-type {\n",
       "        vertical-align: middle;\n",
       "    }\n",
       "\n",
       "    .dataframe tbody tr th {\n",
       "        vertical-align: top;\n",
       "    }\n",
       "\n",
       "    .dataframe thead th {\n",
       "        text-align: right;\n",
       "    }\n",
       "</style>\n",
       "<table border=\"1\" class=\"dataframe\">\n",
       "  <thead>\n",
       "    <tr style=\"text-align: right;\">\n",
       "      <th></th>\n",
       "      <th>user_token</th>\n",
       "      <th>0</th>\n",
       "      <th>1</th>\n",
       "      <th>2</th>\n",
       "      <th>3</th>\n",
       "      <th>4</th>\n",
       "      <th>5</th>\n",
       "      <th>6</th>\n",
       "      <th>7</th>\n",
       "      <th>8</th>\n",
       "      <th>...</th>\n",
       "      <th>22</th>\n",
       "      <th>23</th>\n",
       "      <th>24</th>\n",
       "      <th>25</th>\n",
       "      <th>26</th>\n",
       "      <th>27</th>\n",
       "      <th>28</th>\n",
       "      <th>29</th>\n",
       "      <th>30</th>\n",
       "      <th>31</th>\n",
       "    </tr>\n",
       "  </thead>\n",
       "  <tbody>\n",
       "    <tr>\n",
       "      <th>0</th>\n",
       "      <td>f9ciQ8Ed2Pg7KYRnkO3WEWsqkt3O2xapIshb9gOSAcI=</td>\n",
       "      <td>0.934716</td>\n",
       "      <td>-0.207505</td>\n",
       "      <td>-0.207374</td>\n",
       "      <td>-0.509561</td>\n",
       "      <td>0.092579</td>\n",
       "      <td>-0.304038</td>\n",
       "      <td>0.443112</td>\n",
       "      <td>-0.117811</td>\n",
       "      <td>0.894098</td>\n",
       "      <td>...</td>\n",
       "      <td>-0.108851</td>\n",
       "      <td>0.083152</td>\n",
       "      <td>-0.233215</td>\n",
       "      <td>-0.213370</td>\n",
       "      <td>-0.074064</td>\n",
       "      <td>1.416826</td>\n",
       "      <td>-0.336274</td>\n",
       "      <td>-0.838560</td>\n",
       "      <td>-0.127201</td>\n",
       "      <td>-0.053111</td>\n",
       "    </tr>\n",
       "    <tr>\n",
       "      <th>1</th>\n",
       "      <td>quite</td>\n",
       "      <td>1.120840</td>\n",
       "      <td>0.203915</td>\n",
       "      <td>-0.247754</td>\n",
       "      <td>-0.417943</td>\n",
       "      <td>-0.074459</td>\n",
       "      <td>-0.336251</td>\n",
       "      <td>0.238816</td>\n",
       "      <td>-0.366394</td>\n",
       "      <td>0.659211</td>\n",
       "      <td>...</td>\n",
       "      <td>-0.196166</td>\n",
       "      <td>-0.040656</td>\n",
       "      <td>0.006003</td>\n",
       "      <td>-0.420953</td>\n",
       "      <td>0.044890</td>\n",
       "      <td>1.660395</td>\n",
       "      <td>-0.186979</td>\n",
       "      <td>-1.011294</td>\n",
       "      <td>-0.278112</td>\n",
       "      <td>-0.040163</td>\n",
       "    </tr>\n",
       "    <tr>\n",
       "      <th>2</th>\n",
       "      <td>LBECsmQCID5B2RRkk0i93P4slcjyH0BwYdxYBgoYanQ=</td>\n",
       "      <td>0.982401</td>\n",
       "      <td>-0.191224</td>\n",
       "      <td>-0.462729</td>\n",
       "      <td>-0.614773</td>\n",
       "      <td>0.092429</td>\n",
       "      <td>-0.419573</td>\n",
       "      <td>0.529346</td>\n",
       "      <td>-0.105088</td>\n",
       "      <td>0.725510</td>\n",
       "      <td>...</td>\n",
       "      <td>-0.203507</td>\n",
       "      <td>-0.075957</td>\n",
       "      <td>-0.032321</td>\n",
       "      <td>0.061845</td>\n",
       "      <td>-0.055725</td>\n",
       "      <td>1.597927</td>\n",
       "      <td>-0.301612</td>\n",
       "      <td>-0.986711</td>\n",
       "      <td>-0.209325</td>\n",
       "      <td>-0.125898</td>\n",
       "    </tr>\n",
       "    <tr>\n",
       "      <th>3</th>\n",
       "      <td>thomas</td>\n",
       "      <td>1.206334</td>\n",
       "      <td>0.218619</td>\n",
       "      <td>-0.286168</td>\n",
       "      <td>-0.336503</td>\n",
       "      <td>-0.075519</td>\n",
       "      <td>-0.313372</td>\n",
       "      <td>0.285040</td>\n",
       "      <td>-0.407141</td>\n",
       "      <td>0.792382</td>\n",
       "      <td>...</td>\n",
       "      <td>-0.205379</td>\n",
       "      <td>-0.089143</td>\n",
       "      <td>-0.015143</td>\n",
       "      <td>-0.406085</td>\n",
       "      <td>0.065209</td>\n",
       "      <td>1.587596</td>\n",
       "      <td>-0.223203</td>\n",
       "      <td>-1.064547</td>\n",
       "      <td>-0.431751</td>\n",
       "      <td>-0.124806</td>\n",
       "    </tr>\n",
       "    <tr>\n",
       "      <th>4</th>\n",
       "      <td>n+cvObRQSRMy3M252H7drHKjfoy9mQQVmR17mpmntQc=</td>\n",
       "      <td>0.961122</td>\n",
       "      <td>-0.077670</td>\n",
       "      <td>-0.503906</td>\n",
       "      <td>-0.247504</td>\n",
       "      <td>0.161475</td>\n",
       "      <td>-0.585514</td>\n",
       "      <td>0.197880</td>\n",
       "      <td>-0.076814</td>\n",
       "      <td>0.755536</td>\n",
       "      <td>...</td>\n",
       "      <td>-0.138213</td>\n",
       "      <td>-0.047947</td>\n",
       "      <td>-0.100044</td>\n",
       "      <td>-0.286526</td>\n",
       "      <td>-0.208839</td>\n",
       "      <td>1.681208</td>\n",
       "      <td>-0.363784</td>\n",
       "      <td>-0.919694</td>\n",
       "      <td>-0.172735</td>\n",
       "      <td>-0.094438</td>\n",
       "    </tr>\n",
       "  </tbody>\n",
       "</table>\n",
       "<p>5 rows × 33 columns</p>\n",
       "</div>"
      ],
      "text/plain": [
       "                                     user_token         0         1         2  \\\n",
       "0  f9ciQ8Ed2Pg7KYRnkO3WEWsqkt3O2xapIshb9gOSAcI=  0.934716 -0.207505 -0.207374   \n",
       "1                                         quite  1.120840  0.203915 -0.247754   \n",
       "2  LBECsmQCID5B2RRkk0i93P4slcjyH0BwYdxYBgoYanQ=  0.982401 -0.191224 -0.462729   \n",
       "3                                        thomas  1.206334  0.218619 -0.286168   \n",
       "4  n+cvObRQSRMy3M252H7drHKjfoy9mQQVmR17mpmntQc=  0.961122 -0.077670 -0.503906   \n",
       "\n",
       "          3         4         5         6         7         8  ...        22  \\\n",
       "0 -0.509561  0.092579 -0.304038  0.443112 -0.117811  0.894098  ... -0.108851   \n",
       "1 -0.417943 -0.074459 -0.336251  0.238816 -0.366394  0.659211  ... -0.196166   \n",
       "2 -0.614773  0.092429 -0.419573  0.529346 -0.105088  0.725510  ... -0.203507   \n",
       "3 -0.336503 -0.075519 -0.313372  0.285040 -0.407141  0.792382  ... -0.205379   \n",
       "4 -0.247504  0.161475 -0.585514  0.197880 -0.076814  0.755536  ... -0.138213   \n",
       "\n",
       "         23        24        25        26        27        28        29  \\\n",
       "0  0.083152 -0.233215 -0.213370 -0.074064  1.416826 -0.336274 -0.838560   \n",
       "1 -0.040656  0.006003 -0.420953  0.044890  1.660395 -0.186979 -1.011294   \n",
       "2 -0.075957 -0.032321  0.061845 -0.055725  1.597927 -0.301612 -0.986711   \n",
       "3 -0.089143 -0.015143 -0.406085  0.065209  1.587596 -0.223203 -1.064547   \n",
       "4 -0.047947 -0.100044 -0.286526 -0.208839  1.681208 -0.363784 -0.919694   \n",
       "\n",
       "         30        31  \n",
       "0 -0.127201 -0.053111  \n",
       "1 -0.278112 -0.040163  \n",
       "2 -0.209325 -0.125898  \n",
       "3 -0.431751 -0.124806  \n",
       "4 -0.172735 -0.094438  \n",
       "\n",
       "[5 rows x 33 columns]"
      ]
     },
     "execution_count": 69,
     "metadata": {},
     "output_type": "execute_result"
    }
   ],
   "source": [
    "vocab_df.head()"
   ]
  },
  {
   "cell_type": "code",
   "execution_count": 5,
   "metadata": {},
   "outputs": [],
   "source": [
    "reloaded_word_vectors = KeyedVectors.load('vectors.kv') \n",
    "# help(reloaded_word_vectors)"
   ]
  },
  {
   "cell_type": "code",
   "execution_count": 6,
   "metadata": {},
   "outputs": [
    {
     "name": "stderr",
     "output_type": "stream",
     "text": [
      "/opt/conda/lib/python3.7/site-packages/ipykernel_launcher.py:1: DeprecationWarning: Call to deprecated `wv` (Attribute will be removed in 4.0.0, use self instead).\n",
      "  \"\"\"Entry point for launching an IPython kernel.\n"
     ]
    }
   ],
   "source": [
    "vocab_dict = {k:reloaded_word_vectors.wv[k] for k in reloaded_word_vectors.wv.vocab }\n",
    "vocab_df = pd.DataFrame.from_dict(vocab_dict).T\n",
    "vocab_df.reset_index(inplace=True)\n",
    "vocab_df.rename(columns={'index':'user_token'}, inplace=True)"
   ]
  },
  {
   "cell_type": "code",
   "execution_count": 7,
   "metadata": {},
   "outputs": [
    {
     "data": {
      "text/html": [
       "<div>\n",
       "<style scoped>\n",
       "    .dataframe tbody tr th:only-of-type {\n",
       "        vertical-align: middle;\n",
       "    }\n",
       "\n",
       "    .dataframe tbody tr th {\n",
       "        vertical-align: top;\n",
       "    }\n",
       "\n",
       "    .dataframe thead th {\n",
       "        text-align: right;\n",
       "    }\n",
       "</style>\n",
       "<table border=\"1\" class=\"dataframe\">\n",
       "  <thead>\n",
       "    <tr style=\"text-align: right;\">\n",
       "      <th></th>\n",
       "      <th>user_token</th>\n",
       "      <th>0</th>\n",
       "      <th>1</th>\n",
       "      <th>2</th>\n",
       "      <th>3</th>\n",
       "      <th>4</th>\n",
       "      <th>5</th>\n",
       "      <th>6</th>\n",
       "      <th>7</th>\n",
       "      <th>8</th>\n",
       "      <th>...</th>\n",
       "      <th>22</th>\n",
       "      <th>23</th>\n",
       "      <th>24</th>\n",
       "      <th>25</th>\n",
       "      <th>26</th>\n",
       "      <th>27</th>\n",
       "      <th>28</th>\n",
       "      <th>29</th>\n",
       "      <th>30</th>\n",
       "      <th>31</th>\n",
       "    </tr>\n",
       "  </thead>\n",
       "  <tbody>\n",
       "    <tr>\n",
       "      <th>0</th>\n",
       "      <td>f9ciQ8Ed2Pg7KYRnkO3WEWsqkt3O2xapIshb9gOSAcI=</td>\n",
       "      <td>0.934716</td>\n",
       "      <td>-0.207505</td>\n",
       "      <td>-0.207374</td>\n",
       "      <td>-0.509561</td>\n",
       "      <td>0.092579</td>\n",
       "      <td>-0.304038</td>\n",
       "      <td>0.443112</td>\n",
       "      <td>-0.117811</td>\n",
       "      <td>0.894098</td>\n",
       "      <td>...</td>\n",
       "      <td>-0.108851</td>\n",
       "      <td>0.083152</td>\n",
       "      <td>-0.233215</td>\n",
       "      <td>-0.213370</td>\n",
       "      <td>-0.074064</td>\n",
       "      <td>1.416826</td>\n",
       "      <td>-0.336274</td>\n",
       "      <td>-0.838560</td>\n",
       "      <td>-0.127201</td>\n",
       "      <td>-0.053111</td>\n",
       "    </tr>\n",
       "    <tr>\n",
       "      <th>1</th>\n",
       "      <td>quite</td>\n",
       "      <td>1.120840</td>\n",
       "      <td>0.203915</td>\n",
       "      <td>-0.247754</td>\n",
       "      <td>-0.417943</td>\n",
       "      <td>-0.074459</td>\n",
       "      <td>-0.336251</td>\n",
       "      <td>0.238816</td>\n",
       "      <td>-0.366394</td>\n",
       "      <td>0.659211</td>\n",
       "      <td>...</td>\n",
       "      <td>-0.196166</td>\n",
       "      <td>-0.040656</td>\n",
       "      <td>0.006003</td>\n",
       "      <td>-0.420953</td>\n",
       "      <td>0.044890</td>\n",
       "      <td>1.660395</td>\n",
       "      <td>-0.186979</td>\n",
       "      <td>-1.011294</td>\n",
       "      <td>-0.278112</td>\n",
       "      <td>-0.040163</td>\n",
       "    </tr>\n",
       "    <tr>\n",
       "      <th>2</th>\n",
       "      <td>LBECsmQCID5B2RRkk0i93P4slcjyH0BwYdxYBgoYanQ=</td>\n",
       "      <td>0.982401</td>\n",
       "      <td>-0.191224</td>\n",
       "      <td>-0.462729</td>\n",
       "      <td>-0.614773</td>\n",
       "      <td>0.092429</td>\n",
       "      <td>-0.419573</td>\n",
       "      <td>0.529346</td>\n",
       "      <td>-0.105088</td>\n",
       "      <td>0.725510</td>\n",
       "      <td>...</td>\n",
       "      <td>-0.203507</td>\n",
       "      <td>-0.075957</td>\n",
       "      <td>-0.032321</td>\n",
       "      <td>0.061845</td>\n",
       "      <td>-0.055725</td>\n",
       "      <td>1.597927</td>\n",
       "      <td>-0.301612</td>\n",
       "      <td>-0.986711</td>\n",
       "      <td>-0.209325</td>\n",
       "      <td>-0.125898</td>\n",
       "    </tr>\n",
       "    <tr>\n",
       "      <th>3</th>\n",
       "      <td>thomas</td>\n",
       "      <td>1.206334</td>\n",
       "      <td>0.218619</td>\n",
       "      <td>-0.286168</td>\n",
       "      <td>-0.336503</td>\n",
       "      <td>-0.075519</td>\n",
       "      <td>-0.313372</td>\n",
       "      <td>0.285040</td>\n",
       "      <td>-0.407141</td>\n",
       "      <td>0.792382</td>\n",
       "      <td>...</td>\n",
       "      <td>-0.205379</td>\n",
       "      <td>-0.089143</td>\n",
       "      <td>-0.015143</td>\n",
       "      <td>-0.406085</td>\n",
       "      <td>0.065209</td>\n",
       "      <td>1.587596</td>\n",
       "      <td>-0.223203</td>\n",
       "      <td>-1.064547</td>\n",
       "      <td>-0.431751</td>\n",
       "      <td>-0.124806</td>\n",
       "    </tr>\n",
       "    <tr>\n",
       "      <th>4</th>\n",
       "      <td>n+cvObRQSRMy3M252H7drHKjfoy9mQQVmR17mpmntQc=</td>\n",
       "      <td>0.961122</td>\n",
       "      <td>-0.077670</td>\n",
       "      <td>-0.503906</td>\n",
       "      <td>-0.247504</td>\n",
       "      <td>0.161475</td>\n",
       "      <td>-0.585514</td>\n",
       "      <td>0.197880</td>\n",
       "      <td>-0.076814</td>\n",
       "      <td>0.755536</td>\n",
       "      <td>...</td>\n",
       "      <td>-0.138213</td>\n",
       "      <td>-0.047947</td>\n",
       "      <td>-0.100044</td>\n",
       "      <td>-0.286526</td>\n",
       "      <td>-0.208839</td>\n",
       "      <td>1.681208</td>\n",
       "      <td>-0.363784</td>\n",
       "      <td>-0.919694</td>\n",
       "      <td>-0.172735</td>\n",
       "      <td>-0.094438</td>\n",
       "    </tr>\n",
       "  </tbody>\n",
       "</table>\n",
       "<p>5 rows × 33 columns</p>\n",
       "</div>"
      ],
      "text/plain": [
       "                                     user_token         0         1         2  \\\n",
       "0  f9ciQ8Ed2Pg7KYRnkO3WEWsqkt3O2xapIshb9gOSAcI=  0.934716 -0.207505 -0.207374   \n",
       "1                                         quite  1.120840  0.203915 -0.247754   \n",
       "2  LBECsmQCID5B2RRkk0i93P4slcjyH0BwYdxYBgoYanQ=  0.982401 -0.191224 -0.462729   \n",
       "3                                        thomas  1.206334  0.218619 -0.286168   \n",
       "4  n+cvObRQSRMy3M252H7drHKjfoy9mQQVmR17mpmntQc=  0.961122 -0.077670 -0.503906   \n",
       "\n",
       "          3         4         5         6         7         8  ...        22  \\\n",
       "0 -0.509561  0.092579 -0.304038  0.443112 -0.117811  0.894098  ... -0.108851   \n",
       "1 -0.417943 -0.074459 -0.336251  0.238816 -0.366394  0.659211  ... -0.196166   \n",
       "2 -0.614773  0.092429 -0.419573  0.529346 -0.105088  0.725510  ... -0.203507   \n",
       "3 -0.336503 -0.075519 -0.313372  0.285040 -0.407141  0.792382  ... -0.205379   \n",
       "4 -0.247504  0.161475 -0.585514  0.197880 -0.076814  0.755536  ... -0.138213   \n",
       "\n",
       "         23        24        25        26        27        28        29  \\\n",
       "0  0.083152 -0.233215 -0.213370 -0.074064  1.416826 -0.336274 -0.838560   \n",
       "1 -0.040656  0.006003 -0.420953  0.044890  1.660395 -0.186979 -1.011294   \n",
       "2 -0.075957 -0.032321  0.061845 -0.055725  1.597927 -0.301612 -0.986711   \n",
       "3 -0.089143 -0.015143 -0.406085  0.065209  1.587596 -0.223203 -1.064547   \n",
       "4 -0.047947 -0.100044 -0.286526 -0.208839  1.681208 -0.363784 -0.919694   \n",
       "\n",
       "         30        31  \n",
       "0 -0.127201 -0.053111  \n",
       "1 -0.278112 -0.040163  \n",
       "2 -0.209325 -0.125898  \n",
       "3 -0.431751 -0.124806  \n",
       "4 -0.172735 -0.094438  \n",
       "\n",
       "[5 rows x 33 columns]"
      ]
     },
     "execution_count": 7,
     "metadata": {},
     "output_type": "execute_result"
    }
   ],
   "source": [
    "vocab_df.head()"
   ]
  },
  {
   "cell_type": "code",
   "execution_count": 17,
   "metadata": {},
   "outputs": [],
   "source": [
    "col = ['user_token']\n",
    "feat = 'feature_'\n",
    "for i in range(1, 33):\n",
    "    col.append(feat+str(i))\n",
    "\n",
    "vocab_df.columns = col\n",
    "vocab_df.to_parquet(\"gs://dat-dev/sports_graph_embeddings.parquet\")"
   ]
  },
  {
   "cell_type": "code",
   "execution_count": 9,
   "metadata": {},
   "outputs": [
    {
     "data": {
      "text/html": [
       "<div>\n",
       "<style scoped>\n",
       "    .dataframe tbody tr th:only-of-type {\n",
       "        vertical-align: middle;\n",
       "    }\n",
       "\n",
       "    .dataframe tbody tr th {\n",
       "        vertical-align: top;\n",
       "    }\n",
       "\n",
       "    .dataframe thead th {\n",
       "        text-align: right;\n",
       "    }\n",
       "</style>\n",
       "<table border=\"1\" class=\"dataframe\">\n",
       "  <thead>\n",
       "    <tr style=\"text-align: right;\">\n",
       "      <th></th>\n",
       "      <th>user_token</th>\n",
       "      <th>0</th>\n",
       "      <th>1</th>\n",
       "      <th>2</th>\n",
       "      <th>3</th>\n",
       "      <th>4</th>\n",
       "      <th>5</th>\n",
       "      <th>6</th>\n",
       "      <th>7</th>\n",
       "      <th>8</th>\n",
       "      <th>...</th>\n",
       "      <th>22</th>\n",
       "      <th>23</th>\n",
       "      <th>24</th>\n",
       "      <th>25</th>\n",
       "      <th>26</th>\n",
       "      <th>27</th>\n",
       "      <th>28</th>\n",
       "      <th>29</th>\n",
       "      <th>30</th>\n",
       "      <th>31</th>\n",
       "    </tr>\n",
       "  </thead>\n",
       "  <tbody>\n",
       "    <tr>\n",
       "      <th>220</th>\n",
       "      <td>players</td>\n",
       "      <td>0.784259</td>\n",
       "      <td>-0.330434</td>\n",
       "      <td>0.10204</td>\n",
       "      <td>0.152644</td>\n",
       "      <td>0.774354</td>\n",
       "      <td>-0.011183</td>\n",
       "      <td>0.425817</td>\n",
       "      <td>-0.261845</td>\n",
       "      <td>0.3015</td>\n",
       "      <td>...</td>\n",
       "      <td>-0.381817</td>\n",
       "      <td>-0.195047</td>\n",
       "      <td>-0.439023</td>\n",
       "      <td>-0.015229</td>\n",
       "      <td>0.352971</td>\n",
       "      <td>0.963201</td>\n",
       "      <td>-0.449354</td>\n",
       "      <td>-1.181328</td>\n",
       "      <td>-0.383245</td>\n",
       "      <td>-0.063678</td>\n",
       "    </tr>\n",
       "  </tbody>\n",
       "</table>\n",
       "<p>1 rows × 33 columns</p>\n",
       "</div>"
      ],
      "text/plain": [
       "    user_token         0         1        2         3         4         5  \\\n",
       "220    players  0.784259 -0.330434  0.10204  0.152644  0.774354 -0.011183   \n",
       "\n",
       "            6         7       8  ...        22        23        24        25  \\\n",
       "220  0.425817 -0.261845  0.3015  ... -0.381817 -0.195047 -0.439023 -0.015229   \n",
       "\n",
       "           26        27        28        29        30        31  \n",
       "220  0.352971  0.963201 -0.449354 -1.181328 -0.383245 -0.063678  \n",
       "\n",
       "[1 rows x 33 columns]"
      ]
     },
     "execution_count": 9,
     "metadata": {},
     "output_type": "execute_result"
    }
   ],
   "source": [
    "vocab_df[vocab_df['user_token'] == 'players']"
   ]
  },
  {
   "cell_type": "code",
   "execution_count": 71,
   "metadata": {},
   "outputs": [
    {
     "data": {
      "text/html": [
       "<div>\n",
       "<style scoped>\n",
       "    .dataframe tbody tr th:only-of-type {\n",
       "        vertical-align: middle;\n",
       "    }\n",
       "\n",
       "    .dataframe tbody tr th {\n",
       "        vertical-align: top;\n",
       "    }\n",
       "\n",
       "    .dataframe thead th {\n",
       "        text-align: right;\n",
       "    }\n",
       "</style>\n",
       "<table border=\"1\" class=\"dataframe\">\n",
       "  <thead>\n",
       "    <tr style=\"text-align: right;\">\n",
       "      <th></th>\n",
       "      <th>title</th>\n",
       "      <th>long_synopsis</th>\n",
       "    </tr>\n",
       "  </thead>\n",
       "  <tbody>\n",
       "    <tr>\n",
       "      <th>0</th>\n",
       "      <td>Saúl Canelo Álvarez está dispuesto a reducir s...</td>\n",
       "      <td>el campen mexicano tiene la intencin de rebaja...</td>\n",
       "    </tr>\n",
       "    <tr>\n",
       "      <th>1</th>\n",
       "      <td>New-look American Ninja Warrior brings high en...</td>\n",
       "      <td>matt iseman and akbar gbajabiamila joins rich ...</td>\n",
       "    </tr>\n",
       "    <tr>\n",
       "      <th>2</th>\n",
       "      <td>2019 NDS: Toy Group winner</td>\n",
       "      <td>see who wins the toy group at the 2019 nationa...</td>\n",
       "    </tr>\n",
       "    <tr>\n",
       "      <th>3</th>\n",
       "      <td>Carlos Vela no jugaría el torneo especial de l...</td>\n",
       "      <td>el embarazo de la esposa del bombardero podra ...</td>\n",
       "    </tr>\n",
       "    <tr>\n",
       "      <th>4</th>\n",
       "      <td>Primeros juegos de la Eliminatoria CONCACAF</td>\n",
       "      <td>mxico estados unidos costa rica honduras y jam...</td>\n",
       "    </tr>\n",
       "  </tbody>\n",
       "</table>\n",
       "</div>"
      ],
      "text/plain": [
       "                                               title  \\\n",
       "0  Saúl Canelo Álvarez está dispuesto a reducir s...   \n",
       "1  New-look American Ninja Warrior brings high en...   \n",
       "2                         2019 NDS: Toy Group winner   \n",
       "3  Carlos Vela no jugaría el torneo especial de l...   \n",
       "4        Primeros juegos de la Eliminatoria CONCACAF   \n",
       "\n",
       "                                       long_synopsis  \n",
       "0  el campen mexicano tiene la intencin de rebaja...  \n",
       "1  matt iseman and akbar gbajabiamila joins rich ...  \n",
       "2  see who wins the toy group at the 2019 nationa...  \n",
       "3  el embarazo de la esposa del bombardero podra ...  \n",
       "4  mxico estados unidos costa rica honduras y jam...  "
      ]
     },
     "execution_count": 71,
     "metadata": {},
     "output_type": "execute_result"
    }
   ],
   "source": [
    "query = \"\"\"\n",
    "        SELECT  TitleDetails_title AS title,\n",
    "                REGEXP_REPLACE(LOWER(TitleDetails_LongSynopsis), '[^a-zA-Z0-9 -]', '') AS long_synopsis\n",
    "        FROM `res-nbcupea-dev-ds-sandbox-001.recsystem.ContentMetadataView-Dat`\n",
    "        WHERE   TitleSubgenres = 'Sports' -- sports specific\n",
    "        \"\"\"\n",
    "query_job = client.query(\n",
    "    query,\n",
    "    # Location must match that of the dataset(s) referenced in the query.\n",
    "    location=\"US\",\n",
    ")  # API request - starts the query\n",
    "\n",
    "title_df = query_job.to_dataframe()\n",
    "title_df.head()"
   ]
  },
  {
   "cell_type": "code",
   "execution_count": 77,
   "metadata": {},
   "outputs": [],
   "source": [
    "from nltk.corpus import stopwords"
   ]
  },
  {
   "cell_type": "code",
   "execution_count": 80,
   "metadata": {},
   "outputs": [],
   "source": [
    "stop_words = stopwords.words(\"english\") + stopwords.words(\"spanish\")"
   ]
  },
  {
   "cell_type": "code",
   "execution_count": 100,
   "metadata": {},
   "outputs": [],
   "source": [
    "def remove_stop_words(col):\n",
    "    for i in range(len(col)):\n",
    "        if col[i] is not None:\n",
    "            col[i] = ' '.join([x for x in col[i].split() if x not in stop_words])"
   ]
  },
  {
   "cell_type": "code",
   "execution_count": 101,
   "metadata": {},
   "outputs": [],
   "source": [
    "remove_stop_words(title_df['long_synopsis'])"
   ]
  },
  {
   "cell_type": "code",
   "execution_count": 102,
   "metadata": {},
   "outputs": [
    {
     "data": {
      "text/html": [
       "<div>\n",
       "<style scoped>\n",
       "    .dataframe tbody tr th:only-of-type {\n",
       "        vertical-align: middle;\n",
       "    }\n",
       "\n",
       "    .dataframe tbody tr th {\n",
       "        vertical-align: top;\n",
       "    }\n",
       "\n",
       "    .dataframe thead th {\n",
       "        text-align: right;\n",
       "    }\n",
       "</style>\n",
       "<table border=\"1\" class=\"dataframe\">\n",
       "  <thead>\n",
       "    <tr style=\"text-align: right;\">\n",
       "      <th></th>\n",
       "      <th>title</th>\n",
       "      <th>long_synopsis</th>\n",
       "    </tr>\n",
       "  </thead>\n",
       "  <tbody>\n",
       "    <tr>\n",
       "      <th>0</th>\n",
       "      <td>Saúl Canelo Álvarez está dispuesto a reducir s...</td>\n",
       "      <td>campen mexicano intencin rebajar cantidad gana...</td>\n",
       "    </tr>\n",
       "    <tr>\n",
       "      <th>1</th>\n",
       "      <td>New-look American Ninja Warrior brings high en...</td>\n",
       "      <td>matt iseman akbar gbajabiamila joins rich eise...</td>\n",
       "    </tr>\n",
       "    <tr>\n",
       "      <th>2</th>\n",
       "      <td>2019 NDS: Toy Group winner</td>\n",
       "      <td>see wins toy group 2019 national dog show</td>\n",
       "    </tr>\n",
       "    <tr>\n",
       "      <th>3</th>\n",
       "      <td>Carlos Vela no jugaría el torneo especial de l...</td>\n",
       "      <td>embarazo esposa bombardero podra ser razn mvp ...</td>\n",
       "    </tr>\n",
       "    <tr>\n",
       "      <th>4</th>\n",
       "      <td>Primeros juegos de la Eliminatoria CONCACAF</td>\n",
       "      <td>mxico unidos costa rica honduras jamaica conoc...</td>\n",
       "    </tr>\n",
       "  </tbody>\n",
       "</table>\n",
       "</div>"
      ],
      "text/plain": [
       "                                               title  \\\n",
       "0  Saúl Canelo Álvarez está dispuesto a reducir s...   \n",
       "1  New-look American Ninja Warrior brings high en...   \n",
       "2                         2019 NDS: Toy Group winner   \n",
       "3  Carlos Vela no jugaría el torneo especial de l...   \n",
       "4        Primeros juegos de la Eliminatoria CONCACAF   \n",
       "\n",
       "                                       long_synopsis  \n",
       "0  campen mexicano intencin rebajar cantidad gana...  \n",
       "1  matt iseman akbar gbajabiamila joins rich eise...  \n",
       "2          see wins toy group 2019 national dog show  \n",
       "3  embarazo esposa bombardero podra ser razn mvp ...  \n",
       "4  mxico unidos costa rica honduras jamaica conoc...  "
      ]
     },
     "execution_count": 102,
     "metadata": {},
     "output_type": "execute_result"
    }
   ],
   "source": [
    "title_df.head()"
   ]
  },
  {
   "cell_type": "code",
   "execution_count": 126,
   "metadata": {},
   "outputs": [],
   "source": [
    "def get_vector_embed(dim):    \n",
    "    n = len(title_df['long_synopsis'])\n",
    "    for i in range(n): #for each of the title\n",
    "        vector = []\n",
    "        for tok in title_df['long_synopsis'][i]: #for each word within the long synopsis\n",
    "            averaging_embed = 0 #calculate the average of embedding at vector i (out of 32 embedding dim)\n",
    "            averaging_embed += vocab_df[vocab_df['user_token'] == tok][dim] \n",
    "            averaging_embed = averaging_embed/n\n",
    "        vector.append(averaging_embed)\n",
    "        return vector"
   ]
  },
  {
   "cell_type": "code",
   "execution_count": null,
   "metadata": {},
   "outputs": [],
   "source": [
    "# n = len(title_df['long_synopsis'])\n",
    "# vector = []\n",
    "# for i in range(n): #for each of the title\n",
    "#     for tok in title_df['long_synopsis'][i]: #for each word within the long synopsis\n",
    "#         averaging_embed = 0 #calculate the average of embedding at vector i (out of 32 embedding dim)\n",
    "#         averaging_embed += vocab_df[vocab_df['user_token'] == tok][0] \n",
    "#         averaging_embed = averaging_embed/n\n",
    "#     vector.append(averaging_embed)"
   ]
  },
  {
   "cell_type": "code",
   "execution_count": 113,
   "metadata": {},
   "outputs": [
    {
     "data": {
      "text/html": [
       "<div>\n",
       "<style scoped>\n",
       "    .dataframe tbody tr th:only-of-type {\n",
       "        vertical-align: middle;\n",
       "    }\n",
       "\n",
       "    .dataframe tbody tr th {\n",
       "        vertical-align: top;\n",
       "    }\n",
       "\n",
       "    .dataframe thead th {\n",
       "        text-align: right;\n",
       "    }\n",
       "</style>\n",
       "<table border=\"1\" class=\"dataframe\">\n",
       "  <thead>\n",
       "    <tr style=\"text-align: right;\">\n",
       "      <th></th>\n",
       "      <th>user_token</th>\n",
       "      <th>0</th>\n",
       "      <th>1</th>\n",
       "      <th>2</th>\n",
       "      <th>3</th>\n",
       "      <th>4</th>\n",
       "      <th>5</th>\n",
       "      <th>6</th>\n",
       "      <th>7</th>\n",
       "      <th>8</th>\n",
       "      <th>...</th>\n",
       "      <th>22</th>\n",
       "      <th>23</th>\n",
       "      <th>24</th>\n",
       "      <th>25</th>\n",
       "      <th>26</th>\n",
       "      <th>27</th>\n",
       "      <th>28</th>\n",
       "      <th>29</th>\n",
       "      <th>30</th>\n",
       "      <th>31</th>\n",
       "    </tr>\n",
       "  </thead>\n",
       "  <tbody>\n",
       "    <tr>\n",
       "      <th>1837</th>\n",
       "      <td>campen</td>\n",
       "      <td>0.286359</td>\n",
       "      <td>-0.365218</td>\n",
       "      <td>0.81501</td>\n",
       "      <td>0.660129</td>\n",
       "      <td>0.338856</td>\n",
       "      <td>0.476657</td>\n",
       "      <td>-0.178281</td>\n",
       "      <td>0.395112</td>\n",
       "      <td>-0.246123</td>\n",
       "      <td>...</td>\n",
       "      <td>0.874443</td>\n",
       "      <td>0.430916</td>\n",
       "      <td>-0.259913</td>\n",
       "      <td>-0.744292</td>\n",
       "      <td>-0.709155</td>\n",
       "      <td>1.259034</td>\n",
       "      <td>-0.586282</td>\n",
       "      <td>-0.279155</td>\n",
       "      <td>-0.681347</td>\n",
       "      <td>0.559797</td>\n",
       "    </tr>\n",
       "  </tbody>\n",
       "</table>\n",
       "<p>1 rows × 33 columns</p>\n",
       "</div>"
      ],
      "text/plain": [
       "     user_token         0         1        2         3         4         5  \\\n",
       "1837     campen  0.286359 -0.365218  0.81501  0.660129  0.338856  0.476657   \n",
       "\n",
       "             6         7         8  ...        22        23        24  \\\n",
       "1837 -0.178281  0.395112 -0.246123  ...  0.874443  0.430916 -0.259913   \n",
       "\n",
       "            25        26        27        28        29        30        31  \n",
       "1837 -0.744292 -0.709155  1.259034 -0.586282 -0.279155 -0.681347  0.559797  \n",
       "\n",
       "[1 rows x 33 columns]"
      ]
     },
     "execution_count": 113,
     "metadata": {},
     "output_type": "execute_result"
    }
   ],
   "source": [
    "vocab_df[vocab_df['user_token']=='campen'][0]"
   ]
  },
  {
   "cell_type": "code",
   "execution_count": 125,
   "metadata": {},
   "outputs": [
    {
     "data": {
      "text/html": [
       "<div>\n",
       "<style scoped>\n",
       "    .dataframe tbody tr th:only-of-type {\n",
       "        vertical-align: middle;\n",
       "    }\n",
       "\n",
       "    .dataframe tbody tr th {\n",
       "        vertical-align: top;\n",
       "    }\n",
       "\n",
       "    .dataframe thead th {\n",
       "        text-align: right;\n",
       "    }\n",
       "</style>\n",
       "<table border=\"1\" class=\"dataframe\">\n",
       "  <thead>\n",
       "    <tr style=\"text-align: right;\">\n",
       "      <th></th>\n",
       "      <th>title</th>\n",
       "      <th>long_synopsis</th>\n",
       "    </tr>\n",
       "  </thead>\n",
       "  <tbody>\n",
       "    <tr>\n",
       "      <th>2192</th>\n",
       "      <td>Tour de France: Stage 18</td>\n",
       "      <td>esteemed king mountains jersey line competitor...</td>\n",
       "    </tr>\n",
       "    <tr>\n",
       "      <th>3193</th>\n",
       "      <td>Tour de France: Stage 18</td>\n",
       "      <td>esteemed king mountains jersey line competitor...</td>\n",
       "    </tr>\n",
       "    <tr>\n",
       "      <th>5024</th>\n",
       "      <td>Tour de France: Stage 18</td>\n",
       "      <td>esteemed king mountains jersey line competitor...</td>\n",
       "    </tr>\n",
       "    <tr>\n",
       "      <th>5086</th>\n",
       "      <td>Tour de France: Stage 18</td>\n",
       "      <td>esteemed king mountains jersey line competitor...</td>\n",
       "    </tr>\n",
       "    <tr>\n",
       "      <th>7080</th>\n",
       "      <td>Tour de France: Stage 18</td>\n",
       "      <td>esteemed king mountains jersey line competitor...</td>\n",
       "    </tr>\n",
       "    <tr>\n",
       "      <th>7219</th>\n",
       "      <td>Tour de France: Stage 18</td>\n",
       "      <td>esteemed king mountains jersey line competitor...</td>\n",
       "    </tr>\n",
       "  </tbody>\n",
       "</table>\n",
       "</div>"
      ],
      "text/plain": [
       "                         title  \\\n",
       "2192  Tour de France: Stage 18   \n",
       "3193  Tour de France: Stage 18   \n",
       "5024  Tour de France: Stage 18   \n",
       "5086  Tour de France: Stage 18   \n",
       "7080  Tour de France: Stage 18   \n",
       "7219  Tour de France: Stage 18   \n",
       "\n",
       "                                          long_synopsis  \n",
       "2192  esteemed king mountains jersey line competitor...  \n",
       "3193  esteemed king mountains jersey line competitor...  \n",
       "5024  esteemed king mountains jersey line competitor...  \n",
       "5086  esteemed king mountains jersey line competitor...  \n",
       "7080  esteemed king mountains jersey line competitor...  \n",
       "7219  esteemed king mountains jersey line competitor...  "
      ]
     },
     "execution_count": 125,
     "metadata": {},
     "output_type": "execute_result"
    }
   ],
   "source": [
    "title_df[title_df['title'] == 'Tour de France: Stage 18']"
   ]
  },
  {
   "cell_type": "markdown",
   "metadata": {},
   "source": [
    "## `content_id` Embedding"
   ]
  },
  {
   "cell_type": "code",
   "execution_count": 12,
   "metadata": {},
   "outputs": [],
   "source": [
    "%%bigquery edges\n",
    "WITH token_table AS ( \n",
    "    SELECT  ViewingModeVOD_ContentId AS content_id,\n",
    "            SPLIT(REGEXP_REPLACE(LOWER(TitleDetails_LongSynopsis), '[^a-zA-Z0-9 -]', ''), ' ') AS tokens, -- filter out non-alphabetical characters\n",
    "    FROM `res-nbcupea-dev-ds-sandbox-001.recsystem.ContentMetadataView`\n",
    "),\n",
    "\n",
    "#unnest token\n",
    "token_clean AS (\n",
    "SELECT content_id, token, COUNT(*) AS count\n",
    "FROM token_table\n",
    "CROSS JOIN UNNEST(tokens) token\n",
    "GROUP BY content_id, token\n",
    ")\n",
    "\n",
    "#remove stop words\n",
    "SELECT content_id, token, count\n",
    "FROM token_clean t\n",
    "LEFT OUTER JOIN `res-nbcupea-dev-ds-sandbox-001.recsystem.stop_words_en_sp` stop\n",
    "ON stop.string_field_0 = t.token\n",
    "WHERE stop.string_field_0 IS NULL"
   ]
  },
  {
   "cell_type": "code",
   "execution_count": 13,
   "metadata": {},
   "outputs": [],
   "source": [
    "edges['weight'] = 1 / edges['count']"
   ]
  },
  {
   "cell_type": "code",
   "execution_count": 16,
   "metadata": {},
   "outputs": [],
   "source": [
    "graph = nx.from_pandas_edgelist(edges, 'content_id', 'token', ['count'])"
   ]
  },
  {
   "cell_type": "code",
   "execution_count": 17,
   "metadata": {},
   "outputs": [],
   "source": [
    "embedding_size = 32"
   ]
  },
  {
   "cell_type": "code",
   "execution_count": null,
   "metadata": {},
   "outputs": [
    {
     "data": {
      "application/vnd.jupyter.widget-view+json": {
       "model_id": "8131432cca3940509f39a91c7df1c85a",
       "version_major": 2,
       "version_minor": 0
      },
      "text/plain": [
       "Computing transition probabilities:   0%|          | 0/164728 [00:00<?, ?it/s]"
      ]
     },
     "metadata": {},
     "output_type": "display_data"
    },
    {
     "name": "stderr",
     "output_type": "stream",
     "text": [
      "Generating walks (CPU: 1): 100%|██████████| 8/8 [12:49:18<00:00, 6304.92s/it]  "
     ]
    }
   ],
   "source": [
    "deepwalk = Node2Vec(\n",
    "    graph, \n",
    "    dimensions=embedding_size, \n",
    "    walk_length=40, \n",
    "    num_walks=8,\n",
    "    p=1,\n",
    "    q=1,\n",
    "    weight_key=\"count\",\n",
    "    workers=1,\n",
    ")"
   ]
  },
  {
   "cell_type": "code",
   "execution_count": null,
   "metadata": {},
   "outputs": [],
   "source": [
    "model = deepwalk.fit(window=8, min_count=1, batch_words=128)"
   ]
  },
  {
   "cell_type": "code",
   "execution_count": null,
   "metadata": {},
   "outputs": [],
   "source": [
    "from gensim.models import KeyedVectors\n",
    "\n",
    "model.wv.save('content_id_vectors.kv')"
   ]
  },
  {
   "cell_type": "code",
   "execution_count": 27,
   "metadata": {},
   "outputs": [],
   "source": [
    "reloaded_word_vectors = KeyedVectors.load('content_id_vectors.kv') "
   ]
  },
  {
   "cell_type": "code",
   "execution_count": 28,
   "metadata": {},
   "outputs": [
    {
     "name": "stderr",
     "output_type": "stream",
     "text": [
      "/opt/conda/lib/python3.7/site-packages/ipykernel_launcher.py:1: DeprecationWarning: Call to deprecated `wv` (Attribute will be removed in 4.0.0, use self instead).\n",
      "  \"\"\"Entry point for launching an IPython kernel.\n"
     ]
    }
   ],
   "source": [
    "vocab_dict = {k:reloaded_word_vectors.wv[k] for k in reloaded_word_vectors.wv.vocab }\n",
    "vocab_df = pd.DataFrame.from_dict(vocab_dict).T\n",
    "vocab_df.reset_index(inplace=True)\n",
    "vocab_df.rename(columns={'index':'content_id_token'}, inplace=True)"
   ]
  },
  {
   "cell_type": "code",
   "execution_count": 30,
   "metadata": {},
   "outputs": [],
   "source": [
    "col = ['content_id_token']\n",
    "feat = 'feature_'\n",
    "for i in range(1, 33):\n",
    "    col.append(feat+str(i))\n",
    "\n",
    "vocab_df.columns = col\n",
    "# vocab_df.to_parquet(\"gs://dat-dev/content_id_graph_embeddings.parquet\")"
   ]
  },
  {
   "cell_type": "code",
   "execution_count": 31,
   "metadata": {},
   "outputs": [
    {
     "data": {
      "text/html": [
       "<div>\n",
       "<style scoped>\n",
       "    .dataframe tbody tr th:only-of-type {\n",
       "        vertical-align: middle;\n",
       "    }\n",
       "\n",
       "    .dataframe tbody tr th {\n",
       "        vertical-align: top;\n",
       "    }\n",
       "\n",
       "    .dataframe thead th {\n",
       "        text-align: right;\n",
       "    }\n",
       "</style>\n",
       "<table border=\"1\" class=\"dataframe\">\n",
       "  <thead>\n",
       "    <tr style=\"text-align: right;\">\n",
       "      <th></th>\n",
       "      <th>content_id_token</th>\n",
       "      <th>feature_1</th>\n",
       "      <th>feature_2</th>\n",
       "      <th>feature_3</th>\n",
       "      <th>feature_4</th>\n",
       "      <th>feature_5</th>\n",
       "      <th>feature_6</th>\n",
       "      <th>feature_7</th>\n",
       "      <th>feature_8</th>\n",
       "      <th>feature_9</th>\n",
       "      <th>...</th>\n",
       "      <th>feature_23</th>\n",
       "      <th>feature_24</th>\n",
       "      <th>feature_25</th>\n",
       "      <th>feature_26</th>\n",
       "      <th>feature_27</th>\n",
       "      <th>feature_28</th>\n",
       "      <th>feature_29</th>\n",
       "      <th>feature_30</th>\n",
       "      <th>feature_31</th>\n",
       "      <th>feature_32</th>\n",
       "    </tr>\n",
       "  </thead>\n",
       "  <tbody>\n",
       "    <tr>\n",
       "      <th>0</th>\n",
       "      <td>pck_1842946115668</td>\n",
       "      <td>-0.080838</td>\n",
       "      <td>-0.358688</td>\n",
       "      <td>0.066694</td>\n",
       "      <td>0.111952</td>\n",
       "      <td>-0.147941</td>\n",
       "      <td>0.090909</td>\n",
       "      <td>0.177889</td>\n",
       "      <td>0.415383</td>\n",
       "      <td>0.445964</td>\n",
       "      <td>...</td>\n",
       "      <td>0.345765</td>\n",
       "      <td>0.223254</td>\n",
       "      <td>1.031193</td>\n",
       "      <td>-0.148029</td>\n",
       "      <td>-0.138144</td>\n",
       "      <td>0.319036</td>\n",
       "      <td>0.371995</td>\n",
       "      <td>-0.106802</td>\n",
       "      <td>-0.237661</td>\n",
       "      <td>-0.716214</td>\n",
       "    </tr>\n",
       "    <tr>\n",
       "      <th>1</th>\n",
       "      <td>steelers</td>\n",
       "      <td>0.003647</td>\n",
       "      <td>-0.291462</td>\n",
       "      <td>-0.487793</td>\n",
       "      <td>0.139171</td>\n",
       "      <td>-0.397121</td>\n",
       "      <td>0.482074</td>\n",
       "      <td>-0.212881</td>\n",
       "      <td>-0.118689</td>\n",
       "      <td>0.252355</td>\n",
       "      <td>...</td>\n",
       "      <td>0.252902</td>\n",
       "      <td>0.177412</td>\n",
       "      <td>0.719851</td>\n",
       "      <td>-0.059938</td>\n",
       "      <td>-0.007559</td>\n",
       "      <td>0.792642</td>\n",
       "      <td>-0.056294</td>\n",
       "      <td>0.324951</td>\n",
       "      <td>-0.110076</td>\n",
       "      <td>-0.737832</td>\n",
       "    </tr>\n",
       "    <tr>\n",
       "      <th>2</th>\n",
       "      <td>pck_1842721347626</td>\n",
       "      <td>0.143765</td>\n",
       "      <td>-0.514112</td>\n",
       "      <td>-0.057105</td>\n",
       "      <td>0.832436</td>\n",
       "      <td>-0.381401</td>\n",
       "      <td>0.426557</td>\n",
       "      <td>-0.038078</td>\n",
       "      <td>-0.065887</td>\n",
       "      <td>0.544884</td>\n",
       "      <td>...</td>\n",
       "      <td>0.686157</td>\n",
       "      <td>0.432771</td>\n",
       "      <td>0.214321</td>\n",
       "      <td>-0.484212</td>\n",
       "      <td>0.147463</td>\n",
       "      <td>0.450974</td>\n",
       "      <td>0.324752</td>\n",
       "      <td>-0.061164</td>\n",
       "      <td>-0.193433</td>\n",
       "      <td>-0.809145</td>\n",
       "    </tr>\n",
       "    <tr>\n",
       "      <th>3</th>\n",
       "      <td>browns</td>\n",
       "      <td>-0.016389</td>\n",
       "      <td>-0.227645</td>\n",
       "      <td>-0.218548</td>\n",
       "      <td>0.455575</td>\n",
       "      <td>-0.339549</td>\n",
       "      <td>0.333958</td>\n",
       "      <td>-0.154875</td>\n",
       "      <td>0.001530</td>\n",
       "      <td>0.365042</td>\n",
       "      <td>...</td>\n",
       "      <td>0.250843</td>\n",
       "      <td>0.185430</td>\n",
       "      <td>0.229857</td>\n",
       "      <td>-0.185367</td>\n",
       "      <td>-0.143727</td>\n",
       "      <td>0.444911</td>\n",
       "      <td>0.056499</td>\n",
       "      <td>0.035793</td>\n",
       "      <td>0.198526</td>\n",
       "      <td>-0.267880</td>\n",
       "    </tr>\n",
       "    <tr>\n",
       "      <th>4</th>\n",
       "      <td>pck_1698921539659</td>\n",
       "      <td>-0.051893</td>\n",
       "      <td>-0.403375</td>\n",
       "      <td>0.455637</td>\n",
       "      <td>-0.473320</td>\n",
       "      <td>-0.207314</td>\n",
       "      <td>0.448300</td>\n",
       "      <td>0.371919</td>\n",
       "      <td>0.341246</td>\n",
       "      <td>0.059253</td>\n",
       "      <td>...</td>\n",
       "      <td>0.405144</td>\n",
       "      <td>0.405901</td>\n",
       "      <td>0.462879</td>\n",
       "      <td>-0.083031</td>\n",
       "      <td>-0.147597</td>\n",
       "      <td>0.356677</td>\n",
       "      <td>-0.803716</td>\n",
       "      <td>0.210867</td>\n",
       "      <td>-0.664979</td>\n",
       "      <td>-0.700271</td>\n",
       "    </tr>\n",
       "  </tbody>\n",
       "</table>\n",
       "<p>5 rows × 33 columns</p>\n",
       "</div>"
      ],
      "text/plain": [
       "    content_id_token  feature_1  feature_2  feature_3  feature_4  feature_5  \\\n",
       "0  pck_1842946115668  -0.080838  -0.358688   0.066694   0.111952  -0.147941   \n",
       "1           steelers   0.003647  -0.291462  -0.487793   0.139171  -0.397121   \n",
       "2  pck_1842721347626   0.143765  -0.514112  -0.057105   0.832436  -0.381401   \n",
       "3             browns  -0.016389  -0.227645  -0.218548   0.455575  -0.339549   \n",
       "4  pck_1698921539659  -0.051893  -0.403375   0.455637  -0.473320  -0.207314   \n",
       "\n",
       "   feature_6  feature_7  feature_8  feature_9  ...  feature_23  feature_24  \\\n",
       "0   0.090909   0.177889   0.415383   0.445964  ...    0.345765    0.223254   \n",
       "1   0.482074  -0.212881  -0.118689   0.252355  ...    0.252902    0.177412   \n",
       "2   0.426557  -0.038078  -0.065887   0.544884  ...    0.686157    0.432771   \n",
       "3   0.333958  -0.154875   0.001530   0.365042  ...    0.250843    0.185430   \n",
       "4   0.448300   0.371919   0.341246   0.059253  ...    0.405144    0.405901   \n",
       "\n",
       "   feature_25  feature_26  feature_27  feature_28  feature_29  feature_30  \\\n",
       "0    1.031193   -0.148029   -0.138144    0.319036    0.371995   -0.106802   \n",
       "1    0.719851   -0.059938   -0.007559    0.792642   -0.056294    0.324951   \n",
       "2    0.214321   -0.484212    0.147463    0.450974    0.324752   -0.061164   \n",
       "3    0.229857   -0.185367   -0.143727    0.444911    0.056499    0.035793   \n",
       "4    0.462879   -0.083031   -0.147597    0.356677   -0.803716    0.210867   \n",
       "\n",
       "   feature_31  feature_32  \n",
       "0   -0.237661   -0.716214  \n",
       "1   -0.110076   -0.737832  \n",
       "2   -0.193433   -0.809145  \n",
       "3    0.198526   -0.267880  \n",
       "4   -0.664979   -0.700271  \n",
       "\n",
       "[5 rows x 33 columns]"
      ]
     },
     "execution_count": 31,
     "metadata": {},
     "output_type": "execute_result"
    }
   ],
   "source": [
    "vocab_df.head()"
   ]
  },
  {
   "cell_type": "code",
   "execution_count": 32,
   "metadata": {},
   "outputs": [
    {
     "data": {
      "text/plain": [
       "164728"
      ]
     },
     "execution_count": 32,
     "metadata": {},
     "output_type": "execute_result"
    }
   ],
   "source": [
    "len(vocab_df)"
   ]
  },
  {
   "cell_type": "code",
   "execution_count": 33,
   "metadata": {},
   "outputs": [
    {
     "data": {
      "text/plain": [
       "164728"
      ]
     },
     "execution_count": 33,
     "metadata": {},
     "output_type": "execute_result"
    }
   ],
   "source": [
    "vocab_df['content_id_token'].nunique()"
   ]
  },
  {
   "cell_type": "code",
   "execution_count": 41,
   "metadata": {},
   "outputs": [
    {
     "data": {
      "text/html": [
       "<div>\n",
       "<style scoped>\n",
       "    .dataframe tbody tr th:only-of-type {\n",
       "        vertical-align: middle;\n",
       "    }\n",
       "\n",
       "    .dataframe tbody tr th {\n",
       "        vertical-align: top;\n",
       "    }\n",
       "\n",
       "    .dataframe thead th {\n",
       "        text-align: right;\n",
       "    }\n",
       "</style>\n",
       "<table border=\"1\" class=\"dataframe\">\n",
       "  <thead>\n",
       "    <tr style=\"text-align: right;\">\n",
       "      <th></th>\n",
       "      <th>content_id</th>\n",
       "      <th>title</th>\n",
       "    </tr>\n",
       "  </thead>\n",
       "  <tbody>\n",
       "    <tr>\n",
       "      <th>0</th>\n",
       "      <td>pck_4226641</td>\n",
       "      <td>Sony Pictures CEO on the future of movie theaters</td>\n",
       "    </tr>\n",
       "    <tr>\n",
       "      <th>1</th>\n",
       "      <td>pck_97089605626</td>\n",
       "      <td>California wildfire forces thousands to evacuate</td>\n",
       "    </tr>\n",
       "    <tr>\n",
       "      <th>2</th>\n",
       "      <td>pck_4158947</td>\n",
       "      <td>Ben Stiller &amp; Others Honor Late Jerry Stiller</td>\n",
       "    </tr>\n",
       "    <tr>\n",
       "      <th>3</th>\n",
       "      <td>pck_1861258307772</td>\n",
       "      <td>Will Lawrence's surgery affect him in camp?</td>\n",
       "    </tr>\n",
       "    <tr>\n",
       "      <th>4</th>\n",
       "      <td>pck_1721783875890</td>\n",
       "      <td>Kyle Petty shares harrowing family racing story</td>\n",
       "    </tr>\n",
       "  </tbody>\n",
       "</table>\n",
       "</div>"
      ],
      "text/plain": [
       "          content_id                                              title\n",
       "0        pck_4226641  Sony Pictures CEO on the future of movie theaters\n",
       "1    pck_97089605626   California wildfire forces thousands to evacuate\n",
       "2        pck_4158947      Ben Stiller & Others Honor Late Jerry Stiller\n",
       "3  pck_1861258307772        Will Lawrence's surgery affect him in camp?\n",
       "4  pck_1721783875890    Kyle Petty shares harrowing family racing story"
      ]
     },
     "execution_count": 41,
     "metadata": {},
     "output_type": "execute_result"
    }
   ],
   "source": [
    "query = \"\"\"\n",
    "        SELECT DISTINCT(ViewingModeVOD_ContentId) AS content_id, TitleDetails_title AS title\n",
    "        FROM `res-nbcupea-dev-ds-sandbox-001.recsystem.ContentMetadataView`\n",
    "        \"\"\"\n",
    "query_job = client.query(\n",
    "    query,\n",
    "    # Location must match that of the dataset(s) referenced in the query.\n",
    "    location=\"US\",\n",
    ")  # API request - starts the query\n",
    "\n",
    "content_title_df = query_job.to_dataframe()\n",
    "content_title_df.head()"
   ]
  },
  {
   "cell_type": "code",
   "execution_count": 42,
   "metadata": {},
   "outputs": [
    {
     "data": {
      "text/plain": [
       "(114376, 2)"
      ]
     },
     "execution_count": 42,
     "metadata": {},
     "output_type": "execute_result"
    }
   ],
   "source": [
    "content_title_df.shape"
   ]
  },
  {
   "cell_type": "code",
   "execution_count": 52,
   "metadata": {},
   "outputs": [
    {
     "data": {
      "text/html": [
       "<div>\n",
       "<style scoped>\n",
       "    .dataframe tbody tr th:only-of-type {\n",
       "        vertical-align: middle;\n",
       "    }\n",
       "\n",
       "    .dataframe tbody tr th {\n",
       "        vertical-align: top;\n",
       "    }\n",
       "\n",
       "    .dataframe thead th {\n",
       "        text-align: right;\n",
       "    }\n",
       "</style>\n",
       "<table border=\"1\" class=\"dataframe\">\n",
       "  <thead>\n",
       "    <tr style=\"text-align: right;\">\n",
       "      <th></th>\n",
       "      <th>content_id</th>\n",
       "      <th>title</th>\n",
       "    </tr>\n",
       "  </thead>\n",
       "  <tbody>\n",
       "    <tr>\n",
       "      <th>39228</th>\n",
       "      <td>GMO_00000000350526_01</td>\n",
       "      <td>Modern Family</td>\n",
       "    </tr>\n",
       "  </tbody>\n",
       "</table>\n",
       "</div>"
      ],
      "text/plain": [
       "                  content_id          title\n",
       "39228  GMO_00000000350526_01  Modern Family"
      ]
     },
     "execution_count": 52,
     "metadata": {},
     "output_type": "execute_result"
    }
   ],
   "source": [
    "content_title_df[content_title_df['content_id'] == 'GMO_00000000350526_01']"
   ]
  },
  {
   "cell_type": "markdown",
   "metadata": {},
   "source": [
    "### `InSeasonSeries_Id` Embedding with Tags"
   ]
  },
  {
   "cell_type": "code",
   "execution_count": 12,
   "metadata": {},
   "outputs": [],
   "source": [
    "%%bigquery edges\n",
    "#get tags\n",
    "WITH titles AS (\n",
    "    SELECT \n",
    "        DISTINCT  \n",
    "        COALESCE(InSeasonSeries_Id, TitleId) as InSeasonSeries_Id,\n",
    "        TitleDetails_LongSynopsis,\n",
    "        InSeasonSeries_Tags,\n",
    "        TitleTags,\n",
    "        TitleSubgenres,\n",
    "        TitleType\n",
    "    FROM \n",
    "        `res-nbcupea-dev-ds-sandbox-001.recsystem.ContentMetadataView`\n",
    "),\n",
    "melted AS (\n",
    "    SELECT \n",
    "        DISTINCT \n",
    "        InSeasonSeries_Id,\n",
    "        TitleDetails_LongSynopsis,\n",
    "        TitleType,\n",
    "        TRIM(tags) as tags \n",
    "    FROM (\n",
    "        SELECT \n",
    "            DISTINCT\n",
    "            InSeasonSeries_Id,\n",
    "            TitleDetails_LongSynopsis,\n",
    "            TitleType,\n",
    "            tags \n",
    "        FROM titles\n",
    "        CROSS JOIN UNNEST(SPLIT(InSeasonSeries_Tags,',')) tags\n",
    "        UNION ALL\n",
    "        SELECT\n",
    "            DISTINCT \n",
    "            InSeasonSeries_Id,\n",
    "            TitleDetails_LongSynopsis,\n",
    "            TitleType,\n",
    "            tags\n",
    "        FROM \n",
    "            titles\n",
    "        CROSS JOIN UNNEST(SPLIt(TitleSubgenres,',')) tags\n",
    "        UNION ALL\n",
    "        SELECT \n",
    "            DISTINCT  \n",
    "            InSeasonSeries_Id,\n",
    "            TitleDetails_LongSynopsis,\n",
    "            TitleType,\n",
    "            tags\n",
    "        FROM \n",
    "            titles\n",
    "        CROSS JOIN UNNEST(SPLIt(TitleTags,',')) tags\n",
    "    )\n",
    "    WHERE tags <> ''\n",
    "),\n",
    "\n",
    "#get tokens from long synopsis\n",
    "token_table AS ( \n",
    "    SELECT  COALESCE(InSeasonSeries_Id, TitleId) AS InSeasonSeries_Id,\n",
    "            SPLIT(REGEXP_REPLACE(LOWER(TitleDetails_LongSynopsis), '[^a-zA-Z0-9 -]', ''), ' ') AS tokens, -- filter out non-alphabetical characters\n",
    "    FROM `res-nbcupea-dev-ds-sandbox-001.recsystem.ContentMetadataView`\n",
    "),\n",
    "\n",
    "#unnest token\n",
    "token_clean AS (\n",
    "SELECT InSeasonSeries_Id, token, COUNT(*) AS count\n",
    "FROM token_table\n",
    "CROSS JOIN UNNEST(tokens) token\n",
    "GROUP BY InSeasonSeries_Id, token\n",
    ")\n",
    "\n",
    "SELECT distinct InSeasonSeries_Id, tags AS token ,1 AS count FROM melted\n",
    "UNION ALL\n",
    "(SELECT InSeasonSeries_Id, token, count\n",
    "FROM token_clean t\n",
    "LEFT OUTER JOIN `res-nbcupea-dev-ds-sandbox-001.recsystem.stop_words_en_sp` stop\n",
    "ON stop.string_field_0 = t.token\n",
    "WHERE stop.string_field_0 IS NULL)"
   ]
  },
  {
   "cell_type": "code",
   "execution_count": 13,
   "metadata": {},
   "outputs": [],
   "source": [
    "edges['weight'] = 1 / edges['count']\n",
    "graph = nx.from_pandas_edgelist(edges, 'InSeasonSeries_Id', 'token', ['count'])\n",
    "embedding_size = 32"
   ]
  },
  {
   "cell_type": "code",
   "execution_count": null,
   "metadata": {},
   "outputs": [
    {
     "data": {
      "application/vnd.jupyter.widget-view+json": {
       "model_id": "be18a2289b3343ce91cb69f7822776d4",
       "version_major": 2,
       "version_minor": 0
      },
      "text/plain": [
       "Computing transition probabilities:   0%|          | 0/142053 [00:00<?, ?it/s]"
      ]
     },
     "metadata": {},
     "output_type": "display_data"
    }
   ],
   "source": [
    "deepwalk = Node2Vec(\n",
    "    graph, \n",
    "    dimensions=embedding_size, \n",
    "    walk_length=40, \n",
    "    num_walks=8,\n",
    "    p=1,\n",
    "    q=1,\n",
    "    weight_key=\"count\",\n",
    "    workers=1,\n",
    ")"
   ]
  },
  {
   "cell_type": "code",
   "execution_count": null,
   "metadata": {},
   "outputs": [],
   "source": [
    "model = deepwalk.fit(window=8, min_count=1, batch_words=128)"
   ]
  },
  {
   "cell_type": "code",
   "execution_count": null,
   "metadata": {},
   "outputs": [],
   "source": [
    "from gensim.models import KeyedVectors\n",
    "\n",
    "model.wv.save('InSeasonSeries_Id_with_tags_vectors.kv')"
   ]
  },
  {
   "cell_type": "code",
   "execution_count": null,
   "metadata": {},
   "outputs": [],
   "source": [
    "reloaded_word_vectors = KeyedVectors.load('InSeasonSeries_Id_with_tags_vectors.kv') "
   ]
  },
  {
   "cell_type": "code",
   "execution_count": null,
   "metadata": {},
   "outputs": [],
   "source": [
    "vocab_dict = {k:reloaded_word_vectors.wv[k] for k in reloaded_word_vectors.wv.vocab }\n",
    "vocab_df = pd.DataFrame.from_dict(vocab_dict).T\n",
    "vocab_df.reset_index(inplace=True)\n",
    "vocab_df.rename(columns={'index':'InSeasonSeries_Id_with_tags'}, inplace=True)"
   ]
  },
  {
   "cell_type": "code",
   "execution_count": null,
   "metadata": {},
   "outputs": [],
   "source": [
    "col = ['InSeasonSeries_Id_with_tags']\n",
    "feat = 'feature_'\n",
    "for i in range(1, 33):\n",
    "    col.append(feat+str(i))\n",
    "\n",
    "vocab_df.columns = col\n",
    "vocab_df.to_parquet(\"gs://dat-dev/InSeasonSeries_Id_with_tags_graph_embeddings.parquet\")"
   ]
  }
 ],
 "metadata": {
  "environment": {
   "name": "tf2-gpu.2-3.mnightly-2021-01-20-debian-10-test",
   "type": "gcloud",
   "uri": "gcr.io/deeplearning-platform-release/tf2-gpu.2-3:mnightly-2021-01-20-debian-10-test"
  },
  "kernelspec": {
   "display_name": "Python 3",
   "language": "python",
   "name": "python3"
  },
  "language_info": {
   "codemirror_mode": {
    "name": "ipython",
    "version": 3
   },
   "file_extension": ".py",
   "mimetype": "text/x-python",
   "name": "python",
   "nbconvert_exporter": "python",
   "pygments_lexer": "ipython3",
   "version": "3.8.5"
  },
  "toc": {
   "base_numbering": 1,
   "nav_menu": {},
   "number_sections": false,
   "sideBar": true,
   "skip_h1_title": false,
   "title_cell": "Table of Contents",
   "title_sidebar": "Contents",
   "toc_cell": false,
   "toc_position": {},
   "toc_section_display": true,
   "toc_window_display": false
  }
 },
 "nbformat": 4,
 "nbformat_minor": 5
}
